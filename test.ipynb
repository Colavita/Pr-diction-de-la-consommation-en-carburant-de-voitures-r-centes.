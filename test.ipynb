{
 "cells": [
  {
   "cell_type": "markdown",
   "id": "30378240",
   "metadata": {},
   "source": [
    "# Concours MTH3302\n",
    "\n",
    "## Calepin de base (succinct)"
   ]
  },
  {
   "cell_type": "code",
   "execution_count": 29,
   "id": "bbb3165a",
   "metadata": {},
   "outputs": [],
   "source": [
    "using CSV, DataFrames"
   ]
  },
  {
   "cell_type": "code",
   "execution_count": 30,
   "id": "eb474150",
   "metadata": {},
   "outputs": [],
   "source": [
    "train = CSV.read(\"train.csv\", DataFrame, decimal=',')\n",
    "test = CSV.read(\"test.csv\", DataFrame, decimal=',');"
   ]
  },
  {
   "cell_type": "markdown",
   "id": "b5a48e3a",
   "metadata": {},
   "source": [
    "# Régression linéaire avec une seule variable explicative : nombre de cylindres"
   ]
  },
  {
   "cell_type": "code",
   "execution_count": 31,
   "id": "7ca9ee21",
   "metadata": {},
   "outputs": [
    {
     "data": {
      "text/plain": [
       "396"
      ]
     },
     "execution_count": 31,
     "metadata": {},
     "output_type": "execute_result"
    }
   ],
   "source": [
    "x = train.nombre_cylindres\n",
    "y = train.consommation\n",
    "\n",
    "n = length(y)"
   ]
  },
  {
   "cell_type": "markdown",
   "id": "eaab0772",
   "metadata": {},
   "source": [
    "## Ajustement sur l'ensemble d'entraînement"
   ]
  },
  {
   "cell_type": "code",
   "execution_count": 32,
   "id": "ae8f2f4a",
   "metadata": {},
   "outputs": [],
   "source": [
    "using Statistics\n",
    "\n",
    "ȳ = mean(y)\n",
    "X = hcat(ones(n), x)\n",
    "\n",
    "β̂ = X\\y;"
   ]
  },
  {
   "cell_type": "markdown",
   "id": "8ae0c9c8",
   "metadata": {},
   "source": [
    "## Prédiction sur l'ensemble de test"
   ]
  },
  {
   "cell_type": "code",
   "execution_count": 33,
   "id": "b98ffc85",
   "metadata": {},
   "outputs": [
    {
     "data": {
      "text/plain": [
       "150-element Vector{Float64}:\n",
       "  9.01901377920641\n",
       "  9.01901377920641\n",
       "  9.01901377920641\n",
       "  9.01901377920641\n",
       " 13.182186282072195\n",
       " 13.182186282072195\n",
       " 13.182186282072195\n",
       "  9.01901377920641\n",
       " 11.100600030639303\n",
       " 15.263772533505085\n",
       " 15.263772533505085\n",
       " 17.345358784937975\n",
       "  9.01901377920641\n",
       "  ⋮\n",
       "  9.01901377920641\n",
       " 11.100600030639303\n",
       " 13.182186282072195\n",
       "  9.01901377920641\n",
       "  9.01901377920641\n",
       "  9.01901377920641\n",
       "  9.01901377920641\n",
       "  9.01901377920641\n",
       " 11.100600030639303\n",
       " 11.100600030639303\n",
       "  7.9782206534899665\n",
       "  9.01901377920641"
      ]
     },
     "execution_count": 33,
     "metadata": {},
     "output_type": "execute_result"
    }
   ],
   "source": [
    "x = test.nombre_cylindres\n",
    "n = length(x)\n",
    "\n",
    "X = hcat(ones(n), x)\n",
    "ŷ = X*β̂"
   ]
  },
  {
   "cell_type": "markdown",
   "id": "5235884c",
   "metadata": {},
   "source": [
    "# Création du fichier de prédictions"
   ]
  },
  {
   "cell_type": "code",
   "execution_count": 34,
   "id": "ab72a8e5",
   "metadata": {},
   "outputs": [
    {
     "data": {
      "text/plain": [
       "\"benchmark.csv\""
      ]
     },
     "execution_count": 34,
     "metadata": {},
     "output_type": "execute_result"
    }
   ],
   "source": [
    "id = 1:n\n",
    "\n",
    "df_pred = DataFrame(id=id, consommation=ŷ)\n",
    "\n",
    "CSV.write(\"benchmark.csv\", df_pred)"
   ]
  }
 ],
 "metadata": {
  "kernelspec": {
   "display_name": "Julia 1.10.3",
   "language": "julia",
   "name": "julia-1.10"
  },
  "language_info": {
   "file_extension": ".jl",
   "mimetype": "application/julia",
   "name": "julia",
   "version": "1.10.3"
  }
 },
 "nbformat": 4,
 "nbformat_minor": 5
}