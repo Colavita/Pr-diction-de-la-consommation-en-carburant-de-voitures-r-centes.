{
 "cells": [
  {
   "cell_type": "markdown",
   "metadata": {},
   "source": [
    "# MTH3302 - Méthodes probabilistes et statistiques pour I.A.\n",
    "#### Polytechnique Montréal\n",
    "\n",
    "\n",
    "### Projet A2024\n",
    "\n",
    "-----\n",
    "\n",
    "# Prédiction de la consommation en carburant de voitures récentes\n",
    "\n",
    "### Contexte\n",
    "\n",
    "Dans le cadre de ce projet, on nous fournit un jeu de données comprenant différentes caractéristiques de véhicules à essence ainsi que leur consommation d'essence en L/100km.\n",
    "\n",
    "### Objectif\n",
    "\n",
    "L'objectif du projet est de prédire, pour un ensemble de données de validation, la consommation d'essence d'un véhicule en se fiant à ses autres caractéristiques.  Pour ce faire, nous explorerons différentes avenues tant au niveau du traitement des données d'entraînement qu'au niveau de la conception d'un modèle. \n",
    "\n",
    "### Données\n",
    "\n",
    "Les données utilisées pour inférer la consommation de carburant sont les suivantes :\n",
    "\n",
    "- `train.csv` : données d'un ensemble d'entraînement qui comprennent différentes caractéristiques de véhicules et leur consommation d'essence associée \n",
    "- `test.csv` : données d'un ensemble de validation qui comprennent tout sauf la consommation d'essence"
   ]
  },
  {
   "cell_type": "markdown",
   "metadata": {},
   "source": [
    "## 1. Chargement des données"
   ]
  },
  {
   "cell_type": "markdown",
   "metadata": {},
   "source": [
    "Commençons par importer les librairies nécessaires à l'utilisation de ce calepin."
   ]
  },
  {
   "cell_type": "code",
   "execution_count": 1,
   "metadata": {},
   "outputs": [],
   "source": [
    "using CSV, DataFrames, Statistics, Dates, Gadfly, Combinatorics, Plots, StatsBase, StatsPlots, Random, StatsModels, GLM, LinearAlgebra, MultivariateStats, Distributions"
   ]
  },
  {
   "cell_type": "markdown",
   "metadata": {},
   "source": [
    "Nous pouvons ensuite charger les données de l'ensemble d'entraînement et de l'ensemble de validation."
   ]
  },
  {
   "cell_type": "code",
   "execution_count": 2,
   "metadata": {},
   "outputs": [
    {
     "data": {
      "text/html": [
       "<div><div style = \"float: left;\"><span>79×7 DataFrame</span></div><div style = \"float: right;\"><span style = \"font-style: italic;\">54 rows omitted</span></div><div style = \"clear: both;\"></div></div><div class = \"data-frame\" style = \"overflow-x: scroll;\"><table class = \"data-frame\" style = \"margin-bottom: 6px;\"><thead><tr class = \"header\"><th class = \"rowNumber\" style = \"font-weight: bold; text-align: right;\">Row</th><th style = \"text-align: left;\">annee</th><th style = \"text-align: left;\">type</th><th style = \"text-align: left;\">nombre_cylindres</th><th style = \"text-align: left;\">cylindree</th><th style = \"text-align: left;\">transmission</th><th style = \"text-align: left;\">boite</th><th style = \"text-align: left;\">consommation</th></tr><tr class = \"subheader headerLastRow\"><th class = \"rowNumber\" style = \"font-weight: bold; text-align: right;\"></th><th title = \"Int64\" style = \"text-align: left;\">Int64</th><th title = \"String31\" style = \"text-align: left;\">String31</th><th title = \"Int64\" style = \"text-align: left;\">Int64</th><th title = \"String3\" style = \"text-align: left;\">String3</th><th title = \"String15\" style = \"text-align: left;\">String15</th><th title = \"String15\" style = \"text-align: left;\">String15</th><th title = \"String31\" style = \"text-align: left;\">String31</th></tr></thead><tbody><tr><td class = \"rowNumber\" style = \"font-weight: bold; text-align: right;\">1</td><td style = \"text-align: right;\">2024</td><td style = \"text-align: left;\">voiture_moyenne</td><td style = \"text-align: right;\">8</td><td style = \"text-align: left;\">4,4</td><td style = \"text-align: left;\">integrale</td><td style = \"text-align: left;\">automatique</td><td style = \"text-align: left;\">12,3794736842105</td></tr><tr><td class = \"rowNumber\" style = \"font-weight: bold; text-align: right;\">2</td><td style = \"text-align: right;\">2024</td><td style = \"text-align: left;\">voiture_sous_compacte</td><td style = \"text-align: right;\">6</td><td style = \"text-align: left;\">3</td><td style = \"text-align: left;\">propulsion</td><td style = \"text-align: left;\">automatique</td><td style = \"text-align: left;\">9,80041666666667</td></tr><tr><td class = \"rowNumber\" style = \"font-weight: bold; text-align: right;\">3</td><td style = \"text-align: right;\">2021</td><td style = \"text-align: left;\">voiture_deux_places</td><td style = \"text-align: right;\">6</td><td style = \"text-align: left;\">3</td><td style = \"text-align: left;\">propulsion</td><td style = \"text-align: left;\">automatique</td><td style = \"text-align: left;\">10,6913636363636</td></tr><tr><td class = \"rowNumber\" style = \"font-weight: bold; text-align: right;\">4</td><td style = \"text-align: right;\">2018</td><td style = \"text-align: left;\">voiture_compacte</td><td style = \"text-align: right;\">4</td><td style = \"text-align: left;\">2</td><td style = \"text-align: left;\">propulsion</td><td style = \"text-align: left;\">manuelle</td><td style = \"text-align: left;\">9,4084</td></tr><tr><td class = \"rowNumber\" style = \"font-weight: bold; text-align: right;\">5</td><td style = \"text-align: right;\">2015</td><td style = \"text-align: left;\">VUS_standard</td><td style = \"text-align: right;\">8</td><td style = \"text-align: left;\">6,2</td><td style = \"text-align: left;\">4x4</td><td style = \"text-align: left;\">automatique</td><td style = \"text-align: left;\">14,700625</td></tr><tr><td class = \"rowNumber\" style = \"font-weight: bold; text-align: right;\">6</td><td style = \"text-align: right;\">2021</td><td style = \"text-align: left;\">VUS_petit</td><td style = \"text-align: right;\">4</td><td style = \"text-align: left;\">2</td><td style = \"text-align: left;\">traction</td><td style = \"text-align: left;\">automatique</td><td style = \"text-align: left;\">7,58741935483871</td></tr><tr><td class = \"rowNumber\" style = \"font-weight: bold; text-align: right;\">7</td><td style = \"text-align: right;\">2018</td><td style = \"text-align: left;\">voiture_sous_compacte</td><td style = \"text-align: right;\">4</td><td style = \"text-align: left;\">2</td><td style = \"text-align: left;\">integrale</td><td style = \"text-align: left;\">manuelle</td><td style = \"text-align: left;\">8,71148148148148</td></tr><tr><td class = \"rowNumber\" style = \"font-weight: bold; text-align: right;\">8</td><td style = \"text-align: right;\">2014</td><td style = \"text-align: left;\">VUS_standard</td><td style = \"text-align: right;\">8</td><td style = \"text-align: left;\">4,8</td><td style = \"text-align: left;\">integrale</td><td style = \"text-align: left;\">automatique</td><td style = \"text-align: left;\">13,8358823529412</td></tr><tr><td class = \"rowNumber\" style = \"font-weight: bold; text-align: right;\">9</td><td style = \"text-align: right;\">2022</td><td style = \"text-align: left;\">voiture_sous_compacte</td><td style = \"text-align: right;\">8</td><td style = \"text-align: left;\">4,4</td><td style = \"text-align: left;\">integrale</td><td style = \"text-align: left;\">automatique</td><td style = \"text-align: left;\">12,3794736842105</td></tr><tr><td class = \"rowNumber\" style = \"font-weight: bold; text-align: right;\">10</td><td style = \"text-align: right;\">2023</td><td style = \"text-align: left;\">VUS_standard</td><td style = \"text-align: right;\">4</td><td style = \"text-align: left;\">2</td><td style = \"text-align: left;\">4x4</td><td style = \"text-align: left;\">automatique</td><td style = \"text-align: left;\">12,3794736842105</td></tr><tr><td class = \"rowNumber\" style = \"font-weight: bold; text-align: right;\">11</td><td style = \"text-align: right;\">2014</td><td style = \"text-align: left;\">VUS_petit</td><td style = \"text-align: right;\">4</td><td style = \"text-align: left;\">2</td><td style = \"text-align: left;\">traction</td><td style = \"text-align: left;\">automatique</td><td style = \"text-align: left;\">9,80041666666667</td></tr><tr><td class = \"rowNumber\" style = \"font-weight: bold; text-align: right;\">12</td><td style = \"text-align: right;\">2024</td><td style = \"text-align: left;\">voiture_minicompacte</td><td style = \"text-align: right;\">4</td><td style = \"text-align: left;\">2</td><td style = \"text-align: left;\">traction</td><td style = \"text-align: left;\">automatique</td><td style = \"text-align: left;\">8,40035714285714</td></tr><tr><td class = \"rowNumber\" style = \"font-weight: bold; text-align: right;\">13</td><td style = \"text-align: right;\">2023</td><td style = \"text-align: left;\">voiture_moyenne</td><td style = \"text-align: right;\">3</td><td style = \"text-align: left;\">1,5</td><td style = \"text-align: left;\">traction</td><td style = \"text-align: left;\">automatique</td><td style = \"text-align: left;\">8,40035714285714</td></tr><tr><td style = \"text-align: right;\">&vellip;</td><td style = \"text-align: right;\">&vellip;</td><td style = \"text-align: right;\">&vellip;</td><td style = \"text-align: right;\">&vellip;</td><td style = \"text-align: right;\">&vellip;</td><td style = \"text-align: right;\">&vellip;</td><td style = \"text-align: right;\">&vellip;</td><td style = \"text-align: right;\">&vellip;</td></tr><tr><td class = \"rowNumber\" style = \"font-weight: bold; text-align: right;\">68</td><td style = \"text-align: right;\">2024</td><td style = \"text-align: left;\">voiture_sous_compacte</td><td style = \"text-align: right;\">8</td><td style = \"text-align: left;\">4,4</td><td style = \"text-align: left;\">integrale</td><td style = \"text-align: left;\">automatique</td><td style = \"text-align: left;\">13,8358823529412</td></tr><tr><td class = \"rowNumber\" style = \"font-weight: bold; text-align: right;\">69</td><td style = \"text-align: right;\">2020</td><td style = \"text-align: left;\">VUS_petit</td><td style = \"text-align: right;\">4</td><td style = \"text-align: left;\">2</td><td style = \"text-align: left;\">integrale</td><td style = \"text-align: left;\">automatique</td><td style = \"text-align: left;\">10,2265217391304</td></tr><tr><td class = \"rowNumber\" style = \"font-weight: bold; text-align: right;\">70</td><td style = \"text-align: right;\">2019</td><td style = \"text-align: left;\">VUS_petit</td><td style = \"text-align: right;\">6</td><td style = \"text-align: left;\">3,2</td><td style = \"text-align: left;\">4x4</td><td style = \"text-align: left;\">automatique</td><td style = \"text-align: left;\">11,2004761904762</td></tr><tr><td class = \"rowNumber\" style = \"font-weight: bold; text-align: right;\">71</td><td style = \"text-align: right;\">2016</td><td style = \"text-align: left;\">voiture_moyenne</td><td style = \"text-align: right;\">4</td><td style = \"text-align: left;\">2</td><td style = \"text-align: left;\">traction</td><td style = \"text-align: left;\">automatique</td><td style = \"text-align: left;\">8,71148148148148</td></tr><tr><td class = \"rowNumber\" style = \"font-weight: bold; text-align: right;\">72</td><td style = \"text-align: right;\">2016</td><td style = \"text-align: left;\">voiture_compacte</td><td style = \"text-align: right;\">4</td><td style = \"text-align: left;\">1,6</td><td style = \"text-align: left;\">traction</td><td style = \"text-align: left;\">automatique</td><td style = \"text-align: left;\">7,58741935483871</td></tr><tr><td class = \"rowNumber\" style = \"font-weight: bold; text-align: right;\">73</td><td style = \"text-align: right;\">2017</td><td style = \"text-align: left;\">VUS_petit</td><td style = \"text-align: right;\">4</td><td style = \"text-align: left;\">2,4</td><td style = \"text-align: left;\">integrale</td><td style = \"text-align: left;\">automatique</td><td style = \"text-align: left;\">10,2265217391304</td></tr><tr><td class = \"rowNumber\" style = \"font-weight: bold; text-align: right;\">74</td><td style = \"text-align: right;\">2019</td><td style = \"text-align: left;\">voiture_deux_places</td><td style = \"text-align: right;\">8</td><td style = \"text-align: left;\">6,2</td><td style = \"text-align: left;\">propulsion</td><td style = \"text-align: left;\">automatique</td><td style = \"text-align: left;\">15,6806666666667</td></tr><tr><td class = \"rowNumber\" style = \"font-weight: bold; text-align: right;\">75</td><td style = \"text-align: right;\">2023</td><td style = \"text-align: left;\">voiture_moyenne</td><td style = \"text-align: right;\">6</td><td style = \"text-align: left;\">3,3</td><td style = \"text-align: left;\">integrale</td><td style = \"text-align: left;\">automatique</td><td style = \"text-align: left;\">11,7605</td></tr><tr><td class = \"rowNumber\" style = \"font-weight: bold; text-align: right;\">76</td><td style = \"text-align: right;\">2023</td><td style = \"text-align: left;\">voiture_deux_places</td><td style = \"text-align: right;\">8</td><td style = \"text-align: left;\">5</td><td style = \"text-align: left;\">propulsion</td><td style = \"text-align: left;\">automatique</td><td style = \"text-align: left;\">12,3794736842105</td></tr><tr><td class = \"rowNumber\" style = \"font-weight: bold; text-align: right;\">77</td><td style = \"text-align: right;\">2024</td><td style = \"text-align: left;\">voiture_deux_places</td><td style = \"text-align: right;\">8</td><td style = \"text-align: left;\">5</td><td style = \"text-align: left;\">integrale</td><td style = \"text-align: left;\">automatique</td><td style = \"text-align: left;\">13,0672222222222</td></tr><tr><td class = \"rowNumber\" style = \"font-weight: bold; text-align: right;\">78</td><td style = \"text-align: right;\">2019</td><td style = \"text-align: left;\">voiture_compacte</td><td style = \"text-align: right;\">6</td><td style = \"text-align: left;\">3,5</td><td style = \"text-align: left;\">integrale</td><td style = \"text-align: left;\">automatique</td><td style = \"text-align: left;\">10,2265217391304</td></tr><tr><td class = \"rowNumber\" style = \"font-weight: bold; text-align: right;\">79</td><td style = \"text-align: right;\">2022</td><td style = \"text-align: left;\">voiture_compacte</td><td style = \"text-align: right;\">6</td><td style = \"text-align: left;\">3,3</td><td style = \"text-align: left;\">propulsion</td><td style = \"text-align: left;\">automatique</td><td style = \"text-align: left;\">11,2004761904762</td></tr></tbody></table></div>"
      ],
      "text/latex": [
       "\\begin{tabular}{r|ccccccc}\n",
       "\t& annee & type & nombre\\_cylindres & cylindree & transmission & boite & \\\\\n",
       "\t\\hline\n",
       "\t& Int64 & String31 & Int64 & String3 & String15 & String15 & \\\\\n",
       "\t\\hline\n",
       "\t1 & 2024 & voiture\\_moyenne & 8 & 4,4 & integrale & automatique & $\\dots$ \\\\\n",
       "\t2 & 2024 & voiture\\_sous\\_compacte & 6 & 3 & propulsion & automatique & $\\dots$ \\\\\n",
       "\t3 & 2021 & voiture\\_deux\\_places & 6 & 3 & propulsion & automatique & $\\dots$ \\\\\n",
       "\t4 & 2018 & voiture\\_compacte & 4 & 2 & propulsion & manuelle & $\\dots$ \\\\\n",
       "\t5 & 2015 & VUS\\_standard & 8 & 6,2 & 4x4 & automatique & $\\dots$ \\\\\n",
       "\t6 & 2021 & VUS\\_petit & 4 & 2 & traction & automatique & $\\dots$ \\\\\n",
       "\t7 & 2018 & voiture\\_sous\\_compacte & 4 & 2 & integrale & manuelle & $\\dots$ \\\\\n",
       "\t8 & 2014 & VUS\\_standard & 8 & 4,8 & integrale & automatique & $\\dots$ \\\\\n",
       "\t9 & 2022 & voiture\\_sous\\_compacte & 8 & 4,4 & integrale & automatique & $\\dots$ \\\\\n",
       "\t10 & 2023 & VUS\\_standard & 4 & 2 & 4x4 & automatique & $\\dots$ \\\\\n",
       "\t11 & 2014 & VUS\\_petit & 4 & 2 & traction & automatique & $\\dots$ \\\\\n",
       "\t12 & 2024 & voiture\\_minicompacte & 4 & 2 & traction & automatique & $\\dots$ \\\\\n",
       "\t13 & 2023 & voiture\\_moyenne & 3 & 1,5 & traction & automatique & $\\dots$ \\\\\n",
       "\t14 & 2019 & voiture\\_compacte & 4 & 1,4 & traction & automatique & $\\dots$ \\\\\n",
       "\t15 & 2022 & VUS\\_petit & 4 & 1,6 & integrale & automatique & $\\dots$ \\\\\n",
       "\t16 & 2023 & voiture\\_deux\\_places & 8 & 5 & propulsion & automatique & $\\dots$ \\\\\n",
       "\t17 & 2021 & VUS\\_petit & 4 & 1,6 & integrale & automatique & $\\dots$ \\\\\n",
       "\t18 & 2014 & VUS\\_petit & 6 & 3,3 & traction & automatique & $\\dots$ \\\\\n",
       "\t19 & 2023 & VUS\\_standard & 6 & 3 & 4x4 & automatique & $\\dots$ \\\\\n",
       "\t20 & 2015 & VUS\\_standard & 8 & 5,3 & 4x4 & automatique & $\\dots$ \\\\\n",
       "\t21 & 2018 & voiture\\_grande & 6 & 3,8 & propulsion & automatique & $\\dots$ \\\\\n",
       "\t22 & 2016 & voiture\\_moyenne & 4 & 2,5 & traction & automatique & $\\dots$ \\\\\n",
       "\t23 & 2022 & VUS\\_petit & 4 & 1,6 & traction & automatique & $\\dots$ \\\\\n",
       "\t24 & 2015 & voiture\\_compacte & 5 & 2,5 & integrale & automatique & $\\dots$ \\\\\n",
       "\t$\\dots$ & $\\dots$ & $\\dots$ & $\\dots$ & $\\dots$ & $\\dots$ & $\\dots$ &  \\\\\n",
       "\\end{tabular}\n"
      ],
      "text/plain": [
       "\u001b[1m79×7 DataFrame\u001b[0m\n",
       "\u001b[1m Row \u001b[0m│\u001b[1m annee \u001b[0m\u001b[1m type                  \u001b[0m\u001b[1m nombre_cylindres \u001b[0m\u001b[1m cylindree \u001b[0m\u001b[1m transmission\u001b[0m ⋯\n",
       "     │\u001b[90m Int64 \u001b[0m\u001b[90m String31              \u001b[0m\u001b[90m Int64            \u001b[0m\u001b[90m String3   \u001b[0m\u001b[90m String15    \u001b[0m ⋯\n",
       "─────┼──────────────────────────────────────────────────────────────────────────\n",
       "   1 │  2024  voiture_moyenne                       8  4,4        integrale    ⋯\n",
       "   2 │  2024  voiture_sous_compacte                 6  3          propulsion\n",
       "   3 │  2021  voiture_deux_places                   6  3          propulsion\n",
       "   4 │  2018  voiture_compacte                      4  2          propulsion\n",
       "   5 │  2015  VUS_standard                          8  6,2        4x4          ⋯\n",
       "   6 │  2021  VUS_petit                             4  2          traction\n",
       "   7 │  2018  voiture_sous_compacte                 4  2          integrale\n",
       "   8 │  2014  VUS_standard                          8  4,8        integrale\n",
       "  ⋮  │   ⋮              ⋮                   ⋮              ⋮           ⋮       ⋱\n",
       "  73 │  2017  VUS_petit                             4  2,4        integrale    ⋯\n",
       "  74 │  2019  voiture_deux_places                   8  6,2        propulsion\n",
       "  75 │  2023  voiture_moyenne                       6  3,3        integrale\n",
       "  76 │  2023  voiture_deux_places                   8  5          propulsion\n",
       "  77 │  2024  voiture_deux_places                   8  5          integrale    ⋯\n",
       "  78 │  2019  voiture_compacte                      6  3,5        integrale\n",
       "  79 │  2022  voiture_compacte                      6  3,3        propulsion\n",
       "\u001b[36m                                                   2 columns and 64 rows omitted\u001b[0m"
      ]
     },
     "metadata": {},
     "output_type": "display_data"
    }
   ],
   "source": [
    "full_train = CSV.read(\"../data/raw/train.csv\", DataFrame; delim=\";\")\n",
    "test =  CSV.read(\"../data/raw/test.csv\", DataFrame; delim=\";\") # ne contient pas la variable \"consommation\"\n",
    "\n",
    "Random.seed!(1234) # pour la reproductibilité\n",
    "\n",
    "ntrain = round(Int, .8*nrow(full_train)) # 80% des données pour l'entraînement: 80% * nb de lignes\n",
    "\n",
    "train_id = sample(1:nrow(full_train), ntrain, replace=false, ordered=true) # échantillonnage aléatoire pour l'entraînement\n",
    "valid_id = setdiff(1:nrow(full_train), train_id) # échantillon de validation ; prend les données qui ne sont pas dans l'échantillon d'entraînement\n",
    "\n",
    "train = full_train[train_id, :]  \n",
    "valid = full_train[valid_id, :]"
   ]
  },
  {
   "cell_type": "code",
   "execution_count": 3,
   "metadata": {},
   "outputs": [
    {
     "data": {
      "text/html": [
       "<div><div style = \"float: left;\"><span>5×7 DataFrame</span></div><div style = \"clear: both;\"></div></div><div class = \"data-frame\" style = \"overflow-x: scroll;\"><table class = \"data-frame\" style = \"margin-bottom: 6px;\"><thead><tr class = \"header\"><th class = \"rowNumber\" style = \"font-weight: bold; text-align: right;\">Row</th><th style = \"text-align: left;\">annee</th><th style = \"text-align: left;\">type</th><th style = \"text-align: left;\">nombre_cylindres</th><th style = \"text-align: left;\">cylindree</th><th style = \"text-align: left;\">transmission</th><th style = \"text-align: left;\">boite</th><th style = \"text-align: left;\">consommation</th></tr><tr class = \"subheader headerLastRow\"><th class = \"rowNumber\" style = \"font-weight: bold; text-align: right;\"></th><th title = \"Int64\" style = \"text-align: left;\">Int64</th><th title = \"String31\" style = \"text-align: left;\">String31</th><th title = \"Int64\" style = \"text-align: left;\">Int64</th><th title = \"String3\" style = \"text-align: left;\">String3</th><th title = \"String15\" style = \"text-align: left;\">String15</th><th title = \"String15\" style = \"text-align: left;\">String15</th><th title = \"String31\" style = \"text-align: left;\">String31</th></tr></thead><tbody><tr><td class = \"rowNumber\" style = \"font-weight: bold; text-align: right;\">1</td><td style = \"text-align: right;\">2024</td><td style = \"text-align: left;\">voiture_moyenne</td><td style = \"text-align: right;\">8</td><td style = \"text-align: left;\">4,4</td><td style = \"text-align: left;\">integrale</td><td style = \"text-align: left;\">automatique</td><td style = \"text-align: left;\">12,3794736842105</td></tr><tr><td class = \"rowNumber\" style = \"font-weight: bold; text-align: right;\">2</td><td style = \"text-align: right;\">2024</td><td style = \"text-align: left;\">voiture_sous_compacte</td><td style = \"text-align: right;\">6</td><td style = \"text-align: left;\">3</td><td style = \"text-align: left;\">propulsion</td><td style = \"text-align: left;\">automatique</td><td style = \"text-align: left;\">9,80041666666667</td></tr><tr><td class = \"rowNumber\" style = \"font-weight: bold; text-align: right;\">3</td><td style = \"text-align: right;\">2021</td><td style = \"text-align: left;\">voiture_deux_places</td><td style = \"text-align: right;\">6</td><td style = \"text-align: left;\">3</td><td style = \"text-align: left;\">propulsion</td><td style = \"text-align: left;\">automatique</td><td style = \"text-align: left;\">10,6913636363636</td></tr><tr><td class = \"rowNumber\" style = \"font-weight: bold; text-align: right;\">4</td><td style = \"text-align: right;\">2018</td><td style = \"text-align: left;\">voiture_compacte</td><td style = \"text-align: right;\">4</td><td style = \"text-align: left;\">2</td><td style = \"text-align: left;\">propulsion</td><td style = \"text-align: left;\">manuelle</td><td style = \"text-align: left;\">9,4084</td></tr><tr><td class = \"rowNumber\" style = \"font-weight: bold; text-align: right;\">5</td><td style = \"text-align: right;\">2015</td><td style = \"text-align: left;\">VUS_standard</td><td style = \"text-align: right;\">8</td><td style = \"text-align: left;\">6,2</td><td style = \"text-align: left;\">4x4</td><td style = \"text-align: left;\">automatique</td><td style = \"text-align: left;\">14,700625</td></tr></tbody></table></div>"
      ],
      "text/latex": [
       "\\begin{tabular}{r|ccccccc}\n",
       "\t& annee & type & nombre\\_cylindres & cylindree & transmission & boite & \\\\\n",
       "\t\\hline\n",
       "\t& Int64 & String31 & Int64 & String3 & String15 & String15 & \\\\\n",
       "\t\\hline\n",
       "\t1 & 2024 & voiture\\_moyenne & 8 & 4,4 & integrale & automatique & $\\dots$ \\\\\n",
       "\t2 & 2024 & voiture\\_sous\\_compacte & 6 & 3 & propulsion & automatique & $\\dots$ \\\\\n",
       "\t3 & 2021 & voiture\\_deux\\_places & 6 & 3 & propulsion & automatique & $\\dots$ \\\\\n",
       "\t4 & 2018 & voiture\\_compacte & 4 & 2 & propulsion & manuelle & $\\dots$ \\\\\n",
       "\t5 & 2015 & VUS\\_standard & 8 & 6,2 & 4x4 & automatique & $\\dots$ \\\\\n",
       "\\end{tabular}\n"
      ],
      "text/plain": [
       "\u001b[1m5×7 DataFrame\u001b[0m\n",
       "\u001b[1m Row \u001b[0m│\u001b[1m annee \u001b[0m\u001b[1m type                  \u001b[0m\u001b[1m nombre_cylindres \u001b[0m\u001b[1m cylindree \u001b[0m\u001b[1m transmission\u001b[0m ⋯\n",
       "     │\u001b[90m Int64 \u001b[0m\u001b[90m String31              \u001b[0m\u001b[90m Int64            \u001b[0m\u001b[90m String3   \u001b[0m\u001b[90m String15    \u001b[0m ⋯\n",
       "─────┼──────────────────────────────────────────────────────────────────────────\n",
       "   1 │  2024  voiture_moyenne                       8  4,4        integrale    ⋯\n",
       "   2 │  2024  voiture_sous_compacte                 6  3          propulsion\n",
       "   3 │  2021  voiture_deux_places                   6  3          propulsion\n",
       "   4 │  2018  voiture_compacte                      4  2          propulsion\n",
       "   5 │  2015  VUS_standard                          8  6,2        4x4          ⋯\n",
       "\u001b[36m                                                               2 columns omitted\u001b[0m"
      ]
     },
     "metadata": {},
     "output_type": "display_data"
    }
   ],
   "source": [
    "first(valid, 5)"
   ]
  },
  {
   "cell_type": "code",
   "execution_count": 4,
   "metadata": {},
   "outputs": [
    {
     "data": {
      "text/html": [
       "<div><div style = \"float: left;\"><span>5×6 DataFrame</span></div><div style = \"clear: both;\"></div></div><div class = \"data-frame\" style = \"overflow-x: scroll;\"><table class = \"data-frame\" style = \"margin-bottom: 6px;\"><thead><tr class = \"header\"><th class = \"rowNumber\" style = \"font-weight: bold; text-align: right;\">Row</th><th style = \"text-align: left;\">annee</th><th style = \"text-align: left;\">type</th><th style = \"text-align: left;\">nombre_cylindres</th><th style = \"text-align: left;\">cylindree</th><th style = \"text-align: left;\">transmission</th><th style = \"text-align: left;\">boite</th></tr><tr class = \"subheader headerLastRow\"><th class = \"rowNumber\" style = \"font-weight: bold; text-align: right;\"></th><th title = \"Int64\" style = \"text-align: left;\">Int64</th><th title = \"String31\" style = \"text-align: left;\">String31</th><th title = \"Int64\" style = \"text-align: left;\">Int64</th><th title = \"String3\" style = \"text-align: left;\">String3</th><th title = \"String15\" style = \"text-align: left;\">String15</th><th title = \"String15\" style = \"text-align: left;\">String15</th></tr></thead><tbody><tr><td class = \"rowNumber\" style = \"font-weight: bold; text-align: right;\">1</td><td style = \"text-align: right;\">2014</td><td style = \"text-align: left;\">voiture_moyenne</td><td style = \"text-align: right;\">4</td><td style = \"text-align: left;\">2,5</td><td style = \"text-align: left;\">traction</td><td style = \"text-align: left;\">manuelle</td></tr><tr><td class = \"rowNumber\" style = \"font-weight: bold; text-align: right;\">2</td><td style = \"text-align: right;\">2014</td><td style = \"text-align: left;\">voiture_moyenne</td><td style = \"text-align: right;\">4</td><td style = \"text-align: left;\">2,5</td><td style = \"text-align: left;\">traction</td><td style = \"text-align: left;\">automatique</td></tr><tr><td class = \"rowNumber\" style = \"font-weight: bold; text-align: right;\">3</td><td style = \"text-align: right;\">2014</td><td style = \"text-align: left;\">VUS_petit</td><td style = \"text-align: right;\">4</td><td style = \"text-align: left;\">2,5</td><td style = \"text-align: left;\">traction</td><td style = \"text-align: left;\">automatique</td></tr><tr><td class = \"rowNumber\" style = \"font-weight: bold; text-align: right;\">4</td><td style = \"text-align: right;\">2014</td><td style = \"text-align: left;\">VUS_petit</td><td style = \"text-align: right;\">4</td><td style = \"text-align: left;\">2</td><td style = \"text-align: left;\">4x4</td><td style = \"text-align: left;\">automatique</td></tr><tr><td class = \"rowNumber\" style = \"font-weight: bold; text-align: right;\">5</td><td style = \"text-align: right;\">2014</td><td style = \"text-align: left;\">voiture_sous_compacte</td><td style = \"text-align: right;\">8</td><td style = \"text-align: left;\">5,8</td><td style = \"text-align: left;\">propulsion</td><td style = \"text-align: left;\">manuelle</td></tr></tbody></table></div>"
      ],
      "text/latex": [
       "\\begin{tabular}{r|cccccc}\n",
       "\t& annee & type & nombre\\_cylindres & cylindree & transmission & boite\\\\\n",
       "\t\\hline\n",
       "\t& Int64 & String31 & Int64 & String3 & String15 & String15\\\\\n",
       "\t\\hline\n",
       "\t1 & 2014 & voiture\\_moyenne & 4 & 2,5 & traction & manuelle \\\\\n",
       "\t2 & 2014 & voiture\\_moyenne & 4 & 2,5 & traction & automatique \\\\\n",
       "\t3 & 2014 & VUS\\_petit & 4 & 2,5 & traction & automatique \\\\\n",
       "\t4 & 2014 & VUS\\_petit & 4 & 2 & 4x4 & automatique \\\\\n",
       "\t5 & 2014 & voiture\\_sous\\_compacte & 8 & 5,8 & propulsion & manuelle \\\\\n",
       "\\end{tabular}\n"
      ],
      "text/plain": [
       "\u001b[1m5×6 DataFrame\u001b[0m\n",
       "\u001b[1m Row \u001b[0m│\u001b[1m annee \u001b[0m\u001b[1m type                  \u001b[0m\u001b[1m nombre_cylindres \u001b[0m\u001b[1m cylindree \u001b[0m\u001b[1m transmission\u001b[0m ⋯\n",
       "     │\u001b[90m Int64 \u001b[0m\u001b[90m String31              \u001b[0m\u001b[90m Int64            \u001b[0m\u001b[90m String3   \u001b[0m\u001b[90m String15    \u001b[0m ⋯\n",
       "─────┼──────────────────────────────────────────────────────────────────────────\n",
       "   1 │  2014  voiture_moyenne                       4  2,5        traction     ⋯\n",
       "   2 │  2014  voiture_moyenne                       4  2,5        traction\n",
       "   3 │  2014  VUS_petit                             4  2,5        traction\n",
       "   4 │  2014  VUS_petit                             4  2          4x4\n",
       "   5 │  2014  voiture_sous_compacte                 8  5,8        propulsion   ⋯\n",
       "\u001b[36m                                                                1 column omitted\u001b[0m"
      ]
     },
     "metadata": {},
     "output_type": "display_data"
    }
   ],
   "source": [
    "first(test, 5)"
   ]
  },
  {
   "cell_type": "markdown",
   "metadata": {},
   "source": [
    "On constate donc que les données ont été bien chargées, et que l'ensemble de test comprend également une colonne de moins que l'ensemble full_train, soit la colonne de consommation d'essence.  De plus, nous avons séparé le jeu de données d'entraînement en deux sous-groupes : 80% pour l'entraînement dans la variable \"train\", et le 20% restant pour assurer la validation dans la variable \"valid\"."
   ]
  },
  {
   "cell_type": "markdown",
   "metadata": {},
   "source": [
    "## 2. Helpers"
   ]
  },
  {
   "cell_type": "markdown",
   "metadata": {},
   "source": [
    "Pour continuer, nous avons créé quelques fonctions génériques qui seront utiles à plusieurs reprises plus loin dans le calepin.  Afin d'éviter des répétitions inutiles de ces procédés, et pour s'assurer de pouvoir retracer ces fonctions rapidement, elles sont regroupées sous cette rubrique \"helpers\".\n",
    "\n",
    "D'abord, nous avons réalisé en affichant les données à la section précédente que deux données numériques, la cylindrée et la consommation, étaient en format String plutôt que d'un type Float. Naturellement, cette incohérence dans le jeu de données nous empêchera de travailler avec celles-ci, et c'est pourquoi nous nous sommes munis d'un outil de conversion en Float."
   ]
  },
  {
   "cell_type": "code",
   "execution_count": 5,
   "metadata": {},
   "outputs": [
    {
     "data": {
      "text/plain": [
       "safe_parse_float (generic function with 1 method)"
      ]
     },
     "metadata": {},
     "output_type": "display_data"
    }
   ],
   "source": [
    "function safe_parse_float(x)\n",
    "    try\n",
    "        return parse(Float64, x)\n",
    "    catch\n",
    "        return missing\n",
    "    end\n",
    "end"
   ]
  },
  {
   "cell_type": "markdown",
   "metadata": {},
   "source": [
    "De plus, pour les données non numériques comme le type de véhicule, la transmission et la boîte, nous devons nous munir d'une méthode de conversion pour encoder ces données de façon à ce que le modèle d'apprentissage automatique puissent les traiter adéquatement.  La méthode que nous avons choisie est l'encodage \"one-hot\", qui consiste à créer une nouvelle colonne pour chaque catégorie et à assigner la valeur 1 à cette colonne si c'est la rangée correspond à cette catégorie, et la valeur 0 dans tous les autres cas.  Nous avons choisi la méthode one-hot afin d'éviter les problèmes que l'autre méthode d'encodage populaire que nous considérions, l'encodage ordinal, peut poser, notamment les biais de magnitude (0 et 1 sont des valeurs neutres qui ne discriminent pas entre les catégories, contrairement aux valeurs ordinales 1, 2, 3, ... qui peuvent influencer les prédictions). "
   ]
  },
  {
   "cell_type": "code",
   "execution_count": 6,
   "metadata": {},
   "outputs": [
    {
     "data": {
      "text/plain": [
       "one_hot_encode (generic function with 1 method)"
      ]
     },
     "metadata": {},
     "output_type": "display_data"
    }
   ],
   "source": [
    "function one_hot_encode(df, cols, levels_dict)\n",
    "    for col in cols\n",
    "        levels_col = levels_dict[col]\n",
    "        for level in levels_col\n",
    "            new_col = Symbol(string(col) * \"_\" * string(level))\n",
    "            df[!, new_col] = ifelse.(df[!, col] .== level, 1.0, 0.0)\n",
    "        end\n",
    "        select!(df, Not(col))\n",
    "    end\n",
    "    return df\n",
    "end"
   ]
  },
  {
   "cell_type": "markdown",
   "metadata": {},
   "source": [
    "Afin d'accélérer le développement de notre solution, nous nous sommes également munis d'une fonction qui applique un pre-processing de base aux jeux de données pertinents.  Cette méthode commencer par remplacer les virgules par des points dans les colonnes numériques qui sont en String par défaut dans les jeux de données, puis applique la conversion en Float directement et retire les valeurs manquantes à la fin."
   ]
  },
  {
   "cell_type": "code",
   "execution_count": null,
   "metadata": {},
   "outputs": [
    {
     "data": {
      "text/plain": [
       "default_prerocessing (generic function with 1 method)"
      ]
     },
     "metadata": {},
     "output_type": "display_data"
    }
   ],
   "source": [
    "function default_prerocessing(data)\n",
    "\n",
    "datasets_with_consommation = [data]\n",
    "datasets_without_consommation = [test]\n",
    "\n",
    "for df in [data]\n",
    "    df.cylindree = replace.(df.cylindree, \",\" => \".\")\n",
    "end\n",
    "\n",
    "for df in datasets_with_consommation\n",
    "    df.consommation = replace.(df.consommation, \",\" => \".\")\n",
    "end\n",
    "\n",
    "for df in [data]\n",
    "    df.cylindree = safe_parse_float.(df.cylindree)\n",
    "end\n",
    "\n",
    "for df in datasets_with_consommation\n",
    "    df.consommation = safe_parse_float.(df.consommation)\n",
    "end\n",
    "\n",
    "for df in [data]\n",
    "    dropmissing!(df)\n",
    "end\n",
    "\n",
    "end"
   ]
  },
  {
   "cell_type": "code",
   "execution_count": 8,
   "metadata": {},
   "outputs": [
    {
     "data": {
      "text/plain": [
       "remove_outliers_by_iqr (generic function with 1 method)"
      ]
     },
     "metadata": {},
     "output_type": "display_data"
    }
   ],
   "source": [
    "function remove_outliers_by_iqr(df, group_col, value_col)\n",
    "    return combine(groupby(df, group_col)) do sdf\n",
    "        q1 = quantile(sdf[!, value_col], 0.25)\n",
    "        q3 = quantile(sdf[!, value_col], 0.75)\n",
    "        iqr = q3 - q1\n",
    "        lower_bound = q1 - 1.5 * iqr\n",
    "        upper_bound = q3 + 1.5 * iqr\n",
    "        filter(row -> lower_bound ≤ row[value_col] ≤ upper_bound, sdf)\n",
    "    end\n",
    "end"
   ]
  },
  {
   "cell_type": "code",
   "execution_count": 9,
   "metadata": {},
   "outputs": [
    {
     "data": {
      "text/plain": [
       "categorize_vehicle_type (generic function with 1 method)"
      ]
     },
     "metadata": {},
     "output_type": "display_data"
    }
   ],
   "source": [
    "function categorize_vehicle_type(vehicle_type)\n",
    "    if vehicle_type in [\"break_petit\", \"voiture_minicompacte\", \"voiture_compacte\", \"VUS_petit\", \"voiture_moyenne\"]\n",
    "        return \"petits_véhicules\"\n",
    "    elseif vehicle_type in [\"voiture_sous_compacte\", \"break_moyen\", \"monospace\", \"camionnette_petit\"]\n",
    "        return \"véhicules_moyens\"\n",
    "    else\n",
    "        return \"grands_véhicules\"\n",
    "    end\n",
    "end"
   ]
  },
  {
   "cell_type": "code",
   "execution_count": 10,
   "metadata": {},
   "outputs": [
    {
     "data": {
      "text/plain": [
       "compute_raj (generic function with 1 method)"
      ]
     },
     "metadata": {},
     "output_type": "display_data"
    }
   ],
   "source": [
    "function compute_raj(X, y, ŷ)\n",
    "    SSe = sum((ŷ .- y).^2)\n",
    "    SSt = sum((y .- mean(y)).^2)\n",
    "    n = size(y, 1)\n",
    "    p = size(X, 2)\n",
    "    return 1 - (SSe / (n - p - 1)) / (SSt / (n - 1))\n",
    "end"
   ]
  },
  {
   "cell_type": "code",
   "execution_count": 11,
   "metadata": {},
   "outputs": [
    {
     "data": {
      "text/plain": [
       "compute_bic (generic function with 1 method)"
      ]
     },
     "metadata": {},
     "output_type": "display_data"
    }
   ],
   "source": [
    "function compute_bic(X, model)\n",
    "\n",
    "    log_likelihood = loglikelihood(model)\n",
    "    \n",
    "    n = size(X, 1)  \n",
    "    k = length(coef(model))  \n",
    "\n",
    "    bic = log_likelihood - (k/2) * log(n)\n",
    "\n",
    "    return bic\n",
    "end"
   ]
  },
  {
   "cell_type": "markdown",
   "metadata": {},
   "source": [
    "## 3. Exploration des données"
   ]
  },
  {
   "cell_type": "markdown",
   "metadata": {},
   "source": [
    "Commençons par nous familiariser avec les données à notre disposition. Dans cette section, nous allons explorer différentes pistes qui pourraient potentiellement avoir un impact positif sur nos prédictions, que ce soit de répérer des données éloignées du reste de l'ensemble, de répérer des tendances, de détecter des instances de multicolinéarité, etc."
   ]
  },
  {
   "cell_type": "markdown",
   "metadata": {},
   "source": [
    "La première étape pour traiter les données est de copier les données d'entraînement dans une variable \"data\" afin d'éviter de corrompre les données originales lors de nos manipulations. On peut ensuite retirer les valeurs manquantes."
   ]
  },
  {
   "cell_type": "code",
   "execution_count": null,
   "metadata": {},
   "outputs": [],
   "source": [
    "# faire une copie initiale du dataframe\n",
    "data = deepcopy(train)\n",
    "\n",
    "# retirer les colonnes ayant des données vides de notre dataframe\n",
    "data = dropmissing(data)\n",
    "\n",
    "# procéder au prétraitement par défaut\n",
    "default_prerocessing(data)\n",
    "\n",
    "first(data, 5)"
   ]
  },
  {
   "cell_type": "markdown",
   "metadata": {},
   "source": [
    "### Variables explicatives"
   ]
  },
  {
   "cell_type": "markdown",
   "metadata": {},
   "source": [
    "Nous allons commencer par analyser chacune des variables explicatives potentielles en détail."
   ]
  },
  {
   "cell_type": "markdown",
   "metadata": {},
   "source": [
    "#### Année"
   ]
  },
  {
   "cell_type": "markdown",
   "metadata": {},
   "source": [
    "La première variable explicative est l'année de fabrication du véhicule. Nous avons commencé par regarder la tendance de la consommation d'essence au fil des ans."
   ]
  },
  {
   "cell_type": "code",
   "execution_count": null,
   "metadata": {},
   "outputs": [],
   "source": [
    "set_default_plot_size(16cm, 12cm)\n",
    "Gadfly.plot(\n",
    "    data,\n",
    "    x=:annee,\n",
    "    y=:consommation,\n",
    "    Geom.boxplot,\n",
    "    Guide.title(\"Consommation d'essence en fonction de l'année du véhicule\"),\n",
    "    Guide.xlabel(\"Année\"),\n",
    "    Guide.ylabel(\"Consommation (L/100km)\"),\n",
    "    Guide.xticks(ticks=collect(2013:1:2025)),\n",
    ")"
   ]
  },
  {
   "cell_type": "markdown",
   "metadata": {},
   "source": [
    "On peut tirer quelques observations de ce diagramme. D'abord, les données de l'ensemble d'entraînement sont réparties sur une période de seulement 10 ans, soit de 2014 à 2024. Ceci fait en sorte que les consommations d'essence correspondantes varieront peu d'une année à l'autre, car les véhicules ne se sont pas améliorés technologiquement de façon assez significative sur une aussi courte période pour que l'année de fabrication ait une incidence notable sur la consommation d'essence. De plus, lorsqu'on observe le diagramme, il est difficile de remarquer une tendance claire dans la variation de la consommation d'essence sur la période de 10 ans. La consommation d'essence semblait être à la hausse en 2022 et 2023, avant de rechuter en 2024. Ces variations nous semblent difficiles à modéliser. Pour toutes ces raisons, il nous semble initialement que l'année de fabrication soit une variable explicative de faible impact sur les prédictions."
   ]
  },
  {
   "cell_type": "markdown",
   "metadata": {},
   "source": [
    "Ensuite, nous nous sommes questionnés par rapport à la grosseur des chiffres reliées à l'année dans un modèle. En effet, les autres données numériques étant le nombre de cylindres et la cylindrée, qui ont tous les deux des valeurs nettement inférieures à un chiffre comme 2020, nous nous demandions si cette disparité pouvait avoir un impact sur la qualité de nos prédictions. Nous avons donc opté pour la stratégie de changer la variable explicative de l'année de fabrication pour une variable d'âge, qui serait entre 1 et 10 ans, et qui serait beaucoup plus proche des valeurs des autres variables explicatives. Ci-dessous se trouve notre façon de procéder."
   ]
  },
  {
   "cell_type": "code",
   "execution_count": null,
   "metadata": {},
   "outputs": [],
   "source": [
    "data.age = 2024 .- data.annee\n",
    "\n",
    "select!(data, Not(:annee))\n",
    "first(data, 5)"
   ]
  },
  {
   "cell_type": "markdown",
   "metadata": {},
   "source": [
    "À partir de ces données, nous avons essayé de remplacer l'année de fabrication par l'âge du véhicule dans notre modèle le plus performant. Nous avons noté une amélioration de ${10}^{-12}$ de notre RMSE. Il va donc sans dire que cette modification de nos variables explicatives était totalement inutile. Nous garderons donc l'année de fabrication pour la suite de nos tests, bien que nous ayons peu d'espoir que cette variable se retrouve dans le modèle final étant donné sa faible corrélation avec la consommation d'essence pour toutes les raisons mentionnées ci-haut."
   ]
  },
  {
   "cell_type": "markdown",
   "metadata": {},
   "source": [
    "#### Type de véhicule"
   ]
  },
  {
   "cell_type": "markdown",
   "metadata": {},
   "source": [
    "Analysons maintenant une seconde variable, soit le type de véhicule. Commençons par vérifier le nombre de types différents dans l'échantillo, ainsi que la quantité d'observations pour chacune des catégories listées. "
   ]
  },
  {
   "cell_type": "code",
   "execution_count": null,
   "metadata": {},
   "outputs": [],
   "source": [
    "\n",
    "unique_categories = unique(skipmissing(data[:, :type]))\n",
    "occurences = [sum(skipmissing(data[:, :type]) .== category) for category in unique_categories]\n",
    "occurences = DataFrame(category = unique_categories, occurences = occurences)\n",
    "sort!(occurences, :occurences, rev=true)"
   ]
  },
  {
   "cell_type": "markdown",
   "metadata": {},
   "source": [
    "Comme on peut le constater, il y a des grandes différences au niveau du nombre d'observations pour chaque type de véhicule: certains, comme les VUS petits, sont représentés à de nombreuses reprises (86), tandis que d'autres, comme les camionnettes standards, sont très rares (2). On peut également illustrer ces données sous la forme d'un graphique des occurences selon les différents types de véhicules."
   ]
  },
  {
   "cell_type": "code",
   "execution_count": null,
   "metadata": {},
   "outputs": [],
   "source": [
    "set_default_plot_size(20cm, 20cm)\n",
    "Gadfly.plot(\n",
    "    occurences,\n",
    "    x=:category,\n",
    "    y=:occurences,\n",
    "    Geom.bar,\n",
    "    Guide.title(\"Répartition des types de véhicules\"),\n",
    "    Guide.xlabel(\"Type de véhicule\"),\n",
    "    Guide.ylabel(\"Occurrences\"),\n",
    ")"
   ]
  },
  {
   "cell_type": "markdown",
   "metadata": {},
   "source": [
    "Calculons maintenant les moyennes de consommation par type de véhicule, ce qui pourrait nous informer sur la variable d'intérêt : en effet, il nous semble a priori logique qu'un type de véhicule plus gros comme une camionnette consomme beaucoup plus qu'un véhicule léger comme une voiture mini-compacte. On affiche aussi ces valeurs dans un graphique."
   ]
  },
  {
   "cell_type": "code",
   "execution_count": null,
   "metadata": {},
   "outputs": [],
   "source": [
    "mean_values = combine(groupby(data, :type), :consommation => mean => :mean_consommation)"
   ]
  },
  {
   "cell_type": "code",
   "execution_count": null,
   "metadata": {},
   "outputs": [],
   "source": [
    "@df mean_values bar(:type, :mean_consommation, xlabel=\"Type de véhicule\", ylabel=\"Consommation Moyenne\", title=\"Consommation moyenne par type de véhicule\", legend=false, rotation=45)"
   ]
  },
  {
   "cell_type": "markdown",
   "metadata": {},
   "source": [
    "À partir du graphique ci-haut représentant la consommation d'essence moyenne en fonction du type de véhicule, il est possbile de remarquer des similarités par rapport à la consommation de certains types de véhicules. Afin de contrer le fait que certaines catégories ont très peu d'observations, ce qui rend l'interprétation des tendances générales plus difficile en raison du bruit, nous avons décidé de regrouper certaines catégories similaires. Cela permet aussi de contribuer à réduire la multicolinéarité en réduisant le nombre de variables explicatives similaires. La méthode que nous avons employée est la suivante :"
   ]
  },
  {
   "cell_type": "code",
   "execution_count": null,
   "metadata": {},
   "outputs": [],
   "source": [
    "function categorize_vehicle_type(vehicle_type)\n",
    "    if vehicle_type in [\"break_petit\", \"voiture_minicompacte\", \"voiture_compacte\", \"VUS_petit\", \"voiture_moyenne\"]\n",
    "        return \"petits_véhicules\"\n",
    "    elseif vehicle_type in [\"voiture_sous_compacte\", \"monospace\", \"camionnette_petit\",]\n",
    "        return \"véhicules_moyens\"\n",
    "    else\n",
    "        return \"grands_véhicules\"\n",
    "    end\n",
    "end"
   ]
  },
  {
   "cell_type": "markdown",
   "metadata": {},
   "source": [
    "Nous avons donc regroupé les caétgories \"break_petit\", \"voiture_minicompacte\", \"voiture_compacte\", \"VUS_petit\" et \"voiture_moyenne\" dans la nouvelle catégorie \"petits_véhicules\", les \"voiture_sous_compacte\", \"monospace\" et \"camionnette_petit\" dans la nouvelle catégorie \"véhicules_moyens\", et tous les autres dans la catégorie \"grands_véhicules\". Analysons maintenant les performances de ces trois nouvelles catégories dans un modèle de régression linéaire, en les comparant avec les performances des types de véhicules avant le regroupement."
   ]
  },
  {
   "cell_type": "code",
   "execution_count": null,
   "metadata": {},
   "outputs": [],
   "source": [
    "dataWithCategorie = deepcopy(data)\n",
    "\n",
    "dataWithCategorie[:, :categorie_vehicule] = [categorize_vehicle_type(t) for t in dataWithCategorie[:, :type]]\n",
    "categorical_cols = [:categorie_vehicule,]\n",
    "\n",
    "levels_dict = Dict()\n",
    "for col in categorical_cols\n",
    "    levels_dict[col] = unique(dataWithCategorie[!, col])\n",
    "end\n",
    "\n",
    "data_type_encoded = one_hot_encode(dataWithCategorie, categorical_cols, levels_dict)\n",
    "model = lm(@formula(consommation ~ categorie_vehicule_petits_véhicules + categorie_vehicule_grands_véhicules + categorie_vehicule_véhicules_moyens), dataWithCategorie)\n",
    "\n",
    "dataWithCategorie.predicted = predict(model)\n",
    "\n",
    "println(\"R²: \", r2(model))\n",
    "rmse = sqrt(mean((dataWithCategorie.consommation .- dataWithCategorie.predicted).^2))\n",
    "\n",
    "println(\"RMSE: \", rmse)"
   ]
  },
  {
   "cell_type": "code",
   "execution_count": null,
   "metadata": {},
   "outputs": [],
   "source": [
    "dataWithType = deepcopy(data)\n",
    "\n",
    "categorical_cols = [:type,]\n",
    "\n",
    "levels_dict = Dict()\n",
    "for col in categorical_cols\n",
    "    levels_dict[col] = unique(dataWithType[!, col])\n",
    "end\n",
    "\n",
    "data_type_encoded = one_hot_encode(dataWithType, categorical_cols, levels_dict)\n",
    "\n",
    "model = lm(@formula(consommation ~ type_voiture_moyenne + type_VUS_petit + type_voiture_compacte + type_voiture_deux_places + type_voiture_minicompacte + type_VUS_standard + type_monospace + \n",
    "                    type_camionnette_petit + type_voiture_sous_compacte + type_break_petit + type_voiture_grande + type_camionnette_standard), dataWithType)\n",
    "\n",
    "dataWithType.predicted = predict(model)\n",
    "\n",
    "println(\"R²: \", r2(model))\n",
    "rmse = sqrt(mean((dataWithType.consommation .- dataWithType.predicted).^2))\n",
    "\n",
    "println(\"RMSE: \", rmse)"
   ]
  },
  {
   "cell_type": "markdown",
   "metadata": {},
   "source": [
    "À la lumière des valeurs obtenues, on conclut que lorque seules ces nouvelles catégories sont incluses dans le modèle, elles performent moins bien que lorsque seuls les types originals sont inclus dans le modèle, autant au niveau du ${R^2}$ que du RMSE. Cette tentative de réduire la dimensionalité du vecteur de paramètres est donc un échec dans le cas où le type est le seul paramètre étudié.  Nous verrons plus loin que lorsque le regroupement par catégories est associé à d'autres variables explicatives, cette méthode bonifie le RMSE.\n",
    "\n",
    "Regardons maintenant la relation entre le type de véhicule et la cylindrée afin de vérifier si certains types de véhicules ont une consommation plus élevée en raison d'une cylindrée importante."
   ]
  },
  {
   "cell_type": "code",
   "execution_count": null,
   "metadata": {},
   "outputs": [],
   "source": [
    "set_default_plot_size(16cm, 12cm)\n",
    "Gadfly.plot(\n",
    "    data,\n",
    "    x=:cylindree,\n",
    "    y=:consommation,\n",
    "    color=:type,\n",
    "    Geom.point,\n",
    "    Guide.title(\"Consommation d'essence en fonction de la cylindrée, catégorisée par type de véhicule\"),\n",
    "    Guide.xlabel(\"Cylindrée\"),\n",
    "    Guide.ylabel(\"Consommation (L/100km)\"),\n",
    "    Guide.colorkey(\"Type de véhicule\"),\n",
    ")"
   ]
  },
  {
   "cell_type": "markdown",
   "metadata": {},
   "source": [
    "##### Cylindrée"
   ]
  },
  {
   "cell_type": "markdown",
   "metadata": {},
   "source": [
    "Généralement, la cylindée d'un véhicule est hautement corrélée à la consommation d'essence de celui-ci. Toutefois, la cylindrée est une variable continue avec énormément de valeurs uniques, ce qui peut compliqué la modélisation de la consommation d'essence. De plus, la distibuion des échantillions est asymétrique. Nous avons donc décidé d'étudier la nécessité de transformer cette variable en une variable catégorielle. Pour ce faire, nous avons d'abord regardé la distribution des cylindrées dans notre ensemble de données. \n",
    "\n",
    "L'idée est de créer des catégories de cylindrées, par exemple, les véhicules avec une cylindrée de moins de 2L, entre 2L et 3L, et plus de 3L. Nous avons donc créé un histogramme de la distribution des cylindrées pour nous aider à déterminer les catégories à utiliser."
   ]
  },
  {
   "cell_type": "code",
   "execution_count": null,
   "metadata": {},
   "outputs": [],
   "source": [
    "unique_cylindree = unique(skipmissing(data[:, :cylindree]))\n",
    "occurences_cylindree = [sum(skipmissing(data[:, :cylindree]) .== cylindree) for cylindree in unique_cylindree]\n",
    "occurences_cylindree = DataFrame(cylindree = unique_cylindree, occurences = occurences_cylindree)\n",
    "\n",
    "set_default_plot_size(20cm, 20cm)\n",
    "Gadfly.plot(\n",
    "    occurences_cylindree,\n",
    "    x=:cylindree,\n",
    "    y=:occurences,\n",
    "    Geom.bar,\n",
    "    Guide.title(\"Répartition des cylindrées\"),\n",
    "    Guide.xlabel(\"Cylindrée\"),\n",
    "    Guide.ylabel(\"Occurrences\"),\n",
    ")"
   ]
  },
  {
   "cell_type": "markdown",
   "metadata": {},
   "source": [
    "Comme mentionné, la distribution des cylindrées est très asymétrique, avec une majorité de véhicules ayant une cylindrée de moins de 3L. De plus nous pouvons appercevoir des valeurs extrêmes qui devraient être traitées pour ne pas introduire de bruit dans notre modèle. Dans notre modèle final, nous n'avons toutefois pas pris compte de la correction de cette asymmétrie. Nous allons donc plutôt étudier la relation entre la cylindrée et la consommation d'essence."
   ]
  },
  {
   "cell_type": "code",
   "execution_count": null,
   "metadata": {},
   "outputs": [],
   "source": [
    "# Ajuster un modèle de régression linéaire\n",
    "model = lm(@formula(consommation ~ cylindree), data)\n",
    "\n",
    "# Prédire les valeurs de consommation pour tracer la ligne\n",
    "data.predicted = predict(model)\n",
    "\n",
    "# Tracer avec Gadfly\n",
    "p = Gadfly.plot(\n",
    "    data,\n",
    "    x=:cylindree,\n",
    "    y=:consommation,\n",
    "    Geom.point,\n",
    "    layer(data, x=:cylindree, y=:predicted, Geom.line, Theme(default_color=\"red\")),\n",
    "    Guide.title(\"Consommation d'essence en fonction de la cylindrée\"),\n",
    "    Guide.xlabel(\"Cylindrée\"),\n",
    "    Guide.ylabel(\"Consommation (L/100km)\"),\n",
    ")\n",
    "\n",
    "display(p)\n",
    "\n",
    "println(\"R²: \", r2(model))\n",
    "rmse = sqrt(mean((data.consommation .- data.predicted).^2))\n",
    "\n",
    "println(\"RMSE: \", rmse)\n",
    "\n",
    "# calcul des résidus\n",
    "res = data.consommation .- data.predicted\n",
    "\n",
    "p1 = Gadfly.plot(\n",
    "    data,\n",
    "    x=:cylindree,\n",
    "    y=res,\n",
    "    Geom.point,\n",
    "    Guide.title(\"Résidus de la régression linéaire\"),\n",
    "    Guide.xlabel(\"Cylindrée\"),\n",
    "    Guide.ylabel(\"Résidus\"),\n",
    ")\n",
    "display(p1)"
   ]
  },
  {
   "cell_type": "markdown",
   "metadata": {},
   "source": [
    "Comme nous pouvons le voir, il semble y avoir une relation croissante entre la cylindrée et la consommation de carburant. C'est ce qui était attendu, mais nous remarquons que la relation n'est pas parfaitemnt linéaire. Si nous voulons respecter le principe de linéarité, nous devons transformer la variable explicative pour respecter l'hypothèses 1. Pour ce faire, nous allons appliquer le logarithme des cylindrées pour voir si cela améliore la linéarité de la relation."
   ]
  },
  {
   "cell_type": "code",
   "execution_count": null,
   "metadata": {},
   "outputs": [],
   "source": [
    "data.cylindree = log.(data.cylindree)"
   ]
  },
  {
   "cell_type": "code",
   "execution_count": null,
   "metadata": {},
   "outputs": [],
   "source": [
    "# Ajuster un modèle de régression linéaire\n",
    "model = lm(@formula(consommation ~ cylindree), data)\n",
    "\n",
    "# Prédire les valeurs de consommation pour tracer la ligne\n",
    "data.predicted = predict(model)\n",
    "\n",
    "# Tracer avec Gadfly\n",
    "Gadfly.plot(\n",
    "    data,\n",
    "    x=:cylindree,\n",
    "    y=:consommation,\n",
    "    Geom.point,\n",
    "    layer(data, x=:cylindree, y=:predicted, Geom.line, Theme(default_color=\"red\")),\n",
    "    Guide.title(\"Consommation d'essence en fonction de la cylindrée\"),\n",
    "    Guide.xlabel(\"Cylindrée\"),\n",
    "    Guide.ylabel(\"Consommation (L/100km)\"),\n",
    "    Guide.colorkey(\"Catégorie de cylindrée\"),\n",
    ")"
   ]
  },
  {
   "cell_type": "code",
   "execution_count": null,
   "metadata": {},
   "outputs": [],
   "source": [
    "# appliquer le logaritme sur la cylindree\n",
    "data.cylindree = log.(data.cylindree)\n",
    "\n",
    "println(\"R²: \", r2(model))\n",
    "rmse = sqrt(mean((data.consommation .- data.predicted).^2))\n",
    "println(\"RMSE: \", rmse)\n",
    "\n",
    "# calcul des résidus\n",
    "res = data.consommation .- data.predicted\n",
    "\n",
    "p1 = Gadfly.plot(\n",
    "    data,\n",
    "    x=:cylindree,\n",
    "    y=res,\n",
    "    Geom.point,\n",
    "    Guide.title(\"Résidus de la régression linéaire\"),\n",
    "    Guide.xlabel(\"Cylindrée\"),\n",
    "    Guide.ylabel(\"Résidus\"),\n",
    ")\n",
    "display(p1)\n"
   ]
  },
  {
   "cell_type": "markdown",
   "metadata": {},
   "source": [
    "Comme nous pouvons le voir, la relation entre la consommation d'essence et la cylindrée semble être plus linéaire après avoir appliqué le logarithme. Nous allons donc utiliser cette transformation pour la suite de notre analyse."
   ]
  },
  {
   "cell_type": "markdown",
   "metadata": {},
   "source": [
    "##### Nombre de cylindres"
   ]
  },
  {
   "cell_type": "markdown",
   "metadata": {},
   "source": [
    "Examinons maintenant une autre variable numérique : le nombre de cylindres du moteur. Commençons par déterminer combien de variables uniques existent pour cette variable explicative potentielle."
   ]
  },
  {
   "cell_type": "code",
   "execution_count": null,
   "metadata": {},
   "outputs": [],
   "source": [
    "unique_nb_cylindres = unique(data[:, :nombre_cylindres])\n",
    "occurences = [sum(data[:, :nombre_cylindres] .== nb_cylindres) for nb_cylindres in unique_nb_cylindres]\n",
    "occurences = DataFrame(nb_cylindres = unique_nb_cylindres, occurences = occurences)\n",
    "sort!(occurences, :occurences, rev=true)"
   ]
  },
  {
   "cell_type": "markdown",
   "metadata": {},
   "source": [
    "Comme on peut le constater, la grande majorité des véhicules étudiés ont 4 cylindres (148), 6 cylindres (87), 8 cylindres (51) ou 3 cylindres (24). Seuls quelques véhicules ont un plus grand nombre de cylindres (3 véhicules de 12 cylindres et 3 véhicules de 10 cylindres), et une seul véhicule a 5 cylindres. Pour ces valeurs pour lesquelles nous disposons de moins de données d'entraînement, il est donc possible de penser que le modèle sera moins efficace dans ses prédictions. Ce sera une hypothèse que nous considérerons plus loin dans l'entraînement de nos modèles. On pourrait décider d'omettre ces données en appliquant la modification suivante au dataframe (conserver la valeur seulement si elle est associée à plus de 5 occurences):"
   ]
  },
  {
   "cell_type": "code",
   "execution_count": null,
   "metadata": {},
   "outputs": [],
   "source": [
    "occurences = occurences[occurences.occurences .> 5, :]"
   ]
  },
  {
   "cell_type": "markdown",
   "metadata": {},
   "source": [
    "On peut aussi visualiser ces données sous forme de diagramme pour obtenir une meilleure compréhension de celles-ci :"
   ]
  },
  {
   "cell_type": "code",
   "execution_count": null,
   "metadata": {},
   "outputs": [],
   "source": [
    "set_default_plot_size(16cm, 12cm)\n",
    "Gadfly.plot(\n",
    "    data,\n",
    "    x=:nombre_cylindres,\n",
    "    y=:consommation,\n",
    "    Geom.point,\n",
    "    Guide.title(\"Consommation d'essence en fonction du nombre de cylindres du véhicule\"),\n",
    "    Guide.xlabel(\"Nombre de cylindres (log)\"),\n",
    "    Guide.ylabel(\"Consommation (L/100km)\"),\n",
    ")"
   ]
  },
  {
   "cell_type": "markdown",
   "metadata": {},
   "source": [
    "On reconnait ici une forme logarithmique. Essayons d'appliquer un log aux valeurs du nombre de cylindre pour obtenir une distribution linéaire."
   ]
  },
  {
   "cell_type": "code",
   "execution_count": null,
   "metadata": {},
   "outputs": [],
   "source": [
    "data.nombre_cylindres = log.(data.nombre_cylindres)\n",
    "\n",
    "set_default_plot_size(16cm, 12cm)\n",
    "Gadfly.plot(\n",
    "    data,\n",
    "    x=:nombre_cylindres,\n",
    "    y=:consommation,\n",
    "    Geom.point,\n",
    "    Guide.title(\"Consommation d'essence en fonction du nombre de cylindres du véhicule (log)\"),\n",
    "    Guide.xlabel(\"Nombre de cylindres (log)\"),\n",
    "    Guide.ylabel(\"Consommation (L/100km)\"),\n",
    ")"
   ]
  },
  {
   "cell_type": "markdown",
   "metadata": {},
   "source": [
    "Si on utilise la valeur ajustée avec le logarithme du nombre de cylindres, on obtient les prédictions préliminaires suivantes avec les résidus :"
   ]
  },
  {
   "cell_type": "code",
   "execution_count": null,
   "metadata": {},
   "outputs": [],
   "source": [
    "model = lm(@formula(consommation ~ nombre_cylindres), data)\n",
    "\n",
    "data.predicted = predict(model)\n",
    "\n",
    "p = Gadfly.plot(\n",
    "    data,\n",
    "    x=:nombre_cylindres,\n",
    "    y=:consommation,\n",
    "    Geom.point,\n",
    "    layer(data, x=:nombre_cylindres, y=:predicted, Geom.line, Theme(default_color=\"red\")),\n",
    "    Guide.title(\"Consommation d'essence en fonction de la cylindrée\"),\n",
    "    Guide.xlabel(\"Cylindrée\"),\n",
    "    Guide.ylabel(\"Consommation (L/100km)\"),\n",
    ")\n",
    "\n",
    "display(p)\n",
    "\n",
    "\n",
    "p1 = Gadfly.plot(\n",
    "    data,\n",
    "    x=:nombre_cylindres,\n",
    "    y=res,\n",
    "    Geom.point,\n",
    "    Guide.title(\"Résidus de la régression linéaire\"),\n",
    "    Guide.xlabel(\"Cylindrée\"),\n",
    "    Guide.ylabel(\"Résidus\"),\n",
    ")\n",
    "\n",
    "display(p1)\n"
   ]
  },
  {
   "cell_type": "markdown",
   "metadata": {},
   "source": [
    "On voit donc que plus le nombre de cylindres est grand, plus la consommation d'essence moyenne a tendance à augmenter aussi. Compte tenu de cette observation et du fort coefficient de corrélation entre la consommation et le nombre de cylindres, il semble que ce dernier constitue une variable explicative de fort intérêt pour notre modèle prédictif."
   ]
  },
  {
   "cell_type": "markdown",
   "metadata": {},
   "source": [
    "Comme la cylindrée du véhicule présentait des caractéristiques similaires à celles du nombre de cylindres, nous avons étudié la relations entre ces deux variables explicatives. Curieux de savoir si l'intéraction des deux variables apportait une information supplémentaire, nous souhaitions examiner si la combinaison des deux était pertinente. Nous avons donc créé une nouvelle variable qui représentait la capacité moteur du véhicule, soit le produit de la cylindrée et du nombre de cylindres. Toutefois, nous avons constaté que cette nouvelle variable n'apportait pas d'information supplémentaire par rapport à la cylindrée et au nombre de cylindres, et nous avons donc décidé de ne pas l'inclure dans notre modèle final."
   ]
  },
  {
   "cell_type": "markdown",
   "metadata": {},
   "source": [
    "##### Transmission "
   ]
  },
  {
   "cell_type": "markdown",
   "metadata": {},
   "source": [
    "En ce qui concerne le type de transmission, nous avons commencé par observer la distribution des catégories:"
   ]
  },
  {
   "cell_type": "code",
   "execution_count": null,
   "metadata": {},
   "outputs": [],
   "source": [
    "for df in [data]\n",
    "    println(\"Nombre d'observations par type de transmission :\")\n",
    "    println(combine(groupby(df, :transmission), nrow))\n",
    "end"
   ]
  },
  {
   "cell_type": "markdown",
   "metadata": {},
   "source": [
    "Comme nous pouvons le voir, les types de transmission sont représentées inégalement dans l'ensemble de données. Les transmissions integrale et à traction sont largement représentées, tandis que les transmissions à propulsion et 4x4 sont sous-représentées. Cela nous mène à questionner l'effet de ce manque sur les prédictions. Effectivement, si les types de transmission sont corrélés à la consommation d'essence, le fait que certaines catégories soient sous-représentées pourrait biaiser nos prédictions."
   ]
  },
  {
   "cell_type": "code",
   "execution_count": null,
   "metadata": {},
   "outputs": [],
   "source": [
    "# histogramme de la consommation moyenne en fonction du type de transmission\n",
    "set_default_plot_size(20cm, 20cm)\n",
    "\n",
    "mean_consommation = combine(groupby(data, :transmission), :consommation => mean => :mean_consommation)\n",
    "# moyenne par type de transmission\n",
    "println(mean_consommation)\n",
    "\n",
    "Gadfly.plot(\n",
    "    mean_consommation,\n",
    "    x=:transmission,\n",
    "    y=:mean_consommation,\n",
    "    Geom.bar,\n",
    "    Guide.xlabel(\"Transmission\"),\n",
    "    Guide.ylabel(\"Consommation moyenne (L/100km)\"),\n",
    "    Guide.title(\"Consommation moyenne en fonction du type de transmission\")\n",
    ")"
   ]
  },
  {
   "cell_type": "markdown",
   "metadata": {},
   "source": [
    "Comme, les prédictions risquent d'être biaisées vers des valeurs associées aux classes majoritaires (\"integrale\" ou \"traction\"), nous pourrions poser l'hypothèse que le modèle risque de sous-estimer non seulement la consommation des véhicules avec une transmission 4x4 et propulsion, mais aussi les prédictions globales en raison de la forte représentation de la transmission traction. (Voir histogramme de la consommation par type de transmission). Pour pallier à ce problème, nous pourrions envisager de pondérer ou de regrouper les classes de transmission pour équilibrer les données. Par exemple, nous pourrions ajouter un poids élevé à la classe \"4x4\" et un poids plus faible à la classe \"Traction\" pour compenser leur représentation respective. Nous pourrions également regrouper les classes \"Intégrale\" et \"Propulsion\" en une seule catégorie pour augmenter leur représentation dans l'ensemble de données, si leur distinction n'apporte pas de valeur ajoutée au modèle."
   ]
  },
  {
   "cell_type": "markdown",
   "metadata": {},
   "source": [
    "##### Approche A: Ajustement de poids"
   ]
  },
  {
   "cell_type": "code",
   "execution_count": null,
   "metadata": {},
   "outputs": [],
   "source": [
    "full_train = CSV.read(\"../data/raw/train.csv\", DataFrame; delim=\";\")\n",
    "test =  CSV.read(\"../data/raw/test.csv\", DataFrame; delim=\";\") # ne contient pas la variable consommation\n",
    "\n",
    "Random.seed!(1234) # pour la reproductibilit\n",
    "\n",
    "ntrain = round(Int, .8*nrow(full_train)) # 80% des données pour l'entrainement: 80% * nb de lignes\n",
    "\n",
    "train_id = sample(1:nrow(full_train), ntrain, replace=false, ordered=true) # échantillonnage aléatoire pour l'entrainement\n",
    "valid_id = setdiff(1:nrow(full_train), train_id) # échantillon de validation. prend celles qui ne sont pas dans l'échantillon d'entrainement\n",
    "\n",
    "train = full_train[train_id, :]  \n",
    "valid = full_train[valid_id, :]"
   ]
  },
  {
   "cell_type": "code",
   "execution_count": null,
   "metadata": {},
   "outputs": [],
   "source": [
    "# Jeux de données avec 'consommation'\n",
    "datasets_with_consommation = [train, valid]\n",
    "\n",
    "# Jeux de données sans 'consommation'\n",
    "datasets_without_consommation = [test]\n",
    "\n",
    "# Remplacer les virgules par des points dans 'cylindree' pour pouvoir convertir en float ensuite\n",
    "for df in [train, valid, test]\n",
    "    df.cylindree = replace.(df.cylindree, \",\" => \".\")\n",
    "end\n",
    "\n",
    "# Remplacer les virgules par des points dans 'consommation' pour pouvoir convertir en float ensuite\n",
    "for df in datasets_with_consommation\n",
    "    df.consommation = replace.(df.consommation, \",\" => \".\")\n",
    "end\n",
    "\n",
    "# Convertir 'cylindree' en float dans tous les datasets\n",
    "for df in [train, valid, test]\n",
    "    df.cylindree = safe_parse_float.(df.cylindree)\n",
    "end\n",
    "\n",
    "# Convertir 'consommation' en float dans les datasets avec 'consommation'\n",
    "for df in datasets_with_consommation\n",
    "    df.consommation = safe_parse_float.(df.consommation)\n",
    "end\n",
    "\n",
    "# Retirer les valeurs manquantes dans tous les datasets\n",
    "for df in [train, valid, test]\n",
    "    dropmissing!(df)\n",
    "end"
   ]
  },
  {
   "cell_type": "code",
   "execution_count": null,
   "metadata": {},
   "outputs": [],
   "source": [
    "counts = combine(groupby(train, :transmission), nrow => :nrow)\n",
    "\n",
    "# Étape 2: calculer le nombre total d'échantillons et le nombre de classes\n",
    "total_samples = sum(counts.nrow)\n",
    "num_classes = nrow(counts)\n",
    "\n",
    "# Étape 3: Calculer les poids pour chaque classe\n",
    "counts.Weight = total_samples ./ (num_classes .* counts.nrow)\n",
    "\n",
    "# Étape 4: Joindre les poids à l'ensemble de données d'entraînement\n",
    "train = leftjoin(train, counts[:, [:transmission, :Weight]], on=:transmission)"
   ]
  },
  {
   "cell_type": "code",
   "execution_count": null,
   "metadata": {},
   "outputs": [],
   "source": [
    "# Définir les colonnes catégorielles\n",
    "categorical_cols = [:transmission,:type]\n",
    "\n",
    "# Créer un dictionnaire pour stocker les niveaux de chaque colonne catégorielle\n",
    "levels_dict = Dict()\n",
    "for col in categorical_cols\n",
    "    levels_dict[col] = unique(train[!, col])\n",
    "end\n",
    "\n",
    "train = one_hot_encode(train, categorical_cols, levels_dict)\n",
    "valid = one_hot_encode(valid, categorical_cols, levels_dict)"
   ]
  },
  {
   "cell_type": "code",
   "execution_count": null,
   "metadata": {},
   "outputs": [],
   "source": [
    "describe(train)\n",
    "dropmissing!(train)"
   ]
  },
  {
   "cell_type": "code",
   "execution_count": null,
   "metadata": {},
   "outputs": [],
   "source": [
    "# Ajuster le modèle avec les poids\n",
    "@time modelA = fit(LinearModel, @formula(consommation ~ transmission_propulsion + transmission_traction + transmission_integrale + transmission_4x4), train, wts = train.Weight)"
   ]
  },
  {
   "cell_type": "code",
   "execution_count": null,
   "metadata": {},
   "outputs": [],
   "source": [
    "# Prédiction avec l'ensemble de validation\n",
    "valid_prediction = GLM.predict(modelA, valid)\n",
    "train_prediction = GLM.predict(modelA, train)\n",
    "\n",
    "# Trouver la moyenne de prédiction\n",
    "mean_prediction = mean(valid_prediction)\n",
    "mean_prediction_train = mean(train_prediction)\n",
    "\n",
    "# Remplacer les missing par la moyenne\n",
    "valid_prediction = coalesce.(valid_prediction, mean_prediction)\n",
    "train_prediction = coalesce.(train_prediction, mean_prediction_train)\n",
    "\n",
    "# Calculer le RMSE\n",
    "rmse_valid = sqrt(mean((valid_prediction - valid.consommation).^2))\n",
    "rmse_train = sqrt(mean((train_prediction - train.consommation).^2))\n",
    "\n",
    "println(\"RMSE: \", rmse_valid)\n",
    "println(\"RMSE train: \", rmse_train)"
   ]
  },
  {
   "cell_type": "markdown",
   "metadata": {},
   "source": [
    "Pour l'approche A, le rmse nous donne 1.081 ce qui signifie que les prédicitons ne sont pas affectées positivement à l'ajout de poids selon la transmissions. Nous avons donc décidé de ne pas utiliser cette approche. "
   ]
  },
  {
   "cell_type": "markdown",
   "metadata": {},
   "source": [
    "##### Approche B: Combinaison de catégories similaires \n",
    "\n",
    "Nous devons tester la significativité statistique de la différence entre les catégories de transmission. Pour ce faire, nous avons effectué un test de student pour comparer les moyennes de consommation d'essence entre les différentes catégories de transmission."
   ]
  },
  {
   "cell_type": "code",
   "execution_count": null,
   "metadata": {},
   "outputs": [],
   "source": [
    "full_train = CSV.read(\"../data/raw/train.csv\", DataFrame; delim=\";\")\n",
    "test =  CSV.read(\"../data/raw/test.csv\", DataFrame; delim=\";\") # ne contient pas la variable consommation\n",
    "\n",
    "Random.seed!(1234) # pour la reproductibilité\n",
    "\n",
    "ntrain = round(Int, .8*nrow(full_train)) # 80% des données pour l'entrainement: 80% * nb de lignes\n",
    "\n",
    "train_id = sample(1:nrow(full_train), ntrain, replace=false, ordered=true) # échantillonnage aléatoire pour l'entrainement\n",
    "valid_id = setdiff(1:nrow(full_train), train_id) # échantillon de validation. prend celles qui ne sont pas dans l'échantillon d'entrainement\n",
    "\n",
    "train = full_train[train_id, :]  \n",
    "valid = full_train[valid_id, :]"
   ]
  },
  {
   "cell_type": "code",
   "execution_count": null,
   "metadata": {},
   "outputs": [],
   "source": [
    "train_data = deepcopy(train)\n",
    "valid_data = deepcopy(valid)\n",
    "\n",
    "# Jeux de données avec 'consommation'\n",
    "datasets_with_consommation = [train_data, valid_data]\n",
    "\n",
    "# Jeux de données sans 'consommation'\n",
    "datasets_without_consommation = [test]\n",
    "\n",
    "# Appliquer les remplacements à 'cylindree' uniquement dans les jeux de données qui le contiennent\n",
    "for df in [train_data, valid_data, test]\n",
    "    df.cylindree = replace.(df.cylindree, \",\" => \".\")\n",
    "end\n",
    "\n",
    "# Appliquer les remplacements à 'consommation' uniquement dans les jeux de données qui le contiennent\n",
    "for df in datasets_with_consommation\n",
    "    df.consommation = replace.(df.consommation, \",\" => \".\")\n",
    "end\n",
    "\n",
    "# Convertir 'cylindree' en float dans tous les jeux de données\n",
    "for df in [train_data, valid_data, test]\n",
    "    df.cylindree = safe_parse_float.(df.cylindree)\n",
    "end\n",
    "\n",
    "# Convertir 'consommation' en float dans les jeux de données ayant la colonne 'consommation'\n",
    "for df in datasets_with_consommation\n",
    "    df.consommation = safe_parse_float.(df.consommation)\n",
    "end\n",
    "\n",
    "# Retirer les valeurs manquantes dans tous les jeux de données\n",
    "for df in [train_data, valid_data, test]\n",
    "    dropmissing!(df)\n",
    "end"
   ]
  },
  {
   "cell_type": "code",
   "execution_count": null,
   "metadata": {},
   "outputs": [],
   "source": [
    "# Fonction pour calculer la moyenne\n",
    "\n",
    "function t_test_equal_variances(group1, group2)\n",
    "    # Tailles des échantillons\n",
    "    n1 = length(group1)\n",
    "    n2 = length(group2)\n",
    "\n",
    "    # Moyennes des deux groupes\n",
    "    μ1 = mean(group1)\n",
    "    μ2 = mean(group2)\n",
    "\n",
    "    # Variances des deux groupes\n",
    "    s1² = var(group1)\n",
    "    s2² = var(group2)\n",
    "\n",
    "    # Variance combinée pondérée\n",
    "    sp² = ((n1 - 1) * s1² + (n2 - 1) * s2²) / (n1 + n2 - 2)\n",
    "\n",
    "    # Statistique t\n",
    "    t_stat = (μ1 - μ2) / sqrt(sp² * (1 / n1 + 1 / n2))\n",
    "\n",
    "    # Degrés de liberté\n",
    "    df = n1 + n2 - 2\n",
    "    \n",
    "    return t_stat, df\n",
    "end"
   ]
  },
  {
   "cell_type": "code",
   "execution_count": null,
   "metadata": {},
   "outputs": [],
   "source": [
    "\n",
    "# Exemple d'utilisation\n",
    "group_integrale = train_data[train_data.transmission .== \"integrale\", :consommation]\n",
    "group_4x4 = train_data[train_data.transmission .== \"4x4\", :consommation]\n",
    "\n",
    "# Calcul du test t\n",
    "t_stat, df = t_test_equal_variances(group_integrale, group_4x4)\n",
    "\n",
    "absolut_t_stat = abs(t_stat)\n",
    "\n",
    "pvalue = 2 * (1 - cdf(TDist(df), absolut_t_stat))\n",
    "\n",
    "println(\"Statistique t : $absolut_t_stat\")\n",
    "println(\"p-valeur : $pvalue\")\n",
    "println(\"Degrés de liberté : $df\")"
   ]
  },
  {
   "cell_type": "markdown",
   "metadata": {},
   "source": [
    "Comme le test de student nous donne une p-value > 0.05, nous ne pouvons pas rejeter l'hypothèse nulle selon laquelle les moyennes de consommation d'essence entre les différentes catégories de transmission sont égales. Cela signifie que les différences de consommation d'essence entre les catégories de transmission ne sont pas statistiquement significatives. Par conséquent, nous pouvons regrouper les catégories de transmission similaires pour augmenter leur représentation dans l'ensemble de données sans affecter la qualité des prédictions."
   ]
  },
  {
   "cell_type": "code",
   "execution_count": null,
   "metadata": {},
   "outputs": [],
   "source": [
    "# Créer une nouvelle colonne pour les catégories de transmission\n",
    "# si la transmission est 4x4, la remplacer par \"integrale\"\n",
    "train_data.transmission = ifelse.(train_data.transmission .== \"4x4\", \"integrale\", train_data.transmission)\n",
    "valid_data.transmission = ifelse.(valid_data.transmission .== \"4x4\", \"integrale\", valid_data.transmission)"
   ]
  },
  {
   "cell_type": "code",
   "execution_count": null,
   "metadata": {},
   "outputs": [],
   "source": [
    "# encoder la variable boite\n",
    "for df in [train_data, valid_data, test]\n",
    "    df.boite = ifelse.(df.boite .== \"automatique\", 1.0, 0.0)\n",
    "end\n",
    "\n",
    "# définir les colonnes catégorielles\n",
    "categorical_cols = [:type, :transmission]\n",
    "\n",
    "# créer un dictionnaire pour stocker les niveaux de chaque colonne catégorielle\n",
    "levels_dict = Dict()\n",
    "for col in categorical_cols\n",
    "    levels_dict[col] = unique(train_data[!, col])\n",
    "end\n",
    "\n",
    "train_data = one_hot_encode(train_data, categorical_cols, levels_dict)\n",
    "valid_data = one_hot_encode(valid_data, categorical_cols, levels_dict)\n",
    "test = one_hot_encode(test, categorical_cols, levels_dict)\n",
    "\n",
    "println(names(train_data))"
   ]
  },
  {
   "cell_type": "code",
   "execution_count": null,
   "metadata": {},
   "outputs": [],
   "source": [
    "@time modelB = lm(@formula(consommation ~ \n",
    "    transmission_integrale + transmission_traction + transmission_propulsion), train_data)"
   ]
  },
  {
   "cell_type": "code",
   "execution_count": null,
   "metadata": {},
   "outputs": [],
   "source": [
    "# Prédiction avec l'ensemble de validation\n",
    "valid_prediction = GLM.predict(modelB, valid_data)\n",
    "\n",
    "# Trouver la moyenne de prédiction\n",
    "mean_prediction = mean(valid_prediction)\n",
    "\n",
    "# Remplacer les missing par la moyenne\n",
    "valid_prediction = coalesce.(valid_prediction, mean_prediction)\n",
    "\n",
    "# Calculer le RMSE\n",
    "rmse_valid = sqrt(mean((valid_prediction - valid_data.consommation).^2))\n",
    "\n",
    "println(\"RMSE: \", rmse_valid)"
   ]
  },
  {
   "cell_type": "markdown",
   "metadata": {},
   "source": [
    "##### Boîte\n",
    "\n",
    "Terminons notre analyse en regardant la dernière variable explicative potentielle avec laquelle nous pouvons travailler, soit la boîte du moteur.  Cette variable peut prendre deux valeurs seulement : automatique ou manuelle.  Commençons par comptabiliser le nombre d'occurences de chaque type au sein de notre ensemble d'entraînement."
   ]
  },
  {
   "cell_type": "code",
   "execution_count": null,
   "metadata": {},
   "outputs": [],
   "source": [
    "counts = combine(groupby(data, :boite), nrow => :count)"
   ]
  },
  {
   "cell_type": "markdown",
   "metadata": {},
   "source": [
    "On constate donc qu'il y a beaucoup plus d'observations dans la catégorie des véhicules automatiques (268) que pour les véhicules manuels (49). Regardons maintenant la consommation d'essence associée à chacun des types de boîte."
   ]
  },
  {
   "cell_type": "code",
   "execution_count": null,
   "metadata": {},
   "outputs": [],
   "source": [
    "set_default_plot_size(16cm, 12cm)\n",
    "Gadfly.plot(\n",
    "    data,\n",
    "    x=:boite,\n",
    "    y=:consommation,\n",
    "    Geom.boxplot,\n",
    "    Guide.xlabel(\"Boîte\"),\n",
    "    Guide.ylabel(\"Consommation moyenne (L/100km)\"),\n",
    "    Guide.title(\"Consommation moyenne en fonction du type de boîte\")\n",
    ")"
   ]
  },
  {
   "cell_type": "markdown",
   "metadata": {},
   "source": [
    "On constate ici que les deux boîtes se comportent de manière similaire au niveau de la consommation moyenne, avec un écart interquartile un peu plus important pour les véhicules automatiques que pour les véhicules manuels. La variance de la distribution de véhicules automatiques est donc plus grande. On constate aussi la présence d'une donnée abherrante dans la distribution de données du côté manuel, qui pourrait gagner à être retirée lors de l'entraînement du modèle.  Puisque la boîte en soi ne nous informe que très peu sur la consommation d'essence d'un véhciule, on s'intéresse maintenant à la relation entre cette variable et d'autres éléments du jeu de données, notamment le type de véhicule."
   ]
  },
  {
   "cell_type": "code",
   "execution_count": null,
   "metadata": {},
   "outputs": [],
   "source": [
    "Gadfly.plot(data,\n",
    "    x = :type,\n",
    "    y = :consommation,\n",
    "    color = :boite,\n",
    "    Geom.point,\n",
    "    Scale.x_discrete(labels=identity),\n",
    "    Theme(bar_spacing=0.7)\n",
    ")"
   ]
  },
  {
   "cell_type": "markdown",
   "metadata": {},
   "source": [
    "Ce qu'on constate en observant ce graphique, c'est que pour certains types de véhicules, il est impossible que la boîte soit manuelle dans notre jeu de données d'entraînement. Cela fait en sorte qu'il existe possiblement une lacune dans la collecte de données qui ne sont pas assez représentatives, ou alors qu'il s'agit d'un phénomène qu'on pourrait constater en industrie.  Dans tous les cas, cette disparité entre les types de véhicule au niveau de la boîte peut emmener le modèle à faire des prédictions moins fiables pour le types de véhicules n'ayant pas des données à la fois maunelles et automatiques comme les VUS ou les camionnettes. De plus, on ne semble pas détecter que pour un ou des types de véhicules en particulier, le type de boîte ait un gros impact sur la consommation d'essence, pusique les points jaunes se retrouvent souvent au milieu des points bleus.\n",
    "\n",
    "Une dernière observation que nous pouvons faire est de tracer le graphique de la consommation d'essence en fonction de la cylindrée, une variable explicative que nous avons déjà prouvé comme étant pertinente, mais cette fois-ci selon le type de boîte (une ligne pour les boîtes automatiques et une autre pour les boîtes manuelles). Encore une fois, on constate qu'il y a peu d'incidence sur la consommation d'essence entre les deux modèles."
   ]
  },
  {
   "cell_type": "code",
   "execution_count": null,
   "metadata": {},
   "outputs": [],
   "source": [
    "aggregated_data = combine(groupby(data, [:cylindree, :boite]), \n",
    "    :consommation => mean => :avg_consumption)\n",
    "\n",
    "Gadfly.plot(aggregated_data,\n",
    "    x = :cylindree,\n",
    "    y = :avg_consumption,\n",
    "    color = :boite,\n",
    "    Geom.line,\n",
    "    Guide.xlabel(\"Cylindrée\"),\n",
    "    Guide.ylabel(\"Consommation moyenne (L/100km)\"),\n",
    "    Guide.title(\"Consommation moyenne en fonction de la cylindrée et du type de boîte\"),\n",
    "    Theme(default_color=\"blue\")\n",
    ")"
   ]
  },
  {
   "cell_type": "markdown",
   "metadata": {},
   "source": [
    "#### Corrélation entre les variables"
   ]
  },
  {
   "cell_type": "markdown",
   "metadata": {},
   "source": [
    "Maintenant que nous avons une meilleure idée de l'impact de chaque variable explicative sur la consommation d'essence, il serait intéressant de porter notre attention sur la corrélation entre ces variables. En effet, si deux variables explicatives sont fortement corrélées, cela pourrait poser problème pour la modélisation de la consommation d'essence. En effet, cela pourrait introduire du bruit dans le modèle et nous devrions retirer une des deux variables pour éviter ce problème. Nous allons donc calculer la matrice de corrélation entre les variables explicatives pour voir si ce problème se pose.\n"
   ]
  },
  {
   "cell_type": "code",
   "execution_count": null,
   "metadata": {},
   "outputs": [],
   "source": [
    "numeric_cols = [:age, :nombre_cylindres, :cylindree, :consommation]\n",
    "\n",
    "M = cor(Matrix(data[:, numeric_cols]))\n",
    "\n",
    "# Afficher la matrice de corrélation\n",
    "println(\"Matrice de corrélation :\")\n",
    "println(M)\n",
    "\n",
    "# PLOT\n",
    "(n,m) = size(M)\n",
    "heatmap(M, fc=cgrad([:white,:dodgerblue4]), xticks=(1:m,numeric_cols), xrot=90, yticks=(1:m,numeric_cols), yflip=true)\n",
    "annotate!([(j, i, text(round(M[i,j],digits=3), 8,\"Computer Modern\",:black)) for i in 1:n for j in 1:m])"
   ]
  },
  {
   "cell_type": "markdown",
   "metadata": {},
   "source": [
    "Maintenant que nous avons une meilleure idée de l'impact de chaque variable explicative sur la consommation d'essence, il serait intéressant de porter notre attention sur la corrélation entre ces variables. En effet, si deux variables explicatives sont fortement corrélées, cela pourrait poser problème pour la modélisation de la consommation d'essence. En effet, cela pourrait introduire du bruit dans le modèle et nous devrions retirer une des deux variables pour éviter ce problème. Nous allons donc calculer la matrice de corrélation entre les variables explicatives pour voir si ce problème se pose."
   ]
  },
  {
   "cell_type": "markdown",
   "metadata": {},
   "source": [
    "## 4. Régression linéaire"
   ]
  },
  {
   "cell_type": "markdown",
   "metadata": {},
   "source": [
    "Maintenant que nous en avons appris davantage sur les différentes relations entre les variables, il est temps de quantifier la force qu'elles auront sur la variable d'intérêt par une régression linéaire. Pour commencer, nous partitionnons nos données en un ensemble d'entrainement et un ensemble de validation. Pour ce faire, nous utilisons la stratégie du ratio 80/20 et nous intégrerons une validation croisée èa k blocs pour évaluer la performance de notre modèle."
   ]
  },
  {
   "cell_type": "code",
   "execution_count": 85,
   "metadata": {},
   "outputs": [
    {
     "data": {
      "text/html": [
       "<div><div style = \"float: left;\"><span>5×7 DataFrame</span></div><div style = \"clear: both;\"></div></div><div class = \"data-frame\" style = \"overflow-x: scroll;\"><table class = \"data-frame\" style = \"margin-bottom: 6px;\"><thead><tr class = \"header\"><th class = \"rowNumber\" style = \"font-weight: bold; text-align: right;\">Row</th><th style = \"text-align: left;\">annee</th><th style = \"text-align: left;\">type</th><th style = \"text-align: left;\">nombre_cylindres</th><th style = \"text-align: left;\">cylindree</th><th style = \"text-align: left;\">transmission</th><th style = \"text-align: left;\">boite</th><th style = \"text-align: left;\">consommation</th></tr><tr class = \"subheader headerLastRow\"><th class = \"rowNumber\" style = \"font-weight: bold; text-align: right;\"></th><th title = \"Int64\" style = \"text-align: left;\">Int64</th><th title = \"String31\" style = \"text-align: left;\">String31</th><th title = \"Int64\" style = \"text-align: left;\">Int64</th><th title = \"String3\" style = \"text-align: left;\">String3</th><th title = \"String15\" style = \"text-align: left;\">String15</th><th title = \"String15\" style = \"text-align: left;\">String15</th><th title = \"String31\" style = \"text-align: left;\">String31</th></tr></thead><tbody><tr><td class = \"rowNumber\" style = \"font-weight: bold; text-align: right;\">1</td><td style = \"text-align: right;\">2023</td><td style = \"text-align: left;\">voiture_moyenne</td><td style = \"text-align: right;\">8</td><td style = \"text-align: left;\">4,4</td><td style = \"text-align: left;\">integrale</td><td style = \"text-align: left;\">automatique</td><td style = \"text-align: left;\">13,8358823529412</td></tr><tr><td class = \"rowNumber\" style = \"font-weight: bold; text-align: right;\">2</td><td style = \"text-align: right;\">2020</td><td style = \"text-align: left;\">VUS_petit</td><td style = \"text-align: right;\">4</td><td style = \"text-align: left;\">2</td><td style = \"text-align: left;\">integrale</td><td style = \"text-align: left;\">automatique</td><td style = \"text-align: left;\">9,80041666666667</td></tr><tr><td class = \"rowNumber\" style = \"font-weight: bold; text-align: right;\">3</td><td style = \"text-align: right;\">2021</td><td style = \"text-align: left;\">voiture_compacte</td><td style = \"text-align: right;\">6</td><td style = \"text-align: left;\">3,3</td><td style = \"text-align: left;\">propulsion</td><td style = \"text-align: left;\">automatique</td><td style = \"text-align: left;\">11,7605</td></tr><tr><td class = \"rowNumber\" style = \"font-weight: bold; text-align: right;\">4</td><td style = \"text-align: right;\">2023</td><td style = \"text-align: left;\">voiture_deux_places</td><td style = \"text-align: right;\">8</td><td style = \"text-align: left;\">5</td><td style = \"text-align: left;\">integrale</td><td style = \"text-align: left;\">automatique</td><td style = \"text-align: left;\">13,0672222222222</td></tr><tr><td class = \"rowNumber\" style = \"font-weight: bold; text-align: right;\">5</td><td style = \"text-align: right;\">2022</td><td style = \"text-align: left;\">voiture_moyenne</td><td style = \"text-align: right;\">8</td><td style = \"text-align: left;\">4,4</td><td style = \"text-align: left;\">integrale</td><td style = \"text-align: left;\">automatique</td><td style = \"text-align: left;\">13,8358823529412</td></tr></tbody></table></div>"
      ],
      "text/latex": [
       "\\begin{tabular}{r|ccccccc}\n",
       "\t& annee & type & nombre\\_cylindres & cylindree & transmission & boite & \\\\\n",
       "\t\\hline\n",
       "\t& Int64 & String31 & Int64 & String3 & String15 & String15 & \\\\\n",
       "\t\\hline\n",
       "\t1 & 2023 & voiture\\_moyenne & 8 & 4,4 & integrale & automatique & $\\dots$ \\\\\n",
       "\t2 & 2020 & VUS\\_petit & 4 & 2 & integrale & automatique & $\\dots$ \\\\\n",
       "\t3 & 2021 & voiture\\_compacte & 6 & 3,3 & propulsion & automatique & $\\dots$ \\\\\n",
       "\t4 & 2023 & voiture\\_deux\\_places & 8 & 5 & integrale & automatique & $\\dots$ \\\\\n",
       "\t5 & 2022 & voiture\\_moyenne & 8 & 4,4 & integrale & automatique & $\\dots$ \\\\\n",
       "\\end{tabular}\n"
      ],
      "text/plain": [
       "\u001b[1m5×7 DataFrame\u001b[0m\n",
       "\u001b[1m Row \u001b[0m│\u001b[1m annee \u001b[0m\u001b[1m type                \u001b[0m\u001b[1m nombre_cylindres \u001b[0m\u001b[1m cylindree \u001b[0m\u001b[1m transmission \u001b[0m\u001b[1m \u001b[0m ⋯\n",
       "     │\u001b[90m Int64 \u001b[0m\u001b[90m String31            \u001b[0m\u001b[90m Int64            \u001b[0m\u001b[90m String3   \u001b[0m\u001b[90m String15     \u001b[0m\u001b[90m \u001b[0m ⋯\n",
       "─────┼──────────────────────────────────────────────────────────────────────────\n",
       "   1 │  2023  voiture_moyenne                     8  4,4        integrale      ⋯\n",
       "   2 │  2020  VUS_petit                           4  2          integrale\n",
       "   3 │  2021  voiture_compacte                    6  3,3        propulsion\n",
       "   4 │  2023  voiture_deux_places                 8  5          integrale\n",
       "   5 │  2022  voiture_moyenne                     8  4,4        integrale      ⋯\n",
       "\u001b[36m                                                               2 columns omitted\u001b[0m"
      ]
     },
     "metadata": {},
     "output_type": "display_data"
    }
   ],
   "source": [
    "full_train = CSV.read(\"../data/raw/train.csv\", DataFrame; delim=\";\")\n",
    "test =  CSV.read(\"../data/raw/test.csv\", DataFrame; delim=\";\")\n",
    "\n",
    "Random.seed!(1234) #pour la reproductibilité\n",
    "\n",
    "ntrain = round(Int, .8*nrow(full_train)) #80% des données pour l'entrainement \n",
    "\n",
    "train_id = sample(1:nrow(full_train), ntrain, replace=false, ordered=true) #Échantillonnage aléatoire pour l'entrainement\n",
    "valid_id = setdiff(1:nrow(full_train), train_id) #Échantillon de validation. On prend les données qui ne sont pas dans l'échantillon d'entrainement\n",
    "\n",
    "train = full_train[train_id, :]  \n",
    "valid = full_train[valid_id, :]\n",
    "\n",
    "first(train, 5)\n"
   ]
  },
  {
   "cell_type": "markdown",
   "metadata": {},
   "source": [
    "Au début du concours, nous ne connaissions pas trop les différentes capacités de la librairie CSV et nous ne savions pas que de simplement ajouter un decimal=',' permettait d'accomplir ce que nous accomplissons dans la prochaine cellule. Nous avons donc décidé de simplement remplacer les virgules par des points dans les colonnes numériques qui sont en String par défaut dans les jeux de données, puis appliquer la conversion en Float directement et retirer les valeurs manquantes à la fin."
   ]
  },
  {
   "cell_type": "code",
   "execution_count": 86,
   "metadata": {},
   "outputs": [],
   "source": [
    "datasets_with_consommation = [train, valid]\n",
    "\n",
    "datasets_without_consommation = [test]\n",
    "\n",
    "for df in [train, valid, test]\n",
    "    df.cylindree = replace.(df.cylindree, \",\" => \".\")\n",
    "end\n",
    "\n",
    "for df in datasets_with_consommation\n",
    "    df.consommation = replace.(df.consommation, \",\" => \".\")\n",
    "end\n",
    "\n",
    "for df in [train, valid, test]\n",
    "    df.cylindree = safe_parse_float.(df.cylindree)\n",
    "end\n",
    "\n",
    "for df in datasets_with_consommation\n",
    "    df.consommation = safe_parse_float.(df.consommation)\n",
    "end\n",
    "\n",
    "for df in [train, valid, test]\n",
    "    dropmissing!(df)\n",
    "end"
   ]
  },
  {
   "cell_type": "markdown",
   "metadata": {},
   "source": [
    "C'est plutôt ici que le pre-processing est appliqué aux jeux de données pertinents. Effectivement, cette cellule combine les différentes conclusions tirées dans la section d'exploration de données pour exploiter les différentes variables explicatives de manière optimale. Par exemple, comme mentionné dans la section traitant la variable \"cylindrée\" la première étape consiste à traiter les données abbérantes selon la consommation sous le critère des quantiles. Avec cette stratégie, nous retirons environ 22 observations du training set et 7 du validation set pour une proportion de 6.9% et 9.7% respectivement. Bien que notre expérience est limitée, nous pensons que ces retraits ne sont pas abusifs et l'augmentation de pouvoir prédictif en vaut la peine. Nous avons donc décidé de conserver cette stratégie pour la suite de notre analyse. Le reste consiste à la transformation logarithmique des variables explicatives cylindrée et nombre de cylindres, l'aggrégation des différentes types de transmission et le regroupement des types de véhicules en 3 grandes catégorie selon leur consommation de carburant."
   ]
  },
  {
   "cell_type": "code",
   "execution_count": 87,
   "metadata": {},
   "outputs": [
    {
     "name": "stdout",
     "output_type": "stream",
     "text": [
      "Train set: (317, 7)\n",
      "Valid set: (79, 7)\n",
      "Train set after removing outliers: (295, 7)\n",
      "Valid set after removing outliers: (72, 7)\n"
     ]
    },
    {
     "data": {
      "text/plain": [
       "150-element Vector{String}:\n",
       " \"petits_véhicules\"\n",
       " \"petits_véhicules\"\n",
       " \"petits_véhicules\"\n",
       " \"petits_véhicules\"\n",
       " \"véhicules_moyens\"\n",
       " \"véhicules_moyens\"\n",
       " \"véhicules_moyens\"\n",
       " \"petits_véhicules\"\n",
       " \"petits_véhicules\"\n",
       " \"grands_véhicules\"\n",
       " ⋮\n",
       " \"petits_véhicules\"\n",
       " \"petits_véhicules\"\n",
       " \"petits_véhicules\"\n",
       " \"véhicules_moyens\"\n",
       " \"véhicules_moyens\"\n",
       " \"véhicules_moyens\"\n",
       " \"véhicules_moyens\"\n",
       " \"véhicules_moyens\"\n",
       " \"véhicules_moyens\""
      ]
     },
     "metadata": {},
     "output_type": "display_data"
    }
   ],
   "source": [
    "println(\"Train set: \", size(train))\n",
    "println(\"Valid set: \", size(valid))\n",
    "\n",
    "train = remove_outliers_by_iqr(train, :cylindree, :consommation)\n",
    "valid = remove_outliers_by_iqr(valid, :cylindree, :consommation)\n",
    "\n",
    "println(\"Train set after removing outliers: \", size(train))\n",
    "println(\"Valid set after removing outliers: \", size(valid))\n",
    "\n",
    "train.cylindree = log.(train.cylindree)\n",
    "valid.cylindree = log.(valid.cylindree)\n",
    "test.cylindree = log.(test.cylindree)\n",
    "\n",
    "train.nombre_cylindres = log.(train.nombre_cylindres)\n",
    "valid.nombre_cylindres = log.(valid.nombre_cylindres)\n",
    "test.nombre_cylindres = log.(test.nombre_cylindres)\n",
    "\n",
    "train.transmission = ifelse.(train.transmission .== \"4x4\", \"integrale\", train.transmission)\n",
    "valid.transmission = ifelse.(valid.transmission .== \"4x4\", \"integrale\", valid.transmission)\n",
    "test.transmission = ifelse.(test.transmission .== \"4x4\", \"integrale\", test.transmission)\n",
    "\n",
    "train.transmission = ifelse.(train.transmission .== \"propulsion\", \"integrale\", train.transmission)\n",
    "valid.transmission = ifelse.(valid.transmission .== \"propulsion\", \"integrale\", valid.transmission)\n",
    "test.transmission = ifelse.(test.transmission .== \"propulsion\", \"integrale\", test.transmission)\n",
    "\n",
    "train[:, :categorie_vehicule] = [categorize_vehicle_type(t) for t in train[:, :type]]\n",
    "valid[:, :categorie_vehicule] = [categorize_vehicle_type(t) for t in valid[:, :type]]\n",
    "test[:, :categorie_vehicule] = [categorize_vehicle_type(t) for t in test[:, :type]]\n",
    "\n",
    "\n"
   ]
  },
  {
   "cell_type": "markdown",
   "metadata": {},
   "source": [
    "Dans notre modèle, plusieurs tests ont révélé que l'erreur quadratique moyenne (RMSE) était plus élevé lorsque nous appliquions quelconque transformation normalisant ou standardisant les variables explicatives. Nous avons donc décidé de ne pas appliquer de transformation à nos variables explicatives. En ce qui concerne les variables catégorielles, un simple encodage one-hot a été appliqué. "
   ]
  },
  {
   "cell_type": "code",
   "execution_count": null,
   "metadata": {},
   "outputs": [],
   "source": [
    "# #standardize the data\n",
    "# function standardize(df)\n",
    "#     for col in names(df)\n",
    "#         if eltype(df[!, col]) <: Number\n",
    "#             df[!, col] = (df[!, col] .- mean(df[!, col])) ./ std(df[!, col])\n",
    "#         end\n",
    "#     end\n",
    "#     return df\n",
    "# end\n",
    "\n",
    "# numeric_cols = [:age, :cylindree]\n",
    "\n",
    "# train[!, numeric_cols] = standardize(train[!, numeric_cols])\n",
    "# valid[!, numeric_cols] = standardize(valid[!, numeric_cols])\n",
    "# test[!, numeric_cols] = standardize(test[!, numeric_cols])"
   ]
  },
  {
   "cell_type": "code",
   "execution_count": 88,
   "metadata": {},
   "outputs": [
    {
     "data": {
      "text/html": [
       "<div><div style = \"float: left;\"><span>150×22 DataFrame</span></div><div style = \"float: right;\"><span style = \"font-style: italic;\">125 rows omitted</span></div><div style = \"clear: both;\"></div></div><div class = \"data-frame\" style = \"overflow-x: scroll;\"><table class = \"data-frame\" style = \"margin-bottom: 6px;\"><thead><tr class = \"header\"><th class = \"rowNumber\" style = \"font-weight: bold; text-align: right;\">Row</th><th style = \"text-align: left;\">annee</th><th style = \"text-align: left;\">nombre_cylindres</th><th style = \"text-align: left;\">cylindree</th><th style = \"text-align: left;\">categorie_vehicule_petits_véhicules</th><th style = \"text-align: left;\">categorie_vehicule_véhicules_moyens</th><th style = \"text-align: left;\">categorie_vehicule_grands_véhicules</th><th style = \"text-align: left;\">transmission_integrale</th><th style = \"text-align: left;\">transmission_traction</th><th style = \"text-align: left;\">type_voiture_moyenne</th><th style = \"text-align: left;\">type_voiture_sous_compacte</th><th style = \"text-align: left;\">type_voiture_compacte</th><th style = \"text-align: left;\">type_voiture_grande</th><th style = \"text-align: left;\">type_VUS_petit</th><th style = \"text-align: left;\">type_break_petit</th><th style = \"text-align: left;\">type_voiture_minicompacte</th><th style = \"text-align: left;\">type_voiture_deux_places</th><th style = \"text-align: left;\">type_VUS_standard</th><th style = \"text-align: left;\">type_monospace</th><th style = \"text-align: left;\">type_camionnette_petit</th><th style = \"text-align: left;\">type_camionnette_standard</th><th style = \"text-align: left;\">boite_automatique</th><th style = \"text-align: left;\">boite_manuelle</th></tr><tr class = \"subheader headerLastRow\"><th class = \"rowNumber\" style = \"font-weight: bold; text-align: right;\"></th><th title = \"Int64\" style = \"text-align: left;\">Int64</th><th title = \"Float64\" style = \"text-align: left;\">Float64</th><th title = \"Float64\" style = \"text-align: left;\">Float64</th><th title = \"Float64\" style = \"text-align: left;\">Float64</th><th title = \"Float64\" style = \"text-align: left;\">Float64</th><th title = \"Float64\" style = \"text-align: left;\">Float64</th><th title = \"Float64\" style = \"text-align: left;\">Float64</th><th title = \"Float64\" style = \"text-align: left;\">Float64</th><th title = \"Float64\" style = \"text-align: left;\">Float64</th><th title = \"Float64\" style = \"text-align: left;\">Float64</th><th title = \"Float64\" style = \"text-align: left;\">Float64</th><th title = \"Float64\" style = \"text-align: left;\">Float64</th><th title = \"Float64\" style = \"text-align: left;\">Float64</th><th title = \"Float64\" style = \"text-align: left;\">Float64</th><th title = \"Float64\" style = \"text-align: left;\">Float64</th><th title = \"Float64\" style = \"text-align: left;\">Float64</th><th title = \"Float64\" style = \"text-align: left;\">Float64</th><th title = \"Float64\" style = \"text-align: left;\">Float64</th><th title = \"Float64\" style = \"text-align: left;\">Float64</th><th title = \"Float64\" style = \"text-align: left;\">Float64</th><th title = \"Float64\" style = \"text-align: left;\">Float64</th><th title = \"Float64\" style = \"text-align: left;\">Float64</th></tr></thead><tbody><tr><td class = \"rowNumber\" style = \"font-weight: bold; text-align: right;\">1</td><td style = \"text-align: right;\">2014</td><td style = \"text-align: right;\">1.38629</td><td style = \"text-align: right;\">0.916291</td><td style = \"text-align: right;\">1.0</td><td style = \"text-align: right;\">0.0</td><td style = \"text-align: right;\">0.0</td><td style = \"text-align: right;\">0.0</td><td style = \"text-align: right;\">1.0</td><td style = \"text-align: right;\">1.0</td><td style = \"text-align: right;\">0.0</td><td style = \"text-align: right;\">0.0</td><td style = \"text-align: right;\">0.0</td><td style = \"text-align: right;\">0.0</td><td style = \"text-align: right;\">0.0</td><td style = \"text-align: right;\">0.0</td><td style = \"text-align: right;\">0.0</td><td style = \"text-align: right;\">0.0</td><td style = \"text-align: right;\">0.0</td><td style = \"text-align: right;\">0.0</td><td style = \"text-align: right;\">0.0</td><td style = \"text-align: right;\">0.0</td><td style = \"text-align: right;\">1.0</td></tr><tr><td class = \"rowNumber\" style = \"font-weight: bold; text-align: right;\">2</td><td style = \"text-align: right;\">2014</td><td style = \"text-align: right;\">1.38629</td><td style = \"text-align: right;\">0.916291</td><td style = \"text-align: right;\">1.0</td><td style = \"text-align: right;\">0.0</td><td style = \"text-align: right;\">0.0</td><td style = \"text-align: right;\">0.0</td><td style = \"text-align: right;\">1.0</td><td style = \"text-align: right;\">1.0</td><td style = \"text-align: right;\">0.0</td><td style = \"text-align: right;\">0.0</td><td style = \"text-align: right;\">0.0</td><td style = \"text-align: right;\">0.0</td><td style = \"text-align: right;\">0.0</td><td style = \"text-align: right;\">0.0</td><td style = \"text-align: right;\">0.0</td><td style = \"text-align: right;\">0.0</td><td style = \"text-align: right;\">0.0</td><td style = \"text-align: right;\">0.0</td><td style = \"text-align: right;\">0.0</td><td style = \"text-align: right;\">1.0</td><td style = \"text-align: right;\">0.0</td></tr><tr><td class = \"rowNumber\" style = \"font-weight: bold; text-align: right;\">3</td><td style = \"text-align: right;\">2014</td><td style = \"text-align: right;\">1.38629</td><td style = \"text-align: right;\">0.916291</td><td style = \"text-align: right;\">1.0</td><td style = \"text-align: right;\">0.0</td><td style = \"text-align: right;\">0.0</td><td style = \"text-align: right;\">0.0</td><td style = \"text-align: right;\">1.0</td><td style = \"text-align: right;\">0.0</td><td style = \"text-align: right;\">0.0</td><td style = \"text-align: right;\">0.0</td><td style = \"text-align: right;\">0.0</td><td style = \"text-align: right;\">1.0</td><td style = \"text-align: right;\">0.0</td><td style = \"text-align: right;\">0.0</td><td style = \"text-align: right;\">0.0</td><td style = \"text-align: right;\">0.0</td><td style = \"text-align: right;\">0.0</td><td style = \"text-align: right;\">0.0</td><td style = \"text-align: right;\">0.0</td><td style = \"text-align: right;\">1.0</td><td style = \"text-align: right;\">0.0</td></tr><tr><td class = \"rowNumber\" style = \"font-weight: bold; text-align: right;\">4</td><td style = \"text-align: right;\">2014</td><td style = \"text-align: right;\">1.38629</td><td style = \"text-align: right;\">0.693147</td><td style = \"text-align: right;\">1.0</td><td style = \"text-align: right;\">0.0</td><td style = \"text-align: right;\">0.0</td><td style = \"text-align: right;\">1.0</td><td style = \"text-align: right;\">0.0</td><td style = \"text-align: right;\">0.0</td><td style = \"text-align: right;\">0.0</td><td style = \"text-align: right;\">0.0</td><td style = \"text-align: right;\">0.0</td><td style = \"text-align: right;\">1.0</td><td style = \"text-align: right;\">0.0</td><td style = \"text-align: right;\">0.0</td><td style = \"text-align: right;\">0.0</td><td style = \"text-align: right;\">0.0</td><td style = \"text-align: right;\">0.0</td><td style = \"text-align: right;\">0.0</td><td style = \"text-align: right;\">0.0</td><td style = \"text-align: right;\">1.0</td><td style = \"text-align: right;\">0.0</td></tr><tr><td class = \"rowNumber\" style = \"font-weight: bold; text-align: right;\">5</td><td style = \"text-align: right;\">2014</td><td style = \"text-align: right;\">2.07944</td><td style = \"text-align: right;\">1.75786</td><td style = \"text-align: right;\">0.0</td><td style = \"text-align: right;\">1.0</td><td style = \"text-align: right;\">0.0</td><td style = \"text-align: right;\">1.0</td><td style = \"text-align: right;\">0.0</td><td style = \"text-align: right;\">0.0</td><td style = \"text-align: right;\">1.0</td><td style = \"text-align: right;\">0.0</td><td style = \"text-align: right;\">0.0</td><td style = \"text-align: right;\">0.0</td><td style = \"text-align: right;\">0.0</td><td style = \"text-align: right;\">0.0</td><td style = \"text-align: right;\">0.0</td><td style = \"text-align: right;\">0.0</td><td style = \"text-align: right;\">0.0</td><td style = \"text-align: right;\">0.0</td><td style = \"text-align: right;\">0.0</td><td style = \"text-align: right;\">0.0</td><td style = \"text-align: right;\">1.0</td></tr><tr><td class = \"rowNumber\" style = \"font-weight: bold; text-align: right;\">6</td><td style = \"text-align: right;\">2014</td><td style = \"text-align: right;\">2.07944</td><td style = \"text-align: right;\">1.60944</td><td style = \"text-align: right;\">0.0</td><td style = \"text-align: right;\">1.0</td><td style = \"text-align: right;\">0.0</td><td style = \"text-align: right;\">1.0</td><td style = \"text-align: right;\">0.0</td><td style = \"text-align: right;\">0.0</td><td style = \"text-align: right;\">1.0</td><td style = \"text-align: right;\">0.0</td><td style = \"text-align: right;\">0.0</td><td style = \"text-align: right;\">0.0</td><td style = \"text-align: right;\">0.0</td><td style = \"text-align: right;\">0.0</td><td style = \"text-align: right;\">0.0</td><td style = \"text-align: right;\">0.0</td><td style = \"text-align: right;\">0.0</td><td style = \"text-align: right;\">0.0</td><td style = \"text-align: right;\">0.0</td><td style = \"text-align: right;\">1.0</td><td style = \"text-align: right;\">0.0</td></tr><tr><td class = \"rowNumber\" style = \"font-weight: bold; text-align: right;\">7</td><td style = \"text-align: right;\">2014</td><td style = \"text-align: right;\">2.07944</td><td style = \"text-align: right;\">1.60944</td><td style = \"text-align: right;\">0.0</td><td style = \"text-align: right;\">1.0</td><td style = \"text-align: right;\">0.0</td><td style = \"text-align: right;\">1.0</td><td style = \"text-align: right;\">0.0</td><td style = \"text-align: right;\">0.0</td><td style = \"text-align: right;\">1.0</td><td style = \"text-align: right;\">0.0</td><td style = \"text-align: right;\">0.0</td><td style = \"text-align: right;\">0.0</td><td style = \"text-align: right;\">0.0</td><td style = \"text-align: right;\">0.0</td><td style = \"text-align: right;\">0.0</td><td style = \"text-align: right;\">0.0</td><td style = \"text-align: right;\">0.0</td><td style = \"text-align: right;\">0.0</td><td style = \"text-align: right;\">0.0</td><td style = \"text-align: right;\">0.0</td><td style = \"text-align: right;\">1.0</td></tr><tr><td class = \"rowNumber\" style = \"font-weight: bold; text-align: right;\">8</td><td style = \"text-align: right;\">2014</td><td style = \"text-align: right;\">1.38629</td><td style = \"text-align: right;\">0.875469</td><td style = \"text-align: right;\">1.0</td><td style = \"text-align: right;\">0.0</td><td style = \"text-align: right;\">0.0</td><td style = \"text-align: right;\">1.0</td><td style = \"text-align: right;\">0.0</td><td style = \"text-align: right;\">0.0</td><td style = \"text-align: right;\">0.0</td><td style = \"text-align: right;\">0.0</td><td style = \"text-align: right;\">0.0</td><td style = \"text-align: right;\">1.0</td><td style = \"text-align: right;\">0.0</td><td style = \"text-align: right;\">0.0</td><td style = \"text-align: right;\">0.0</td><td style = \"text-align: right;\">0.0</td><td style = \"text-align: right;\">0.0</td><td style = \"text-align: right;\">0.0</td><td style = \"text-align: right;\">0.0</td><td style = \"text-align: right;\">1.0</td><td style = \"text-align: right;\">0.0</td></tr><tr><td class = \"rowNumber\" style = \"font-weight: bold; text-align: right;\">9</td><td style = \"text-align: right;\">2014</td><td style = \"text-align: right;\">1.79176</td><td style = \"text-align: right;\">1.25276</td><td style = \"text-align: right;\">1.0</td><td style = \"text-align: right;\">0.0</td><td style = \"text-align: right;\">0.0</td><td style = \"text-align: right;\">1.0</td><td style = \"text-align: right;\">0.0</td><td style = \"text-align: right;\">0.0</td><td style = \"text-align: right;\">0.0</td><td style = \"text-align: right;\">0.0</td><td style = \"text-align: right;\">0.0</td><td style = \"text-align: right;\">1.0</td><td style = \"text-align: right;\">0.0</td><td style = \"text-align: right;\">0.0</td><td style = \"text-align: right;\">0.0</td><td style = \"text-align: right;\">0.0</td><td style = \"text-align: right;\">0.0</td><td style = \"text-align: right;\">0.0</td><td style = \"text-align: right;\">0.0</td><td style = \"text-align: right;\">1.0</td><td style = \"text-align: right;\">0.0</td></tr><tr><td class = \"rowNumber\" style = \"font-weight: bold; text-align: right;\">10</td><td style = \"text-align: right;\">2014</td><td style = \"text-align: right;\">2.30259</td><td style = \"text-align: right;\">1.64866</td><td style = \"text-align: right;\">0.0</td><td style = \"text-align: right;\">0.0</td><td style = \"text-align: right;\">1.0</td><td style = \"text-align: right;\">1.0</td><td style = \"text-align: right;\">0.0</td><td style = \"text-align: right;\">0.0</td><td style = \"text-align: right;\">0.0</td><td style = \"text-align: right;\">0.0</td><td style = \"text-align: right;\">0.0</td><td style = \"text-align: right;\">0.0</td><td style = \"text-align: right;\">0.0</td><td style = \"text-align: right;\">0.0</td><td style = \"text-align: right;\">1.0</td><td style = \"text-align: right;\">0.0</td><td style = \"text-align: right;\">0.0</td><td style = \"text-align: right;\">0.0</td><td style = \"text-align: right;\">0.0</td><td style = \"text-align: right;\">0.0</td><td style = \"text-align: right;\">1.0</td></tr><tr><td class = \"rowNumber\" style = \"font-weight: bold; text-align: right;\">11</td><td style = \"text-align: right;\">2014</td><td style = \"text-align: right;\">2.30259</td><td style = \"text-align: right;\">1.64866</td><td style = \"text-align: right;\">0.0</td><td style = \"text-align: right;\">0.0</td><td style = \"text-align: right;\">1.0</td><td style = \"text-align: right;\">1.0</td><td style = \"text-align: right;\">0.0</td><td style = \"text-align: right;\">0.0</td><td style = \"text-align: right;\">0.0</td><td style = \"text-align: right;\">0.0</td><td style = \"text-align: right;\">0.0</td><td style = \"text-align: right;\">0.0</td><td style = \"text-align: right;\">0.0</td><td style = \"text-align: right;\">0.0</td><td style = \"text-align: right;\">1.0</td><td style = \"text-align: right;\">0.0</td><td style = \"text-align: right;\">0.0</td><td style = \"text-align: right;\">0.0</td><td style = \"text-align: right;\">0.0</td><td style = \"text-align: right;\">0.0</td><td style = \"text-align: right;\">1.0</td></tr><tr><td class = \"rowNumber\" style = \"font-weight: bold; text-align: right;\">12</td><td style = \"text-align: right;\">2014</td><td style = \"text-align: right;\">2.48491</td><td style = \"text-align: right;\">1.77495</td><td style = \"text-align: right;\">0.0</td><td style = \"text-align: right;\">1.0</td><td style = \"text-align: right;\">0.0</td><td style = \"text-align: right;\">1.0</td><td style = \"text-align: right;\">0.0</td><td style = \"text-align: right;\">0.0</td><td style = \"text-align: right;\">1.0</td><td style = \"text-align: right;\">0.0</td><td style = \"text-align: right;\">0.0</td><td style = \"text-align: right;\">0.0</td><td style = \"text-align: right;\">0.0</td><td style = \"text-align: right;\">0.0</td><td style = \"text-align: right;\">0.0</td><td style = \"text-align: right;\">0.0</td><td style = \"text-align: right;\">0.0</td><td style = \"text-align: right;\">0.0</td><td style = \"text-align: right;\">0.0</td><td style = \"text-align: right;\">1.0</td><td style = \"text-align: right;\">0.0</td></tr><tr><td class = \"rowNumber\" style = \"font-weight: bold; text-align: right;\">13</td><td style = \"text-align: right;\">2014</td><td style = \"text-align: right;\">1.38629</td><td style = \"text-align: right;\">0.693147</td><td style = \"text-align: right;\">1.0</td><td style = \"text-align: right;\">0.0</td><td style = \"text-align: right;\">0.0</td><td style = \"text-align: right;\">0.0</td><td style = \"text-align: right;\">1.0</td><td style = \"text-align: right;\">0.0</td><td style = \"text-align: right;\">0.0</td><td style = \"text-align: right;\">0.0</td><td style = \"text-align: right;\">0.0</td><td style = \"text-align: right;\">1.0</td><td style = \"text-align: right;\">0.0</td><td style = \"text-align: right;\">0.0</td><td style = \"text-align: right;\">0.0</td><td style = \"text-align: right;\">0.0</td><td style = \"text-align: right;\">0.0</td><td style = \"text-align: right;\">0.0</td><td style = \"text-align: right;\">0.0</td><td style = \"text-align: right;\">1.0</td><td style = \"text-align: right;\">0.0</td></tr><tr><td style = \"text-align: right;\">&vellip;</td><td style = \"text-align: right;\">&vellip;</td><td style = \"text-align: right;\">&vellip;</td><td style = \"text-align: right;\">&vellip;</td><td style = \"text-align: right;\">&vellip;</td><td style = \"text-align: right;\">&vellip;</td><td style = \"text-align: right;\">&vellip;</td><td style = \"text-align: right;\">&vellip;</td><td style = \"text-align: right;\">&vellip;</td><td style = \"text-align: right;\">&vellip;</td><td style = \"text-align: right;\">&vellip;</td><td style = \"text-align: right;\">&vellip;</td><td style = \"text-align: right;\">&vellip;</td><td style = \"text-align: right;\">&vellip;</td><td style = \"text-align: right;\">&vellip;</td><td style = \"text-align: right;\">&vellip;</td><td style = \"text-align: right;\">&vellip;</td><td style = \"text-align: right;\">&vellip;</td><td style = \"text-align: right;\">&vellip;</td><td style = \"text-align: right;\">&vellip;</td><td style = \"text-align: right;\">&vellip;</td><td style = \"text-align: right;\">&vellip;</td><td style = \"text-align: right;\">&vellip;</td></tr><tr><td class = \"rowNumber\" style = \"font-weight: bold; text-align: right;\">139</td><td style = \"text-align: right;\">2023</td><td style = \"text-align: right;\">1.38629</td><td style = \"text-align: right;\">0.470004</td><td style = \"text-align: right;\">1.0</td><td style = \"text-align: right;\">0.0</td><td style = \"text-align: right;\">0.0</td><td style = \"text-align: right;\">0.0</td><td style = \"text-align: right;\">1.0</td><td style = \"text-align: right;\">0.0</td><td style = \"text-align: right;\">0.0</td><td style = \"text-align: right;\">0.0</td><td style = \"text-align: right;\">0.0</td><td style = \"text-align: right;\">1.0</td><td style = \"text-align: right;\">0.0</td><td style = \"text-align: right;\">0.0</td><td style = \"text-align: right;\">0.0</td><td style = \"text-align: right;\">0.0</td><td style = \"text-align: right;\">0.0</td><td style = \"text-align: right;\">0.0</td><td style = \"text-align: right;\">0.0</td><td style = \"text-align: right;\">1.0</td><td style = \"text-align: right;\">0.0</td></tr><tr><td class = \"rowNumber\" style = \"font-weight: bold; text-align: right;\">140</td><td style = \"text-align: right;\">2023</td><td style = \"text-align: right;\">1.79176</td><td style = \"text-align: right;\">1.19392</td><td style = \"text-align: right;\">1.0</td><td style = \"text-align: right;\">0.0</td><td style = \"text-align: right;\">0.0</td><td style = \"text-align: right;\">1.0</td><td style = \"text-align: right;\">0.0</td><td style = \"text-align: right;\">1.0</td><td style = \"text-align: right;\">0.0</td><td style = \"text-align: right;\">0.0</td><td style = \"text-align: right;\">0.0</td><td style = \"text-align: right;\">0.0</td><td style = \"text-align: right;\">0.0</td><td style = \"text-align: right;\">0.0</td><td style = \"text-align: right;\">0.0</td><td style = \"text-align: right;\">0.0</td><td style = \"text-align: right;\">0.0</td><td style = \"text-align: right;\">0.0</td><td style = \"text-align: right;\">0.0</td><td style = \"text-align: right;\">1.0</td><td style = \"text-align: right;\">0.0</td></tr><tr><td class = \"rowNumber\" style = \"font-weight: bold; text-align: right;\">141</td><td style = \"text-align: right;\">2024</td><td style = \"text-align: right;\">2.07944</td><td style = \"text-align: right;\">1.60944</td><td style = \"text-align: right;\">0.0</td><td style = \"text-align: right;\">0.0</td><td style = \"text-align: right;\">1.0</td><td style = \"text-align: right;\">1.0</td><td style = \"text-align: right;\">0.0</td><td style = \"text-align: right;\">0.0</td><td style = \"text-align: right;\">0.0</td><td style = \"text-align: right;\">0.0</td><td style = \"text-align: right;\">0.0</td><td style = \"text-align: right;\">0.0</td><td style = \"text-align: right;\">0.0</td><td style = \"text-align: right;\">0.0</td><td style = \"text-align: right;\">1.0</td><td style = \"text-align: right;\">0.0</td><td style = \"text-align: right;\">0.0</td><td style = \"text-align: right;\">0.0</td><td style = \"text-align: right;\">0.0</td><td style = \"text-align: right;\">1.0</td><td style = \"text-align: right;\">0.0</td></tr><tr><td class = \"rowNumber\" style = \"font-weight: bold; text-align: right;\">142</td><td style = \"text-align: right;\">2024</td><td style = \"text-align: right;\">1.38629</td><td style = \"text-align: right;\">0.693147</td><td style = \"text-align: right;\">1.0</td><td style = \"text-align: right;\">0.0</td><td style = \"text-align: right;\">0.0</td><td style = \"text-align: right;\">1.0</td><td style = \"text-align: right;\">0.0</td><td style = \"text-align: right;\">0.0</td><td style = \"text-align: right;\">0.0</td><td style = \"text-align: right;\">0.0</td><td style = \"text-align: right;\">0.0</td><td style = \"text-align: right;\">1.0</td><td style = \"text-align: right;\">0.0</td><td style = \"text-align: right;\">0.0</td><td style = \"text-align: right;\">0.0</td><td style = \"text-align: right;\">0.0</td><td style = \"text-align: right;\">0.0</td><td style = \"text-align: right;\">0.0</td><td style = \"text-align: right;\">0.0</td><td style = \"text-align: right;\">1.0</td><td style = \"text-align: right;\">0.0</td></tr><tr><td class = \"rowNumber\" style = \"font-weight: bold; text-align: right;\">143</td><td style = \"text-align: right;\">2024</td><td style = \"text-align: right;\">1.38629</td><td style = \"text-align: right;\">0.693147</td><td style = \"text-align: right;\">1.0</td><td style = \"text-align: right;\">0.0</td><td style = \"text-align: right;\">0.0</td><td style = \"text-align: right;\">0.0</td><td style = \"text-align: right;\">1.0</td><td style = \"text-align: right;\">0.0</td><td style = \"text-align: right;\">0.0</td><td style = \"text-align: right;\">0.0</td><td style = \"text-align: right;\">0.0</td><td style = \"text-align: right;\">1.0</td><td style = \"text-align: right;\">0.0</td><td style = \"text-align: right;\">0.0</td><td style = \"text-align: right;\">0.0</td><td style = \"text-align: right;\">0.0</td><td style = \"text-align: right;\">0.0</td><td style = \"text-align: right;\">0.0</td><td style = \"text-align: right;\">0.0</td><td style = \"text-align: right;\">1.0</td><td style = \"text-align: right;\">0.0</td></tr><tr><td class = \"rowNumber\" style = \"font-weight: bold; text-align: right;\">144</td><td style = \"text-align: right;\">2024</td><td style = \"text-align: right;\">1.38629</td><td style = \"text-align: right;\">0.470004</td><td style = \"text-align: right;\">1.0</td><td style = \"text-align: right;\">0.0</td><td style = \"text-align: right;\">0.0</td><td style = \"text-align: right;\">1.0</td><td style = \"text-align: right;\">0.0</td><td style = \"text-align: right;\">0.0</td><td style = \"text-align: right;\">0.0</td><td style = \"text-align: right;\">0.0</td><td style = \"text-align: right;\">0.0</td><td style = \"text-align: right;\">1.0</td><td style = \"text-align: right;\">0.0</td><td style = \"text-align: right;\">0.0</td><td style = \"text-align: right;\">0.0</td><td style = \"text-align: right;\">0.0</td><td style = \"text-align: right;\">0.0</td><td style = \"text-align: right;\">0.0</td><td style = \"text-align: right;\">0.0</td><td style = \"text-align: right;\">1.0</td><td style = \"text-align: right;\">0.0</td></tr><tr><td class = \"rowNumber\" style = \"font-weight: bold; text-align: right;\">145</td><td style = \"text-align: right;\">2024</td><td style = \"text-align: right;\">1.38629</td><td style = \"text-align: right;\">0.693147</td><td style = \"text-align: right;\">0.0</td><td style = \"text-align: right;\">1.0</td><td style = \"text-align: right;\">0.0</td><td style = \"text-align: right;\">1.0</td><td style = \"text-align: right;\">0.0</td><td style = \"text-align: right;\">0.0</td><td style = \"text-align: right;\">1.0</td><td style = \"text-align: right;\">0.0</td><td style = \"text-align: right;\">0.0</td><td style = \"text-align: right;\">0.0</td><td style = \"text-align: right;\">0.0</td><td style = \"text-align: right;\">0.0</td><td style = \"text-align: right;\">0.0</td><td style = \"text-align: right;\">0.0</td><td style = \"text-align: right;\">0.0</td><td style = \"text-align: right;\">0.0</td><td style = \"text-align: right;\">0.0</td><td style = \"text-align: right;\">1.0</td><td style = \"text-align: right;\">0.0</td></tr><tr><td class = \"rowNumber\" style = \"font-weight: bold; text-align: right;\">146</td><td style = \"text-align: right;\">2024</td><td style = \"text-align: right;\">1.38629</td><td style = \"text-align: right;\">0.693147</td><td style = \"text-align: right;\">0.0</td><td style = \"text-align: right;\">1.0</td><td style = \"text-align: right;\">0.0</td><td style = \"text-align: right;\">1.0</td><td style = \"text-align: right;\">0.0</td><td style = \"text-align: right;\">0.0</td><td style = \"text-align: right;\">1.0</td><td style = \"text-align: right;\">0.0</td><td style = \"text-align: right;\">0.0</td><td style = \"text-align: right;\">0.0</td><td style = \"text-align: right;\">0.0</td><td style = \"text-align: right;\">0.0</td><td style = \"text-align: right;\">0.0</td><td style = \"text-align: right;\">0.0</td><td style = \"text-align: right;\">0.0</td><td style = \"text-align: right;\">0.0</td><td style = \"text-align: right;\">0.0</td><td style = \"text-align: right;\">1.0</td><td style = \"text-align: right;\">0.0</td></tr><tr><td class = \"rowNumber\" style = \"font-weight: bold; text-align: right;\">147</td><td style = \"text-align: right;\">2024</td><td style = \"text-align: right;\">1.79176</td><td style = \"text-align: right;\">1.09861</td><td style = \"text-align: right;\">0.0</td><td style = \"text-align: right;\">1.0</td><td style = \"text-align: right;\">0.0</td><td style = \"text-align: right;\">1.0</td><td style = \"text-align: right;\">0.0</td><td style = \"text-align: right;\">0.0</td><td style = \"text-align: right;\">1.0</td><td style = \"text-align: right;\">0.0</td><td style = \"text-align: right;\">0.0</td><td style = \"text-align: right;\">0.0</td><td style = \"text-align: right;\">0.0</td><td style = \"text-align: right;\">0.0</td><td style = \"text-align: right;\">0.0</td><td style = \"text-align: right;\">0.0</td><td style = \"text-align: right;\">0.0</td><td style = \"text-align: right;\">0.0</td><td style = \"text-align: right;\">0.0</td><td style = \"text-align: right;\">0.0</td><td style = \"text-align: right;\">1.0</td></tr><tr><td class = \"rowNumber\" style = \"font-weight: bold; text-align: right;\">148</td><td style = \"text-align: right;\">2024</td><td style = \"text-align: right;\">1.79176</td><td style = \"text-align: right;\">1.09861</td><td style = \"text-align: right;\">0.0</td><td style = \"text-align: right;\">1.0</td><td style = \"text-align: right;\">0.0</td><td style = \"text-align: right;\">1.0</td><td style = \"text-align: right;\">0.0</td><td style = \"text-align: right;\">0.0</td><td style = \"text-align: right;\">1.0</td><td style = \"text-align: right;\">0.0</td><td style = \"text-align: right;\">0.0</td><td style = \"text-align: right;\">0.0</td><td style = \"text-align: right;\">0.0</td><td style = \"text-align: right;\">0.0</td><td style = \"text-align: right;\">0.0</td><td style = \"text-align: right;\">0.0</td><td style = \"text-align: right;\">0.0</td><td style = \"text-align: right;\">0.0</td><td style = \"text-align: right;\">0.0</td><td style = \"text-align: right;\">1.0</td><td style = \"text-align: right;\">0.0</td></tr><tr><td class = \"rowNumber\" style = \"font-weight: bold; text-align: right;\">149</td><td style = \"text-align: right;\">2024</td><td style = \"text-align: right;\">1.09861</td><td style = \"text-align: right;\">0.405465</td><td style = \"text-align: right;\">0.0</td><td style = \"text-align: right;\">1.0</td><td style = \"text-align: right;\">0.0</td><td style = \"text-align: right;\">0.0</td><td style = \"text-align: right;\">1.0</td><td style = \"text-align: right;\">0.0</td><td style = \"text-align: right;\">1.0</td><td style = \"text-align: right;\">0.0</td><td style = \"text-align: right;\">0.0</td><td style = \"text-align: right;\">0.0</td><td style = \"text-align: right;\">0.0</td><td style = \"text-align: right;\">0.0</td><td style = \"text-align: right;\">0.0</td><td style = \"text-align: right;\">0.0</td><td style = \"text-align: right;\">0.0</td><td style = \"text-align: right;\">0.0</td><td style = \"text-align: right;\">0.0</td><td style = \"text-align: right;\">0.0</td><td style = \"text-align: right;\">1.0</td></tr><tr><td class = \"rowNumber\" style = \"font-weight: bold; text-align: right;\">150</td><td style = \"text-align: right;\">2024</td><td style = \"text-align: right;\">1.38629</td><td style = \"text-align: right;\">0.693147</td><td style = \"text-align: right;\">0.0</td><td style = \"text-align: right;\">1.0</td><td style = \"text-align: right;\">0.0</td><td style = \"text-align: right;\">0.0</td><td style = \"text-align: right;\">1.0</td><td style = \"text-align: right;\">0.0</td><td style = \"text-align: right;\">1.0</td><td style = \"text-align: right;\">0.0</td><td style = \"text-align: right;\">0.0</td><td style = \"text-align: right;\">0.0</td><td style = \"text-align: right;\">0.0</td><td style = \"text-align: right;\">0.0</td><td style = \"text-align: right;\">0.0</td><td style = \"text-align: right;\">0.0</td><td style = \"text-align: right;\">0.0</td><td style = \"text-align: right;\">0.0</td><td style = \"text-align: right;\">0.0</td><td style = \"text-align: right;\">1.0</td><td style = \"text-align: right;\">0.0</td></tr></tbody></table></div>"
      ],
      "text/latex": [
       "\\begin{tabular}{r|cccccc}\n",
       "\t& annee & nombre\\_cylindres & cylindree & categorie\\_vehicule\\_petits\\_véhicules & categorie\\_vehicule\\_véhicules\\_moyens & \\\\\n",
       "\t\\hline\n",
       "\t& Int64 & Float64 & Float64 & Float64 & Float64 & \\\\\n",
       "\t\\hline\n",
       "\t1 & 2014 & 1.38629 & 0.916291 & 1.0 & 0.0 & $\\dots$ \\\\\n",
       "\t2 & 2014 & 1.38629 & 0.916291 & 1.0 & 0.0 & $\\dots$ \\\\\n",
       "\t3 & 2014 & 1.38629 & 0.916291 & 1.0 & 0.0 & $\\dots$ \\\\\n",
       "\t4 & 2014 & 1.38629 & 0.693147 & 1.0 & 0.0 & $\\dots$ \\\\\n",
       "\t5 & 2014 & 2.07944 & 1.75786 & 0.0 & 1.0 & $\\dots$ \\\\\n",
       "\t6 & 2014 & 2.07944 & 1.60944 & 0.0 & 1.0 & $\\dots$ \\\\\n",
       "\t7 & 2014 & 2.07944 & 1.60944 & 0.0 & 1.0 & $\\dots$ \\\\\n",
       "\t8 & 2014 & 1.38629 & 0.875469 & 1.0 & 0.0 & $\\dots$ \\\\\n",
       "\t9 & 2014 & 1.79176 & 1.25276 & 1.0 & 0.0 & $\\dots$ \\\\\n",
       "\t10 & 2014 & 2.30259 & 1.64866 & 0.0 & 0.0 & $\\dots$ \\\\\n",
       "\t11 & 2014 & 2.30259 & 1.64866 & 0.0 & 0.0 & $\\dots$ \\\\\n",
       "\t12 & 2014 & 2.48491 & 1.77495 & 0.0 & 1.0 & $\\dots$ \\\\\n",
       "\t13 & 2014 & 1.38629 & 0.693147 & 1.0 & 0.0 & $\\dots$ \\\\\n",
       "\t14 & 2014 & 1.38629 & 0.875469 & 1.0 & 0.0 & $\\dots$ \\\\\n",
       "\t15 & 2015 & 1.38629 & 0.916291 & 1.0 & 0.0 & $\\dots$ \\\\\n",
       "\t16 & 2015 & 1.79176 & 1.09861 & 1.0 & 0.0 & $\\dots$ \\\\\n",
       "\t17 & 2015 & 2.07944 & 1.66771 & 0.0 & 0.0 & $\\dots$ \\\\\n",
       "\t18 & 2015 & 2.07944 & 1.66771 & 0.0 & 0.0 & $\\dots$ \\\\\n",
       "\t19 & 2015 & 2.07944 & 1.66771 & 0.0 & 0.0 & $\\dots$ \\\\\n",
       "\t20 & 2015 & 2.07944 & 1.66771 & 0.0 & 0.0 & $\\dots$ \\\\\n",
       "\t21 & 2015 & 2.07944 & 1.82455 & 0.0 & 0.0 & $\\dots$ \\\\\n",
       "\t22 & 2015 & 2.07944 & 1.66771 & 0.0 & 0.0 & $\\dots$ \\\\\n",
       "\t23 & 2015 & 2.07944 & 1.66771 & 0.0 & 0.0 & $\\dots$ \\\\\n",
       "\t24 & 2015 & 2.07944 & 1.82455 & 0.0 & 0.0 & $\\dots$ \\\\\n",
       "\t$\\dots$ & $\\dots$ & $\\dots$ & $\\dots$ & $\\dots$ & $\\dots$ &  \\\\\n",
       "\\end{tabular}\n"
      ],
      "text/plain": [
       "\u001b[1m150×22 DataFrame\u001b[0m\n",
       "\u001b[1m Row \u001b[0m│\u001b[1m annee \u001b[0m\u001b[1m nombre_cylindres \u001b[0m\u001b[1m cylindree \u001b[0m\u001b[1m categorie_vehicule_petits_véhicules\u001b[0m ⋯\n",
       "     │\u001b[90m Int64 \u001b[0m\u001b[90m Float64          \u001b[0m\u001b[90m Float64   \u001b[0m\u001b[90m Float64                            \u001b[0m ⋯\n",
       "─────┼──────────────────────────────────────────────────────────────────────────\n",
       "   1 │  2014           1.38629   0.916291                                  1.0 ⋯\n",
       "   2 │  2014           1.38629   0.916291                                  1.0\n",
       "   3 │  2014           1.38629   0.916291                                  1.0\n",
       "   4 │  2014           1.38629   0.693147                                  1.0\n",
       "   5 │  2014           2.07944   1.75786                                   0.0 ⋯\n",
       "   6 │  2014           2.07944   1.60944                                   0.0\n",
       "   7 │  2014           2.07944   1.60944                                   0.0\n",
       "   8 │  2014           1.38629   0.875469                                  1.0\n",
       "  ⋮  │   ⋮           ⋮              ⋮                       ⋮                  ⋱\n",
       " 144 │  2024           1.38629   0.470004                                  1.0 ⋯\n",
       " 145 │  2024           1.38629   0.693147                                  0.0\n",
       " 146 │  2024           1.38629   0.693147                                  0.0\n",
       " 147 │  2024           1.79176   1.09861                                   0.0\n",
       " 148 │  2024           1.79176   1.09861                                   0.0 ⋯\n",
       " 149 │  2024           1.09861   0.405465                                  0.0\n",
       " 150 │  2024           1.38629   0.693147                                  0.0\n",
       "\u001b[36m                                                 18 columns and 135 rows omitted\u001b[0m"
      ]
     },
     "metadata": {},
     "output_type": "display_data"
    }
   ],
   "source": [
    "# Define categorical columns\n",
    "categorical_cols = [:categorie_vehicule, :transmission, :type, :boite]\n",
    "\n",
    "# Collect unique levels from the training set\n",
    "levels_dict = Dict()\n",
    "for col in categorical_cols\n",
    "    levels_dict[col] = unique(train[!, col])\n",
    "end\n",
    "\n",
    "train = one_hot_encode(train, categorical_cols, levels_dict)\n",
    "valid = one_hot_encode(valid, categorical_cols, levels_dict)\n",
    "test = one_hot_encode(test, categorical_cols, levels_dict)"
   ]
  },
  {
   "cell_type": "code",
   "execution_count": null,
   "metadata": {},
   "outputs": [
    {
     "data": {
      "text/plain": [
       "150×22 Matrix{Float64}:\n",
       " 2014.0  1.38629  0.916291  1.0  0.0  …  0.0  0.0  0.0  0.0  0.0  0.0  1.0\n",
       " 2014.0  1.38629  0.916291  1.0  0.0     0.0  0.0  0.0  0.0  0.0  1.0  0.0\n",
       " 2014.0  1.38629  0.916291  1.0  0.0     0.0  0.0  0.0  0.0  0.0  1.0  0.0\n",
       " 2014.0  1.38629  0.693147  1.0  0.0     0.0  0.0  0.0  0.0  0.0  1.0  0.0\n",
       " 2014.0  2.07944  1.75786   0.0  1.0     0.0  0.0  0.0  0.0  0.0  0.0  1.0\n",
       " 2014.0  2.07944  1.60944   0.0  1.0  …  0.0  0.0  0.0  0.0  0.0  1.0  0.0\n",
       " 2014.0  2.07944  1.60944   0.0  1.0     0.0  0.0  0.0  0.0  0.0  0.0  1.0\n",
       " 2014.0  1.38629  0.875469  1.0  0.0     0.0  0.0  0.0  0.0  0.0  1.0  0.0\n",
       " 2014.0  1.79176  1.25276   1.0  0.0     0.0  0.0  0.0  0.0  0.0  1.0  0.0\n",
       " 2014.0  2.30259  1.64866   0.0  0.0     1.0  0.0  0.0  0.0  0.0  0.0  1.0\n",
       "    ⋮                                 ⋱  ⋮                        ⋮    \n",
       " 2024.0  1.38629  0.693147  1.0  0.0     0.0  0.0  0.0  0.0  0.0  1.0  0.0\n",
       " 2024.0  1.38629  0.693147  1.0  0.0     0.0  0.0  0.0  0.0  0.0  1.0  0.0\n",
       " 2024.0  1.38629  0.470004  1.0  0.0     0.0  0.0  0.0  0.0  0.0  1.0  0.0\n",
       " 2024.0  1.38629  0.693147  0.0  1.0     0.0  0.0  0.0  0.0  0.0  1.0  0.0\n",
       " 2024.0  1.38629  0.693147  0.0  1.0  …  0.0  0.0  0.0  0.0  0.0  1.0  0.0\n",
       " 2024.0  1.79176  1.09861   0.0  1.0     0.0  0.0  0.0  0.0  0.0  0.0  1.0\n",
       " 2024.0  1.79176  1.09861   0.0  1.0     0.0  0.0  0.0  0.0  0.0  1.0  0.0\n",
       " 2024.0  1.09861  0.405465  0.0  1.0     0.0  0.0  0.0  0.0  0.0  0.0  1.0\n",
       " 2024.0  1.38629  0.693147  0.0  1.0     0.0  0.0  0.0  0.0  0.0  1.0  0.0"
      ]
     },
     "metadata": {},
     "output_type": "display_data"
    }
   ],
   "source": [
    "# target = :consommation\n",
    "\n",
    "# # Define the feature matrix and target vector\n",
    "# X_train = Matrix(train[:, Not([target])])\n",
    "# X_train = hcat(ones(size(X_train, 1)), X_train)\n",
    "# y_train = train[!, target]\n",
    "# X_valid = Matrix(valid[:, Not([target])])\n",
    "# X_valid = hcat(ones(size(X_valid, 1)), X_valid)\n",
    "# y_valid = valid[!, target]\n",
    "# X_test = Matrix(test)"
   ]
  },
  {
   "cell_type": "markdown",
   "metadata": {},
   "source": [
    "D'après nos différentes analyses que vous trouverez dans la suite du calepin, nous avons trouvé que ce modèle était le plus performant. Nous avons donc décidé de l'utiliser pour prédire la consommation d'essence de l'ensemble de validation. Selon les résultats du modèle, la variable cylindrée est la plus importante pour prédire la consommation d'essence, et les autres variables beaucoup plus faibles. Par contre, le coefficients sont statistiquement significatifs pour toutes les variables explicatives explicative. "
   ]
  },
  {
   "cell_type": "code",
   "execution_count": 90,
   "metadata": {},
   "outputs": [
    {
     "data": {
      "text/plain": [
       "StatsModels.TableRegressionModel{LinearModel{GLM.LmResp{Vector{Float64}}, GLM.DensePredChol{Float64, CholeskyPivoted{Float64, Matrix{Float64}, Vector{Int64}}}}, Matrix{Float64}}\n",
       "\n",
       "consommation ~ 1 + transmission_traction + categorie_vehicule_petits_véhicules + categorie_vehicule_véhicules_moyens + cylindree\n",
       "\n",
       "Coefficients:\n",
       "──────────────────────────────────────────────────────────────────────────────────────────────────\n",
       "                                         Coef.  Std. Error      t  Pr(>|t|)  Lower 95%   Upper 95%\n",
       "──────────────────────────────────────────────────────────────────────────────────────────────────\n",
       "(Intercept)                           6.96214     0.292096  23.84    <1e-69   6.38724    7.53704\n",
       "transmission_traction                -0.795406    0.139296  -5.71    <1e-07  -1.06957   -0.521247\n",
       "categorie_vehicule_petits_véhicules  -0.361915    0.170949  -2.12    0.0351  -0.698372  -0.0254579\n",
       "categorie_vehicule_véhicules_moyens  -0.429857    0.191362  -2.25    0.0254  -0.806492  -0.0532227\n",
       "cylindree                             4.01164     0.194153  20.66    <1e-58   3.62951    4.39377\n",
       "──────────────────────────────────────────────────────────────────────────────────────────────────"
      ]
     },
     "metadata": {},
     "output_type": "display_data"
    }
   ],
   "source": [
    "model = lm(@formula(consommation ~ transmission_traction + categorie_vehicule_petits_véhicules + categorie_vehicule_véhicules_moyens + cylindree), train)"
   ]
  },
  {
   "cell_type": "markdown",
   "metadata": {},
   "source": [
    "Comme la taille de l'échantillon n'est pas très grande, on souhaite optimiser la validation pour maximiser l'information qu'on extrait des données. En partitionnant les données en 10 blocs, on peut s'assurer que chaque bloc est utilisé pour l'entraînement et la validation. On peut donc s'attendre à une meilleure généralisation du modèle. Avec 10 blocs, nous obtenons de meilleurs résultats que pour 5 blocs, mais nous n'obtenons pas de meilleurs résultats que lors d'une simple validation sur 20% des données. Cela dit, nous avons quand même décicé de conserver les deux types de validation pour pouvoir être certain de la conclusion tiré sur sur la validité de la technique étudiée."
   ]
  },
  {
   "cell_type": "code",
   "execution_count": 91,
   "metadata": {},
   "outputs": [
    {
     "name": "stdout",
     "output_type": "stream",
     "text": [
      "Moyenne RMSE k-fold : 0.8963296008359116\n"
     ]
    }
   ],
   "source": [
    "\n",
    "data_k_folds = vcat(train, valid)\n",
    "y = data_k_folds.consommation\n",
    "X = select(data_k_folds, Not(:consommation))\n",
    "\n",
    "n = nrow(data_k_folds)\n",
    "k = 10 # meilleur que 5\n",
    "fold_size = n ÷ k\n",
    "\n",
    "indices = randperm(n)\n",
    "\n",
    "rms_scores = []\n",
    "\n",
    "for i in 0:(k-1)\n",
    "    valid_indices = (i * fold_size + 1):((i + 1) * fold_size)\n",
    "    train_indices = setdiff(1:n, valid_indices)\n",
    "    \n",
    "    X_train = X[train_indices, :]\n",
    "    y_train = y[train_indices]\n",
    "    X_valid = X[valid_indices, :]\n",
    "    y_valid = y[valid_indices]\n",
    "\n",
    "    model = lm(@formula(consommation ~ transmission_traction + categorie_vehicule_petits_véhicules + categorie_vehicule_véhicules_moyens + cylindree), data_k_folds) #Meilleur\n",
    "    \n",
    "    ŷ_valid = GLM.predict(model, X_valid)\n",
    "    rms = sqrt(mean((ŷ_valid .- y_valid).^2))\n",
    "    push!(rms_scores, rms)\n",
    "end\n",
    "\n",
    "moyenne_rmse = mean(rms_scores)\n",
    "println(\"Moyenne RMSE k-fold : $moyenne_rmse\")"
   ]
  },
  {
   "cell_type": "markdown",
   "metadata": {},
   "source": [
    "Nous procédons maintenant à la prédiction de la consommation d'essence pour l'ensemble de validation et l'évaluation du RMSE pour ce modèle. Selon les résultats, le rmse du validation set est beaucoup plus bas que celui du training set, avec environ .12 de différence. Pour nous, il est difficle d'interpréter ces résultats. Nous pourrions poser l'hypothèse que le modèle généralise bien le données, mais ce grand écart pourrait probablement être dû à un sous-apprentissage. Si nous analysons le nuage de point \"Residuals vs Predicted values\", il est porté à notre attention que notre modèle performe relativement bien dans les consommations sous 9.5L/100km, et pour les consommations entre 10.5 et 11.5L/100km. Par contre, les valeurs prédites entre 9.5 et 10.5 semblent sous-estimer la valeur réelle et nous observons le même résultat autour de 14. Autrement, certaines sur-estimations sont aussi observées, mais les résidus semblent moins important. En général, la distribution des résidus semble être centré autour de 0 et le nuage ne montre pas de tendance spécifique. Bref, les performances étonnantes de notre modèle montre qu'il pourrait ne pas être assez complexe pour capter les différentes nuances des données. Cela expliquerait nos faibles résultats sur Kaggle et nous pousse à explorer d'autres modèles plus complexes."
   ]
  },
  {
   "cell_type": "code",
   "execution_count": 92,
   "metadata": {},
   "outputs": [
    {
     "name": "stdout",
     "output_type": "stream",
     "text": [
      "RMSE on the training set: 0.9472552007279016\n",
      "RMSE on the validation set: 0.8237667855439761\n"
     ]
    },
    {
     "data": {
      "image/png": "[encoded data removed]",
      "image/svg+xml": [
       "<?xml version=\"1.0\" encoding=\"utf-8\"?>\n",
       "<svg xmlns=\"http://www.w3.org/2000/svg\" xmlns:xlink=\"http://www.w3.org/1999/xlink\" width=\"600\" height=\"400\" viewBox=\"0 0 2400 1600\">\n",
       "<defs>\n",
       "  <clipPath id=\"clip760\">\n",
       "    <rect x=\"0\" y=\"0\" width=\"2400\" height=\"1600\"/>\n",
       "  </clipPath>\n",
       "</defs>\n",
       "<path clip-path=\"url(#clip760)\" d=\"M0 1600 L2400 1600 L2400 0 L0 0  Z\" fill=\"#ffffff\" fill-rule=\"evenodd\" fill-opacity=\"1\"/>\n",
       "<defs>\n",
       "  <clipPath id=\"clip761\">\n",
       "    <rect x=\"480\" y=\"0\" width=\"1681\" height=\"1600\"/>\n",
       "  </clipPath>\n",
       "</defs>\n",
       "<path clip-path=\"url(#clip760)\" d=\"M210.746 1423.18 L2352.76 1423.18 L2352.76 123.472 L210.746 123.472  Z\" fill=\"#ffffff\" fill-rule=\"evenodd\" fill-opacity=\"1\"/>\n",
       "<defs>\n",
       "  <clipPath id=\"clip762\">\n",
       "    <rect x=\"210\" y=\"123\" width=\"2143\" height=\"1301\"/>\n",
       "  </clipPath>\n",
       "</defs>\n",
       "<polyline clip-path=\"url(#clip762)\" style=\"stroke:#000000; stroke-linecap:round; stroke-linejoin:round; stroke-width:2; stroke-opacity:0.1; fill:none\" points=\"222.269,1423.18 222.269,123.472 \"/>\n",
       "<polyline clip-path=\"url(#clip762)\" style=\"stroke:#000000; stroke-linecap:round; stroke-linejoin:round; stroke-width:2; stroke-opacity:0.1; fill:none\" points=\"505.355,1423.18 505.355,123.472 \"/>\n",
       "<polyline clip-path=\"url(#clip762)\" style=\"stroke:#000000; stroke-linecap:round; stroke-linejoin:round; stroke-width:2; stroke-opacity:0.1; fill:none\" points=\"788.441,1423.18 788.441,123.472 \"/>\n",
       "<polyline clip-path=\"url(#clip762)\" style=\"stroke:#000000; stroke-linecap:round; stroke-linejoin:round; stroke-width:2; stroke-opacity:0.1; fill:none\" points=\"1071.53,1423.18 1071.53,123.472 \"/>\n",
       "<polyline clip-path=\"url(#clip762)\" style=\"stroke:#000000; stroke-linecap:round; stroke-linejoin:round; stroke-width:2; stroke-opacity:0.1; fill:none\" points=\"1354.61,1423.18 1354.61,123.472 \"/>\n",
       "<polyline clip-path=\"url(#clip762)\" style=\"stroke:#000000; stroke-linecap:round; stroke-linejoin:round; stroke-width:2; stroke-opacity:0.1; fill:none\" points=\"1637.7,1423.18 1637.7,123.472 \"/>\n",
       "<polyline clip-path=\"url(#clip762)\" style=\"stroke:#000000; stroke-linecap:round; stroke-linejoin:round; stroke-width:2; stroke-opacity:0.1; fill:none\" points=\"1920.79,1423.18 1920.79,123.472 \"/>\n",
       "<polyline clip-path=\"url(#clip762)\" style=\"stroke:#000000; stroke-linecap:round; stroke-linejoin:round; stroke-width:2; stroke-opacity:0.1; fill:none\" points=\"2203.87,1423.18 2203.87,123.472 \"/>\n",
       "<polyline clip-path=\"url(#clip762)\" style=\"stroke:#000000; stroke-linecap:round; stroke-linejoin:round; stroke-width:2; stroke-opacity:0.1; fill:none\" points=\"210.746,1203.05 2352.76,1203.05 \"/>\n",
       "<polyline clip-path=\"url(#clip762)\" style=\"stroke:#000000; stroke-linecap:round; stroke-linejoin:round; stroke-width:2; stroke-opacity:0.1; fill:none\" points=\"210.746,917.062 2352.76,917.062 \"/>\n",
       "<polyline clip-path=\"url(#clip762)\" style=\"stroke:#000000; stroke-linecap:round; stroke-linejoin:round; stroke-width:2; stroke-opacity:0.1; fill:none\" points=\"210.746,631.077 2352.76,631.077 \"/>\n",
       "<polyline clip-path=\"url(#clip762)\" style=\"stroke:#000000; stroke-linecap:round; stroke-linejoin:round; stroke-width:2; stroke-opacity:0.1; fill:none\" points=\"210.746,345.092 2352.76,345.092 \"/>\n",
       "<polyline clip-path=\"url(#clip760)\" style=\"stroke:#000000; stroke-linecap:round; stroke-linejoin:round; stroke-width:4; stroke-opacity:1; fill:none\" points=\"210.746,1423.18 2352.76,1423.18 \"/>\n",
       "<polyline clip-path=\"url(#clip760)\" style=\"stroke:#000000; stroke-linecap:round; stroke-linejoin:round; stroke-width:4; stroke-opacity:1; fill:none\" points=\"222.269,1423.18 222.269,1404.28 \"/>\n",
       "<polyline clip-path=\"url(#clip760)\" style=\"stroke:#000000; stroke-linecap:round; stroke-linejoin:round; stroke-width:4; stroke-opacity:1; fill:none\" points=\"505.355,1423.18 505.355,1404.28 \"/>\n",
       "<polyline clip-path=\"url(#clip760)\" style=\"stroke:#000000; stroke-linecap:round; stroke-linejoin:round; stroke-width:4; stroke-opacity:1; fill:none\" points=\"788.441,1423.18 788.441,1404.28 \"/>\n",
       "<polyline clip-path=\"url(#clip760)\" style=\"stroke:#000000; stroke-linecap:round; stroke-linejoin:round; stroke-width:4; stroke-opacity:1; fill:none\" points=\"1071.53,1423.18 1071.53,1404.28 \"/>\n",
       "<polyline clip-path=\"url(#clip760)\" style=\"stroke:#000000; stroke-linecap:round; stroke-linejoin:round; stroke-width:4; stroke-opacity:1; fill:none\" points=\"1354.61,1423.18 1354.61,1404.28 \"/>\n",
       "<polyline clip-path=\"url(#clip760)\" style=\"stroke:#000000; stroke-linecap:round; stroke-linejoin:round; stroke-width:4; stroke-opacity:1; fill:none\" points=\"1637.7,1423.18 1637.7,1404.28 \"/>\n",
       "<polyline clip-path=\"url(#clip760)\" style=\"stroke:#000000; stroke-linecap:round; stroke-linejoin:round; stroke-width:4; stroke-opacity:1; fill:none\" points=\"1920.79,1423.18 1920.79,1404.28 \"/>\n",
       "<polyline clip-path=\"url(#clip760)\" style=\"stroke:#000000; stroke-linecap:round; stroke-linejoin:round; stroke-width:4; stroke-opacity:1; fill:none\" points=\"2203.87,1423.18 2203.87,1404.28 \"/>\n",
       "<path clip-path=\"url(#clip760)\" d=\"M211.158 1451.02 L233.38 1451.02 L233.38 1453.01 L220.833 1485.58 L215.949 1485.58 L227.755 1454.96 L211.158 1454.96 L211.158 1451.02 Z\" fill=\"#000000\" fill-rule=\"nonzero\" fill-opacity=\"1\" /><path clip-path=\"url(#clip760)\" d=\"M505.355 1469.17 Q502.022 1469.17 500.1 1470.95 Q498.202 1472.73 498.202 1475.86 Q498.202 1478.98 500.1 1480.77 Q502.022 1482.55 505.355 1482.55 Q508.688 1482.55 510.609 1480.77 Q512.531 1478.96 512.531 1475.86 Q512.531 1472.73 510.609 1470.95 Q508.711 1469.17 505.355 1469.17 M500.679 1467.18 Q497.67 1466.44 495.98 1464.38 Q494.313 1462.32 494.313 1459.35 Q494.313 1455.21 497.253 1452.8 Q500.216 1450.39 505.355 1450.39 Q510.517 1450.39 513.457 1452.8 Q516.396 1455.21 516.396 1459.35 Q516.396 1462.32 514.707 1464.38 Q513.04 1466.44 510.054 1467.18 Q513.433 1467.96 515.308 1470.26 Q517.207 1472.55 517.207 1475.86 Q517.207 1480.88 514.128 1483.57 Q511.072 1486.25 505.355 1486.25 Q499.637 1486.25 496.559 1483.57 Q493.503 1480.88 493.503 1475.86 Q493.503 1472.55 495.401 1470.26 Q497.299 1467.96 500.679 1467.18 M498.966 1459.79 Q498.966 1462.48 500.633 1463.98 Q502.322 1465.49 505.355 1465.49 Q508.364 1465.49 510.054 1463.98 Q511.767 1462.48 511.767 1459.79 Q511.767 1457.11 510.054 1455.6 Q508.364 1454.1 505.355 1454.1 Q502.322 1454.1 500.633 1455.6 Q498.966 1457.11 498.966 1459.79 Z\" fill=\"#000000\" fill-rule=\"nonzero\" fill-opacity=\"1\" /><path clip-path=\"url(#clip760)\" d=\"M778.742 1484.86 L778.742 1480.6 Q780.501 1481.44 782.307 1481.88 Q784.112 1482.32 785.849 1482.32 Q790.478 1482.32 792.909 1479.21 Q795.362 1476.09 795.71 1469.75 Q794.367 1471.74 792.307 1472.8 Q790.247 1473.87 787.747 1473.87 Q782.561 1473.87 779.529 1470.74 Q776.52 1467.59 776.52 1462.15 Q776.52 1456.83 779.668 1453.61 Q782.816 1450.39 788.048 1450.39 Q794.043 1450.39 797.191 1455 Q800.362 1459.58 800.362 1468.33 Q800.362 1476.51 796.473 1481.39 Q792.608 1486.25 786.057 1486.25 Q784.298 1486.25 782.492 1485.9 Q780.687 1485.56 778.742 1484.86 M788.048 1470.21 Q791.196 1470.21 793.024 1468.06 Q794.876 1465.9 794.876 1462.15 Q794.876 1458.43 793.024 1456.27 Q791.196 1454.1 788.048 1454.1 Q784.899 1454.1 783.048 1456.27 Q781.219 1458.43 781.219 1462.15 Q781.219 1465.9 783.048 1468.06 Q784.899 1470.21 788.048 1470.21 Z\" fill=\"#000000\" fill-rule=\"nonzero\" fill-opacity=\"1\" /><path clip-path=\"url(#clip760)\" d=\"M1046.21 1481.64 L1053.85 1481.64 L1053.85 1455.28 L1045.54 1456.95 L1045.54 1452.69 L1053.81 1451.02 L1058.48 1451.02 L1058.48 1481.64 L1066.12 1481.64 L1066.12 1485.58 L1046.21 1485.58 L1046.21 1481.64 Z\" fill=\"#000000\" fill-rule=\"nonzero\" fill-opacity=\"1\" /><path clip-path=\"url(#clip760)\" d=\"M1085.57 1454.1 Q1081.96 1454.1 1080.13 1457.66 Q1078.32 1461.2 1078.32 1468.33 Q1078.32 1475.44 1080.13 1479.01 Q1081.96 1482.55 1085.57 1482.55 Q1089.2 1482.55 1091.01 1479.01 Q1092.84 1475.44 1092.84 1468.33 Q1092.84 1461.2 1091.01 1457.66 Q1089.2 1454.1 1085.57 1454.1 M1085.57 1450.39 Q1091.38 1450.39 1094.43 1455 Q1097.51 1459.58 1097.51 1468.33 Q1097.51 1477.06 1094.43 1481.67 Q1091.38 1486.25 1085.57 1486.25 Q1079.76 1486.25 1076.68 1481.67 Q1073.62 1477.06 1073.62 1468.33 Q1073.62 1459.58 1076.68 1455 Q1079.76 1450.39 1085.57 1450.39 Z\" fill=\"#000000\" fill-rule=\"nonzero\" fill-opacity=\"1\" /><path clip-path=\"url(#clip760)\" d=\"M1329.91 1481.64 L1337.55 1481.64 L1337.55 1455.28 L1329.24 1456.95 L1329.24 1452.69 L1337.51 1451.02 L1342.18 1451.02 L1342.18 1481.64 L1349.82 1481.64 L1349.82 1485.58 L1329.91 1485.58 L1329.91 1481.64 Z\" fill=\"#000000\" fill-rule=\"nonzero\" fill-opacity=\"1\" /><path clip-path=\"url(#clip760)\" d=\"M1360.08 1481.64 L1367.72 1481.64 L1367.72 1455.28 L1359.41 1456.95 L1359.41 1452.69 L1367.67 1451.02 L1372.34 1451.02 L1372.34 1481.64 L1379.98 1481.64 L1379.98 1485.58 L1360.08 1485.58 L1360.08 1481.64 Z\" fill=\"#000000\" fill-rule=\"nonzero\" fill-opacity=\"1\" /><path clip-path=\"url(#clip760)\" d=\"M1613.19 1481.64 L1620.82 1481.64 L1620.82 1455.28 L1612.51 1456.95 L1612.51 1452.69 L1620.78 1451.02 L1625.45 1451.02 L1625.45 1481.64 L1633.09 1481.64 L1633.09 1485.58 L1613.19 1485.58 L1613.19 1481.64 Z\" fill=\"#000000\" fill-rule=\"nonzero\" fill-opacity=\"1\" /><path clip-path=\"url(#clip760)\" d=\"M1646.57 1481.64 L1662.88 1481.64 L1662.88 1485.58 L1640.94 1485.58 L1640.94 1481.64 Q1643.6 1478.89 1648.19 1474.26 Q1652.79 1469.61 1653.97 1468.27 Q1656.22 1465.74 1657.1 1464.01 Q1658 1462.25 1658 1460.56 Q1658 1457.8 1656.06 1456.07 Q1654.13 1454.33 1651.03 1454.33 Q1648.83 1454.33 1646.38 1455.09 Q1643.95 1455.86 1641.17 1457.41 L1641.17 1452.69 Q1644 1451.55 1646.45 1450.97 Q1648.9 1450.39 1650.94 1450.39 Q1656.31 1450.39 1659.51 1453.08 Q1662.7 1455.77 1662.7 1460.26 Q1662.7 1462.39 1661.89 1464.31 Q1661.1 1466.2 1659 1468.8 Q1658.42 1469.47 1655.32 1472.69 Q1652.21 1475.88 1646.57 1481.64 Z\" fill=\"#000000\" fill-rule=\"nonzero\" fill-opacity=\"1\" /><path clip-path=\"url(#clip760)\" d=\"M1895.8 1481.64 L1903.44 1481.64 L1903.44 1455.28 L1895.13 1456.95 L1895.13 1452.69 L1903.39 1451.02 L1908.07 1451.02 L1908.07 1481.64 L1915.71 1481.64 L1915.71 1485.58 L1895.8 1485.58 L1895.8 1481.64 Z\" fill=\"#000000\" fill-rule=\"nonzero\" fill-opacity=\"1\" /><path clip-path=\"url(#clip760)\" d=\"M1939.32 1466.95 Q1942.67 1467.66 1944.55 1469.93 Q1946.45 1472.2 1946.45 1475.53 Q1946.45 1480.65 1942.93 1483.45 Q1939.41 1486.25 1932.93 1486.25 Q1930.75 1486.25 1928.44 1485.81 Q1926.14 1485.39 1923.69 1484.54 L1923.69 1480.02 Q1925.64 1481.16 1927.95 1481.74 Q1930.27 1482.32 1932.79 1482.32 Q1937.19 1482.32 1939.48 1480.58 Q1941.79 1478.84 1941.79 1475.53 Q1941.79 1472.48 1939.64 1470.77 Q1937.51 1469.03 1933.69 1469.03 L1929.66 1469.03 L1929.66 1465.19 L1933.88 1465.19 Q1937.33 1465.19 1939.15 1463.82 Q1940.98 1462.43 1940.98 1459.84 Q1940.98 1457.18 1939.08 1455.77 Q1937.21 1454.33 1933.69 1454.33 Q1931.77 1454.33 1929.57 1454.75 Q1927.37 1455.16 1924.73 1456.04 L1924.73 1451.88 Q1927.39 1451.14 1929.71 1450.77 Q1932.05 1450.39 1934.11 1450.39 Q1939.43 1450.39 1942.53 1452.83 Q1945.64 1455.23 1945.64 1459.35 Q1945.64 1462.22 1943.99 1464.21 Q1942.35 1466.18 1939.32 1466.95 Z\" fill=\"#000000\" fill-rule=\"nonzero\" fill-opacity=\"1\" /><path clip-path=\"url(#clip760)\" d=\"M2178.32 1481.64 L2185.96 1481.64 L2185.96 1455.28 L2177.65 1456.95 L2177.65 1452.69 L2185.91 1451.02 L2190.59 1451.02 L2190.59 1481.64 L2198.22 1481.64 L2198.22 1485.58 L2178.32 1485.58 L2178.32 1481.64 Z\" fill=\"#000000\" fill-rule=\"nonzero\" fill-opacity=\"1\" /><path clip-path=\"url(#clip760)\" d=\"M2220.52 1455.09 L2208.71 1473.54 L2220.52 1473.54 L2220.52 1455.09 M2219.29 1451.02 L2225.17 1451.02 L2225.17 1473.54 L2230.1 1473.54 L2230.1 1477.43 L2225.17 1477.43 L2225.17 1485.58 L2220.52 1485.58 L2220.52 1477.43 L2204.91 1477.43 L2204.91 1472.92 L2219.29 1451.02 Z\" fill=\"#000000\" fill-rule=\"nonzero\" fill-opacity=\"1\" /><path clip-path=\"url(#clip760)\" d=\"M1023.61 1525.81 L1023.61 1543.66 L1031.69 1543.66 Q1036.18 1543.66 1038.63 1541.34 Q1041.08 1539.02 1041.08 1534.72 Q1041.08 1530.45 1038.63 1528.13 Q1036.18 1525.81 1031.69 1525.81 L1023.61 1525.81 M1017.18 1520.52 L1031.69 1520.52 Q1039.68 1520.52 1043.75 1524.15 Q1047.86 1527.75 1047.86 1534.72 Q1047.86 1541.75 1043.75 1545.35 Q1039.68 1548.95 1031.69 1548.95 L1023.61 1548.95 L1023.61 1568.04 L1017.18 1568.04 L1017.18 1520.52 Z\" fill=\"#000000\" fill-rule=\"nonzero\" fill-opacity=\"1\" /><path clip-path=\"url(#clip760)\" d=\"M1075.74 1537.87 Q1074.75 1537.3 1073.58 1537.04 Q1072.43 1536.76 1071.03 1536.76 Q1066.06 1536.76 1063.39 1540 Q1060.75 1543.22 1060.75 1549.27 L1060.75 1568.04 L1054.86 1568.04 L1054.86 1532.4 L1060.75 1532.4 L1060.75 1537.93 Q1062.6 1534.69 1065.56 1533.13 Q1068.52 1531.54 1072.75 1531.54 Q1073.35 1531.54 1074.09 1531.63 Q1074.82 1531.7 1075.71 1531.85 L1075.74 1537.87 Z\" fill=\"#000000\" fill-rule=\"nonzero\" fill-opacity=\"1\" /><path clip-path=\"url(#clip760)\" d=\"M1110.94 1548.76 L1110.94 1551.62 L1084.02 1551.62 Q1084.4 1557.67 1087.64 1560.85 Q1090.92 1564 1096.75 1564 Q1100.12 1564 1103.27 1563.17 Q1106.46 1562.35 1109.57 1560.69 L1109.57 1566.23 Q1106.42 1567.57 1103.11 1568.27 Q1099.8 1568.97 1096.4 1568.97 Q1087.87 1568.97 1082.87 1564 Q1077.91 1559.04 1077.91 1550.57 Q1077.91 1541.82 1082.62 1536.69 Q1087.36 1531.54 1095.38 1531.54 Q1102.57 1531.54 1106.74 1536.18 Q1110.94 1540.8 1110.94 1548.76 M1105.09 1547.04 Q1105.02 1542.23 1102.38 1539.37 Q1099.77 1536.5 1095.44 1536.5 Q1090.54 1536.5 1087.58 1539.27 Q1084.65 1542.04 1084.21 1547.07 L1105.09 1547.04 Z\" fill=\"#000000\" fill-rule=\"nonzero\" fill-opacity=\"1\" /><path clip-path=\"url(#clip760)\" d=\"M1144.01 1537.81 L1144.01 1518.52 L1149.87 1518.52 L1149.87 1568.04 L1144.01 1568.04 L1144.01 1562.7 Q1142.17 1565.88 1139.33 1567.44 Q1136.53 1568.97 1132.59 1568.97 Q1126.13 1568.97 1122.05 1563.81 Q1118.01 1558.65 1118.01 1550.25 Q1118.01 1541.85 1122.05 1536.69 Q1126.13 1531.54 1132.59 1531.54 Q1136.53 1531.54 1139.33 1533.1 Q1142.17 1534.62 1144.01 1537.81 M1124.06 1550.25 Q1124.06 1556.71 1126.7 1560.4 Q1129.37 1564.07 1134.02 1564.07 Q1138.67 1564.07 1141.34 1560.4 Q1144.01 1556.71 1144.01 1550.25 Q1144.01 1543.79 1141.34 1540.13 Q1138.67 1536.44 1134.02 1536.44 Q1129.37 1536.44 1126.7 1540.13 Q1124.06 1543.79 1124.06 1550.25 Z\" fill=\"#000000\" fill-rule=\"nonzero\" fill-opacity=\"1\" /><path clip-path=\"url(#clip760)\" d=\"M1161.93 1532.4 L1167.79 1532.4 L1167.79 1568.04 L1161.93 1568.04 L1161.93 1532.4 M1161.93 1518.52 L1167.79 1518.52 L1167.79 1525.93 L1161.93 1525.93 L1161.93 1518.52 Z\" fill=\"#000000\" fill-rule=\"nonzero\" fill-opacity=\"1\" /><path clip-path=\"url(#clip760)\" d=\"M1205.7 1533.76 L1205.7 1539.24 Q1203.21 1537.87 1200.7 1537.2 Q1198.22 1536.5 1195.67 1536.5 Q1189.97 1536.5 1186.82 1540.13 Q1183.67 1543.73 1183.67 1550.25 Q1183.67 1556.78 1186.82 1560.4 Q1189.97 1564 1195.67 1564 Q1198.22 1564 1200.7 1563.33 Q1203.21 1562.63 1205.7 1561.26 L1205.7 1566.68 Q1203.25 1567.82 1200.6 1568.39 Q1197.99 1568.97 1195.03 1568.97 Q1186.98 1568.97 1182.24 1563.91 Q1177.5 1558.85 1177.5 1550.25 Q1177.5 1541.53 1182.27 1536.53 Q1187.08 1531.54 1195.42 1531.54 Q1198.12 1531.54 1200.7 1532.11 Q1203.28 1532.65 1205.7 1533.76 Z\" fill=\"#000000\" fill-rule=\"nonzero\" fill-opacity=\"1\" /><path clip-path=\"url(#clip760)\" d=\"M1221.67 1522.27 L1221.67 1532.4 L1233.74 1532.4 L1233.74 1536.95 L1221.67 1536.95 L1221.67 1556.3 Q1221.67 1560.66 1222.85 1561.9 Q1224.06 1563.14 1227.72 1563.14 L1233.74 1563.14 L1233.74 1568.04 L1227.72 1568.04 Q1220.94 1568.04 1218.36 1565.53 Q1215.79 1562.98 1215.79 1556.3 L1215.79 1536.95 L1211.49 1536.95 L1211.49 1532.4 L1215.79 1532.4 L1215.79 1522.27 L1221.67 1522.27 Z\" fill=\"#000000\" fill-rule=\"nonzero\" fill-opacity=\"1\" /><path clip-path=\"url(#clip760)\" d=\"M1271.93 1548.76 L1271.93 1551.62 L1245 1551.62 Q1245.39 1557.67 1248.63 1560.85 Q1251.91 1564 1257.74 1564 Q1261.11 1564 1264.26 1563.17 Q1267.44 1562.35 1270.56 1560.69 L1270.56 1566.23 Q1267.41 1567.57 1264.1 1568.27 Q1260.79 1568.97 1257.39 1568.97 Q1248.86 1568.97 1243.86 1564 Q1238.89 1559.04 1238.89 1550.57 Q1238.89 1541.82 1243.6 1536.69 Q1248.35 1531.54 1256.37 1531.54 Q1263.56 1531.54 1267.73 1536.18 Q1271.93 1540.8 1271.93 1548.76 M1266.08 1547.04 Q1266.01 1542.23 1263.37 1539.37 Q1260.76 1536.5 1256.43 1536.5 Q1251.53 1536.5 1248.57 1539.27 Q1245.64 1542.04 1245.2 1547.07 L1266.08 1547.04 Z\" fill=\"#000000\" fill-rule=\"nonzero\" fill-opacity=\"1\" /><path clip-path=\"url(#clip760)\" d=\"M1305 1537.81 L1305 1518.52 L1310.86 1518.52 L1310.86 1568.04 L1305 1568.04 L1305 1562.7 Q1303.16 1565.88 1300.32 1567.44 Q1297.52 1568.97 1293.58 1568.97 Q1287.11 1568.97 1283.04 1563.81 Q1279 1558.65 1279 1550.25 Q1279 1541.85 1283.04 1536.69 Q1287.11 1531.54 1293.58 1531.54 Q1297.52 1531.54 1300.32 1533.1 Q1303.16 1534.62 1305 1537.81 M1285.05 1550.25 Q1285.05 1556.71 1287.69 1560.4 Q1290.36 1564.07 1295.01 1564.07 Q1299.65 1564.07 1302.33 1560.4 Q1305 1556.71 1305 1550.25 Q1305 1543.79 1302.33 1540.13 Q1299.65 1536.44 1295.01 1536.44 Q1290.36 1536.44 1287.69 1540.13 Q1285.05 1543.79 1285.05 1550.25 Z\" fill=\"#000000\" fill-rule=\"nonzero\" fill-opacity=\"1\" /><path clip-path=\"url(#clip760)\" d=\"M1339.44 1532.4 L1345.65 1532.4 L1356.79 1562.31 L1367.93 1532.4 L1374.13 1532.4 L1360.77 1568.04 L1352.81 1568.04 L1339.44 1532.4 Z\" fill=\"#000000\" fill-rule=\"nonzero\" fill-opacity=\"1\" /><path clip-path=\"url(#clip760)\" d=\"M1398.42 1550.12 Q1391.32 1550.12 1388.58 1551.75 Q1385.85 1553.37 1385.85 1557.29 Q1385.85 1560.4 1387.88 1562.25 Q1389.95 1564.07 1393.48 1564.07 Q1398.35 1564.07 1401.28 1560.63 Q1404.24 1557.16 1404.24 1551.43 L1404.24 1550.12 L1398.42 1550.12 M1410.1 1547.71 L1410.1 1568.04 L1404.24 1568.04 L1404.24 1562.63 Q1402.24 1565.88 1399.25 1567.44 Q1396.25 1568.97 1391.93 1568.97 Q1386.45 1568.97 1383.2 1565.91 Q1379.99 1562.82 1379.99 1557.67 Q1379.99 1551.65 1384 1548.6 Q1388.04 1545.54 1396.03 1545.54 L1404.24 1545.54 L1404.24 1544.97 Q1404.24 1540.93 1401.57 1538.73 Q1398.93 1536.5 1394.12 1536.5 Q1391.07 1536.5 1388.17 1537.23 Q1385.27 1537.97 1382.6 1539.43 L1382.6 1534.02 Q1385.81 1532.78 1388.84 1532.17 Q1391.86 1531.54 1394.73 1531.54 Q1402.46 1531.54 1406.28 1535.55 Q1410.1 1539.56 1410.1 1547.71 Z\" fill=\"#000000\" fill-rule=\"nonzero\" fill-opacity=\"1\" /><path clip-path=\"url(#clip760)\" d=\"M1422.16 1518.52 L1428.02 1518.52 L1428.02 1568.04 L1422.16 1568.04 L1422.16 1518.52 Z\" fill=\"#000000\" fill-rule=\"nonzero\" fill-opacity=\"1\" /><path clip-path=\"url(#clip760)\" d=\"M1439.67 1553.98 L1439.67 1532.4 L1445.52 1532.4 L1445.52 1553.75 Q1445.52 1558.81 1447.5 1561.36 Q1449.47 1563.87 1453.42 1563.87 Q1458.16 1563.87 1460.9 1560.85 Q1463.67 1557.83 1463.67 1552.61 L1463.67 1532.4 L1469.52 1532.4 L1469.52 1568.04 L1463.67 1568.04 L1463.67 1562.57 Q1461.53 1565.82 1458.7 1567.41 Q1455.9 1568.97 1452.18 1568.97 Q1446.03 1568.97 1442.85 1565.15 Q1439.67 1561.33 1439.67 1553.98 M1454.4 1531.54 L1454.4 1531.54 Z\" fill=\"#000000\" fill-rule=\"nonzero\" fill-opacity=\"1\" /><path clip-path=\"url(#clip760)\" d=\"M1512.08 1548.76 L1512.08 1551.62 L1485.15 1551.62 Q1485.53 1557.67 1488.78 1560.85 Q1492.06 1564 1497.88 1564 Q1501.26 1564 1504.41 1563.17 Q1507.59 1562.35 1510.71 1560.69 L1510.71 1566.23 Q1507.56 1567.57 1504.25 1568.27 Q1500.94 1568.97 1497.53 1568.97 Q1489 1568.97 1484.01 1564 Q1479.04 1559.04 1479.04 1550.57 Q1479.04 1541.82 1483.75 1536.69 Q1488.49 1531.54 1496.51 1531.54 Q1503.71 1531.54 1507.88 1536.18 Q1512.08 1540.8 1512.08 1548.76 M1506.22 1547.04 Q1506.16 1542.23 1503.52 1539.37 Q1500.91 1536.5 1496.58 1536.5 Q1491.68 1536.5 1488.72 1539.27 Q1485.79 1542.04 1485.34 1547.07 L1506.22 1547.04 Z\" fill=\"#000000\" fill-rule=\"nonzero\" fill-opacity=\"1\" /><path clip-path=\"url(#clip760)\" d=\"M1544.42 1533.45 L1544.42 1538.98 Q1541.93 1537.71 1539.26 1537.07 Q1536.59 1536.44 1533.72 1536.44 Q1529.36 1536.44 1527.16 1537.77 Q1525 1539.11 1525 1541.79 Q1525 1543.82 1526.56 1545 Q1528.12 1546.15 1532.83 1547.2 L1534.84 1547.64 Q1541.07 1548.98 1543.68 1551.43 Q1546.33 1553.85 1546.33 1558.21 Q1546.33 1563.17 1542.38 1566.07 Q1538.46 1568.97 1531.59 1568.97 Q1528.72 1568.97 1525.61 1568.39 Q1522.52 1567.85 1519.08 1566.74 L1519.08 1560.69 Q1522.33 1562.38 1525.48 1563.24 Q1528.63 1564.07 1531.72 1564.07 Q1535.85 1564.07 1538.08 1562.66 Q1540.31 1561.23 1540.31 1558.65 Q1540.31 1556.27 1538.69 1554.99 Q1537.1 1553.72 1531.65 1552.54 L1529.62 1552.07 Q1524.17 1550.92 1521.75 1548.56 Q1519.34 1546.18 1519.34 1542.04 Q1519.34 1537.01 1522.9 1534.27 Q1526.46 1531.54 1533.02 1531.54 Q1536.27 1531.54 1539.13 1532.01 Q1542 1532.49 1544.42 1533.45 Z\" fill=\"#000000\" fill-rule=\"nonzero\" fill-opacity=\"1\" /><polyline clip-path=\"url(#clip760)\" style=\"stroke:#000000; stroke-linecap:round; stroke-linejoin:round; stroke-width:4; stroke-opacity:1; fill:none\" points=\"210.746,1423.18 210.746,123.472 \"/>\n",
       "<polyline clip-path=\"url(#clip760)\" style=\"stroke:#000000; stroke-linecap:round; stroke-linejoin:round; stroke-width:4; stroke-opacity:1; fill:none\" points=\"210.746,1203.05 229.644,1203.05 \"/>\n",
       "<polyline clip-path=\"url(#clip760)\" style=\"stroke:#000000; stroke-linecap:round; stroke-linejoin:round; stroke-width:4; stroke-opacity:1; fill:none\" points=\"210.746,917.062 229.644,917.062 \"/>\n",
       "<polyline clip-path=\"url(#clip760)\" style=\"stroke:#000000; stroke-linecap:round; stroke-linejoin:round; stroke-width:4; stroke-opacity:1; fill:none\" points=\"210.746,631.077 229.644,631.077 \"/>\n",
       "<polyline clip-path=\"url(#clip760)\" style=\"stroke:#000000; stroke-linecap:round; stroke-linejoin:round; stroke-width:4; stroke-opacity:1; fill:none\" points=\"210.746,345.092 229.644,345.092 \"/>\n",
       "<path clip-path=\"url(#clip760)\" d=\"M114.631 1203.5 L144.306 1203.5 L144.306 1207.43 L114.631 1207.43 L114.631 1203.5 Z\" fill=\"#000000\" fill-rule=\"nonzero\" fill-opacity=\"1\" /><path clip-path=\"url(#clip760)\" d=\"M158.427 1216.39 L174.746 1216.39 L174.746 1220.33 L152.802 1220.33 L152.802 1216.39 Q155.464 1213.64 160.047 1209.01 Q164.653 1204.35 165.834 1203.01 Q168.079 1200.49 168.959 1198.75 Q169.862 1196.99 169.862 1195.3 Q169.862 1192.55 167.917 1190.81 Q165.996 1189.08 162.894 1189.08 Q160.695 1189.08 158.241 1189.84 Q155.811 1190.6 153.033 1192.16 L153.033 1187.43 Q155.857 1186.3 158.311 1185.72 Q160.765 1185.14 162.802 1185.14 Q168.172 1185.14 171.366 1187.83 Q174.561 1190.51 174.561 1195 Q174.561 1197.13 173.751 1199.05 Q172.964 1200.95 170.857 1203.54 Q170.278 1204.22 167.177 1207.43 Q164.075 1210.63 158.427 1216.39 Z\" fill=\"#000000\" fill-rule=\"nonzero\" fill-opacity=\"1\" /><path clip-path=\"url(#clip760)\" d=\"M114.26 917.513 L143.936 917.513 L143.936 921.449 L114.26 921.449 L114.26 917.513 Z\" fill=\"#000000\" fill-rule=\"nonzero\" fill-opacity=\"1\" /><path clip-path=\"url(#clip760)\" d=\"M154.839 930.407 L162.477 930.407 L162.477 904.041 L154.167 905.708 L154.167 901.449 L162.431 899.782 L167.107 899.782 L167.107 930.407 L174.746 930.407 L174.746 934.342 L154.839 934.342 L154.839 930.407 Z\" fill=\"#000000\" fill-rule=\"nonzero\" fill-opacity=\"1\" /><path clip-path=\"url(#clip760)\" d=\"M162.802 616.876 Q159.19 616.876 157.362 620.441 Q155.556 623.982 155.556 631.112 Q155.556 638.218 157.362 641.783 Q159.19 645.325 162.802 645.325 Q166.436 645.325 168.241 641.783 Q170.07 638.218 170.07 631.112 Q170.07 623.982 168.241 620.441 Q166.436 616.876 162.802 616.876 M162.802 613.172 Q168.612 613.172 171.667 617.779 Q174.746 622.362 174.746 631.112 Q174.746 639.839 171.667 644.445 Q168.612 649.028 162.802 649.028 Q156.991 649.028 153.913 644.445 Q150.857 639.839 150.857 631.112 Q150.857 622.362 153.913 617.779 Q156.991 613.172 162.802 613.172 Z\" fill=\"#000000\" fill-rule=\"nonzero\" fill-opacity=\"1\" /><path clip-path=\"url(#clip760)\" d=\"M154.839 358.437 L162.477 358.437 L162.477 332.071 L154.167 333.738 L154.167 329.479 L162.431 327.812 L167.107 327.812 L167.107 358.437 L174.746 358.437 L174.746 362.372 L154.839 362.372 L154.839 358.437 Z\" fill=\"#000000\" fill-rule=\"nonzero\" fill-opacity=\"1\" /><path clip-path=\"url(#clip760)\" d=\"M41.7242 900.624 Q42.4244 898.555 44.7161 896.614 Q47.0077 894.64 51.0181 892.667 L64.0042 886.142 L64.0042 893.049 L51.8138 899.128 Q47.0395 901.484 45.48 903.712 Q43.9204 905.908 43.9204 909.727 L43.9204 916.729 L64.0042 916.729 L64.0042 923.159 L16.4842 923.159 L16.4842 908.645 Q16.4842 900.497 19.8898 896.486 Q23.2955 892.476 30.1704 892.476 Q34.6582 892.476 37.6183 894.577 Q40.5784 896.646 41.7242 900.624 M21.7677 916.729 L38.6368 916.729 L38.6368 908.645 Q38.6368 903.998 36.5043 901.643 Q34.34 899.256 30.1704 899.256 Q26.0009 899.256 23.9002 901.643 Q21.7677 903.998 21.7677 908.645 L21.7677 916.729 Z\" fill=\"#000000\" fill-rule=\"nonzero\" fill-opacity=\"1\" /><path clip-path=\"url(#clip760)\" d=\"M44.7161 850.558 L47.5806 850.558 L47.5806 877.485 Q53.6281 877.103 56.8109 873.856 Q59.9619 870.578 59.9619 864.753 Q59.9619 861.38 59.1344 858.229 Q58.3069 855.046 56.6518 851.927 L62.1899 851.927 Q63.5267 855.078 64.227 858.388 Q64.9272 861.698 64.9272 865.104 Q64.9272 873.634 59.9619 878.631 Q54.9967 883.596 46.5303 883.596 Q37.7774 883.596 32.6531 878.885 Q27.4968 874.143 27.4968 866.122 Q27.4968 858.929 32.1438 854.759 Q36.7589 850.558 44.7161 850.558 M42.9973 856.414 Q38.1912 856.478 35.3266 859.12 Q32.4621 861.73 32.4621 866.058 Q32.4621 870.96 35.2312 873.92 Q38.0002 876.848 43.0292 877.294 L42.9973 856.414 Z\" fill=\"#000000\" fill-rule=\"nonzero\" fill-opacity=\"1\" /><path clip-path=\"url(#clip760)\" d=\"M29.4065 818.22 L34.9447 818.22 Q33.6716 820.703 33.035 823.376 Q32.3984 826.05 32.3984 828.915 Q32.3984 833.275 33.7352 835.471 Q35.072 837.636 37.7456 837.636 Q39.7826 837.636 40.9603 836.076 Q42.1061 834.516 43.1565 829.806 L43.6021 827.801 Q44.9389 821.562 47.3897 818.952 Q49.8086 816.31 54.1691 816.31 Q59.1344 816.31 62.0308 820.257 Q64.9272 824.172 64.9272 831.047 Q64.9272 833.912 64.3543 837.031 Q63.8132 840.118 62.6992 843.556 L56.6518 843.556 Q58.3387 840.309 59.198 837.158 Q60.0256 834.007 60.0256 830.92 Q60.0256 826.782 58.6251 824.554 Q57.1929 822.326 54.6147 822.326 Q52.2276 822.326 50.9545 823.949 Q49.6813 825.541 48.5037 830.983 L48.0262 833.02 Q46.8804 838.463 44.5251 840.882 Q42.138 843.301 38.0002 843.301 Q32.9713 843.301 30.2341 839.736 Q27.4968 836.171 27.4968 829.615 Q27.4968 826.368 27.9743 823.504 Q28.4517 820.639 29.4065 818.22 Z\" fill=\"#000000\" fill-rule=\"nonzero\" fill-opacity=\"1\" /><path clip-path=\"url(#clip760)\" d=\"M28.3562 806.985 L28.3562 801.128 L64.0042 801.128 L64.0042 806.985 L28.3562 806.985 M14.479 806.985 L14.479 801.128 L21.895 801.128 L21.895 806.985 L14.479 806.985 Z\" fill=\"#000000\" fill-rule=\"nonzero\" fill-opacity=\"1\" /><path clip-path=\"url(#clip760)\" d=\"M33.7671 765.417 L14.479 765.417 L14.479 759.56 L64.0042 759.56 L64.0042 765.417 L58.657 765.417 Q61.8398 767.263 63.3994 770.095 Q64.9272 772.896 64.9272 776.843 Q64.9272 783.304 59.771 787.378 Q54.6147 791.421 46.212 791.421 Q37.8093 791.421 32.6531 787.378 Q27.4968 783.304 27.4968 776.843 Q27.4968 772.896 29.0564 770.095 Q30.5842 767.263 33.7671 765.417 M46.212 785.373 Q52.6732 785.373 56.3653 782.731 Q60.0256 780.058 60.0256 775.411 Q60.0256 770.764 56.3653 768.09 Q52.6732 765.417 46.212 765.417 Q39.7508 765.417 36.0905 768.09 Q32.3984 770.764 32.3984 775.411 Q32.3984 780.058 36.0905 782.731 Q39.7508 785.373 46.212 785.373 Z\" fill=\"#000000\" fill-rule=\"nonzero\" fill-opacity=\"1\" /><path clip-path=\"url(#clip760)\" d=\"M49.9359 748.102 L28.3562 748.102 L28.3562 742.245 L49.7131 742.245 Q54.7739 742.245 57.3202 740.272 Q59.8346 738.299 59.8346 734.352 Q59.8346 729.609 56.8109 726.872 Q53.7872 724.103 48.5673 724.103 L28.3562 724.103 L28.3562 718.247 L64.0042 718.247 L64.0042 724.103 L58.5296 724.103 Q61.7762 726.236 63.3676 729.068 Q64.9272 731.869 64.9272 735.593 Q64.9272 741.736 61.1078 744.919 Q57.2883 748.102 49.9359 748.102 M27.4968 733.365 L27.4968 733.365 Z\" fill=\"#000000\" fill-rule=\"nonzero\" fill-opacity=\"1\" /><path clip-path=\"url(#clip760)\" d=\"M46.0847 689.983 Q46.0847 697.081 47.7079 699.818 Q49.3312 702.555 53.2461 702.555 Q56.3653 702.555 58.2114 700.518 Q60.0256 698.449 60.0256 694.916 Q60.0256 690.047 56.5881 687.118 Q53.1188 684.158 47.3897 684.158 L46.0847 684.158 L46.0847 689.983 M43.6657 678.302 L64.0042 678.302 L64.0042 684.158 L58.5933 684.158 Q61.8398 686.164 63.3994 689.155 Q64.9272 692.147 64.9272 696.476 Q64.9272 701.95 61.8716 705.197 Q58.7843 708.412 53.6281 708.412 Q47.6125 708.412 44.5569 704.401 Q41.5014 700.359 41.5014 692.37 L41.5014 684.158 L40.9285 684.158 Q36.8862 684.158 34.6901 686.832 Q32.4621 689.474 32.4621 694.28 Q32.4621 697.335 33.1941 700.232 Q33.9262 703.128 35.3903 705.802 L29.9795 705.802 Q28.7381 702.587 28.1334 699.563 Q27.4968 696.54 27.4968 693.675 Q27.4968 685.941 31.5072 682.121 Q35.5176 678.302 43.6657 678.302 Z\" fill=\"#000000\" fill-rule=\"nonzero\" fill-opacity=\"1\" /><path clip-path=\"url(#clip760)\" d=\"M14.479 666.239 L14.479 660.382 L64.0042 660.382 L64.0042 666.239 L14.479 666.239 Z\" fill=\"#000000\" fill-rule=\"nonzero\" fill-opacity=\"1\" /><path clip-path=\"url(#clip760)\" d=\"M29.4065 625.403 L34.9447 625.403 Q33.6716 627.886 33.035 630.559 Q32.3984 633.233 32.3984 636.097 Q32.3984 640.458 33.7352 642.654 Q35.072 644.818 37.7456 644.818 Q39.7826 644.818 40.9603 643.259 Q42.1061 641.699 43.1565 636.988 L43.6021 634.983 Q44.9389 628.745 47.3897 626.135 Q49.8086 623.493 54.1691 623.493 Q59.1344 623.493 62.0308 627.44 Q64.9272 631.355 64.9272 638.23 Q64.9272 641.094 64.3543 644.214 Q63.8132 647.301 62.6992 650.738 L56.6518 650.738 Q58.3387 647.492 59.198 644.341 Q60.0256 641.19 60.0256 638.102 Q60.0256 633.965 58.6251 631.737 Q57.1929 629.509 54.6147 629.509 Q52.2276 629.509 50.9545 631.132 Q49.6813 632.723 48.5037 638.166 L48.0262 640.203 Q46.8804 645.646 44.5251 648.065 Q42.138 650.484 38.0002 650.484 Q32.9713 650.484 30.2341 646.919 Q27.4968 643.354 27.4968 636.797 Q27.4968 633.551 27.9743 630.686 Q28.4517 627.822 29.4065 625.403 Z\" fill=\"#000000\" fill-rule=\"nonzero\" fill-opacity=\"1\" /><path clip-path=\"url(#clip760)\" d=\"M704.376 44.2197 Q707.009 45.1109 709.48 48.0275 Q711.991 50.9442 714.503 56.0483 L722.807 72.576 L714.017 72.576 L706.279 57.061 Q703.282 50.9847 700.446 48.9997 Q697.651 47.0148 692.79 47.0148 L683.878 47.0148 L683.878 72.576 L675.695 72.576 L675.695 12.096 L694.167 12.096 Q704.538 12.096 709.642 16.4305 Q714.746 20.7649 714.746 29.5149 Q714.746 35.2267 712.072 38.994 Q709.439 42.7613 704.376 44.2197 M683.878 18.8205 L683.878 40.2903 L694.167 40.2903 Q700.082 40.2903 703.079 37.5762 Q706.117 34.8216 706.117 29.5149 Q706.117 24.2082 703.079 21.5346 Q700.082 18.8205 694.167 18.8205 L683.878 18.8205 Z\" fill=\"#000000\" fill-rule=\"nonzero\" fill-opacity=\"1\" /><path clip-path=\"url(#clip760)\" d=\"M768.096 48.0275 L768.096 51.6733 L733.826 51.6733 Q734.312 59.3701 738.444 63.421 Q742.616 67.4314 750.029 67.4314 Q754.323 67.4314 758.334 66.3781 Q762.384 65.3249 766.354 63.2184 L766.354 70.267 Q762.344 71.9684 758.131 72.8596 Q753.918 73.7508 749.584 73.7508 Q738.727 73.7508 732.367 67.4314 Q726.048 61.1119 726.048 50.3365 Q726.048 39.1965 732.043 32.6746 Q738.079 26.1121 748.287 26.1121 Q757.442 26.1121 762.749 32.0264 Q768.096 37.9003 768.096 48.0275 M760.643 45.84 Q760.562 39.7232 757.199 36.0774 Q753.878 32.4315 748.368 32.4315 Q742.13 32.4315 738.363 35.9558 Q734.636 39.4801 734.069 45.8805 L760.643 45.84 Z\" fill=\"#000000\" fill-rule=\"nonzero\" fill-opacity=\"1\" /><path clip-path=\"url(#clip760)\" d=\"M809.253 28.5427 L809.253 35.5912 Q806.094 33.9709 802.691 33.1607 Q799.288 32.3505 795.642 32.3505 Q790.093 32.3505 787.298 34.0519 Q784.543 35.7533 784.543 39.156 Q784.543 41.7486 786.528 43.2475 Q788.513 44.7058 794.508 46.0426 L797.06 46.6097 Q805 48.3111 808.322 51.4303 Q811.684 54.509 811.684 60.0587 Q811.684 66.3781 806.661 70.0644 Q801.678 73.7508 792.928 73.7508 Q789.282 73.7508 785.313 73.0216 Q781.383 72.3329 777.008 70.9151 L777.008 63.2184 Q781.14 65.3654 785.151 66.4591 Q789.161 67.5124 793.09 67.5124 Q798.357 67.5124 801.192 65.73 Q804.028 63.9071 804.028 60.6258 Q804.028 57.5877 801.962 55.9673 Q799.936 54.3469 793.009 52.8481 L790.417 52.2405 Q783.49 50.7821 780.411 47.7845 Q777.332 44.7463 777.332 39.4801 Q777.332 33.0797 781.869 29.5959 Q786.406 26.1121 794.751 26.1121 Q798.883 26.1121 802.529 26.7198 Q806.175 27.3274 809.253 28.5427 Z\" fill=\"#000000\" fill-rule=\"nonzero\" fill-opacity=\"1\" /><path clip-path=\"url(#clip760)\" d=\"M823.553 27.2059 L831.007 27.2059 L831.007 72.576 L823.553 72.576 L823.553 27.2059 M823.553 9.54393 L831.007 9.54393 L831.007 18.9825 L823.553 18.9825 L823.553 9.54393 Z\" fill=\"#000000\" fill-rule=\"nonzero\" fill-opacity=\"1\" /><path clip-path=\"url(#clip760)\" d=\"M876.458 34.0924 L876.458 9.54393 L883.912 9.54393 L883.912 72.576 L876.458 72.576 L876.458 65.7705 Q874.108 69.8214 870.503 71.8063 Q866.938 73.7508 861.915 73.7508 Q853.692 73.7508 848.507 67.1883 Q843.362 60.6258 843.362 49.9314 Q843.362 39.2371 848.507 32.6746 Q853.692 26.1121 861.915 26.1121 Q866.938 26.1121 870.503 28.0971 Q874.108 30.0415 876.458 34.0924 M851.059 49.9314 Q851.059 58.1548 854.421 62.8538 Q857.824 67.5124 863.738 67.5124 Q869.652 67.5124 873.055 62.8538 Q876.458 58.1548 876.458 49.9314 Q876.458 41.7081 873.055 37.0496 Q869.652 32.3505 863.738 32.3505 Q857.824 32.3505 854.421 37.0496 Q851.059 41.7081 851.059 49.9314 Z\" fill=\"#000000\" fill-rule=\"nonzero\" fill-opacity=\"1\" /><path clip-path=\"url(#clip760)\" d=\"M898.495 54.671 L898.495 27.2059 L905.949 27.2059 L905.949 54.3874 Q905.949 60.8284 908.46 64.0691 Q910.972 67.2693 915.995 67.2693 Q922.031 67.2693 925.514 63.421 Q929.039 59.5726 929.039 52.9291 L929.039 27.2059 L936.492 27.2059 L936.492 72.576 L929.039 72.576 L929.039 65.6084 Q926.325 69.7404 922.719 71.7658 Q919.154 73.7508 914.415 73.7508 Q906.597 73.7508 902.546 68.8897 Q898.495 64.0286 898.495 54.671 M917.251 26.1121 L917.251 26.1121 Z\" fill=\"#000000\" fill-rule=\"nonzero\" fill-opacity=\"1\" /><path clip-path=\"url(#clip760)\" d=\"M972.464 49.7694 Q963.431 49.7694 959.947 51.8354 Q956.463 53.9013 956.463 58.8839 Q956.463 62.8538 959.056 65.2034 Q961.689 67.5124 966.185 67.5124 Q972.383 67.5124 976.11 63.1374 Q979.878 58.7219 979.878 51.4303 L979.878 49.7694 L972.464 49.7694 M987.331 46.6907 L987.331 72.576 L979.878 72.576 L979.878 65.6895 Q977.325 69.8214 973.518 71.8063 Q969.71 73.7508 964.201 73.7508 Q957.233 73.7508 953.101 69.8619 Q949.01 65.9325 949.01 59.3701 Q949.01 51.7138 954.114 47.825 Q959.258 43.9361 969.426 43.9361 L979.878 43.9361 L979.878 43.2069 Q979.878 38.0623 976.475 35.2672 Q973.113 32.4315 966.996 32.4315 Q963.107 32.4315 959.42 33.3632 Q955.734 34.295 952.331 36.1584 L952.331 29.2718 Q956.423 27.692 960.271 26.9223 Q964.12 26.1121 967.765 26.1121 Q977.609 26.1121 982.47 31.2163 Q987.331 36.3204 987.331 46.6907 Z\" fill=\"#000000\" fill-rule=\"nonzero\" fill-opacity=\"1\" /><path clip-path=\"url(#clip760)\" d=\"M1002.68 9.54393 L1010.14 9.54393 L1010.14 72.576 L1002.68 72.576 L1002.68 9.54393 Z\" fill=\"#000000\" fill-rule=\"nonzero\" fill-opacity=\"1\" /><path clip-path=\"url(#clip760)\" d=\"M1054.66 28.5427 L1054.66 35.5912 Q1051.5 33.9709 1048.09 33.1607 Q1044.69 32.3505 1041.05 32.3505 Q1035.5 32.3505 1032.7 34.0519 Q1029.95 35.7533 1029.95 39.156 Q1029.95 41.7486 1031.93 43.2475 Q1033.92 44.7058 1039.91 46.0426 L1042.46 46.6097 Q1050.4 48.3111 1053.73 51.4303 Q1057.09 54.509 1057.09 60.0587 Q1057.09 66.3781 1052.06 70.0644 Q1047.08 73.7508 1038.33 73.7508 Q1034.69 73.7508 1030.72 73.0216 Q1026.79 72.3329 1022.41 70.9151 L1022.41 63.2184 Q1026.54 65.3654 1030.55 66.4591 Q1034.56 67.5124 1038.49 67.5124 Q1043.76 67.5124 1046.6 65.73 Q1049.43 63.9071 1049.43 60.6258 Q1049.43 57.5877 1047.37 55.9673 Q1045.34 54.3469 1038.41 52.8481 L1035.82 52.2405 Q1028.89 50.7821 1025.81 47.7845 Q1022.74 44.7463 1022.74 39.4801 Q1022.74 33.0797 1027.27 29.5959 Q1031.81 26.1121 1040.15 26.1121 Q1044.29 26.1121 1047.93 26.7198 Q1051.58 27.3274 1054.66 28.5427 Z\" fill=\"#000000\" fill-rule=\"nonzero\" fill-opacity=\"1\" /><path clip-path=\"url(#clip760)\" d=\"M1089.98 27.2059 L1097.88 27.2059 L1112.06 65.2844 L1126.24 27.2059 L1134.14 27.2059 L1117.12 72.576 L1106.99 72.576 L1089.98 27.2059 Z\" fill=\"#000000\" fill-rule=\"nonzero\" fill-opacity=\"1\" /><path clip-path=\"url(#clip760)\" d=\"M1173.35 28.5427 L1173.35 35.5912 Q1170.19 33.9709 1166.79 33.1607 Q1163.38 32.3505 1159.74 32.3505 Q1154.19 32.3505 1151.39 34.0519 Q1148.64 35.7533 1148.64 39.156 Q1148.64 41.7486 1150.62 43.2475 Q1152.61 44.7058 1158.6 46.0426 L1161.16 46.6097 Q1169.1 48.3111 1172.42 51.4303 Q1175.78 54.509 1175.78 60.0587 Q1175.78 66.3781 1170.76 70.0644 Q1165.77 73.7508 1157.02 73.7508 Q1153.38 73.7508 1149.41 73.0216 Q1145.48 72.3329 1141.1 70.9151 L1141.1 63.2184 Q1145.24 65.3654 1149.25 66.4591 Q1153.26 67.5124 1157.19 67.5124 Q1162.45 67.5124 1165.29 65.73 Q1168.12 63.9071 1168.12 60.6258 Q1168.12 57.5877 1166.06 55.9673 Q1164.03 54.3469 1157.1 52.8481 L1154.51 52.2405 Q1147.58 50.7821 1144.51 47.7845 Q1141.43 44.7463 1141.43 39.4801 Q1141.43 33.0797 1145.96 29.5959 Q1150.5 26.1121 1158.85 26.1121 Q1162.98 26.1121 1166.62 26.7198 Q1170.27 27.3274 1173.35 28.5427 Z\" fill=\"#000000\" fill-rule=\"nonzero\" fill-opacity=\"1\" /><path clip-path=\"url(#clip760)\" d=\"M1222.53 18.8205 L1222.53 41.5461 L1232.82 41.5461 Q1238.53 41.5461 1241.65 38.5889 Q1244.77 35.6318 1244.77 30.163 Q1244.77 24.7348 1241.65 21.7777 Q1238.53 18.8205 1232.82 18.8205 L1222.53 18.8205 M1214.34 12.096 L1232.82 12.096 Q1242.98 12.096 1248.17 16.714 Q1253.39 21.2916 1253.39 30.163 Q1253.39 39.1155 1248.17 43.6931 Q1242.98 48.2706 1232.82 48.2706 L1222.53 48.2706 L1222.53 72.576 L1214.34 72.576 L1214.34 12.096 Z\" fill=\"#000000\" fill-rule=\"nonzero\" fill-opacity=\"1\" /><path clip-path=\"url(#clip760)\" d=\"M1288.88 34.1734 Q1287.62 33.4443 1286.13 33.1202 Q1284.67 32.7556 1282.89 32.7556 Q1276.57 32.7556 1273.16 36.8875 Q1269.8 40.9789 1269.8 48.6757 L1269.8 72.576 L1262.31 72.576 L1262.31 27.2059 L1269.8 27.2059 L1269.8 34.2544 Q1272.15 30.1225 1275.92 28.1376 Q1279.68 26.1121 1285.07 26.1121 Q1285.84 26.1121 1286.77 26.2337 Q1287.71 26.3147 1288.84 26.5172 L1288.88 34.1734 Z\" fill=\"#000000\" fill-rule=\"nonzero\" fill-opacity=\"1\" /><path clip-path=\"url(#clip760)\" d=\"M1333.68 48.0275 L1333.68 51.6733 L1299.41 51.6733 Q1299.9 59.3701 1304.03 63.421 Q1308.2 67.4314 1315.62 67.4314 Q1319.91 67.4314 1323.92 66.3781 Q1327.97 65.3249 1331.94 63.2184 L1331.94 70.267 Q1327.93 71.9684 1323.72 72.8596 Q1319.51 73.7508 1315.17 73.7508 Q1304.31 73.7508 1297.95 67.4314 Q1291.64 61.1119 1291.64 50.3365 Q1291.64 39.1965 1297.63 32.6746 Q1303.67 26.1121 1313.87 26.1121 Q1323.03 26.1121 1328.34 32.0264 Q1333.68 37.9003 1333.68 48.0275 M1326.23 45.84 Q1326.15 39.7232 1322.79 36.0774 Q1319.46 32.4315 1313.96 32.4315 Q1307.72 32.4315 1303.95 35.9558 Q1300.22 39.4801 1299.66 45.8805 L1326.23 45.84 Z\" fill=\"#000000\" fill-rule=\"nonzero\" fill-opacity=\"1\" /><path clip-path=\"url(#clip760)\" d=\"M1375.77 34.0924 L1375.77 9.54393 L1383.23 9.54393 L1383.23 72.576 L1375.77 72.576 L1375.77 65.7705 Q1373.42 69.8214 1369.82 71.8063 Q1366.25 73.7508 1361.23 73.7508 Q1353.01 73.7508 1347.82 67.1883 Q1342.68 60.6258 1342.68 49.9314 Q1342.68 39.2371 1347.82 32.6746 Q1353.01 26.1121 1361.23 26.1121 Q1366.25 26.1121 1369.82 28.0971 Q1373.42 30.0415 1375.77 34.0924 M1350.37 49.9314 Q1350.37 58.1548 1353.74 62.8538 Q1357.14 67.5124 1363.05 67.5124 Q1368.97 67.5124 1372.37 62.8538 Q1375.77 58.1548 1375.77 49.9314 Q1375.77 41.7081 1372.37 37.0496 Q1368.97 32.3505 1363.05 32.3505 Q1357.14 32.3505 1353.74 37.0496 Q1350.37 41.7081 1350.37 49.9314 Z\" fill=\"#000000\" fill-rule=\"nonzero\" fill-opacity=\"1\" /><path clip-path=\"url(#clip760)\" d=\"M1398.58 27.2059 L1406.03 27.2059 L1406.03 72.576 L1398.58 72.576 L1398.58 27.2059 M1398.58 9.54393 L1406.03 9.54393 L1406.03 18.9825 L1398.58 18.9825 L1398.58 9.54393 Z\" fill=\"#000000\" fill-rule=\"nonzero\" fill-opacity=\"1\" /><path clip-path=\"url(#clip760)\" d=\"M1454.28 28.9478 L1454.28 35.9153 Q1451.12 34.1734 1447.92 33.3227 Q1444.76 32.4315 1441.52 32.4315 Q1434.27 32.4315 1430.26 37.0496 Q1426.25 41.6271 1426.25 49.9314 Q1426.25 58.2358 1430.26 62.8538 Q1434.27 67.4314 1441.52 67.4314 Q1444.76 67.4314 1447.92 66.5807 Q1451.12 65.6895 1454.28 63.9476 L1454.28 70.8341 Q1451.16 72.2924 1447.8 73.0216 Q1444.48 73.7508 1440.71 73.7508 Q1430.46 73.7508 1424.42 67.3098 Q1418.39 60.8689 1418.39 49.9314 Q1418.39 38.832 1424.46 32.472 Q1430.58 26.1121 1441.19 26.1121 Q1444.64 26.1121 1447.92 26.8413 Q1451.2 27.5299 1454.28 28.9478 Z\" fill=\"#000000\" fill-rule=\"nonzero\" fill-opacity=\"1\" /><path clip-path=\"url(#clip760)\" d=\"M1474.61 14.324 L1474.61 27.2059 L1489.97 27.2059 L1489.97 32.9987 L1474.61 32.9987 L1474.61 57.6282 Q1474.61 63.1779 1476.11 64.7578 Q1477.65 66.3376 1482.31 66.3376 L1489.97 66.3376 L1489.97 72.576 L1482.31 72.576 Q1473.68 72.576 1470.4 69.3758 Q1467.12 66.1351 1467.12 57.6282 L1467.12 32.9987 L1461.65 32.9987 L1461.65 27.2059 L1467.12 27.2059 L1467.12 14.324 L1474.61 14.324 Z\" fill=\"#000000\" fill-rule=\"nonzero\" fill-opacity=\"1\" /><path clip-path=\"url(#clip760)\" d=\"M1538.58 48.0275 L1538.58 51.6733 L1504.31 51.6733 Q1504.79 59.3701 1508.93 63.421 Q1513.1 67.4314 1520.51 67.4314 Q1524.81 67.4314 1528.82 66.3781 Q1532.87 65.3249 1536.84 63.2184 L1536.84 70.267 Q1532.83 71.9684 1528.61 72.8596 Q1524.4 73.7508 1520.07 73.7508 Q1509.21 73.7508 1502.85 67.4314 Q1496.53 61.1119 1496.53 50.3365 Q1496.53 39.1965 1502.53 32.6746 Q1508.56 26.1121 1518.77 26.1121 Q1527.92 26.1121 1533.23 32.0264 Q1538.58 37.9003 1538.58 48.0275 M1531.12 45.84 Q1531.04 39.7232 1527.68 36.0774 Q1524.36 32.4315 1518.85 32.4315 Q1512.61 32.4315 1508.84 35.9558 Q1505.12 39.4801 1504.55 45.8805 L1531.12 45.84 Z\" fill=\"#000000\" fill-rule=\"nonzero\" fill-opacity=\"1\" /><path clip-path=\"url(#clip760)\" d=\"M1580.67 34.0924 L1580.67 9.54393 L1588.12 9.54393 L1588.12 72.576 L1580.67 72.576 L1580.67 65.7705 Q1578.32 69.8214 1574.71 71.8063 Q1571.15 73.7508 1566.12 73.7508 Q1557.9 73.7508 1552.72 67.1883 Q1547.57 60.6258 1547.57 49.9314 Q1547.57 39.2371 1552.72 32.6746 Q1557.9 26.1121 1566.12 26.1121 Q1571.15 26.1121 1574.71 28.0971 Q1578.32 30.0415 1580.67 34.0924 M1555.27 49.9314 Q1555.27 58.1548 1558.63 62.8538 Q1562.03 67.5124 1567.95 67.5124 Q1573.86 67.5124 1577.26 62.8538 Q1580.67 58.1548 1580.67 49.9314 Q1580.67 41.7081 1577.26 37.0496 Q1573.86 32.3505 1567.95 32.3505 Q1562.03 32.3505 1558.63 37.0496 Q1555.27 41.7081 1555.27 49.9314 Z\" fill=\"#000000\" fill-rule=\"nonzero\" fill-opacity=\"1\" /><path clip-path=\"url(#clip760)\" d=\"M1624.5 27.2059 L1632.4 27.2059 L1646.58 65.2844 L1660.75 27.2059 L1668.65 27.2059 L1651.64 72.576 L1641.51 72.576 L1624.5 27.2059 Z\" fill=\"#000000\" fill-rule=\"nonzero\" fill-opacity=\"1\" /><path clip-path=\"url(#clip760)\" d=\"M1699.56 49.7694 Q1690.53 49.7694 1687.04 51.8354 Q1683.56 53.9013 1683.56 58.8839 Q1683.56 62.8538 1686.15 65.2034 Q1688.79 67.5124 1693.28 67.5124 Q1699.48 67.5124 1703.21 63.1374 Q1706.97 58.7219 1706.97 51.4303 L1706.97 49.7694 L1699.56 49.7694 M1714.43 46.6907 L1714.43 72.576 L1706.97 72.576 L1706.97 65.6895 Q1704.42 69.8214 1700.61 71.8063 Q1696.81 73.7508 1691.3 73.7508 Q1684.33 73.7508 1680.2 69.8619 Q1676.11 65.9325 1676.11 59.3701 Q1676.11 51.7138 1681.21 47.825 Q1686.36 43.9361 1696.52 43.9361 L1706.97 43.9361 L1706.97 43.2069 Q1706.97 38.0623 1703.57 35.2672 Q1700.21 32.4315 1694.09 32.4315 Q1690.2 32.4315 1686.52 33.3632 Q1682.83 34.295 1679.43 36.1584 L1679.43 29.2718 Q1683.52 27.692 1687.37 26.9223 Q1691.22 26.1121 1694.86 26.1121 Q1704.71 26.1121 1709.57 31.2163 Q1714.43 36.3204 1714.43 46.6907 Z\" fill=\"#000000\" fill-rule=\"nonzero\" fill-opacity=\"1\" /><path clip-path=\"url(#clip760)\" d=\"M1729.78 9.54393 L1737.23 9.54393 L1737.23 72.576 L1729.78 72.576 L1729.78 9.54393 Z\" fill=\"#000000\" fill-rule=\"nonzero\" fill-opacity=\"1\" /><path clip-path=\"url(#clip760)\" d=\"M1752.06 54.671 L1752.06 27.2059 L1759.51 27.2059 L1759.51 54.3874 Q1759.51 60.8284 1762.03 64.0691 Q1764.54 67.2693 1769.56 67.2693 Q1775.6 67.2693 1779.08 63.421 Q1782.6 59.5726 1782.6 52.9291 L1782.6 27.2059 L1790.06 27.2059 L1790.06 72.576 L1782.6 72.576 L1782.6 65.6084 Q1779.89 69.7404 1776.29 71.7658 Q1772.72 73.7508 1767.98 73.7508 Q1760.16 73.7508 1756.11 68.8897 Q1752.06 64.0286 1752.06 54.671 M1770.82 26.1121 L1770.82 26.1121 Z\" fill=\"#000000\" fill-rule=\"nonzero\" fill-opacity=\"1\" /><path clip-path=\"url(#clip760)\" d=\"M1844.22 48.0275 L1844.22 51.6733 L1809.95 51.6733 Q1810.43 59.3701 1814.57 63.421 Q1818.74 67.4314 1826.15 67.4314 Q1830.45 67.4314 1834.46 66.3781 Q1838.51 65.3249 1842.48 63.2184 L1842.48 70.267 Q1838.47 71.9684 1834.25 72.8596 Q1830.04 73.7508 1825.71 73.7508 Q1814.85 73.7508 1808.49 67.4314 Q1802.17 61.1119 1802.17 50.3365 Q1802.17 39.1965 1808.17 32.6746 Q1814.2 26.1121 1824.41 26.1121 Q1833.57 26.1121 1838.87 32.0264 Q1844.22 37.9003 1844.22 48.0275 M1836.77 45.84 Q1836.68 39.7232 1833.32 36.0774 Q1830 32.4315 1824.49 32.4315 Q1818.25 32.4315 1814.49 35.9558 Q1810.76 39.4801 1810.19 45.8805 L1836.77 45.84 Z\" fill=\"#000000\" fill-rule=\"nonzero\" fill-opacity=\"1\" /><path clip-path=\"url(#clip760)\" d=\"M1885.38 28.5427 L1885.38 35.5912 Q1882.22 33.9709 1878.81 33.1607 Q1875.41 32.3505 1871.77 32.3505 Q1866.22 32.3505 1863.42 34.0519 Q1860.67 35.7533 1860.67 39.156 Q1860.67 41.7486 1862.65 43.2475 Q1864.64 44.7058 1870.63 46.0426 L1873.18 46.6097 Q1881.12 48.3111 1884.44 51.4303 Q1887.81 54.509 1887.81 60.0587 Q1887.81 66.3781 1882.78 70.0644 Q1877.8 73.7508 1869.05 73.7508 Q1865.41 73.7508 1861.44 73.0216 Q1857.51 72.3329 1853.13 70.9151 L1853.13 63.2184 Q1857.26 65.3654 1861.27 66.4591 Q1865.28 67.5124 1869.21 67.5124 Q1874.48 67.5124 1877.31 65.73 Q1880.15 63.9071 1880.15 60.6258 Q1880.15 57.5877 1878.08 55.9673 Q1876.06 54.3469 1869.13 52.8481 L1866.54 52.2405 Q1859.61 50.7821 1856.53 47.7845 Q1853.46 44.7463 1853.46 39.4801 Q1853.46 33.0797 1857.99 29.5959 Q1862.53 26.1121 1870.87 26.1121 Q1875.01 26.1121 1878.65 26.7198 Q1882.3 27.3274 1885.38 28.5427 Z\" fill=\"#000000\" fill-rule=\"nonzero\" fill-opacity=\"1\" /><circle clip-path=\"url(#clip762)\" cx=\"1800.49\" cy=\"575.14\" r=\"14.4\" fill=\"#009af9\" fill-rule=\"evenodd\" fill-opacity=\"1\" stroke=\"#000000\" stroke-opacity=\"1\" stroke-width=\"3.2\"/>\n",
       "<circle clip-path=\"url(#clip762)\" cx=\"1768.04\" cy=\"607.929\" r=\"14.4\" fill=\"#009af9\" fill-rule=\"evenodd\" fill-opacity=\"1\" stroke=\"#000000\" stroke-opacity=\"1\" stroke-width=\"3.2\"/>\n",
       "<circle clip-path=\"url(#clip762)\" cx=\"1768.04\" cy=\"607.929\" r=\"14.4\" fill=\"#009af9\" fill-rule=\"evenodd\" fill-opacity=\"1\" stroke=\"#000000\" stroke-opacity=\"1\" stroke-width=\"3.2\"/>\n",
       "<circle clip-path=\"url(#clip762)\" cx=\"1335.49\" cy=\"307.33\" r=\"14.4\" fill=\"#009af9\" fill-rule=\"evenodd\" fill-opacity=\"1\" stroke=\"#000000\" stroke-opacity=\"1\" stroke-width=\"3.2\"/>\n",
       "<circle clip-path=\"url(#clip762)\" cx=\"1455.38\" cy=\"441.009\" r=\"14.4\" fill=\"#009af9\" fill-rule=\"evenodd\" fill-opacity=\"1\" stroke=\"#000000\" stroke-opacity=\"1\" stroke-width=\"3.2\"/>\n",
       "<circle clip-path=\"url(#clip762)\" cx=\"1455.38\" cy=\"441.009\" r=\"14.4\" fill=\"#009af9\" fill-rule=\"evenodd\" fill-opacity=\"1\" stroke=\"#000000\" stroke-opacity=\"1\" stroke-width=\"3.2\"/>\n",
       "<circle clip-path=\"url(#clip762)\" cx=\"1455.38\" cy=\"586.607\" r=\"14.4\" fill=\"#009af9\" fill-rule=\"evenodd\" fill-opacity=\"1\" stroke=\"#000000\" stroke-opacity=\"1\" stroke-width=\"3.2\"/>\n",
       "<circle clip-path=\"url(#clip762)\" cx=\"1367.95\" cy=\"274.541\" r=\"14.4\" fill=\"#009af9\" fill-rule=\"evenodd\" fill-opacity=\"1\" stroke=\"#000000\" stroke-opacity=\"1\" stroke-width=\"3.2\"/>\n",
       "<circle clip-path=\"url(#clip762)\" cx=\"1335.49\" cy=\"562.127\" r=\"14.4\" fill=\"#009af9\" fill-rule=\"evenodd\" fill-opacity=\"1\" stroke=\"#000000\" stroke-opacity=\"1\" stroke-width=\"3.2\"/>\n",
       "<circle clip-path=\"url(#clip762)\" cx=\"1335.49\" cy=\"707.726\" r=\"14.4\" fill=\"#009af9\" fill-rule=\"evenodd\" fill-opacity=\"1\" stroke=\"#000000\" stroke-opacity=\"1\" stroke-width=\"3.2\"/>\n",
       "<circle clip-path=\"url(#clip762)\" cx=\"1367.95\" cy=\"835.096\" r=\"14.4\" fill=\"#009af9\" fill-rule=\"evenodd\" fill-opacity=\"1\" stroke=\"#000000\" stroke-opacity=\"1\" stroke-width=\"3.2\"/>\n",
       "<circle clip-path=\"url(#clip762)\" cx=\"1367.95\" cy=\"274.541\" r=\"14.4\" fill=\"#009af9\" fill-rule=\"evenodd\" fill-opacity=\"1\" stroke=\"#000000\" stroke-opacity=\"1\" stroke-width=\"3.2\"/>\n",
       "<circle clip-path=\"url(#clip762)\" cx=\"910.026\" cy=\"625.043\" r=\"14.4\" fill=\"#009af9\" fill-rule=\"evenodd\" fill-opacity=\"1\" stroke=\"#000000\" stroke-opacity=\"1\" stroke-width=\"3.2\"/>\n",
       "<circle clip-path=\"url(#clip762)\" cx=\"674.19\" cy=\"342.521\" r=\"14.4\" fill=\"#009af9\" fill-rule=\"evenodd\" fill-opacity=\"1\" stroke=\"#000000\" stroke-opacity=\"1\" stroke-width=\"3.2\"/>\n",
       "<circle clip-path=\"url(#clip762)\" cx=\"877.57\" cy=\"458.524\" r=\"14.4\" fill=\"#009af9\" fill-rule=\"evenodd\" fill-opacity=\"1\" stroke=\"#000000\" stroke-opacity=\"1\" stroke-width=\"3.2\"/>\n",
       "<circle clip-path=\"url(#clip762)\" cx=\"997.461\" cy=\"1386.4\" r=\"14.4\" fill=\"#009af9\" fill-rule=\"evenodd\" fill-opacity=\"1\" stroke=\"#000000\" stroke-opacity=\"1\" stroke-width=\"3.2\"/>\n",
       "<circle clip-path=\"url(#clip762)\" cx=\"674.19\" cy=\"975.405\" r=\"14.4\" fill=\"#009af9\" fill-rule=\"evenodd\" fill-opacity=\"1\" stroke=\"#000000\" stroke-opacity=\"1\" stroke-width=\"3.2\"/>\n",
       "<circle clip-path=\"url(#clip762)\" cx=\"674.19\" cy=\"575.009\" r=\"14.4\" fill=\"#009af9\" fill-rule=\"evenodd\" fill-opacity=\"1\" stroke=\"#000000\" stroke-opacity=\"1\" stroke-width=\"3.2\"/>\n",
       "<circle clip-path=\"url(#clip762)\" cx=\"674.19\" cy=\"575.009\" r=\"14.4\" fill=\"#009af9\" fill-rule=\"evenodd\" fill-opacity=\"1\" stroke=\"#000000\" stroke-opacity=\"1\" stroke-width=\"3.2\"/>\n",
       "<circle clip-path=\"url(#clip762)\" cx=\"910.026\" cy=\"1137.55\" r=\"14.4\" fill=\"#009af9\" fill-rule=\"evenodd\" fill-opacity=\"1\" stroke=\"#000000\" stroke-opacity=\"1\" stroke-width=\"3.2\"/>\n",
       "<circle clip-path=\"url(#clip762)\" cx=\"910.026\" cy=\"859.014\" r=\"14.4\" fill=\"#009af9\" fill-rule=\"evenodd\" fill-opacity=\"1\" stroke=\"#000000\" stroke-opacity=\"1\" stroke-width=\"3.2\"/>\n",
       "<circle clip-path=\"url(#clip762)\" cx=\"997.461\" cy=\"433.226\" r=\"14.4\" fill=\"#009af9\" fill-rule=\"evenodd\" fill-opacity=\"1\" stroke=\"#000000\" stroke-opacity=\"1\" stroke-width=\"3.2\"/>\n",
       "<circle clip-path=\"url(#clip762)\" cx=\"910.026\" cy=\"521.556\" r=\"14.4\" fill=\"#009af9\" fill-rule=\"evenodd\" fill-opacity=\"1\" stroke=\"#000000\" stroke-opacity=\"1\" stroke-width=\"3.2\"/>\n",
       "<circle clip-path=\"url(#clip762)\" cx=\"910.026\" cy=\"859.014\" r=\"14.4\" fill=\"#009af9\" fill-rule=\"evenodd\" fill-opacity=\"1\" stroke=\"#000000\" stroke-opacity=\"1\" stroke-width=\"3.2\"/>\n",
       "<circle clip-path=\"url(#clip762)\" cx=\"674.19\" cy=\"663.986\" r=\"14.4\" fill=\"#009af9\" fill-rule=\"evenodd\" fill-opacity=\"1\" stroke=\"#000000\" stroke-opacity=\"1\" stroke-width=\"3.2\"/>\n",
       "<circle clip-path=\"url(#clip762)\" cx=\"2275.24\" cy=\"759.344\" r=\"14.4\" fill=\"#009af9\" fill-rule=\"evenodd\" fill-opacity=\"1\" stroke=\"#000000\" stroke-opacity=\"1\" stroke-width=\"3.2\"/>\n",
       "<circle clip-path=\"url(#clip762)\" cx=\"2275.24\" cy=\"1039.62\" r=\"14.4\" fill=\"#009af9\" fill-rule=\"evenodd\" fill-opacity=\"1\" stroke=\"#000000\" stroke-opacity=\"1\" stroke-width=\"3.2\"/>\n",
       "<circle clip-path=\"url(#clip762)\" cx=\"1986.2\" cy=\"804.046\" r=\"14.4\" fill=\"#009af9\" fill-rule=\"evenodd\" fill-opacity=\"1\" stroke=\"#000000\" stroke-opacity=\"1\" stroke-width=\"3.2\"/>\n",
       "<circle clip-path=\"url(#clip762)\" cx=\"349.288\" cy=\"903.238\" r=\"14.4\" fill=\"#009af9\" fill-rule=\"evenodd\" fill-opacity=\"1\" stroke=\"#000000\" stroke-opacity=\"1\" stroke-width=\"3.2\"/>\n",
       "<circle clip-path=\"url(#clip762)\" cx=\"349.288\" cy=\"670.75\" r=\"14.4\" fill=\"#009af9\" fill-rule=\"evenodd\" fill-opacity=\"1\" stroke=\"#000000\" stroke-opacity=\"1\" stroke-width=\"3.2\"/>\n",
       "<circle clip-path=\"url(#clip762)\" cx=\"316.832\" cy=\"635.73\" r=\"14.4\" fill=\"#009af9\" fill-rule=\"evenodd\" fill-opacity=\"1\" stroke=\"#000000\" stroke-opacity=\"1\" stroke-width=\"3.2\"/>\n",
       "<circle clip-path=\"url(#clip762)\" cx=\"316.832\" cy=\"703.539\" r=\"14.4\" fill=\"#009af9\" fill-rule=\"evenodd\" fill-opacity=\"1\" stroke=\"#000000\" stroke-opacity=\"1\" stroke-width=\"3.2\"/>\n",
       "<circle clip-path=\"url(#clip762)\" cx=\"585.124\" cy=\"849.785\" r=\"14.4\" fill=\"#009af9\" fill-rule=\"evenodd\" fill-opacity=\"1\" stroke=\"#000000\" stroke-opacity=\"1\" stroke-width=\"3.2\"/>\n",
       "<circle clip-path=\"url(#clip762)\" cx=\"271.369\" cy=\"558.006\" r=\"14.4\" fill=\"#009af9\" fill-rule=\"evenodd\" fill-opacity=\"1\" stroke=\"#000000\" stroke-opacity=\"1\" stroke-width=\"3.2\"/>\n",
       "<circle clip-path=\"url(#clip762)\" cx=\"422.176\" cy=\"529.306\" r=\"14.4\" fill=\"#009af9\" fill-rule=\"evenodd\" fill-opacity=\"1\" stroke=\"#000000\" stroke-opacity=\"1\" stroke-width=\"3.2\"/>\n",
       "<circle clip-path=\"url(#clip762)\" cx=\"422.176\" cy=\"669.445\" r=\"14.4\" fill=\"#009af9\" fill-rule=\"evenodd\" fill-opacity=\"1\" stroke=\"#000000\" stroke-opacity=\"1\" stroke-width=\"3.2\"/>\n",
       "<circle clip-path=\"url(#clip762)\" cx=\"422.176\" cy=\"597.115\" r=\"14.4\" fill=\"#009af9\" fill-rule=\"evenodd\" fill-opacity=\"1\" stroke=\"#000000\" stroke-opacity=\"1\" stroke-width=\"3.2\"/>\n",
       "<circle clip-path=\"url(#clip762)\" cx=\"2032.3\" cy=\"537.645\" r=\"14.4\" fill=\"#009af9\" fill-rule=\"evenodd\" fill-opacity=\"1\" stroke=\"#000000\" stroke-opacity=\"1\" stroke-width=\"3.2\"/>\n",
       "<circle clip-path=\"url(#clip762)\" cx=\"2032.3\" cy=\"537.645\" r=\"14.4\" fill=\"#009af9\" fill-rule=\"evenodd\" fill-opacity=\"1\" stroke=\"#000000\" stroke-opacity=\"1\" stroke-width=\"3.2\"/>\n",
       "<circle clip-path=\"url(#clip762)\" cx=\"2032.3\" cy=\"537.645\" r=\"14.4\" fill=\"#009af9\" fill-rule=\"evenodd\" fill-opacity=\"1\" stroke=\"#000000\" stroke-opacity=\"1\" stroke-width=\"3.2\"/>\n",
       "<circle clip-path=\"url(#clip762)\" cx=\"2032.3\" cy=\"537.645\" r=\"14.4\" fill=\"#009af9\" fill-rule=\"evenodd\" fill-opacity=\"1\" stroke=\"#000000\" stroke-opacity=\"1\" stroke-width=\"3.2\"/>\n",
       "<circle clip-path=\"url(#clip762)\" cx=\"2032.3\" cy=\"537.645\" r=\"14.4\" fill=\"#009af9\" fill-rule=\"evenodd\" fill-opacity=\"1\" stroke=\"#000000\" stroke-opacity=\"1\" stroke-width=\"3.2\"/>\n",
       "<circle clip-path=\"url(#clip762)\" cx=\"2032.3\" cy=\"537.645\" r=\"14.4\" fill=\"#009af9\" fill-rule=\"evenodd\" fill-opacity=\"1\" stroke=\"#000000\" stroke-opacity=\"1\" stroke-width=\"3.2\"/>\n",
       "<circle clip-path=\"url(#clip762)\" cx=\"1239.76\" cy=\"804.444\" r=\"14.4\" fill=\"#009af9\" fill-rule=\"evenodd\" fill-opacity=\"1\" stroke=\"#000000\" stroke-opacity=\"1\" stroke-width=\"3.2\"/>\n",
       "<circle clip-path=\"url(#clip762)\" cx=\"1239.76\" cy=\"804.444\" r=\"14.4\" fill=\"#009af9\" fill-rule=\"evenodd\" fill-opacity=\"1\" stroke=\"#000000\" stroke-opacity=\"1\" stroke-width=\"3.2\"/>\n",
       "<circle clip-path=\"url(#clip762)\" cx=\"1475.59\" cy=\"726.352\" r=\"14.4\" fill=\"#009af9\" fill-rule=\"evenodd\" fill-opacity=\"1\" stroke=\"#000000\" stroke-opacity=\"1\" stroke-width=\"3.2\"/>\n",
       "<circle clip-path=\"url(#clip762)\" cx=\"1563.03\" cy=\"638.022\" r=\"14.4\" fill=\"#009af9\" fill-rule=\"evenodd\" fill-opacity=\"1\" stroke=\"#000000\" stroke-opacity=\"1\" stroke-width=\"3.2\"/>\n",
       "<circle clip-path=\"url(#clip762)\" cx=\"1475.59\" cy=\"726.352\" r=\"14.4\" fill=\"#009af9\" fill-rule=\"evenodd\" fill-opacity=\"1\" stroke=\"#000000\" stroke-opacity=\"1\" stroke-width=\"3.2\"/>\n",
       "<circle clip-path=\"url(#clip762)\" cx=\"1475.59\" cy=\"566.194\" r=\"14.4\" fill=\"#009af9\" fill-rule=\"evenodd\" fill-opacity=\"1\" stroke=\"#000000\" stroke-opacity=\"1\" stroke-width=\"3.2\"/>\n",
       "<circle clip-path=\"url(#clip762)\" cx=\"2098.11\" cy=\"471.163\" r=\"14.4\" fill=\"#009af9\" fill-rule=\"evenodd\" fill-opacity=\"1\" stroke=\"#000000\" stroke-opacity=\"1\" stroke-width=\"3.2\"/>\n",
       "<circle clip-path=\"url(#clip762)\" cx=\"1722.36\" cy=\"171.302\" r=\"14.4\" fill=\"#009af9\" fill-rule=\"evenodd\" fill-opacity=\"1\" stroke=\"#000000\" stroke-opacity=\"1\" stroke-width=\"3.2\"/>\n",
       "<circle clip-path=\"url(#clip762)\" cx=\"926.204\" cy=\"160.256\" r=\"14.4\" fill=\"#009af9\" fill-rule=\"evenodd\" fill-opacity=\"1\" stroke=\"#000000\" stroke-opacity=\"1\" stroke-width=\"3.2\"/>\n",
       "<circle clip-path=\"url(#clip762)\" cx=\"1162.04\" cy=\"604.419\" r=\"14.4\" fill=\"#009af9\" fill-rule=\"evenodd\" fill-opacity=\"1\" stroke=\"#000000\" stroke-opacity=\"1\" stroke-width=\"3.2\"/>\n",
       "<circle clip-path=\"url(#clip762)\" cx=\"926.204\" cy=\"409.392\" r=\"14.4\" fill=\"#009af9\" fill-rule=\"evenodd\" fill-opacity=\"1\" stroke=\"#000000\" stroke-opacity=\"1\" stroke-width=\"3.2\"/>\n",
       "<circle clip-path=\"url(#clip762)\" cx=\"1162.04\" cy=\"1220.13\" r=\"14.4\" fill=\"#009af9\" fill-rule=\"evenodd\" fill-opacity=\"1\" stroke=\"#000000\" stroke-opacity=\"1\" stroke-width=\"3.2\"/>\n",
       "<circle clip-path=\"url(#clip762)\" cx=\"1129.58\" cy=\"770.146\" r=\"14.4\" fill=\"#009af9\" fill-rule=\"evenodd\" fill-opacity=\"1\" stroke=\"#000000\" stroke-opacity=\"1\" stroke-width=\"3.2\"/>\n",
       "<circle clip-path=\"url(#clip762)\" cx=\"880.1\" cy=\"551.788\" r=\"14.4\" fill=\"#009af9\" fill-rule=\"evenodd\" fill-opacity=\"1\" stroke=\"#000000\" stroke-opacity=\"1\" stroke-width=\"3.2\"/>\n",
       "<circle clip-path=\"url(#clip762)\" cx=\"880.1\" cy=\"767.386\" r=\"14.4\" fill=\"#009af9\" fill-rule=\"evenodd\" fill-opacity=\"1\" stroke=\"#000000\" stroke-opacity=\"1\" stroke-width=\"3.2\"/>\n",
       "<circle clip-path=\"url(#clip762)\" cx=\"1115.94\" cy=\"783.933\" r=\"14.4\" fill=\"#009af9\" fill-rule=\"evenodd\" fill-opacity=\"1\" stroke=\"#000000\" stroke-opacity=\"1\" stroke-width=\"3.2\"/>\n",
       "<circle clip-path=\"url(#clip762)\" cx=\"880.1\" cy=\"767.386\" r=\"14.4\" fill=\"#009af9\" fill-rule=\"evenodd\" fill-opacity=\"1\" stroke=\"#000000\" stroke-opacity=\"1\" stroke-width=\"3.2\"/>\n",
       "<circle clip-path=\"url(#clip762)\" cx=\"1115.94\" cy=\"929.531\" r=\"14.4\" fill=\"#009af9\" fill-rule=\"evenodd\" fill-opacity=\"1\" stroke=\"#000000\" stroke-opacity=\"1\" stroke-width=\"3.2\"/>\n",
       "<circle clip-path=\"url(#clip762)\" cx=\"1115.94\" cy=\"417.025\" r=\"14.4\" fill=\"#009af9\" fill-rule=\"evenodd\" fill-opacity=\"1\" stroke=\"#000000\" stroke-opacity=\"1\" stroke-width=\"3.2\"/>\n",
       "<circle clip-path=\"url(#clip762)\" cx=\"1115.94\" cy=\"650.995\" r=\"14.4\" fill=\"#009af9\" fill-rule=\"evenodd\" fill-opacity=\"1\" stroke=\"#000000\" stroke-opacity=\"1\" stroke-width=\"3.2\"/>\n",
       "<circle clip-path=\"url(#clip762)\" cx=\"880.1\" cy=\"655.275\" r=\"14.4\" fill=\"#009af9\" fill-rule=\"evenodd\" fill-opacity=\"1\" stroke=\"#000000\" stroke-opacity=\"1\" stroke-width=\"3.2\"/>\n",
       "<circle clip-path=\"url(#clip762)\" cx=\"1115.94\" cy=\"650.995\" r=\"14.4\" fill=\"#009af9\" fill-rule=\"evenodd\" fill-opacity=\"1\" stroke=\"#000000\" stroke-opacity=\"1\" stroke-width=\"3.2\"/>\n",
       "<circle clip-path=\"url(#clip762)\" cx=\"2292.13\" cy=\"1342.87\" r=\"14.4\" fill=\"#009af9\" fill-rule=\"evenodd\" fill-opacity=\"1\" stroke=\"#000000\" stroke-opacity=\"1\" stroke-width=\"3.2\"/>\n",
       "<circle clip-path=\"url(#clip762)\" cx=\"1273.75\" cy=\"624.501\" r=\"14.4\" fill=\"#009af9\" fill-rule=\"evenodd\" fill-opacity=\"1\" stroke=\"#000000\" stroke-opacity=\"1\" stroke-width=\"3.2\"/>\n",
       "<circle clip-path=\"url(#clip762)\" cx=\"1273.75\" cy=\"624.501\" r=\"14.4\" fill=\"#009af9\" fill-rule=\"evenodd\" fill-opacity=\"1\" stroke=\"#000000\" stroke-opacity=\"1\" stroke-width=\"3.2\"/>\n",
       "<circle clip-path=\"url(#clip762)\" cx=\"1542.04\" cy=\"220.523\" r=\"14.4\" fill=\"#009af9\" fill-rule=\"evenodd\" fill-opacity=\"1\" stroke=\"#000000\" stroke-opacity=\"1\" stroke-width=\"3.2\"/>\n",
       "<circle clip-path=\"url(#clip762)\" cx=\"1440.84\" cy=\"455.704\" r=\"14.4\" fill=\"#009af9\" fill-rule=\"evenodd\" fill-opacity=\"1\" stroke=\"#000000\" stroke-opacity=\"1\" stroke-width=\"3.2\"/>\n",
       "<circle clip-path=\"url(#clip762)\" cx=\"1440.84\" cy=\"601.302\" r=\"14.4\" fill=\"#009af9\" fill-rule=\"evenodd\" fill-opacity=\"1\" stroke=\"#000000\" stroke-opacity=\"1\" stroke-width=\"3.2\"/>\n",
       "<circle clip-path=\"url(#clip762)\" cx=\"1338.02\" cy=\"559.571\" r=\"14.4\" fill=\"#009af9\" fill-rule=\"evenodd\" fill-opacity=\"1\" stroke=\"#000000\" stroke-opacity=\"1\" stroke-width=\"3.2\"/>\n",
       "<path clip-path=\"url(#clip760)\" d=\"M2014.72 270.476 L2281.36 270.476 L2281.36 166.796 L2014.72 166.796  Z\" fill=\"#ffffff\" fill-rule=\"evenodd\" fill-opacity=\"1\"/>\n",
       "<polyline clip-path=\"url(#clip760)\" style=\"stroke:#000000; stroke-linecap:round; stroke-linejoin:round; stroke-width:4; stroke-opacity:1; fill:none\" points=\"2014.72,270.476 2281.36,270.476 2281.36,166.796 2014.72,166.796 2014.72,270.476 \"/>\n",
       "<circle clip-path=\"url(#clip760)\" cx=\"2109.92\" cy=\"218.636\" r=\"20.48\" fill=\"#009af9\" fill-rule=\"evenodd\" fill-opacity=\"1\" stroke=\"#000000\" stroke-opacity=\"1\" stroke-width=\"4.55111\"/>\n",
       "<path clip-path=\"url(#clip760)\" d=\"M2218.97 238.323 Q2217.16 242.953 2215.45 244.365 Q2213.74 245.777 2210.87 245.777 L2207.46 245.777 L2207.46 242.212 L2209.96 242.212 Q2211.72 242.212 2212.69 241.379 Q2213.67 240.545 2214.85 237.443 L2215.61 235.499 L2205.13 209.99 L2209.64 209.99 L2217.74 230.268 L2225.84 209.99 L2230.36 209.99 L2218.97 238.323 Z\" fill=\"#000000\" fill-rule=\"nonzero\" fill-opacity=\"1\" /><path clip-path=\"url(#clip760)\" d=\"M2237.65 231.981 L2245.29 231.981 L2245.29 205.615 L2236.98 207.282 L2236.98 203.022 L2245.24 201.356 L2249.92 201.356 L2249.92 231.981 L2257.56 231.981 L2257.56 235.916 L2237.65 235.916 L2237.65 231.981 Z\" fill=\"#000000\" fill-rule=\"nonzero\" fill-opacity=\"1\" /></svg>\n"
      ],
      "text/html": [
       "<?xml version=\"1.0\" encoding=\"utf-8\"?>\n",
       "<svg xmlns=\"http://www.w3.org/2000/svg\" xmlns:xlink=\"http://www.w3.org/1999/xlink\" width=\"600\" height=\"400\" viewBox=\"0 0 2400 1600\">\n",
       "<defs>\n",
       "  <clipPath id=\"clip810\">\n",
       "    <rect x=\"0\" y=\"0\" width=\"2400\" height=\"1600\"/>\n",
       "  </clipPath>\n",
       "</defs>\n",
       "<path clip-path=\"url(#clip810)\" d=\"M0 1600 L2400 1600 L2400 0 L0 0  Z\" fill=\"#ffffff\" fill-rule=\"evenodd\" fill-opacity=\"1\"/>\n",
       "<defs>\n",
       "  <clipPath id=\"clip811\">\n",
       "    <rect x=\"480\" y=\"0\" width=\"1681\" height=\"1600\"/>\n",
       "  </clipPath>\n",
       "</defs>\n",
       "<path clip-path=\"url(#clip810)\" d=\"M210.746 1423.18 L2352.76 1423.18 L2352.76 123.472 L210.746 123.472  Z\" fill=\"#ffffff\" fill-rule=\"evenodd\" fill-opacity=\"1\"/>\n",
       "<defs>\n",
       "  <clipPath id=\"clip812\">\n",
       "    <rect x=\"210\" y=\"123\" width=\"2143\" height=\"1301\"/>\n",
       "  </clipPath>\n",
       "</defs>\n",
       "<polyline clip-path=\"url(#clip812)\" style=\"stroke:#000000; stroke-linecap:round; stroke-linejoin:round; stroke-width:2; stroke-opacity:0.1; fill:none\" points=\"222.269,1423.18 222.269,123.472 \"/>\n",
       "<polyline clip-path=\"url(#clip812)\" style=\"stroke:#000000; stroke-linecap:round; stroke-linejoin:round; stroke-width:2; stroke-opacity:0.1; fill:none\" points=\"505.355,1423.18 505.355,123.472 \"/>\n",
       "<polyline clip-path=\"url(#clip812)\" style=\"stroke:#000000; stroke-linecap:round; stroke-linejoin:round; stroke-width:2; stroke-opacity:0.1; fill:none\" points=\"788.441,1423.18 788.441,123.472 \"/>\n",
       "<polyline clip-path=\"url(#clip812)\" style=\"stroke:#000000; stroke-linecap:round; stroke-linejoin:round; stroke-width:2; stroke-opacity:0.1; fill:none\" points=\"1071.53,1423.18 1071.53,123.472 \"/>\n",
       "<polyline clip-path=\"url(#clip812)\" style=\"stroke:#000000; stroke-linecap:round; stroke-linejoin:round; stroke-width:2; stroke-opacity:0.1; fill:none\" points=\"1354.61,1423.18 1354.61,123.472 \"/>\n",
       "<polyline clip-path=\"url(#clip812)\" style=\"stroke:#000000; stroke-linecap:round; stroke-linejoin:round; stroke-width:2; stroke-opacity:0.1; fill:none\" points=\"1637.7,1423.18 1637.7,123.472 \"/>\n",
       "<polyline clip-path=\"url(#clip812)\" style=\"stroke:#000000; stroke-linecap:round; stroke-linejoin:round; stroke-width:2; stroke-opacity:0.1; fill:none\" points=\"1920.79,1423.18 1920.79,123.472 \"/>\n",
       "<polyline clip-path=\"url(#clip812)\" style=\"stroke:#000000; stroke-linecap:round; stroke-linejoin:round; stroke-width:2; stroke-opacity:0.1; fill:none\" points=\"2203.87,1423.18 2203.87,123.472 \"/>\n",
       "<polyline clip-path=\"url(#clip812)\" style=\"stroke:#000000; stroke-linecap:round; stroke-linejoin:round; stroke-width:2; stroke-opacity:0.1; fill:none\" points=\"210.746,1203.05 2352.76,1203.05 \"/>\n",
       "<polyline clip-path=\"url(#clip812)\" style=\"stroke:#000000; stroke-linecap:round; stroke-linejoin:round; stroke-width:2; stroke-opacity:0.1; fill:none\" points=\"210.746,917.062 2352.76,917.062 \"/>\n",
       "<polyline clip-path=\"url(#clip812)\" style=\"stroke:#000000; stroke-linecap:round; stroke-linejoin:round; stroke-width:2; stroke-opacity:0.1; fill:none\" points=\"210.746,631.077 2352.76,631.077 \"/>\n",
       "<polyline clip-path=\"url(#clip812)\" style=\"stroke:#000000; stroke-linecap:round; stroke-linejoin:round; stroke-width:2; stroke-opacity:0.1; fill:none\" points=\"210.746,345.092 2352.76,345.092 \"/>\n",
       "<polyline clip-path=\"url(#clip810)\" style=\"stroke:#000000; stroke-linecap:round; stroke-linejoin:round; stroke-width:4; stroke-opacity:1; fill:none\" points=\"210.746,1423.18 2352.76,1423.18 \"/>\n",
       "<polyline clip-path=\"url(#clip810)\" style=\"stroke:#000000; stroke-linecap:round; stroke-linejoin:round; stroke-width:4; stroke-opacity:1; fill:none\" points=\"222.269,1423.18 222.269,1404.28 \"/>\n",
       "<polyline clip-path=\"url(#clip810)\" style=\"stroke:#000000; stroke-linecap:round; stroke-linejoin:round; stroke-width:4; stroke-opacity:1; fill:none\" points=\"505.355,1423.18 505.355,1404.28 \"/>\n",
       "<polyline clip-path=\"url(#clip810)\" style=\"stroke:#000000; stroke-linecap:round; stroke-linejoin:round; stroke-width:4; stroke-opacity:1; fill:none\" points=\"788.441,1423.18 788.441,1404.28 \"/>\n",
       "<polyline clip-path=\"url(#clip810)\" style=\"stroke:#000000; stroke-linecap:round; stroke-linejoin:round; stroke-width:4; stroke-opacity:1; fill:none\" points=\"1071.53,1423.18 1071.53,1404.28 \"/>\n",
       "<polyline clip-path=\"url(#clip810)\" style=\"stroke:#000000; stroke-linecap:round; stroke-linejoin:round; stroke-width:4; stroke-opacity:1; fill:none\" points=\"1354.61,1423.18 1354.61,1404.28 \"/>\n",
       "<polyline clip-path=\"url(#clip810)\" style=\"stroke:#000000; stroke-linecap:round; stroke-linejoin:round; stroke-width:4; stroke-opacity:1; fill:none\" points=\"1637.7,1423.18 1637.7,1404.28 \"/>\n",
       "<polyline clip-path=\"url(#clip810)\" style=\"stroke:#000000; stroke-linecap:round; stroke-linejoin:round; stroke-width:4; stroke-opacity:1; fill:none\" points=\"1920.79,1423.18 1920.79,1404.28 \"/>\n",
       "<polyline clip-path=\"url(#clip810)\" style=\"stroke:#000000; stroke-linecap:round; stroke-linejoin:round; stroke-width:4; stroke-opacity:1; fill:none\" points=\"2203.87,1423.18 2203.87,1404.28 \"/>\n",
       "<path clip-path=\"url(#clip810)\" d=\"M211.158 1451.02 L233.38 1451.02 L233.38 1453.01 L220.833 1485.58 L215.949 1485.58 L227.755 1454.96 L211.158 1454.96 L211.158 1451.02 Z\" fill=\"#000000\" fill-rule=\"nonzero\" fill-opacity=\"1\" /><path clip-path=\"url(#clip810)\" d=\"M505.355 1469.17 Q502.022 1469.17 500.1 1470.95 Q498.202 1472.73 498.202 1475.86 Q498.202 1478.98 500.1 1480.77 Q502.022 1482.55 505.355 1482.55 Q508.688 1482.55 510.609 1480.77 Q512.531 1478.96 512.531 1475.86 Q512.531 1472.73 510.609 1470.95 Q508.711 1469.17 505.355 1469.17 M500.679 1467.18 Q497.67 1466.44 495.98 1464.38 Q494.313 1462.32 494.313 1459.35 Q494.313 1455.21 497.253 1452.8 Q500.216 1450.39 505.355 1450.39 Q510.517 1450.39 513.457 1452.8 Q516.396 1455.21 516.396 1459.35 Q516.396 1462.32 514.707 1464.38 Q513.04 1466.44 510.054 1467.18 Q513.433 1467.96 515.308 1470.26 Q517.207 1472.55 517.207 1475.86 Q517.207 1480.88 514.128 1483.57 Q511.072 1486.25 505.355 1486.25 Q499.637 1486.25 496.559 1483.57 Q493.503 1480.88 493.503 1475.86 Q493.503 1472.55 495.401 1470.26 Q497.299 1467.96 500.679 1467.18 M498.966 1459.79 Q498.966 1462.48 500.633 1463.98 Q502.322 1465.49 505.355 1465.49 Q508.364 1465.49 510.054 1463.98 Q511.767 1462.48 511.767 1459.79 Q511.767 1457.11 510.054 1455.6 Q508.364 1454.1 505.355 1454.1 Q502.322 1454.1 500.633 1455.6 Q498.966 1457.11 498.966 1459.79 Z\" fill=\"#000000\" fill-rule=\"nonzero\" fill-opacity=\"1\" /><path clip-path=\"url(#clip810)\" d=\"M778.742 1484.86 L778.742 1480.6 Q780.501 1481.44 782.307 1481.88 Q784.112 1482.32 785.849 1482.32 Q790.478 1482.32 792.909 1479.21 Q795.362 1476.09 795.71 1469.75 Q794.367 1471.74 792.307 1472.8 Q790.247 1473.87 787.747 1473.87 Q782.561 1473.87 779.529 1470.74 Q776.52 1467.59 776.52 1462.15 Q776.52 1456.83 779.668 1453.61 Q782.816 1450.39 788.048 1450.39 Q794.043 1450.39 797.191 1455 Q800.362 1459.58 800.362 1468.33 Q800.362 1476.51 796.473 1481.39 Q792.608 1486.25 786.057 1486.25 Q784.298 1486.25 782.492 1485.9 Q780.687 1485.56 778.742 1484.86 M788.048 1470.21 Q791.196 1470.21 793.024 1468.06 Q794.876 1465.9 794.876 1462.15 Q794.876 1458.43 793.024 1456.27 Q791.196 1454.1 788.048 1454.1 Q784.899 1454.1 783.048 1456.27 Q781.219 1458.43 781.219 1462.15 Q781.219 1465.9 783.048 1468.06 Q784.899 1470.21 788.048 1470.21 Z\" fill=\"#000000\" fill-rule=\"nonzero\" fill-opacity=\"1\" /><path clip-path=\"url(#clip810)\" d=\"M1046.21 1481.64 L1053.85 1481.64 L1053.85 1455.28 L1045.54 1456.95 L1045.54 1452.69 L1053.81 1451.02 L1058.48 1451.02 L1058.48 1481.64 L1066.12 1481.64 L1066.12 1485.58 L1046.21 1485.58 L1046.21 1481.64 Z\" fill=\"#000000\" fill-rule=\"nonzero\" fill-opacity=\"1\" /><path clip-path=\"url(#clip810)\" d=\"M1085.57 1454.1 Q1081.96 1454.1 1080.13 1457.66 Q1078.32 1461.2 1078.32 1468.33 Q1078.32 1475.44 1080.13 1479.01 Q1081.96 1482.55 1085.57 1482.55 Q1089.2 1482.55 1091.01 1479.01 Q1092.84 1475.44 1092.84 1468.33 Q1092.84 1461.2 1091.01 1457.66 Q1089.2 1454.1 1085.57 1454.1 M1085.57 1450.39 Q1091.38 1450.39 1094.43 1455 Q1097.51 1459.58 1097.51 1468.33 Q1097.51 1477.06 1094.43 1481.67 Q1091.38 1486.25 1085.57 1486.25 Q1079.76 1486.25 1076.68 1481.67 Q1073.62 1477.06 1073.62 1468.33 Q1073.62 1459.58 1076.68 1455 Q1079.76 1450.39 1085.57 1450.39 Z\" fill=\"#000000\" fill-rule=\"nonzero\" fill-opacity=\"1\" /><path clip-path=\"url(#clip810)\" d=\"M1329.91 1481.64 L1337.55 1481.64 L1337.55 1455.28 L1329.24 1456.95 L1329.24 1452.69 L1337.51 1451.02 L1342.18 1451.02 L1342.18 1481.64 L1349.82 1481.64 L1349.82 1485.58 L1329.91 1485.58 L1329.91 1481.64 Z\" fill=\"#000000\" fill-rule=\"nonzero\" fill-opacity=\"1\" /><path clip-path=\"url(#clip810)\" d=\"M1360.08 1481.64 L1367.72 1481.64 L1367.72 1455.28 L1359.41 1456.95 L1359.41 1452.69 L1367.67 1451.02 L1372.34 1451.02 L1372.34 1481.64 L1379.98 1481.64 L1379.98 1485.58 L1360.08 1485.58 L1360.08 1481.64 Z\" fill=\"#000000\" fill-rule=\"nonzero\" fill-opacity=\"1\" /><path clip-path=\"url(#clip810)\" d=\"M1613.19 1481.64 L1620.82 1481.64 L1620.82 1455.28 L1612.51 1456.95 L1612.51 1452.69 L1620.78 1451.02 L1625.45 1451.02 L1625.45 1481.64 L1633.09 1481.64 L1633.09 1485.58 L1613.19 1485.58 L1613.19 1481.64 Z\" fill=\"#000000\" fill-rule=\"nonzero\" fill-opacity=\"1\" /><path clip-path=\"url(#clip810)\" d=\"M1646.57 1481.64 L1662.88 1481.64 L1662.88 1485.58 L1640.94 1485.58 L1640.94 1481.64 Q1643.6 1478.89 1648.19 1474.26 Q1652.79 1469.61 1653.97 1468.27 Q1656.22 1465.74 1657.1 1464.01 Q1658 1462.25 1658 1460.56 Q1658 1457.8 1656.06 1456.07 Q1654.13 1454.33 1651.03 1454.33 Q1648.83 1454.33 1646.38 1455.09 Q1643.95 1455.86 1641.17 1457.41 L1641.17 1452.69 Q1644 1451.55 1646.45 1450.97 Q1648.9 1450.39 1650.94 1450.39 Q1656.31 1450.39 1659.51 1453.08 Q1662.7 1455.77 1662.7 1460.26 Q1662.7 1462.39 1661.89 1464.31 Q1661.1 1466.2 1659 1468.8 Q1658.42 1469.47 1655.32 1472.69 Q1652.21 1475.88 1646.57 1481.64 Z\" fill=\"#000000\" fill-rule=\"nonzero\" fill-opacity=\"1\" /><path clip-path=\"url(#clip810)\" d=\"M1895.8 1481.64 L1903.44 1481.64 L1903.44 1455.28 L1895.13 1456.95 L1895.13 1452.69 L1903.39 1451.02 L1908.07 1451.02 L1908.07 1481.64 L1915.71 1481.64 L1915.71 1485.58 L1895.8 1485.58 L1895.8 1481.64 Z\" fill=\"#000000\" fill-rule=\"nonzero\" fill-opacity=\"1\" /><path clip-path=\"url(#clip810)\" d=\"M1939.32 1466.95 Q1942.67 1467.66 1944.55 1469.93 Q1946.45 1472.2 1946.45 1475.53 Q1946.45 1480.65 1942.93 1483.45 Q1939.41 1486.25 1932.93 1486.25 Q1930.75 1486.25 1928.44 1485.81 Q1926.14 1485.39 1923.69 1484.54 L1923.69 1480.02 Q1925.64 1481.16 1927.95 1481.74 Q1930.27 1482.32 1932.79 1482.32 Q1937.19 1482.32 1939.48 1480.58 Q1941.79 1478.84 1941.79 1475.53 Q1941.79 1472.48 1939.64 1470.77 Q1937.51 1469.03 1933.69 1469.03 L1929.66 1469.03 L1929.66 1465.19 L1933.88 1465.19 Q1937.33 1465.19 1939.15 1463.82 Q1940.98 1462.43 1940.98 1459.84 Q1940.98 1457.18 1939.08 1455.77 Q1937.21 1454.33 1933.69 1454.33 Q1931.77 1454.33 1929.57 1454.75 Q1927.37 1455.16 1924.73 1456.04 L1924.73 1451.88 Q1927.39 1451.14 1929.71 1450.77 Q1932.05 1450.39 1934.11 1450.39 Q1939.43 1450.39 1942.53 1452.83 Q1945.64 1455.23 1945.64 1459.35 Q1945.64 1462.22 1943.99 1464.21 Q1942.35 1466.18 1939.32 1466.95 Z\" fill=\"#000000\" fill-rule=\"nonzero\" fill-opacity=\"1\" /><path clip-path=\"url(#clip810)\" d=\"M2178.32 1481.64 L2185.96 1481.64 L2185.96 1455.28 L2177.65 1456.95 L2177.65 1452.69 L2185.91 1451.02 L2190.59 1451.02 L2190.59 1481.64 L2198.22 1481.64 L2198.22 1485.58 L2178.32 1485.58 L2178.32 1481.64 Z\" fill=\"#000000\" fill-rule=\"nonzero\" fill-opacity=\"1\" /><path clip-path=\"url(#clip810)\" d=\"M2220.52 1455.09 L2208.71 1473.54 L2220.52 1473.54 L2220.52 1455.09 M2219.29 1451.02 L2225.17 1451.02 L2225.17 1473.54 L2230.1 1473.54 L2230.1 1477.43 L2225.17 1477.43 L2225.17 1485.58 L2220.52 1485.58 L2220.52 1477.43 L2204.91 1477.43 L2204.91 1472.92 L2219.29 1451.02 Z\" fill=\"#000000\" fill-rule=\"nonzero\" fill-opacity=\"1\" /><path clip-path=\"url(#clip810)\" d=\"M1023.61 1525.81 L1023.61 1543.66 L1031.69 1543.66 Q1036.18 1543.66 1038.63 1541.34 Q1041.08 1539.02 1041.08 1534.72 Q1041.08 1530.45 1038.63 1528.13 Q1036.18 1525.81 1031.69 1525.81 L1023.61 1525.81 M1017.18 1520.52 L1031.69 1520.52 Q1039.68 1520.52 1043.75 1524.15 Q1047.86 1527.75 1047.86 1534.72 Q1047.86 1541.75 1043.75 1545.35 Q1039.68 1548.95 1031.69 1548.95 L1023.61 1548.95 L1023.61 1568.04 L1017.18 1568.04 L1017.18 1520.52 Z\" fill=\"#000000\" fill-rule=\"nonzero\" fill-opacity=\"1\" /><path clip-path=\"url(#clip810)\" d=\"M1075.74 1537.87 Q1074.75 1537.3 1073.58 1537.04 Q1072.43 1536.76 1071.03 1536.76 Q1066.06 1536.76 1063.39 1540 Q1060.75 1543.22 1060.75 1549.27 L1060.75 1568.04 L1054.86 1568.04 L1054.86 1532.4 L1060.75 1532.4 L1060.75 1537.93 Q1062.6 1534.69 1065.56 1533.13 Q1068.52 1531.54 1072.75 1531.54 Q1073.35 1531.54 1074.09 1531.63 Q1074.82 1531.7 1075.71 1531.85 L1075.74 1537.87 Z\" fill=\"#000000\" fill-rule=\"nonzero\" fill-opacity=\"1\" /><path clip-path=\"url(#clip810)\" d=\"M1110.94 1548.76 L1110.94 1551.62 L1084.02 1551.62 Q1084.4 1557.67 1087.64 1560.85 Q1090.92 1564 1096.75 1564 Q1100.12 1564 1103.27 1563.17 Q1106.46 1562.35 1109.57 1560.69 L1109.57 1566.23 Q1106.42 1567.57 1103.11 1568.27 Q1099.8 1568.97 1096.4 1568.97 Q1087.87 1568.97 1082.87 1564 Q1077.91 1559.04 1077.91 1550.57 Q1077.91 1541.82 1082.62 1536.69 Q1087.36 1531.54 1095.38 1531.54 Q1102.57 1531.54 1106.74 1536.18 Q1110.94 1540.8 1110.94 1548.76 M1105.09 1547.04 Q1105.02 1542.23 1102.38 1539.37 Q1099.77 1536.5 1095.44 1536.5 Q1090.54 1536.5 1087.58 1539.27 Q1084.65 1542.04 1084.21 1547.07 L1105.09 1547.04 Z\" fill=\"#000000\" fill-rule=\"nonzero\" fill-opacity=\"1\" /><path clip-path=\"url(#clip810)\" d=\"M1144.01 1537.81 L1144.01 1518.52 L1149.87 1518.52 L1149.87 1568.04 L1144.01 1568.04 L1144.01 1562.7 Q1142.17 1565.88 1139.33 1567.44 Q1136.53 1568.97 1132.59 1568.97 Q1126.13 1568.97 1122.05 1563.81 Q1118.01 1558.65 1118.01 1550.25 Q1118.01 1541.85 1122.05 1536.69 Q1126.13 1531.54 1132.59 1531.54 Q1136.53 1531.54 1139.33 1533.1 Q1142.17 1534.62 1144.01 1537.81 M1124.06 1550.25 Q1124.06 1556.71 1126.7 1560.4 Q1129.37 1564.07 1134.02 1564.07 Q1138.67 1564.07 1141.34 1560.4 Q1144.01 1556.71 1144.01 1550.25 Q1144.01 1543.79 1141.34 1540.13 Q1138.67 1536.44 1134.02 1536.44 Q1129.37 1536.44 1126.7 1540.13 Q1124.06 1543.79 1124.06 1550.25 Z\" fill=\"#000000\" fill-rule=\"nonzero\" fill-opacity=\"1\" /><path clip-path=\"url(#clip810)\" d=\"M1161.93 1532.4 L1167.79 1532.4 L1167.79 1568.04 L1161.93 1568.04 L1161.93 1532.4 M1161.93 1518.52 L1167.79 1518.52 L1167.79 1525.93 L1161.93 1525.93 L1161.93 1518.52 Z\" fill=\"#000000\" fill-rule=\"nonzero\" fill-opacity=\"1\" /><path clip-path=\"url(#clip810)\" d=\"M1205.7 1533.76 L1205.7 1539.24 Q1203.21 1537.87 1200.7 1537.2 Q1198.22 1536.5 1195.67 1536.5 Q1189.97 1536.5 1186.82 1540.13 Q1183.67 1543.73 1183.67 1550.25 Q1183.67 1556.78 1186.82 1560.4 Q1189.97 1564 1195.67 1564 Q1198.22 1564 1200.7 1563.33 Q1203.21 1562.63 1205.7 1561.26 L1205.7 1566.68 Q1203.25 1567.82 1200.6 1568.39 Q1197.99 1568.97 1195.03 1568.97 Q1186.98 1568.97 1182.24 1563.91 Q1177.5 1558.85 1177.5 1550.25 Q1177.5 1541.53 1182.27 1536.53 Q1187.08 1531.54 1195.42 1531.54 Q1198.12 1531.54 1200.7 1532.11 Q1203.28 1532.65 1205.7 1533.76 Z\" fill=\"#000000\" fill-rule=\"nonzero\" fill-opacity=\"1\" /><path clip-path=\"url(#clip810)\" d=\"M1221.67 1522.27 L1221.67 1532.4 L1233.74 1532.4 L1233.74 1536.95 L1221.67 1536.95 L1221.67 1556.3 Q1221.67 1560.66 1222.85 1561.9 Q1224.06 1563.14 1227.72 1563.14 L1233.74 1563.14 L1233.74 1568.04 L1227.72 1568.04 Q1220.94 1568.04 1218.36 1565.53 Q1215.79 1562.98 1215.79 1556.3 L1215.79 1536.95 L1211.49 1536.95 L1211.49 1532.4 L1215.79 1532.4 L1215.79 1522.27 L1221.67 1522.27 Z\" fill=\"#000000\" fill-rule=\"nonzero\" fill-opacity=\"1\" /><path clip-path=\"url(#clip810)\" d=\"M1271.93 1548.76 L1271.93 1551.62 L1245 1551.62 Q1245.39 1557.67 1248.63 1560.85 Q1251.91 1564 1257.74 1564 Q1261.11 1564 1264.26 1563.17 Q1267.44 1562.35 1270.56 1560.69 L1270.56 1566.23 Q1267.41 1567.57 1264.1 1568.27 Q1260.79 1568.97 1257.39 1568.97 Q1248.86 1568.97 1243.86 1564 Q1238.89 1559.04 1238.89 1550.57 Q1238.89 1541.82 1243.6 1536.69 Q1248.35 1531.54 1256.37 1531.54 Q1263.56 1531.54 1267.73 1536.18 Q1271.93 1540.8 1271.93 1548.76 M1266.08 1547.04 Q1266.01 1542.23 1263.37 1539.37 Q1260.76 1536.5 1256.43 1536.5 Q1251.53 1536.5 1248.57 1539.27 Q1245.64 1542.04 1245.2 1547.07 L1266.08 1547.04 Z\" fill=\"#000000\" fill-rule=\"nonzero\" fill-opacity=\"1\" /><path clip-path=\"url(#clip810)\" d=\"M1305 1537.81 L1305 1518.52 L1310.86 1518.52 L1310.86 1568.04 L1305 1568.04 L1305 1562.7 Q1303.16 1565.88 1300.32 1567.44 Q1297.52 1568.97 1293.58 1568.97 Q1287.11 1568.97 1283.04 1563.81 Q1279 1558.65 1279 1550.25 Q1279 1541.85 1283.04 1536.69 Q1287.11 1531.54 1293.58 1531.54 Q1297.52 1531.54 1300.32 1533.1 Q1303.16 1534.62 1305 1537.81 M1285.05 1550.25 Q1285.05 1556.71 1287.69 1560.4 Q1290.36 1564.07 1295.01 1564.07 Q1299.65 1564.07 1302.33 1560.4 Q1305 1556.71 1305 1550.25 Q1305 1543.79 1302.33 1540.13 Q1299.65 1536.44 1295.01 1536.44 Q1290.36 1536.44 1287.69 1540.13 Q1285.05 1543.79 1285.05 1550.25 Z\" fill=\"#000000\" fill-rule=\"nonzero\" fill-opacity=\"1\" /><path clip-path=\"url(#clip810)\" d=\"M1339.44 1532.4 L1345.65 1532.4 L1356.79 1562.31 L1367.93 1532.4 L1374.13 1532.4 L1360.77 1568.04 L1352.81 1568.04 L1339.44 1532.4 Z\" fill=\"#000000\" fill-rule=\"nonzero\" fill-opacity=\"1\" /><path clip-path=\"url(#clip810)\" d=\"M1398.42 1550.12 Q1391.32 1550.12 1388.58 1551.75 Q1385.85 1553.37 1385.85 1557.29 Q1385.85 1560.4 1387.88 1562.25 Q1389.95 1564.07 1393.48 1564.07 Q1398.35 1564.07 1401.28 1560.63 Q1404.24 1557.16 1404.24 1551.43 L1404.24 1550.12 L1398.42 1550.12 M1410.1 1547.71 L1410.1 1568.04 L1404.24 1568.04 L1404.24 1562.63 Q1402.24 1565.88 1399.25 1567.44 Q1396.25 1568.97 1391.93 1568.97 Q1386.45 1568.97 1383.2 1565.91 Q1379.99 1562.82 1379.99 1557.67 Q1379.99 1551.65 1384 1548.6 Q1388.04 1545.54 1396.03 1545.54 L1404.24 1545.54 L1404.24 1544.97 Q1404.24 1540.93 1401.57 1538.73 Q1398.93 1536.5 1394.12 1536.5 Q1391.07 1536.5 1388.17 1537.23 Q1385.27 1537.97 1382.6 1539.43 L1382.6 1534.02 Q1385.81 1532.78 1388.84 1532.17 Q1391.86 1531.54 1394.73 1531.54 Q1402.46 1531.54 1406.28 1535.55 Q1410.1 1539.56 1410.1 1547.71 Z\" fill=\"#000000\" fill-rule=\"nonzero\" fill-opacity=\"1\" /><path clip-path=\"url(#clip810)\" d=\"M1422.16 1518.52 L1428.02 1518.52 L1428.02 1568.04 L1422.16 1568.04 L1422.16 1518.52 Z\" fill=\"#000000\" fill-rule=\"nonzero\" fill-opacity=\"1\" /><path clip-path=\"url(#clip810)\" d=\"M1439.67 1553.98 L1439.67 1532.4 L1445.52 1532.4 L1445.52 1553.75 Q1445.52 1558.81 1447.5 1561.36 Q1449.47 1563.87 1453.42 1563.87 Q1458.16 1563.87 1460.9 1560.85 Q1463.67 1557.83 1463.67 1552.61 L1463.67 1532.4 L1469.52 1532.4 L1469.52 1568.04 L1463.67 1568.04 L1463.67 1562.57 Q1461.53 1565.82 1458.7 1567.41 Q1455.9 1568.97 1452.18 1568.97 Q1446.03 1568.97 1442.85 1565.15 Q1439.67 1561.33 1439.67 1553.98 M1454.4 1531.54 L1454.4 1531.54 Z\" fill=\"#000000\" fill-rule=\"nonzero\" fill-opacity=\"1\" /><path clip-path=\"url(#clip810)\" d=\"M1512.08 1548.76 L1512.08 1551.62 L1485.15 1551.62 Q1485.53 1557.67 1488.78 1560.85 Q1492.06 1564 1497.88 1564 Q1501.26 1564 1504.41 1563.17 Q1507.59 1562.35 1510.71 1560.69 L1510.71 1566.23 Q1507.56 1567.57 1504.25 1568.27 Q1500.94 1568.97 1497.53 1568.97 Q1489 1568.97 1484.01 1564 Q1479.04 1559.04 1479.04 1550.57 Q1479.04 1541.82 1483.75 1536.69 Q1488.49 1531.54 1496.51 1531.54 Q1503.71 1531.54 1507.88 1536.18 Q1512.08 1540.8 1512.08 1548.76 M1506.22 1547.04 Q1506.16 1542.23 1503.52 1539.37 Q1500.91 1536.5 1496.58 1536.5 Q1491.68 1536.5 1488.72 1539.27 Q1485.79 1542.04 1485.34 1547.07 L1506.22 1547.04 Z\" fill=\"#000000\" fill-rule=\"nonzero\" fill-opacity=\"1\" /><path clip-path=\"url(#clip810)\" d=\"M1544.42 1533.45 L1544.42 1538.98 Q1541.93 1537.71 1539.26 1537.07 Q1536.59 1536.44 1533.72 1536.44 Q1529.36 1536.44 1527.16 1537.77 Q1525 1539.11 1525 1541.79 Q1525 1543.82 1526.56 1545 Q1528.12 1546.15 1532.83 1547.2 L1534.84 1547.64 Q1541.07 1548.98 1543.68 1551.43 Q1546.33 1553.85 1546.33 1558.21 Q1546.33 1563.17 1542.38 1566.07 Q1538.46 1568.97 1531.59 1568.97 Q1528.72 1568.97 1525.61 1568.39 Q1522.52 1567.85 1519.08 1566.74 L1519.08 1560.69 Q1522.33 1562.38 1525.48 1563.24 Q1528.63 1564.07 1531.72 1564.07 Q1535.85 1564.07 1538.08 1562.66 Q1540.31 1561.23 1540.31 1558.65 Q1540.31 1556.27 1538.69 1554.99 Q1537.1 1553.72 1531.65 1552.54 L1529.62 1552.07 Q1524.17 1550.92 1521.75 1548.56 Q1519.34 1546.18 1519.34 1542.04 Q1519.34 1537.01 1522.9 1534.27 Q1526.46 1531.54 1533.02 1531.54 Q1536.27 1531.54 1539.13 1532.01 Q1542 1532.49 1544.42 1533.45 Z\" fill=\"#000000\" fill-rule=\"nonzero\" fill-opacity=\"1\" /><polyline clip-path=\"url(#clip810)\" style=\"stroke:#000000; stroke-linecap:round; stroke-linejoin:round; stroke-width:4; stroke-opacity:1; fill:none\" points=\"210.746,1423.18 210.746,123.472 \"/>\n",
       "<polyline clip-path=\"url(#clip810)\" style=\"stroke:#000000; stroke-linecap:round; stroke-linejoin:round; stroke-width:4; stroke-opacity:1; fill:none\" points=\"210.746,1203.05 229.644,1203.05 \"/>\n",
       "<polyline clip-path=\"url(#clip810)\" style=\"stroke:#000000; stroke-linecap:round; stroke-linejoin:round; stroke-width:4; stroke-opacity:1; fill:none\" points=\"210.746,917.062 229.644,917.062 \"/>\n",
       "<polyline clip-path=\"url(#clip810)\" style=\"stroke:#000000; stroke-linecap:round; stroke-linejoin:round; stroke-width:4; stroke-opacity:1; fill:none\" points=\"210.746,631.077 229.644,631.077 \"/>\n",
       "<polyline clip-path=\"url(#clip810)\" style=\"stroke:#000000; stroke-linecap:round; stroke-linejoin:round; stroke-width:4; stroke-opacity:1; fill:none\" points=\"210.746,345.092 229.644,345.092 \"/>\n",
       "<path clip-path=\"url(#clip810)\" d=\"M114.631 1203.5 L144.306 1203.5 L144.306 1207.43 L114.631 1207.43 L114.631 1203.5 Z\" fill=\"#000000\" fill-rule=\"nonzero\" fill-opacity=\"1\" /><path clip-path=\"url(#clip810)\" d=\"M158.427 1216.39 L174.746 1216.39 L174.746 1220.33 L152.802 1220.33 L152.802 1216.39 Q155.464 1213.64 160.047 1209.01 Q164.653 1204.35 165.834 1203.01 Q168.079 1200.49 168.959 1198.75 Q169.862 1196.99 169.862 1195.3 Q169.862 1192.55 167.917 1190.81 Q165.996 1189.08 162.894 1189.08 Q160.695 1189.08 158.241 1189.84 Q155.811 1190.6 153.033 1192.16 L153.033 1187.43 Q155.857 1186.3 158.311 1185.72 Q160.765 1185.14 162.802 1185.14 Q168.172 1185.14 171.366 1187.83 Q174.561 1190.51 174.561 1195 Q174.561 1197.13 173.751 1199.05 Q172.964 1200.95 170.857 1203.54 Q170.278 1204.22 167.177 1207.43 Q164.075 1210.63 158.427 1216.39 Z\" fill=\"#000000\" fill-rule=\"nonzero\" fill-opacity=\"1\" /><path clip-path=\"url(#clip810)\" d=\"M114.26 917.513 L143.936 917.513 L143.936 921.449 L114.26 921.449 L114.26 917.513 Z\" fill=\"#000000\" fill-rule=\"nonzero\" fill-opacity=\"1\" /><path clip-path=\"url(#clip810)\" d=\"M154.839 930.407 L162.477 930.407 L162.477 904.041 L154.167 905.708 L154.167 901.449 L162.431 899.782 L167.107 899.782 L167.107 930.407 L174.746 930.407 L174.746 934.342 L154.839 934.342 L154.839 930.407 Z\" fill=\"#000000\" fill-rule=\"nonzero\" fill-opacity=\"1\" /><path clip-path=\"url(#clip810)\" d=\"M162.802 616.876 Q159.19 616.876 157.362 620.441 Q155.556 623.982 155.556 631.112 Q155.556 638.218 157.362 641.783 Q159.19 645.325 162.802 645.325 Q166.436 645.325 168.241 641.783 Q170.07 638.218 170.07 631.112 Q170.07 623.982 168.241 620.441 Q166.436 616.876 162.802 616.876 M162.802 613.172 Q168.612 613.172 171.667 617.779 Q174.746 622.362 174.746 631.112 Q174.746 639.839 171.667 644.445 Q168.612 649.028 162.802 649.028 Q156.991 649.028 153.913 644.445 Q150.857 639.839 150.857 631.112 Q150.857 622.362 153.913 617.779 Q156.991 613.172 162.802 613.172 Z\" fill=\"#000000\" fill-rule=\"nonzero\" fill-opacity=\"1\" /><path clip-path=\"url(#clip810)\" d=\"M154.839 358.437 L162.477 358.437 L162.477 332.071 L154.167 333.738 L154.167 329.479 L162.431 327.812 L167.107 327.812 L167.107 358.437 L174.746 358.437 L174.746 362.372 L154.839 362.372 L154.839 358.437 Z\" fill=\"#000000\" fill-rule=\"nonzero\" fill-opacity=\"1\" /><path clip-path=\"url(#clip810)\" d=\"M41.7242 900.624 Q42.4244 898.555 44.7161 896.614 Q47.0077 894.64 51.0181 892.667 L64.0042 886.142 L64.0042 893.049 L51.8138 899.128 Q47.0395 901.484 45.48 903.712 Q43.9204 905.908 43.9204 909.727 L43.9204 916.729 L64.0042 916.729 L64.0042 923.159 L16.4842 923.159 L16.4842 908.645 Q16.4842 900.497 19.8898 896.486 Q23.2955 892.476 30.1704 892.476 Q34.6582 892.476 37.6183 894.577 Q40.5784 896.646 41.7242 900.624 M21.7677 916.729 L38.6368 916.729 L38.6368 908.645 Q38.6368 903.998 36.5043 901.643 Q34.34 899.256 30.1704 899.256 Q26.0009 899.256 23.9002 901.643 Q21.7677 903.998 21.7677 908.645 L21.7677 916.729 Z\" fill=\"#000000\" fill-rule=\"nonzero\" fill-opacity=\"1\" /><path clip-path=\"url(#clip810)\" d=\"M44.7161 850.558 L47.5806 850.558 L47.5806 877.485 Q53.6281 877.103 56.8109 873.856 Q59.9619 870.578 59.9619 864.753 Q59.9619 861.38 59.1344 858.229 Q58.3069 855.046 56.6518 851.927 L62.1899 851.927 Q63.5267 855.078 64.227 858.388 Q64.9272 861.698 64.9272 865.104 Q64.9272 873.634 59.9619 878.631 Q54.9967 883.596 46.5303 883.596 Q37.7774 883.596 32.6531 878.885 Q27.4968 874.143 27.4968 866.122 Q27.4968 858.929 32.1438 854.759 Q36.7589 850.558 44.7161 850.558 M42.9973 856.414 Q38.1912 856.478 35.3266 859.12 Q32.4621 861.73 32.4621 866.058 Q32.4621 870.96 35.2312 873.92 Q38.0002 876.848 43.0292 877.294 L42.9973 856.414 Z\" fill=\"#000000\" fill-rule=\"nonzero\" fill-opacity=\"1\" /><path clip-path=\"url(#clip810)\" d=\"M29.4065 818.22 L34.9447 818.22 Q33.6716 820.703 33.035 823.376 Q32.3984 826.05 32.3984 828.915 Q32.3984 833.275 33.7352 835.471 Q35.072 837.636 37.7456 837.636 Q39.7826 837.636 40.9603 836.076 Q42.1061 834.516 43.1565 829.806 L43.6021 827.801 Q44.9389 821.562 47.3897 818.952 Q49.8086 816.31 54.1691 816.31 Q59.1344 816.31 62.0308 820.257 Q64.9272 824.172 64.9272 831.047 Q64.9272 833.912 64.3543 837.031 Q63.8132 840.118 62.6992 843.556 L56.6518 843.556 Q58.3387 840.309 59.198 837.158 Q60.0256 834.007 60.0256 830.92 Q60.0256 826.782 58.6251 824.554 Q57.1929 822.326 54.6147 822.326 Q52.2276 822.326 50.9545 823.949 Q49.6813 825.541 48.5037 830.983 L48.0262 833.02 Q46.8804 838.463 44.5251 840.882 Q42.138 843.301 38.0002 843.301 Q32.9713 843.301 30.2341 839.736 Q27.4968 836.171 27.4968 829.615 Q27.4968 826.368 27.9743 823.504 Q28.4517 820.639 29.4065 818.22 Z\" fill=\"#000000\" fill-rule=\"nonzero\" fill-opacity=\"1\" /><path clip-path=\"url(#clip810)\" d=\"M28.3562 806.985 L28.3562 801.128 L64.0042 801.128 L64.0042 806.985 L28.3562 806.985 M14.479 806.985 L14.479 801.128 L21.895 801.128 L21.895 806.985 L14.479 806.985 Z\" fill=\"#000000\" fill-rule=\"nonzero\" fill-opacity=\"1\" /><path clip-path=\"url(#clip810)\" d=\"M33.7671 765.417 L14.479 765.417 L14.479 759.56 L64.0042 759.56 L64.0042 765.417 L58.657 765.417 Q61.8398 767.263 63.3994 770.095 Q64.9272 772.896 64.9272 776.843 Q64.9272 783.304 59.771 787.378 Q54.6147 791.421 46.212 791.421 Q37.8093 791.421 32.6531 787.378 Q27.4968 783.304 27.4968 776.843 Q27.4968 772.896 29.0564 770.095 Q30.5842 767.263 33.7671 765.417 M46.212 785.373 Q52.6732 785.373 56.3653 782.731 Q60.0256 780.058 60.0256 775.411 Q60.0256 770.764 56.3653 768.09 Q52.6732 765.417 46.212 765.417 Q39.7508 765.417 36.0905 768.09 Q32.3984 770.764 32.3984 775.411 Q32.3984 780.058 36.0905 782.731 Q39.7508 785.373 46.212 785.373 Z\" fill=\"#000000\" fill-rule=\"nonzero\" fill-opacity=\"1\" /><path clip-path=\"url(#clip810)\" d=\"M49.9359 748.102 L28.3562 748.102 L28.3562 742.245 L49.7131 742.245 Q54.7739 742.245 57.3202 740.272 Q59.8346 738.299 59.8346 734.352 Q59.8346 729.609 56.8109 726.872 Q53.7872 724.103 48.5673 724.103 L28.3562 724.103 L28.3562 718.247 L64.0042 718.247 L64.0042 724.103 L58.5296 724.103 Q61.7762 726.236 63.3676 729.068 Q64.9272 731.869 64.9272 735.593 Q64.9272 741.736 61.1078 744.919 Q57.2883 748.102 49.9359 748.102 M27.4968 733.365 L27.4968 733.365 Z\" fill=\"#000000\" fill-rule=\"nonzero\" fill-opacity=\"1\" /><path clip-path=\"url(#clip810)\" d=\"M46.0847 689.983 Q46.0847 697.081 47.7079 699.818 Q49.3312 702.555 53.2461 702.555 Q56.3653 702.555 58.2114 700.518 Q60.0256 698.449 60.0256 694.916 Q60.0256 690.047 56.5881 687.118 Q53.1188 684.158 47.3897 684.158 L46.0847 684.158 L46.0847 689.983 M43.6657 678.302 L64.0042 678.302 L64.0042 684.158 L58.5933 684.158 Q61.8398 686.164 63.3994 689.155 Q64.9272 692.147 64.9272 696.476 Q64.9272 701.95 61.8716 705.197 Q58.7843 708.412 53.6281 708.412 Q47.6125 708.412 44.5569 704.401 Q41.5014 700.359 41.5014 692.37 L41.5014 684.158 L40.9285 684.158 Q36.8862 684.158 34.6901 686.832 Q32.4621 689.474 32.4621 694.28 Q32.4621 697.335 33.1941 700.232 Q33.9262 703.128 35.3903 705.802 L29.9795 705.802 Q28.7381 702.587 28.1334 699.563 Q27.4968 696.54 27.4968 693.675 Q27.4968 685.941 31.5072 682.121 Q35.5176 678.302 43.6657 678.302 Z\" fill=\"#000000\" fill-rule=\"nonzero\" fill-opacity=\"1\" /><path clip-path=\"url(#clip810)\" d=\"M14.479 666.239 L14.479 660.382 L64.0042 660.382 L64.0042 666.239 L14.479 666.239 Z\" fill=\"#000000\" fill-rule=\"nonzero\" fill-opacity=\"1\" /><path clip-path=\"url(#clip810)\" d=\"M29.4065 625.403 L34.9447 625.403 Q33.6716 627.886 33.035 630.559 Q32.3984 633.233 32.3984 636.097 Q32.3984 640.458 33.7352 642.654 Q35.072 644.818 37.7456 644.818 Q39.7826 644.818 40.9603 643.259 Q42.1061 641.699 43.1565 636.988 L43.6021 634.983 Q44.9389 628.745 47.3897 626.135 Q49.8086 623.493 54.1691 623.493 Q59.1344 623.493 62.0308 627.44 Q64.9272 631.355 64.9272 638.23 Q64.9272 641.094 64.3543 644.214 Q63.8132 647.301 62.6992 650.738 L56.6518 650.738 Q58.3387 647.492 59.198 644.341 Q60.0256 641.19 60.0256 638.102 Q60.0256 633.965 58.6251 631.737 Q57.1929 629.509 54.6147 629.509 Q52.2276 629.509 50.9545 631.132 Q49.6813 632.723 48.5037 638.166 L48.0262 640.203 Q46.8804 645.646 44.5251 648.065 Q42.138 650.484 38.0002 650.484 Q32.9713 650.484 30.2341 646.919 Q27.4968 643.354 27.4968 636.797 Q27.4968 633.551 27.9743 630.686 Q28.4517 627.822 29.4065 625.403 Z\" fill=\"#000000\" fill-rule=\"nonzero\" fill-opacity=\"1\" /><path clip-path=\"url(#clip810)\" d=\"M704.376 44.2197 Q707.009 45.1109 709.48 48.0275 Q711.991 50.9442 714.503 56.0483 L722.807 72.576 L714.017 72.576 L706.279 57.061 Q703.282 50.9847 700.446 48.9997 Q697.651 47.0148 692.79 47.0148 L683.878 47.0148 L683.878 72.576 L675.695 72.576 L675.695 12.096 L694.167 12.096 Q704.538 12.096 709.642 16.4305 Q714.746 20.7649 714.746 29.5149 Q714.746 35.2267 712.072 38.994 Q709.439 42.7613 704.376 44.2197 M683.878 18.8205 L683.878 40.2903 L694.167 40.2903 Q700.082 40.2903 703.079 37.5762 Q706.117 34.8216 706.117 29.5149 Q706.117 24.2082 703.079 21.5346 Q700.082 18.8205 694.167 18.8205 L683.878 18.8205 Z\" fill=\"#000000\" fill-rule=\"nonzero\" fill-opacity=\"1\" /><path clip-path=\"url(#clip810)\" d=\"M768.096 48.0275 L768.096 51.6733 L733.826 51.6733 Q734.312 59.3701 738.444 63.421 Q742.616 67.4314 750.029 67.4314 Q754.323 67.4314 758.334 66.3781 Q762.384 65.3249 766.354 63.2184 L766.354 70.267 Q762.344 71.9684 758.131 72.8596 Q753.918 73.7508 749.584 73.7508 Q738.727 73.7508 732.367 67.4314 Q726.048 61.1119 726.048 50.3365 Q726.048 39.1965 732.043 32.6746 Q738.079 26.1121 748.287 26.1121 Q757.442 26.1121 762.749 32.0264 Q768.096 37.9003 768.096 48.0275 M760.643 45.84 Q760.562 39.7232 757.199 36.0774 Q753.878 32.4315 748.368 32.4315 Q742.13 32.4315 738.363 35.9558 Q734.636 39.4801 734.069 45.8805 L760.643 45.84 Z\" fill=\"#000000\" fill-rule=\"nonzero\" fill-opacity=\"1\" /><path clip-path=\"url(#clip810)\" d=\"M809.253 28.5427 L809.253 35.5912 Q806.094 33.9709 802.691 33.1607 Q799.288 32.3505 795.642 32.3505 Q790.093 32.3505 787.298 34.0519 Q784.543 35.7533 784.543 39.156 Q784.543 41.7486 786.528 43.2475 Q788.513 44.7058 794.508 46.0426 L797.06 46.6097 Q805 48.3111 808.322 51.4303 Q811.684 54.509 811.684 60.0587 Q811.684 66.3781 806.661 70.0644 Q801.678 73.7508 792.928 73.7508 Q789.282 73.7508 785.313 73.0216 Q781.383 72.3329 777.008 70.9151 L777.008 63.2184 Q781.14 65.3654 785.151 66.4591 Q789.161 67.5124 793.09 67.5124 Q798.357 67.5124 801.192 65.73 Q804.028 63.9071 804.028 60.6258 Q804.028 57.5877 801.962 55.9673 Q799.936 54.3469 793.009 52.8481 L790.417 52.2405 Q783.49 50.7821 780.411 47.7845 Q777.332 44.7463 777.332 39.4801 Q777.332 33.0797 781.869 29.5959 Q786.406 26.1121 794.751 26.1121 Q798.883 26.1121 802.529 26.7198 Q806.175 27.3274 809.253 28.5427 Z\" fill=\"#000000\" fill-rule=\"nonzero\" fill-opacity=\"1\" /><path clip-path=\"url(#clip810)\" d=\"M823.553 27.2059 L831.007 27.2059 L831.007 72.576 L823.553 72.576 L823.553 27.2059 M823.553 9.54393 L831.007 9.54393 L831.007 18.9825 L823.553 18.9825 L823.553 9.54393 Z\" fill=\"#000000\" fill-rule=\"nonzero\" fill-opacity=\"1\" /><path clip-path=\"url(#clip810)\" d=\"M876.458 34.0924 L876.458 9.54393 L883.912 9.54393 L883.912 72.576 L876.458 72.576 L876.458 65.7705 Q874.108 69.8214 870.503 71.8063 Q866.938 73.7508 861.915 73.7508 Q853.692 73.7508 848.507 67.1883 Q843.362 60.6258 843.362 49.9314 Q843.362 39.2371 848.507 32.6746 Q853.692 26.1121 861.915 26.1121 Q866.938 26.1121 870.503 28.0971 Q874.108 30.0415 876.458 34.0924 M851.059 49.9314 Q851.059 58.1548 854.421 62.8538 Q857.824 67.5124 863.738 67.5124 Q869.652 67.5124 873.055 62.8538 Q876.458 58.1548 876.458 49.9314 Q876.458 41.7081 873.055 37.0496 Q869.652 32.3505 863.738 32.3505 Q857.824 32.3505 854.421 37.0496 Q851.059 41.7081 851.059 49.9314 Z\" fill=\"#000000\" fill-rule=\"nonzero\" fill-opacity=\"1\" /><path clip-path=\"url(#clip810)\" d=\"M898.495 54.671 L898.495 27.2059 L905.949 27.2059 L905.949 54.3874 Q905.949 60.8284 908.46 64.0691 Q910.972 67.2693 915.995 67.2693 Q922.031 67.2693 925.514 63.421 Q929.039 59.5726 929.039 52.9291 L929.039 27.2059 L936.492 27.2059 L936.492 72.576 L929.039 72.576 L929.039 65.6084 Q926.325 69.7404 922.719 71.7658 Q919.154 73.7508 914.415 73.7508 Q906.597 73.7508 902.546 68.8897 Q898.495 64.0286 898.495 54.671 M917.251 26.1121 L917.251 26.1121 Z\" fill=\"#000000\" fill-rule=\"nonzero\" fill-opacity=\"1\" /><path clip-path=\"url(#clip810)\" d=\"M972.464 49.7694 Q963.431 49.7694 959.947 51.8354 Q956.463 53.9013 956.463 58.8839 Q956.463 62.8538 959.056 65.2034 Q961.689 67.5124 966.185 67.5124 Q972.383 67.5124 976.11 63.1374 Q979.878 58.7219 979.878 51.4303 L979.878 49.7694 L972.464 49.7694 M987.331 46.6907 L987.331 72.576 L979.878 72.576 L979.878 65.6895 Q977.325 69.8214 973.518 71.8063 Q969.71 73.7508 964.201 73.7508 Q957.233 73.7508 953.101 69.8619 Q949.01 65.9325 949.01 59.3701 Q949.01 51.7138 954.114 47.825 Q959.258 43.9361 969.426 43.9361 L979.878 43.9361 L979.878 43.2069 Q979.878 38.0623 976.475 35.2672 Q973.113 32.4315 966.996 32.4315 Q963.107 32.4315 959.42 33.3632 Q955.734 34.295 952.331 36.1584 L952.331 29.2718 Q956.423 27.692 960.271 26.9223 Q964.12 26.1121 967.765 26.1121 Q977.609 26.1121 982.47 31.2163 Q987.331 36.3204 987.331 46.6907 Z\" fill=\"#000000\" fill-rule=\"nonzero\" fill-opacity=\"1\" /><path clip-path=\"url(#clip810)\" d=\"M1002.68 9.54393 L1010.14 9.54393 L1010.14 72.576 L1002.68 72.576 L1002.68 9.54393 Z\" fill=\"#000000\" fill-rule=\"nonzero\" fill-opacity=\"1\" /><path clip-path=\"url(#clip810)\" d=\"M1054.66 28.5427 L1054.66 35.5912 Q1051.5 33.9709 1048.09 33.1607 Q1044.69 32.3505 1041.05 32.3505 Q1035.5 32.3505 1032.7 34.0519 Q1029.95 35.7533 1029.95 39.156 Q1029.95 41.7486 1031.93 43.2475 Q1033.92 44.7058 1039.91 46.0426 L1042.46 46.6097 Q1050.4 48.3111 1053.73 51.4303 Q1057.09 54.509 1057.09 60.0587 Q1057.09 66.3781 1052.06 70.0644 Q1047.08 73.7508 1038.33 73.7508 Q1034.69 73.7508 1030.72 73.0216 Q1026.79 72.3329 1022.41 70.9151 L1022.41 63.2184 Q1026.54 65.3654 1030.55 66.4591 Q1034.56 67.5124 1038.49 67.5124 Q1043.76 67.5124 1046.6 65.73 Q1049.43 63.9071 1049.43 60.6258 Q1049.43 57.5877 1047.37 55.9673 Q1045.34 54.3469 1038.41 52.8481 L1035.82 52.2405 Q1028.89 50.7821 1025.81 47.7845 Q1022.74 44.7463 1022.74 39.4801 Q1022.74 33.0797 1027.27 29.5959 Q1031.81 26.1121 1040.15 26.1121 Q1044.29 26.1121 1047.93 26.7198 Q1051.58 27.3274 1054.66 28.5427 Z\" fill=\"#000000\" fill-rule=\"nonzero\" fill-opacity=\"1\" /><path clip-path=\"url(#clip810)\" d=\"M1089.98 27.2059 L1097.88 27.2059 L1112.06 65.2844 L1126.24 27.2059 L1134.14 27.2059 L1117.12 72.576 L1106.99 72.576 L1089.98 27.2059 Z\" fill=\"#000000\" fill-rule=\"nonzero\" fill-opacity=\"1\" /><path clip-path=\"url(#clip810)\" d=\"M1173.35 28.5427 L1173.35 35.5912 Q1170.19 33.9709 1166.79 33.1607 Q1163.38 32.3505 1159.74 32.3505 Q1154.19 32.3505 1151.39 34.0519 Q1148.64 35.7533 1148.64 39.156 Q1148.64 41.7486 1150.62 43.2475 Q1152.61 44.7058 1158.6 46.0426 L1161.16 46.6097 Q1169.1 48.3111 1172.42 51.4303 Q1175.78 54.509 1175.78 60.0587 Q1175.78 66.3781 1170.76 70.0644 Q1165.77 73.7508 1157.02 73.7508 Q1153.38 73.7508 1149.41 73.0216 Q1145.48 72.3329 1141.1 70.9151 L1141.1 63.2184 Q1145.24 65.3654 1149.25 66.4591 Q1153.26 67.5124 1157.19 67.5124 Q1162.45 67.5124 1165.29 65.73 Q1168.12 63.9071 1168.12 60.6258 Q1168.12 57.5877 1166.06 55.9673 Q1164.03 54.3469 1157.1 52.8481 L1154.51 52.2405 Q1147.58 50.7821 1144.51 47.7845 Q1141.43 44.7463 1141.43 39.4801 Q1141.43 33.0797 1145.96 29.5959 Q1150.5 26.1121 1158.85 26.1121 Q1162.98 26.1121 1166.62 26.7198 Q1170.27 27.3274 1173.35 28.5427 Z\" fill=\"#000000\" fill-rule=\"nonzero\" fill-opacity=\"1\" /><path clip-path=\"url(#clip810)\" d=\"M1222.53 18.8205 L1222.53 41.5461 L1232.82 41.5461 Q1238.53 41.5461 1241.65 38.5889 Q1244.77 35.6318 1244.77 30.163 Q1244.77 24.7348 1241.65 21.7777 Q1238.53 18.8205 1232.82 18.8205 L1222.53 18.8205 M1214.34 12.096 L1232.82 12.096 Q1242.98 12.096 1248.17 16.714 Q1253.39 21.2916 1253.39 30.163 Q1253.39 39.1155 1248.17 43.6931 Q1242.98 48.2706 1232.82 48.2706 L1222.53 48.2706 L1222.53 72.576 L1214.34 72.576 L1214.34 12.096 Z\" fill=\"#000000\" fill-rule=\"nonzero\" fill-opacity=\"1\" /><path clip-path=\"url(#clip810)\" d=\"M1288.88 34.1734 Q1287.62 33.4443 1286.13 33.1202 Q1284.67 32.7556 1282.89 32.7556 Q1276.57 32.7556 1273.16 36.8875 Q1269.8 40.9789 1269.8 48.6757 L1269.8 72.576 L1262.31 72.576 L1262.31 27.2059 L1269.8 27.2059 L1269.8 34.2544 Q1272.15 30.1225 1275.92 28.1376 Q1279.68 26.1121 1285.07 26.1121 Q1285.84 26.1121 1286.77 26.2337 Q1287.71 26.3147 1288.84 26.5172 L1288.88 34.1734 Z\" fill=\"#000000\" fill-rule=\"nonzero\" fill-opacity=\"1\" /><path clip-path=\"url(#clip810)\" d=\"M1333.68 48.0275 L1333.68 51.6733 L1299.41 51.6733 Q1299.9 59.3701 1304.03 63.421 Q1308.2 67.4314 1315.62 67.4314 Q1319.91 67.4314 1323.92 66.3781 Q1327.97 65.3249 1331.94 63.2184 L1331.94 70.267 Q1327.93 71.9684 1323.72 72.8596 Q1319.51 73.7508 1315.17 73.7508 Q1304.31 73.7508 1297.95 67.4314 Q1291.64 61.1119 1291.64 50.3365 Q1291.64 39.1965 1297.63 32.6746 Q1303.67 26.1121 1313.87 26.1121 Q1323.03 26.1121 1328.34 32.0264 Q1333.68 37.9003 1333.68 48.0275 M1326.23 45.84 Q1326.15 39.7232 1322.79 36.0774 Q1319.46 32.4315 1313.96 32.4315 Q1307.72 32.4315 1303.95 35.9558 Q1300.22 39.4801 1299.66 45.8805 L1326.23 45.84 Z\" fill=\"#000000\" fill-rule=\"nonzero\" fill-opacity=\"1\" /><path clip-path=\"url(#clip810)\" d=\"M1375.77 34.0924 L1375.77 9.54393 L1383.23 9.54393 L1383.23 72.576 L1375.77 72.576 L1375.77 65.7705 Q1373.42 69.8214 1369.82 71.8063 Q1366.25 73.7508 1361.23 73.7508 Q1353.01 73.7508 1347.82 67.1883 Q1342.68 60.6258 1342.68 49.9314 Q1342.68 39.2371 1347.82 32.6746 Q1353.01 26.1121 1361.23 26.1121 Q1366.25 26.1121 1369.82 28.0971 Q1373.42 30.0415 1375.77 34.0924 M1350.37 49.9314 Q1350.37 58.1548 1353.74 62.8538 Q1357.14 67.5124 1363.05 67.5124 Q1368.97 67.5124 1372.37 62.8538 Q1375.77 58.1548 1375.77 49.9314 Q1375.77 41.7081 1372.37 37.0496 Q1368.97 32.3505 1363.05 32.3505 Q1357.14 32.3505 1353.74 37.0496 Q1350.37 41.7081 1350.37 49.9314 Z\" fill=\"#000000\" fill-rule=\"nonzero\" fill-opacity=\"1\" /><path clip-path=\"url(#clip810)\" d=\"M1398.58 27.2059 L1406.03 27.2059 L1406.03 72.576 L1398.58 72.576 L1398.58 27.2059 M1398.58 9.54393 L1406.03 9.54393 L1406.03 18.9825 L1398.58 18.9825 L1398.58 9.54393 Z\" fill=\"#000000\" fill-rule=\"nonzero\" fill-opacity=\"1\" /><path clip-path=\"url(#clip810)\" d=\"M1454.28 28.9478 L1454.28 35.9153 Q1451.12 34.1734 1447.92 33.3227 Q1444.76 32.4315 1441.52 32.4315 Q1434.27 32.4315 1430.26 37.0496 Q1426.25 41.6271 1426.25 49.9314 Q1426.25 58.2358 1430.26 62.8538 Q1434.27 67.4314 1441.52 67.4314 Q1444.76 67.4314 1447.92 66.5807 Q1451.12 65.6895 1454.28 63.9476 L1454.28 70.8341 Q1451.16 72.2924 1447.8 73.0216 Q1444.48 73.7508 1440.71 73.7508 Q1430.46 73.7508 1424.42 67.3098 Q1418.39 60.8689 1418.39 49.9314 Q1418.39 38.832 1424.46 32.472 Q1430.58 26.1121 1441.19 26.1121 Q1444.64 26.1121 1447.92 26.8413 Q1451.2 27.5299 1454.28 28.9478 Z\" fill=\"#000000\" fill-rule=\"nonzero\" fill-opacity=\"1\" /><path clip-path=\"url(#clip810)\" d=\"M1474.61 14.324 L1474.61 27.2059 L1489.97 27.2059 L1489.97 32.9987 L1474.61 32.9987 L1474.61 57.6282 Q1474.61 63.1779 1476.11 64.7578 Q1477.65 66.3376 1482.31 66.3376 L1489.97 66.3376 L1489.97 72.576 L1482.31 72.576 Q1473.68 72.576 1470.4 69.3758 Q1467.12 66.1351 1467.12 57.6282 L1467.12 32.9987 L1461.65 32.9987 L1461.65 27.2059 L1467.12 27.2059 L1467.12 14.324 L1474.61 14.324 Z\" fill=\"#000000\" fill-rule=\"nonzero\" fill-opacity=\"1\" /><path clip-path=\"url(#clip810)\" d=\"M1538.58 48.0275 L1538.58 51.6733 L1504.31 51.6733 Q1504.79 59.3701 1508.93 63.421 Q1513.1 67.4314 1520.51 67.4314 Q1524.81 67.4314 1528.82 66.3781 Q1532.87 65.3249 1536.84 63.2184 L1536.84 70.267 Q1532.83 71.9684 1528.61 72.8596 Q1524.4 73.7508 1520.07 73.7508 Q1509.21 73.7508 1502.85 67.4314 Q1496.53 61.1119 1496.53 50.3365 Q1496.53 39.1965 1502.53 32.6746 Q1508.56 26.1121 1518.77 26.1121 Q1527.92 26.1121 1533.23 32.0264 Q1538.58 37.9003 1538.58 48.0275 M1531.12 45.84 Q1531.04 39.7232 1527.68 36.0774 Q1524.36 32.4315 1518.85 32.4315 Q1512.61 32.4315 1508.84 35.9558 Q1505.12 39.4801 1504.55 45.8805 L1531.12 45.84 Z\" fill=\"#000000\" fill-rule=\"nonzero\" fill-opacity=\"1\" /><path clip-path=\"url(#clip810)\" d=\"M1580.67 34.0924 L1580.67 9.54393 L1588.12 9.54393 L1588.12 72.576 L1580.67 72.576 L1580.67 65.7705 Q1578.32 69.8214 1574.71 71.8063 Q1571.15 73.7508 1566.12 73.7508 Q1557.9 73.7508 1552.72 67.1883 Q1547.57 60.6258 1547.57 49.9314 Q1547.57 39.2371 1552.72 32.6746 Q1557.9 26.1121 1566.12 26.1121 Q1571.15 26.1121 1574.71 28.0971 Q1578.32 30.0415 1580.67 34.0924 M1555.27 49.9314 Q1555.27 58.1548 1558.63 62.8538 Q1562.03 67.5124 1567.95 67.5124 Q1573.86 67.5124 1577.26 62.8538 Q1580.67 58.1548 1580.67 49.9314 Q1580.67 41.7081 1577.26 37.0496 Q1573.86 32.3505 1567.95 32.3505 Q1562.03 32.3505 1558.63 37.0496 Q1555.27 41.7081 1555.27 49.9314 Z\" fill=\"#000000\" fill-rule=\"nonzero\" fill-opacity=\"1\" /><path clip-path=\"url(#clip810)\" d=\"M1624.5 27.2059 L1632.4 27.2059 L1646.58 65.2844 L1660.75 27.2059 L1668.65 27.2059 L1651.64 72.576 L1641.51 72.576 L1624.5 27.2059 Z\" fill=\"#000000\" fill-rule=\"nonzero\" fill-opacity=\"1\" /><path clip-path=\"url(#clip810)\" d=\"M1699.56 49.7694 Q1690.53 49.7694 1687.04 51.8354 Q1683.56 53.9013 1683.56 58.8839 Q1683.56 62.8538 1686.15 65.2034 Q1688.79 67.5124 1693.28 67.5124 Q1699.48 67.5124 1703.21 63.1374 Q1706.97 58.7219 1706.97 51.4303 L1706.97 49.7694 L1699.56 49.7694 M1714.43 46.6907 L1714.43 72.576 L1706.97 72.576 L1706.97 65.6895 Q1704.42 69.8214 1700.61 71.8063 Q1696.81 73.7508 1691.3 73.7508 Q1684.33 73.7508 1680.2 69.8619 Q1676.11 65.9325 1676.11 59.3701 Q1676.11 51.7138 1681.21 47.825 Q1686.36 43.9361 1696.52 43.9361 L1706.97 43.9361 L1706.97 43.2069 Q1706.97 38.0623 1703.57 35.2672 Q1700.21 32.4315 1694.09 32.4315 Q1690.2 32.4315 1686.52 33.3632 Q1682.83 34.295 1679.43 36.1584 L1679.43 29.2718 Q1683.52 27.692 1687.37 26.9223 Q1691.22 26.1121 1694.86 26.1121 Q1704.71 26.1121 1709.57 31.2163 Q1714.43 36.3204 1714.43 46.6907 Z\" fill=\"#000000\" fill-rule=\"nonzero\" fill-opacity=\"1\" /><path clip-path=\"url(#clip810)\" d=\"M1729.78 9.54393 L1737.23 9.54393 L1737.23 72.576 L1729.78 72.576 L1729.78 9.54393 Z\" fill=\"#000000\" fill-rule=\"nonzero\" fill-opacity=\"1\" /><path clip-path=\"url(#clip810)\" d=\"M1752.06 54.671 L1752.06 27.2059 L1759.51 27.2059 L1759.51 54.3874 Q1759.51 60.8284 1762.03 64.0691 Q1764.54 67.2693 1769.56 67.2693 Q1775.6 67.2693 1779.08 63.421 Q1782.6 59.5726 1782.6 52.9291 L1782.6 27.2059 L1790.06 27.2059 L1790.06 72.576 L1782.6 72.576 L1782.6 65.6084 Q1779.89 69.7404 1776.29 71.7658 Q1772.72 73.7508 1767.98 73.7508 Q1760.16 73.7508 1756.11 68.8897 Q1752.06 64.0286 1752.06 54.671 M1770.82 26.1121 L1770.82 26.1121 Z\" fill=\"#000000\" fill-rule=\"nonzero\" fill-opacity=\"1\" /><path clip-path=\"url(#clip810)\" d=\"M1844.22 48.0275 L1844.22 51.6733 L1809.95 51.6733 Q1810.43 59.3701 1814.57 63.421 Q1818.74 67.4314 1826.15 67.4314 Q1830.45 67.4314 1834.46 66.3781 Q1838.51 65.3249 1842.48 63.2184 L1842.48 70.267 Q1838.47 71.9684 1834.25 72.8596 Q1830.04 73.7508 1825.71 73.7508 Q1814.85 73.7508 1808.49 67.4314 Q1802.17 61.1119 1802.17 50.3365 Q1802.17 39.1965 1808.17 32.6746 Q1814.2 26.1121 1824.41 26.1121 Q1833.57 26.1121 1838.87 32.0264 Q1844.22 37.9003 1844.22 48.0275 M1836.77 45.84 Q1836.68 39.7232 1833.32 36.0774 Q1830 32.4315 1824.49 32.4315 Q1818.25 32.4315 1814.49 35.9558 Q1810.76 39.4801 1810.19 45.8805 L1836.77 45.84 Z\" fill=\"#000000\" fill-rule=\"nonzero\" fill-opacity=\"1\" /><path clip-path=\"url(#clip810)\" d=\"M1885.38 28.5427 L1885.38 35.5912 Q1882.22 33.9709 1878.81 33.1607 Q1875.41 32.3505 1871.77 32.3505 Q1866.22 32.3505 1863.42 34.0519 Q1860.67 35.7533 1860.67 39.156 Q1860.67 41.7486 1862.65 43.2475 Q1864.64 44.7058 1870.63 46.0426 L1873.18 46.6097 Q1881.12 48.3111 1884.44 51.4303 Q1887.81 54.509 1887.81 60.0587 Q1887.81 66.3781 1882.78 70.0644 Q1877.8 73.7508 1869.05 73.7508 Q1865.41 73.7508 1861.44 73.0216 Q1857.51 72.3329 1853.13 70.9151 L1853.13 63.2184 Q1857.26 65.3654 1861.27 66.4591 Q1865.28 67.5124 1869.21 67.5124 Q1874.48 67.5124 1877.31 65.73 Q1880.15 63.9071 1880.15 60.6258 Q1880.15 57.5877 1878.08 55.9673 Q1876.06 54.3469 1869.13 52.8481 L1866.54 52.2405 Q1859.61 50.7821 1856.53 47.7845 Q1853.46 44.7463 1853.46 39.4801 Q1853.46 33.0797 1857.99 29.5959 Q1862.53 26.1121 1870.87 26.1121 Q1875.01 26.1121 1878.65 26.7198 Q1882.3 27.3274 1885.38 28.5427 Z\" fill=\"#000000\" fill-rule=\"nonzero\" fill-opacity=\"1\" /><circle clip-path=\"url(#clip812)\" cx=\"1800.49\" cy=\"575.14\" r=\"14.4\" fill=\"#009af9\" fill-rule=\"evenodd\" fill-opacity=\"1\" stroke=\"#000000\" stroke-opacity=\"1\" stroke-width=\"3.2\"/>\n",
       "<circle clip-path=\"url(#clip812)\" cx=\"1768.04\" cy=\"607.929\" r=\"14.4\" fill=\"#009af9\" fill-rule=\"evenodd\" fill-opacity=\"1\" stroke=\"#000000\" stroke-opacity=\"1\" stroke-width=\"3.2\"/>\n",
       "<circle clip-path=\"url(#clip812)\" cx=\"1768.04\" cy=\"607.929\" r=\"14.4\" fill=\"#009af9\" fill-rule=\"evenodd\" fill-opacity=\"1\" stroke=\"#000000\" stroke-opacity=\"1\" stroke-width=\"3.2\"/>\n",
       "<circle clip-path=\"url(#clip812)\" cx=\"1335.49\" cy=\"307.33\" r=\"14.4\" fill=\"#009af9\" fill-rule=\"evenodd\" fill-opacity=\"1\" stroke=\"#000000\" stroke-opacity=\"1\" stroke-width=\"3.2\"/>\n",
       "<circle clip-path=\"url(#clip812)\" cx=\"1455.38\" cy=\"441.009\" r=\"14.4\" fill=\"#009af9\" fill-rule=\"evenodd\" fill-opacity=\"1\" stroke=\"#000000\" stroke-opacity=\"1\" stroke-width=\"3.2\"/>\n",
       "<circle clip-path=\"url(#clip812)\" cx=\"1455.38\" cy=\"441.009\" r=\"14.4\" fill=\"#009af9\" fill-rule=\"evenodd\" fill-opacity=\"1\" stroke=\"#000000\" stroke-opacity=\"1\" stroke-width=\"3.2\"/>\n",
       "<circle clip-path=\"url(#clip812)\" cx=\"1455.38\" cy=\"586.607\" r=\"14.4\" fill=\"#009af9\" fill-rule=\"evenodd\" fill-opacity=\"1\" stroke=\"#000000\" stroke-opacity=\"1\" stroke-width=\"3.2\"/>\n",
       "<circle clip-path=\"url(#clip812)\" cx=\"1367.95\" cy=\"274.541\" r=\"14.4\" fill=\"#009af9\" fill-rule=\"evenodd\" fill-opacity=\"1\" stroke=\"#000000\" stroke-opacity=\"1\" stroke-width=\"3.2\"/>\n",
       "<circle clip-path=\"url(#clip812)\" cx=\"1335.49\" cy=\"562.127\" r=\"14.4\" fill=\"#009af9\" fill-rule=\"evenodd\" fill-opacity=\"1\" stroke=\"#000000\" stroke-opacity=\"1\" stroke-width=\"3.2\"/>\n",
       "<circle clip-path=\"url(#clip812)\" cx=\"1335.49\" cy=\"707.726\" r=\"14.4\" fill=\"#009af9\" fill-rule=\"evenodd\" fill-opacity=\"1\" stroke=\"#000000\" stroke-opacity=\"1\" stroke-width=\"3.2\"/>\n",
       "<circle clip-path=\"url(#clip812)\" cx=\"1367.95\" cy=\"835.096\" r=\"14.4\" fill=\"#009af9\" fill-rule=\"evenodd\" fill-opacity=\"1\" stroke=\"#000000\" stroke-opacity=\"1\" stroke-width=\"3.2\"/>\n",
       "<circle clip-path=\"url(#clip812)\" cx=\"1367.95\" cy=\"274.541\" r=\"14.4\" fill=\"#009af9\" fill-rule=\"evenodd\" fill-opacity=\"1\" stroke=\"#000000\" stroke-opacity=\"1\" stroke-width=\"3.2\"/>\n",
       "<circle clip-path=\"url(#clip812)\" cx=\"910.026\" cy=\"625.043\" r=\"14.4\" fill=\"#009af9\" fill-rule=\"evenodd\" fill-opacity=\"1\" stroke=\"#000000\" stroke-opacity=\"1\" stroke-width=\"3.2\"/>\n",
       "<circle clip-path=\"url(#clip812)\" cx=\"674.19\" cy=\"342.521\" r=\"14.4\" fill=\"#009af9\" fill-rule=\"evenodd\" fill-opacity=\"1\" stroke=\"#000000\" stroke-opacity=\"1\" stroke-width=\"3.2\"/>\n",
       "<circle clip-path=\"url(#clip812)\" cx=\"877.57\" cy=\"458.524\" r=\"14.4\" fill=\"#009af9\" fill-rule=\"evenodd\" fill-opacity=\"1\" stroke=\"#000000\" stroke-opacity=\"1\" stroke-width=\"3.2\"/>\n",
       "<circle clip-path=\"url(#clip812)\" cx=\"997.461\" cy=\"1386.4\" r=\"14.4\" fill=\"#009af9\" fill-rule=\"evenodd\" fill-opacity=\"1\" stroke=\"#000000\" stroke-opacity=\"1\" stroke-width=\"3.2\"/>\n",
       "<circle clip-path=\"url(#clip812)\" cx=\"674.19\" cy=\"975.405\" r=\"14.4\" fill=\"#009af9\" fill-rule=\"evenodd\" fill-opacity=\"1\" stroke=\"#000000\" stroke-opacity=\"1\" stroke-width=\"3.2\"/>\n",
       "<circle clip-path=\"url(#clip812)\" cx=\"674.19\" cy=\"575.009\" r=\"14.4\" fill=\"#009af9\" fill-rule=\"evenodd\" fill-opacity=\"1\" stroke=\"#000000\" stroke-opacity=\"1\" stroke-width=\"3.2\"/>\n",
       "<circle clip-path=\"url(#clip812)\" cx=\"674.19\" cy=\"575.009\" r=\"14.4\" fill=\"#009af9\" fill-rule=\"evenodd\" fill-opacity=\"1\" stroke=\"#000000\" stroke-opacity=\"1\" stroke-width=\"3.2\"/>\n",
       "<circle clip-path=\"url(#clip812)\" cx=\"910.026\" cy=\"1137.55\" r=\"14.4\" fill=\"#009af9\" fill-rule=\"evenodd\" fill-opacity=\"1\" stroke=\"#000000\" stroke-opacity=\"1\" stroke-width=\"3.2\"/>\n",
       "<circle clip-path=\"url(#clip812)\" cx=\"910.026\" cy=\"859.014\" r=\"14.4\" fill=\"#009af9\" fill-rule=\"evenodd\" fill-opacity=\"1\" stroke=\"#000000\" stroke-opacity=\"1\" stroke-width=\"3.2\"/>\n",
       "<circle clip-path=\"url(#clip812)\" cx=\"997.461\" cy=\"433.226\" r=\"14.4\" fill=\"#009af9\" fill-rule=\"evenodd\" fill-opacity=\"1\" stroke=\"#000000\" stroke-opacity=\"1\" stroke-width=\"3.2\"/>\n",
       "<circle clip-path=\"url(#clip812)\" cx=\"910.026\" cy=\"521.556\" r=\"14.4\" fill=\"#009af9\" fill-rule=\"evenodd\" fill-opacity=\"1\" stroke=\"#000000\" stroke-opacity=\"1\" stroke-width=\"3.2\"/>\n",
       "<circle clip-path=\"url(#clip812)\" cx=\"910.026\" cy=\"859.014\" r=\"14.4\" fill=\"#009af9\" fill-rule=\"evenodd\" fill-opacity=\"1\" stroke=\"#000000\" stroke-opacity=\"1\" stroke-width=\"3.2\"/>\n",
       "<circle clip-path=\"url(#clip812)\" cx=\"674.19\" cy=\"663.986\" r=\"14.4\" fill=\"#009af9\" fill-rule=\"evenodd\" fill-opacity=\"1\" stroke=\"#000000\" stroke-opacity=\"1\" stroke-width=\"3.2\"/>\n",
       "<circle clip-path=\"url(#clip812)\" cx=\"2275.24\" cy=\"759.344\" r=\"14.4\" fill=\"#009af9\" fill-rule=\"evenodd\" fill-opacity=\"1\" stroke=\"#000000\" stroke-opacity=\"1\" stroke-width=\"3.2\"/>\n",
       "<circle clip-path=\"url(#clip812)\" cx=\"2275.24\" cy=\"1039.62\" r=\"14.4\" fill=\"#009af9\" fill-rule=\"evenodd\" fill-opacity=\"1\" stroke=\"#000000\" stroke-opacity=\"1\" stroke-width=\"3.2\"/>\n",
       "<circle clip-path=\"url(#clip812)\" cx=\"1986.2\" cy=\"804.046\" r=\"14.4\" fill=\"#009af9\" fill-rule=\"evenodd\" fill-opacity=\"1\" stroke=\"#000000\" stroke-opacity=\"1\" stroke-width=\"3.2\"/>\n",
       "<circle clip-path=\"url(#clip812)\" cx=\"349.288\" cy=\"903.238\" r=\"14.4\" fill=\"#009af9\" fill-rule=\"evenodd\" fill-opacity=\"1\" stroke=\"#000000\" stroke-opacity=\"1\" stroke-width=\"3.2\"/>\n",
       "<circle clip-path=\"url(#clip812)\" cx=\"349.288\" cy=\"670.75\" r=\"14.4\" fill=\"#009af9\" fill-rule=\"evenodd\" fill-opacity=\"1\" stroke=\"#000000\" stroke-opacity=\"1\" stroke-width=\"3.2\"/>\n",
       "<circle clip-path=\"url(#clip812)\" cx=\"316.832\" cy=\"635.73\" r=\"14.4\" fill=\"#009af9\" fill-rule=\"evenodd\" fill-opacity=\"1\" stroke=\"#000000\" stroke-opacity=\"1\" stroke-width=\"3.2\"/>\n",
       "<circle clip-path=\"url(#clip812)\" cx=\"316.832\" cy=\"703.539\" r=\"14.4\" fill=\"#009af9\" fill-rule=\"evenodd\" fill-opacity=\"1\" stroke=\"#000000\" stroke-opacity=\"1\" stroke-width=\"3.2\"/>\n",
       "<circle clip-path=\"url(#clip812)\" cx=\"585.124\" cy=\"849.785\" r=\"14.4\" fill=\"#009af9\" fill-rule=\"evenodd\" fill-opacity=\"1\" stroke=\"#000000\" stroke-opacity=\"1\" stroke-width=\"3.2\"/>\n",
       "<circle clip-path=\"url(#clip812)\" cx=\"271.369\" cy=\"558.006\" r=\"14.4\" fill=\"#009af9\" fill-rule=\"evenodd\" fill-opacity=\"1\" stroke=\"#000000\" stroke-opacity=\"1\" stroke-width=\"3.2\"/>\n",
       "<circle clip-path=\"url(#clip812)\" cx=\"422.176\" cy=\"529.306\" r=\"14.4\" fill=\"#009af9\" fill-rule=\"evenodd\" fill-opacity=\"1\" stroke=\"#000000\" stroke-opacity=\"1\" stroke-width=\"3.2\"/>\n",
       "<circle clip-path=\"url(#clip812)\" cx=\"422.176\" cy=\"669.445\" r=\"14.4\" fill=\"#009af9\" fill-rule=\"evenodd\" fill-opacity=\"1\" stroke=\"#000000\" stroke-opacity=\"1\" stroke-width=\"3.2\"/>\n",
       "<circle clip-path=\"url(#clip812)\" cx=\"422.176\" cy=\"597.115\" r=\"14.4\" fill=\"#009af9\" fill-rule=\"evenodd\" fill-opacity=\"1\" stroke=\"#000000\" stroke-opacity=\"1\" stroke-width=\"3.2\"/>\n",
       "<circle clip-path=\"url(#clip812)\" cx=\"2032.3\" cy=\"537.645\" r=\"14.4\" fill=\"#009af9\" fill-rule=\"evenodd\" fill-opacity=\"1\" stroke=\"#000000\" stroke-opacity=\"1\" stroke-width=\"3.2\"/>\n",
       "<circle clip-path=\"url(#clip812)\" cx=\"2032.3\" cy=\"537.645\" r=\"14.4\" fill=\"#009af9\" fill-rule=\"evenodd\" fill-opacity=\"1\" stroke=\"#000000\" stroke-opacity=\"1\" stroke-width=\"3.2\"/>\n",
       "<circle clip-path=\"url(#clip812)\" cx=\"2032.3\" cy=\"537.645\" r=\"14.4\" fill=\"#009af9\" fill-rule=\"evenodd\" fill-opacity=\"1\" stroke=\"#000000\" stroke-opacity=\"1\" stroke-width=\"3.2\"/>\n",
       "<circle clip-path=\"url(#clip812)\" cx=\"2032.3\" cy=\"537.645\" r=\"14.4\" fill=\"#009af9\" fill-rule=\"evenodd\" fill-opacity=\"1\" stroke=\"#000000\" stroke-opacity=\"1\" stroke-width=\"3.2\"/>\n",
       "<circle clip-path=\"url(#clip812)\" cx=\"2032.3\" cy=\"537.645\" r=\"14.4\" fill=\"#009af9\" fill-rule=\"evenodd\" fill-opacity=\"1\" stroke=\"#000000\" stroke-opacity=\"1\" stroke-width=\"3.2\"/>\n",
       "<circle clip-path=\"url(#clip812)\" cx=\"2032.3\" cy=\"537.645\" r=\"14.4\" fill=\"#009af9\" fill-rule=\"evenodd\" fill-opacity=\"1\" stroke=\"#000000\" stroke-opacity=\"1\" stroke-width=\"3.2\"/>\n",
       "<circle clip-path=\"url(#clip812)\" cx=\"1239.76\" cy=\"804.444\" r=\"14.4\" fill=\"#009af9\" fill-rule=\"evenodd\" fill-opacity=\"1\" stroke=\"#000000\" stroke-opacity=\"1\" stroke-width=\"3.2\"/>\n",
       "<circle clip-path=\"url(#clip812)\" cx=\"1239.76\" cy=\"804.444\" r=\"14.4\" fill=\"#009af9\" fill-rule=\"evenodd\" fill-opacity=\"1\" stroke=\"#000000\" stroke-opacity=\"1\" stroke-width=\"3.2\"/>\n",
       "<circle clip-path=\"url(#clip812)\" cx=\"1475.59\" cy=\"726.352\" r=\"14.4\" fill=\"#009af9\" fill-rule=\"evenodd\" fill-opacity=\"1\" stroke=\"#000000\" stroke-opacity=\"1\" stroke-width=\"3.2\"/>\n",
       "<circle clip-path=\"url(#clip812)\" cx=\"1563.03\" cy=\"638.022\" r=\"14.4\" fill=\"#009af9\" fill-rule=\"evenodd\" fill-opacity=\"1\" stroke=\"#000000\" stroke-opacity=\"1\" stroke-width=\"3.2\"/>\n",
       "<circle clip-path=\"url(#clip812)\" cx=\"1475.59\" cy=\"726.352\" r=\"14.4\" fill=\"#009af9\" fill-rule=\"evenodd\" fill-opacity=\"1\" stroke=\"#000000\" stroke-opacity=\"1\" stroke-width=\"3.2\"/>\n",
       "<circle clip-path=\"url(#clip812)\" cx=\"1475.59\" cy=\"566.194\" r=\"14.4\" fill=\"#009af9\" fill-rule=\"evenodd\" fill-opacity=\"1\" stroke=\"#000000\" stroke-opacity=\"1\" stroke-width=\"3.2\"/>\n",
       "<circle clip-path=\"url(#clip812)\" cx=\"2098.11\" cy=\"471.163\" r=\"14.4\" fill=\"#009af9\" fill-rule=\"evenodd\" fill-opacity=\"1\" stroke=\"#000000\" stroke-opacity=\"1\" stroke-width=\"3.2\"/>\n",
       "<circle clip-path=\"url(#clip812)\" cx=\"1722.36\" cy=\"171.302\" r=\"14.4\" fill=\"#009af9\" fill-rule=\"evenodd\" fill-opacity=\"1\" stroke=\"#000000\" stroke-opacity=\"1\" stroke-width=\"3.2\"/>\n",
       "<circle clip-path=\"url(#clip812)\" cx=\"926.204\" cy=\"160.256\" r=\"14.4\" fill=\"#009af9\" fill-rule=\"evenodd\" fill-opacity=\"1\" stroke=\"#000000\" stroke-opacity=\"1\" stroke-width=\"3.2\"/>\n",
       "<circle clip-path=\"url(#clip812)\" cx=\"1162.04\" cy=\"604.419\" r=\"14.4\" fill=\"#009af9\" fill-rule=\"evenodd\" fill-opacity=\"1\" stroke=\"#000000\" stroke-opacity=\"1\" stroke-width=\"3.2\"/>\n",
       "<circle clip-path=\"url(#clip812)\" cx=\"926.204\" cy=\"409.392\" r=\"14.4\" fill=\"#009af9\" fill-rule=\"evenodd\" fill-opacity=\"1\" stroke=\"#000000\" stroke-opacity=\"1\" stroke-width=\"3.2\"/>\n",
       "<circle clip-path=\"url(#clip812)\" cx=\"1162.04\" cy=\"1220.13\" r=\"14.4\" fill=\"#009af9\" fill-rule=\"evenodd\" fill-opacity=\"1\" stroke=\"#000000\" stroke-opacity=\"1\" stroke-width=\"3.2\"/>\n",
       "<circle clip-path=\"url(#clip812)\" cx=\"1129.58\" cy=\"770.146\" r=\"14.4\" fill=\"#009af9\" fill-rule=\"evenodd\" fill-opacity=\"1\" stroke=\"#000000\" stroke-opacity=\"1\" stroke-width=\"3.2\"/>\n",
       "<circle clip-path=\"url(#clip812)\" cx=\"880.1\" cy=\"551.788\" r=\"14.4\" fill=\"#009af9\" fill-rule=\"evenodd\" fill-opacity=\"1\" stroke=\"#000000\" stroke-opacity=\"1\" stroke-width=\"3.2\"/>\n",
       "<circle clip-path=\"url(#clip812)\" cx=\"880.1\" cy=\"767.386\" r=\"14.4\" fill=\"#009af9\" fill-rule=\"evenodd\" fill-opacity=\"1\" stroke=\"#000000\" stroke-opacity=\"1\" stroke-width=\"3.2\"/>\n",
       "<circle clip-path=\"url(#clip812)\" cx=\"1115.94\" cy=\"783.933\" r=\"14.4\" fill=\"#009af9\" fill-rule=\"evenodd\" fill-opacity=\"1\" stroke=\"#000000\" stroke-opacity=\"1\" stroke-width=\"3.2\"/>\n",
       "<circle clip-path=\"url(#clip812)\" cx=\"880.1\" cy=\"767.386\" r=\"14.4\" fill=\"#009af9\" fill-rule=\"evenodd\" fill-opacity=\"1\" stroke=\"#000000\" stroke-opacity=\"1\" stroke-width=\"3.2\"/>\n",
       "<circle clip-path=\"url(#clip812)\" cx=\"1115.94\" cy=\"929.531\" r=\"14.4\" fill=\"#009af9\" fill-rule=\"evenodd\" fill-opacity=\"1\" stroke=\"#000000\" stroke-opacity=\"1\" stroke-width=\"3.2\"/>\n",
       "<circle clip-path=\"url(#clip812)\" cx=\"1115.94\" cy=\"417.025\" r=\"14.4\" fill=\"#009af9\" fill-rule=\"evenodd\" fill-opacity=\"1\" stroke=\"#000000\" stroke-opacity=\"1\" stroke-width=\"3.2\"/>\n",
       "<circle clip-path=\"url(#clip812)\" cx=\"1115.94\" cy=\"650.995\" r=\"14.4\" fill=\"#009af9\" fill-rule=\"evenodd\" fill-opacity=\"1\" stroke=\"#000000\" stroke-opacity=\"1\" stroke-width=\"3.2\"/>\n",
       "<circle clip-path=\"url(#clip812)\" cx=\"880.1\" cy=\"655.275\" r=\"14.4\" fill=\"#009af9\" fill-rule=\"evenodd\" fill-opacity=\"1\" stroke=\"#000000\" stroke-opacity=\"1\" stroke-width=\"3.2\"/>\n",
       "<circle clip-path=\"url(#clip812)\" cx=\"1115.94\" cy=\"650.995\" r=\"14.4\" fill=\"#009af9\" fill-rule=\"evenodd\" fill-opacity=\"1\" stroke=\"#000000\" stroke-opacity=\"1\" stroke-width=\"3.2\"/>\n",
       "<circle clip-path=\"url(#clip812)\" cx=\"2292.13\" cy=\"1342.87\" r=\"14.4\" fill=\"#009af9\" fill-rule=\"evenodd\" fill-opacity=\"1\" stroke=\"#000000\" stroke-opacity=\"1\" stroke-width=\"3.2\"/>\n",
       "<circle clip-path=\"url(#clip812)\" cx=\"1273.75\" cy=\"624.501\" r=\"14.4\" fill=\"#009af9\" fill-rule=\"evenodd\" fill-opacity=\"1\" stroke=\"#000000\" stroke-opacity=\"1\" stroke-width=\"3.2\"/>\n",
       "<circle clip-path=\"url(#clip812)\" cx=\"1273.75\" cy=\"624.501\" r=\"14.4\" fill=\"#009af9\" fill-rule=\"evenodd\" fill-opacity=\"1\" stroke=\"#000000\" stroke-opacity=\"1\" stroke-width=\"3.2\"/>\n",
       "<circle clip-path=\"url(#clip812)\" cx=\"1542.04\" cy=\"220.523\" r=\"14.4\" fill=\"#009af9\" fill-rule=\"evenodd\" fill-opacity=\"1\" stroke=\"#000000\" stroke-opacity=\"1\" stroke-width=\"3.2\"/>\n",
       "<circle clip-path=\"url(#clip812)\" cx=\"1440.84\" cy=\"455.704\" r=\"14.4\" fill=\"#009af9\" fill-rule=\"evenodd\" fill-opacity=\"1\" stroke=\"#000000\" stroke-opacity=\"1\" stroke-width=\"3.2\"/>\n",
       "<circle clip-path=\"url(#clip812)\" cx=\"1440.84\" cy=\"601.302\" r=\"14.4\" fill=\"#009af9\" fill-rule=\"evenodd\" fill-opacity=\"1\" stroke=\"#000000\" stroke-opacity=\"1\" stroke-width=\"3.2\"/>\n",
       "<circle clip-path=\"url(#clip812)\" cx=\"1338.02\" cy=\"559.571\" r=\"14.4\" fill=\"#009af9\" fill-rule=\"evenodd\" fill-opacity=\"1\" stroke=\"#000000\" stroke-opacity=\"1\" stroke-width=\"3.2\"/>\n",
       "<path clip-path=\"url(#clip810)\" d=\"M2014.72 270.476 L2281.36 270.476 L2281.36 166.796 L2014.72 166.796  Z\" fill=\"#ffffff\" fill-rule=\"evenodd\" fill-opacity=\"1\"/>\n",
       "<polyline clip-path=\"url(#clip810)\" style=\"stroke:#000000; stroke-linecap:round; stroke-linejoin:round; stroke-width:4; stroke-opacity:1; fill:none\" points=\"2014.72,270.476 2281.36,270.476 2281.36,166.796 2014.72,166.796 2014.72,270.476 \"/>\n",
       "<circle clip-path=\"url(#clip810)\" cx=\"2109.92\" cy=\"218.636\" r=\"20.48\" fill=\"#009af9\" fill-rule=\"evenodd\" fill-opacity=\"1\" stroke=\"#000000\" stroke-opacity=\"1\" stroke-width=\"4.55111\"/>\n",
       "<path clip-path=\"url(#clip810)\" d=\"M2218.97 238.323 Q2217.16 242.953 2215.45 244.365 Q2213.74 245.777 2210.87 245.777 L2207.46 245.777 L2207.46 242.212 L2209.96 242.212 Q2211.72 242.212 2212.69 241.379 Q2213.67 240.545 2214.85 237.443 L2215.61 235.499 L2205.13 209.99 L2209.64 209.99 L2217.74 230.268 L2225.84 209.99 L2230.36 209.99 L2218.97 238.323 Z\" fill=\"#000000\" fill-rule=\"nonzero\" fill-opacity=\"1\" /><path clip-path=\"url(#clip810)\" d=\"M2237.65 231.981 L2245.29 231.981 L2245.29 205.615 L2236.98 207.282 L2236.98 203.022 L2245.24 201.356 L2249.92 201.356 L2249.92 231.981 L2257.56 231.981 L2257.56 235.916 L2237.65 235.916 L2237.65 231.981 Z\" fill=\"#000000\" fill-rule=\"nonzero\" fill-opacity=\"1\" /></svg>\n"
      ]
     },
     "metadata": {},
     "output_type": "display_data"
    }
   ],
   "source": [
    "ŷ_train = GLM.predict(model, train)\n",
    "ŷ_valid = GLM.predict(model, valid)\n",
    "\n",
    "# Compute the RMSE\n",
    "rmse_train = sqrt(mean((ŷ_train .- train.consommation).^2))\n",
    "rmse_valid = sqrt(mean((ŷ_valid .- valid.consommation).^2))\n",
    "\n",
    "valid.predicted = ŷ_valid\n",
    "\n",
    "#plot dirstribtuion of residuals\n",
    "residuals = ŷ_valid .- valid.consommation\n",
    "\n",
    "println(\"RMSE on the training set: $rmse_train\")\n",
    "println(\"RMSE on the validation set: $rmse_valid\")\n",
    "#plot the residuals vs the predicted values\n",
    "s = scatter(ŷ_valid, residuals, title=\"Residuals vs Predicted values\", xlabel=\"Predicted values\", ylabel=\"Residuals\")"
   ]
  },
  {
   "cell_type": "markdown",
   "metadata": {},
   "source": [
    "Pour la suite de l'étude de respect des hypothèses de l'application de la régression linéaire, nous devons vérifier que les résidus sont normalement distribués. Pour ce faire, nous avons tracé un histogramme des résidus et un graphique quantile-quantile. L'histogramme montre une ditribtuon relativement symétrique centrée autour de zéro. La forme de cloche attendue d'une distribution normale n'est pas tout à fait parfaite, mais elle est assez proche pour que nous puissions conclure que les résidus sont normalement distribués. Le graphique quantile-quantile confirme cette conclusion, avec une droite de régression qui passe par le centre des points. Par contre, il y aurait place à amélioration comme les points ne suivent pas parfaitement la droite. De plus, les déviations observées pour les valeurs extrêmes pourraient être dues à des valeurs abbérantes dans les données et leur impact serait à analyser dans le futur."
   ]
  },
  {
   "cell_type": "code",
   "execution_count": 93,
   "metadata": {},
   "outputs": [
    {
     "data": {
      "image/png": "[encoded data removed]",
      "image/svg+xml": [
       "<?xml version=\"1.0\" encoding=\"utf-8\"?>\n",
       "<svg xmlns=\"http://www.w3.org/2000/svg\" xmlns:xlink=\"http://www.w3.org/1999/xlink\" width=\"600\" height=\"400\" viewBox=\"0 0 2400 1600\">\n",
       "<defs>\n",
       "  <clipPath id=\"clip850\">\n",
       "    <rect x=\"0\" y=\"0\" width=\"2400\" height=\"1600\"/>\n",
       "  </clipPath>\n",
       "</defs>\n",
       "<path clip-path=\"url(#clip850)\" d=\"M0 1600 L2400 1600 L2400 0 L0 0  Z\" fill=\"#ffffff\" fill-rule=\"evenodd\" fill-opacity=\"1\"/>\n",
       "<defs>\n",
       "  <clipPath id=\"clip851\">\n",
       "    <rect x=\"480\" y=\"0\" width=\"1681\" height=\"1600\"/>\n",
       "  </clipPath>\n",
       "</defs>\n",
       "<path clip-path=\"url(#clip850)\" d=\"M203.964 1423.18 L2352.76 1423.18 L2352.76 123.472 L203.964 123.472  Z\" fill=\"#ffffff\" fill-rule=\"evenodd\" fill-opacity=\"1\"/>\n",
       "<defs>\n",
       "  <clipPath id=\"clip852\">\n",
       "    <rect x=\"203\" y=\"123\" width=\"2150\" height=\"1301\"/>\n",
       "  </clipPath>\n",
       "</defs>\n",
       "<polyline clip-path=\"url(#clip852)\" style=\"stroke:#000000; stroke-linecap:round; stroke-linejoin:round; stroke-width:2; stroke-opacity:0.1; fill:none\" points=\"322.151,1423.18 322.151,123.472 \"/>\n",
       "<polyline clip-path=\"url(#clip852)\" style=\"stroke:#000000; stroke-linecap:round; stroke-linejoin:round; stroke-width:2; stroke-opacity:0.1; fill:none\" points=\"704.634,1423.18 704.634,123.472 \"/>\n",
       "<polyline clip-path=\"url(#clip852)\" style=\"stroke:#000000; stroke-linecap:round; stroke-linejoin:round; stroke-width:2; stroke-opacity:0.1; fill:none\" points=\"1087.12,1423.18 1087.12,123.472 \"/>\n",
       "<polyline clip-path=\"url(#clip852)\" style=\"stroke:#000000; stroke-linecap:round; stroke-linejoin:round; stroke-width:2; stroke-opacity:0.1; fill:none\" points=\"1469.6,1423.18 1469.6,123.472 \"/>\n",
       "<polyline clip-path=\"url(#clip852)\" style=\"stroke:#000000; stroke-linecap:round; stroke-linejoin:round; stroke-width:2; stroke-opacity:0.1; fill:none\" points=\"1852.08,1423.18 1852.08,123.472 \"/>\n",
       "<polyline clip-path=\"url(#clip852)\" style=\"stroke:#000000; stroke-linecap:round; stroke-linejoin:round; stroke-width:2; stroke-opacity:0.1; fill:none\" points=\"2234.57,1423.18 2234.57,123.472 \"/>\n",
       "<polyline clip-path=\"url(#clip852)\" style=\"stroke:#000000; stroke-linecap:round; stroke-linejoin:round; stroke-width:2; stroke-opacity:0.1; fill:none\" points=\"203.964,1423.18 2352.76,1423.18 \"/>\n",
       "<polyline clip-path=\"url(#clip852)\" style=\"stroke:#000000; stroke-linecap:round; stroke-linejoin:round; stroke-width:2; stroke-opacity:0.1; fill:none\" points=\"203.964,1163.24 2352.76,1163.24 \"/>\n",
       "<polyline clip-path=\"url(#clip852)\" style=\"stroke:#000000; stroke-linecap:round; stroke-linejoin:round; stroke-width:2; stroke-opacity:0.1; fill:none\" points=\"203.964,903.297 2352.76,903.297 \"/>\n",
       "<polyline clip-path=\"url(#clip852)\" style=\"stroke:#000000; stroke-linecap:round; stroke-linejoin:round; stroke-width:2; stroke-opacity:0.1; fill:none\" points=\"203.964,643.355 2352.76,643.355 \"/>\n",
       "<polyline clip-path=\"url(#clip852)\" style=\"stroke:#000000; stroke-linecap:round; stroke-linejoin:round; stroke-width:2; stroke-opacity:0.1; fill:none\" points=\"203.964,383.414 2352.76,383.414 \"/>\n",
       "<polyline clip-path=\"url(#clip852)\" style=\"stroke:#000000; stroke-linecap:round; stroke-linejoin:round; stroke-width:2; stroke-opacity:0.1; fill:none\" points=\"203.964,123.472 2352.76,123.472 \"/>\n",
       "<polyline clip-path=\"url(#clip850)\" style=\"stroke:#000000; stroke-linecap:round; stroke-linejoin:round; stroke-width:4; stroke-opacity:1; fill:none\" points=\"203.964,1423.18 2352.76,1423.18 \"/>\n",
       "<polyline clip-path=\"url(#clip850)\" style=\"stroke:#000000; stroke-linecap:round; stroke-linejoin:round; stroke-width:4; stroke-opacity:1; fill:none\" points=\"322.151,1423.18 322.151,1404.28 \"/>\n",
       "<polyline clip-path=\"url(#clip850)\" style=\"stroke:#000000; stroke-linecap:round; stroke-linejoin:round; stroke-width:4; stroke-opacity:1; fill:none\" points=\"704.634,1423.18 704.634,1404.28 \"/>\n",
       "<polyline clip-path=\"url(#clip850)\" style=\"stroke:#000000; stroke-linecap:round; stroke-linejoin:round; stroke-width:4; stroke-opacity:1; fill:none\" points=\"1087.12,1423.18 1087.12,1404.28 \"/>\n",
       "<polyline clip-path=\"url(#clip850)\" style=\"stroke:#000000; stroke-linecap:round; stroke-linejoin:round; stroke-width:4; stroke-opacity:1; fill:none\" points=\"1469.6,1423.18 1469.6,1404.28 \"/>\n",
       "<polyline clip-path=\"url(#clip850)\" style=\"stroke:#000000; stroke-linecap:round; stroke-linejoin:round; stroke-width:4; stroke-opacity:1; fill:none\" points=\"1852.08,1423.18 1852.08,1404.28 \"/>\n",
       "<polyline clip-path=\"url(#clip850)\" style=\"stroke:#000000; stroke-linecap:round; stroke-linejoin:round; stroke-width:4; stroke-opacity:1; fill:none\" points=\"2234.57,1423.18 2234.57,1404.28 \"/>\n",
       "<path clip-path=\"url(#clip850)\" d=\"M291.619 1468.75 L321.294 1468.75 L321.294 1472.69 L291.619 1472.69 L291.619 1468.75 Z\" fill=\"#000000\" fill-rule=\"nonzero\" fill-opacity=\"1\" /><path clip-path=\"url(#clip850)\" d=\"M345.554 1466.95 Q348.91 1467.66 350.785 1469.93 Q352.683 1472.2 352.683 1475.53 Q352.683 1480.65 349.165 1483.45 Q345.646 1486.25 339.165 1486.25 Q336.989 1486.25 334.674 1485.81 Q332.382 1485.39 329.929 1484.54 L329.929 1480.02 Q331.873 1481.16 334.188 1481.74 Q336.503 1482.32 339.026 1482.32 Q343.424 1482.32 345.716 1480.58 Q348.03 1478.84 348.03 1475.53 Q348.03 1472.48 345.878 1470.77 Q343.748 1469.03 339.929 1469.03 L335.901 1469.03 L335.901 1465.19 L340.114 1465.19 Q343.563 1465.19 345.392 1463.82 Q347.22 1462.43 347.22 1459.84 Q347.22 1457.18 345.322 1455.77 Q343.447 1454.33 339.929 1454.33 Q338.007 1454.33 335.808 1454.75 Q333.609 1455.16 330.97 1456.04 L330.97 1451.88 Q333.632 1451.14 335.947 1450.77 Q338.285 1450.39 340.345 1450.39 Q345.669 1450.39 348.771 1452.83 Q351.873 1455.23 351.873 1459.35 Q351.873 1462.22 350.23 1464.21 Q348.586 1466.18 345.554 1466.95 Z\" fill=\"#000000\" fill-rule=\"nonzero\" fill-opacity=\"1\" /><path clip-path=\"url(#clip850)\" d=\"M674.577 1468.75 L704.253 1468.75 L704.253 1472.69 L674.577 1472.69 L674.577 1468.75 Z\" fill=\"#000000\" fill-rule=\"nonzero\" fill-opacity=\"1\" /><path clip-path=\"url(#clip850)\" d=\"M718.373 1481.64 L734.692 1481.64 L734.692 1485.58 L712.748 1485.58 L712.748 1481.64 Q715.41 1478.89 719.993 1474.26 Q724.6 1469.61 725.78 1468.27 Q728.026 1465.74 728.905 1464.01 Q729.808 1462.25 729.808 1460.56 Q729.808 1457.8 727.864 1456.07 Q725.942 1454.33 722.84 1454.33 Q720.641 1454.33 718.188 1455.09 Q715.757 1455.86 712.979 1457.41 L712.979 1452.69 Q715.803 1451.55 718.257 1450.97 Q720.711 1450.39 722.748 1450.39 Q728.118 1450.39 731.313 1453.08 Q734.507 1455.77 734.507 1460.26 Q734.507 1462.39 733.697 1464.31 Q732.91 1466.2 730.803 1468.8 Q730.225 1469.47 727.123 1472.69 Q724.021 1475.88 718.373 1481.64 Z\" fill=\"#000000\" fill-rule=\"nonzero\" fill-opacity=\"1\" /><path clip-path=\"url(#clip850)\" d=\"M1056.88 1468.75 L1086.55 1468.75 L1086.55 1472.69 L1056.88 1472.69 L1056.88 1468.75 Z\" fill=\"#000000\" fill-rule=\"nonzero\" fill-opacity=\"1\" /><path clip-path=\"url(#clip850)\" d=\"M1097.45 1481.64 L1105.09 1481.64 L1105.09 1455.28 L1096.78 1456.95 L1096.78 1452.69 L1105.05 1451.02 L1109.72 1451.02 L1109.72 1481.64 L1117.36 1481.64 L1117.36 1485.58 L1097.45 1485.58 L1097.45 1481.64 Z\" fill=\"#000000\" fill-rule=\"nonzero\" fill-opacity=\"1\" /><path clip-path=\"url(#clip850)\" d=\"M1469.6 1454.1 Q1465.99 1454.1 1464.16 1457.66 Q1462.36 1461.2 1462.36 1468.33 Q1462.36 1475.44 1464.16 1479.01 Q1465.99 1482.55 1469.6 1482.55 Q1473.24 1482.55 1475.04 1479.01 Q1476.87 1475.44 1476.87 1468.33 Q1476.87 1461.2 1475.04 1457.66 Q1473.24 1454.1 1469.6 1454.1 M1469.6 1450.39 Q1475.41 1450.39 1478.47 1455 Q1481.55 1459.58 1481.55 1468.33 Q1481.55 1477.06 1478.47 1481.67 Q1475.41 1486.25 1469.6 1486.25 Q1463.79 1486.25 1460.71 1481.67 Q1457.66 1477.06 1457.66 1468.33 Q1457.66 1459.58 1460.71 1455 Q1463.79 1450.39 1469.6 1450.39 Z\" fill=\"#000000\" fill-rule=\"nonzero\" fill-opacity=\"1\" /><path clip-path=\"url(#clip850)\" d=\"M1842.47 1481.64 L1850.11 1481.64 L1850.11 1455.28 L1841.8 1456.95 L1841.8 1452.69 L1850.06 1451.02 L1854.74 1451.02 L1854.74 1481.64 L1862.37 1481.64 L1862.37 1485.58 L1842.47 1485.58 L1842.47 1481.64 Z\" fill=\"#000000\" fill-rule=\"nonzero\" fill-opacity=\"1\" /><path clip-path=\"url(#clip850)\" d=\"M2229.22 1481.64 L2245.54 1481.64 L2245.54 1485.58 L2223.6 1485.58 L2223.6 1481.64 Q2226.26 1478.89 2230.84 1474.26 Q2235.45 1469.61 2236.63 1468.27 Q2238.87 1465.74 2239.75 1464.01 Q2240.66 1462.25 2240.66 1460.56 Q2240.66 1457.8 2238.71 1456.07 Q2236.79 1454.33 2233.69 1454.33 Q2231.49 1454.33 2229.04 1455.09 Q2226.61 1455.86 2223.83 1457.41 L2223.83 1452.69 Q2226.65 1451.55 2229.11 1450.97 Q2231.56 1450.39 2233.6 1450.39 Q2238.97 1450.39 2242.16 1453.08 Q2245.36 1455.77 2245.36 1460.26 Q2245.36 1462.39 2244.55 1464.31 Q2243.76 1466.2 2241.65 1468.8 Q2241.07 1469.47 2237.97 1472.69 Q2234.87 1475.88 2229.22 1481.64 Z\" fill=\"#000000\" fill-rule=\"nonzero\" fill-opacity=\"1\" /><path clip-path=\"url(#clip850)\" d=\"M1151.06 1545.76 Q1153.13 1546.46 1155.07 1548.76 Q1157.05 1551.05 1159.02 1555.06 L1165.54 1568.04 L1158.64 1568.04 L1152.56 1555.85 Q1150.2 1551.08 1147.97 1549.52 Q1145.78 1547.96 1141.96 1547.96 L1134.96 1547.96 L1134.96 1568.04 L1128.53 1568.04 L1128.53 1520.52 L1143.04 1520.52 Q1151.19 1520.52 1155.2 1523.93 Q1159.21 1527.34 1159.21 1534.21 Q1159.21 1538.7 1157.11 1541.66 Q1155.04 1544.62 1151.06 1545.76 M1134.96 1525.81 L1134.96 1542.68 L1143.04 1542.68 Q1147.69 1542.68 1150.04 1540.54 Q1152.43 1538.38 1152.43 1534.21 Q1152.43 1530.04 1150.04 1527.94 Q1147.69 1525.81 1143.04 1525.81 L1134.96 1525.81 Z\" fill=\"#000000\" fill-rule=\"nonzero\" fill-opacity=\"1\" /><path clip-path=\"url(#clip850)\" d=\"M1201.13 1548.76 L1201.13 1551.62 L1174.2 1551.62 Q1174.58 1557.67 1177.83 1560.85 Q1181.11 1564 1186.93 1564 Q1190.31 1564 1193.46 1563.17 Q1196.64 1562.35 1199.76 1560.69 L1199.76 1566.23 Q1196.61 1567.57 1193.3 1568.27 Q1189.99 1568.97 1186.58 1568.97 Q1178.05 1568.97 1173.06 1564 Q1168.09 1559.04 1168.09 1550.57 Q1168.09 1541.82 1172.8 1536.69 Q1177.54 1531.54 1185.56 1531.54 Q1192.76 1531.54 1196.93 1536.18 Q1201.13 1540.8 1201.13 1548.76 M1195.27 1547.04 Q1195.21 1542.23 1192.57 1539.37 Q1189.96 1536.5 1185.63 1536.5 Q1180.73 1536.5 1177.77 1539.27 Q1174.84 1542.04 1174.39 1547.07 L1195.27 1547.04 Z\" fill=\"#000000\" fill-rule=\"nonzero\" fill-opacity=\"1\" /><path clip-path=\"url(#clip850)\" d=\"M1233.47 1533.45 L1233.47 1538.98 Q1230.98 1537.71 1228.31 1537.07 Q1225.64 1536.44 1222.77 1536.44 Q1218.41 1536.44 1216.21 1537.77 Q1214.05 1539.11 1214.05 1541.79 Q1214.05 1543.82 1215.61 1545 Q1217.17 1546.15 1221.88 1547.2 L1223.89 1547.64 Q1230.12 1548.98 1232.73 1551.43 Q1235.38 1553.85 1235.38 1558.21 Q1235.38 1563.17 1231.43 1566.07 Q1227.51 1568.97 1220.64 1568.97 Q1217.77 1568.97 1214.65 1568.39 Q1211.57 1567.85 1208.13 1566.74 L1208.13 1560.69 Q1211.38 1562.38 1214.53 1563.24 Q1217.68 1564.07 1220.77 1564.07 Q1224.9 1564.07 1227.13 1562.66 Q1229.36 1561.23 1229.36 1558.65 Q1229.36 1556.27 1227.74 1554.99 Q1226.15 1553.72 1220.7 1552.54 L1218.67 1552.07 Q1213.22 1550.92 1210.8 1548.56 Q1208.38 1546.18 1208.38 1542.04 Q1208.38 1537.01 1211.95 1534.27 Q1215.51 1531.54 1222.07 1531.54 Q1225.32 1531.54 1228.18 1532.01 Q1231.05 1532.49 1233.47 1533.45 Z\" fill=\"#000000\" fill-rule=\"nonzero\" fill-opacity=\"1\" /><path clip-path=\"url(#clip850)\" d=\"M1244.7 1532.4 L1250.56 1532.4 L1250.56 1568.04 L1244.7 1568.04 L1244.7 1532.4 M1244.7 1518.52 L1250.56 1518.52 L1250.56 1525.93 L1244.7 1525.93 L1244.7 1518.52 Z\" fill=\"#000000\" fill-rule=\"nonzero\" fill-opacity=\"1\" /><path clip-path=\"url(#clip850)\" d=\"M1286.27 1537.81 L1286.27 1518.52 L1292.13 1518.52 L1292.13 1568.04 L1286.27 1568.04 L1286.27 1562.7 Q1284.42 1565.88 1281.59 1567.44 Q1278.79 1568.97 1274.84 1568.97 Q1268.38 1568.97 1264.31 1563.81 Q1260.27 1558.65 1260.27 1550.25 Q1260.27 1541.85 1264.31 1536.69 Q1268.38 1531.54 1274.84 1531.54 Q1278.79 1531.54 1281.59 1533.1 Q1284.42 1534.62 1286.27 1537.81 M1266.31 1550.25 Q1266.31 1556.71 1268.95 1560.4 Q1271.63 1564.07 1276.27 1564.07 Q1280.92 1564.07 1283.6 1560.4 Q1286.27 1556.71 1286.27 1550.25 Q1286.27 1543.79 1283.6 1540.13 Q1280.92 1536.44 1276.27 1536.44 Q1271.63 1536.44 1268.95 1540.13 Q1266.31 1543.79 1266.31 1550.25 Z\" fill=\"#000000\" fill-rule=\"nonzero\" fill-opacity=\"1\" /><path clip-path=\"url(#clip850)\" d=\"M1303.58 1553.98 L1303.58 1532.4 L1309.44 1532.4 L1309.44 1553.75 Q1309.44 1558.81 1311.41 1561.36 Q1313.39 1563.87 1317.33 1563.87 Q1322.08 1563.87 1324.81 1560.85 Q1327.58 1557.83 1327.58 1552.61 L1327.58 1532.4 L1333.44 1532.4 L1333.44 1568.04 L1327.58 1568.04 L1327.58 1562.57 Q1325.45 1565.82 1322.62 1567.41 Q1319.82 1568.97 1316.09 1568.97 Q1309.95 1568.97 1306.77 1565.15 Q1303.58 1561.33 1303.58 1553.98 M1318.32 1531.54 L1318.32 1531.54 Z\" fill=\"#000000\" fill-rule=\"nonzero\" fill-opacity=\"1\" /><path clip-path=\"url(#clip850)\" d=\"M1361.7 1550.12 Q1354.6 1550.12 1351.87 1551.75 Q1349.13 1553.37 1349.13 1557.29 Q1349.13 1560.4 1351.17 1562.25 Q1353.24 1564.07 1356.77 1564.07 Q1361.64 1564.07 1364.57 1560.63 Q1367.53 1557.16 1367.53 1551.43 L1367.53 1550.12 L1361.7 1550.12 M1373.38 1547.71 L1373.38 1568.04 L1367.53 1568.04 L1367.53 1562.63 Q1365.52 1565.88 1362.53 1567.44 Q1359.54 1568.97 1355.21 1568.97 Q1349.74 1568.97 1346.49 1565.91 Q1343.27 1562.82 1343.27 1557.67 Q1343.27 1551.65 1347.28 1548.6 Q1351.33 1545.54 1359.32 1545.54 L1367.53 1545.54 L1367.53 1544.97 Q1367.53 1540.93 1364.85 1538.73 Q1362.21 1536.5 1357.41 1536.5 Q1354.35 1536.5 1351.45 1537.23 Q1348.56 1537.97 1345.88 1539.43 L1345.88 1534.02 Q1349.1 1532.78 1352.12 1532.17 Q1355.15 1531.54 1358.01 1531.54 Q1365.74 1531.54 1369.56 1535.55 Q1373.38 1539.56 1373.38 1547.71 Z\" fill=\"#000000\" fill-rule=\"nonzero\" fill-opacity=\"1\" /><path clip-path=\"url(#clip850)\" d=\"M1385.45 1518.52 L1391.3 1518.52 L1391.3 1568.04 L1385.45 1568.04 L1385.45 1518.52 Z\" fill=\"#000000\" fill-rule=\"nonzero\" fill-opacity=\"1\" /><path clip-path=\"url(#clip850)\" d=\"M1426.28 1533.45 L1426.28 1538.98 Q1423.8 1537.71 1421.13 1537.07 Q1418.45 1536.44 1415.59 1536.44 Q1411.23 1536.44 1409.03 1537.77 Q1406.87 1539.11 1406.87 1541.79 Q1406.87 1543.82 1408.43 1545 Q1409.99 1546.15 1414.7 1547.2 L1416.7 1547.64 Q1422.94 1548.98 1425.55 1551.43 Q1428.19 1553.85 1428.19 1558.21 Q1428.19 1563.17 1424.25 1566.07 Q1420.33 1568.97 1413.46 1568.97 Q1410.59 1568.97 1407.47 1568.39 Q1404.38 1567.85 1400.95 1566.74 L1400.95 1560.69 Q1404.19 1562.38 1407.34 1563.24 Q1410.5 1564.07 1413.58 1564.07 Q1417.72 1564.07 1419.95 1562.66 Q1422.18 1561.23 1422.18 1558.65 Q1422.18 1556.27 1420.55 1554.99 Q1418.96 1553.72 1413.52 1552.54 L1411.48 1552.07 Q1406.04 1550.92 1403.62 1548.56 Q1401.2 1546.18 1401.2 1542.04 Q1401.2 1537.01 1404.77 1534.27 Q1408.33 1531.54 1414.89 1531.54 Q1418.13 1531.54 1421 1532.01 Q1423.86 1532.49 1426.28 1533.45 Z\" fill=\"#000000\" fill-rule=\"nonzero\" fill-opacity=\"1\" /><polyline clip-path=\"url(#clip850)\" style=\"stroke:#000000; stroke-linecap:round; stroke-linejoin:round; stroke-width:4; stroke-opacity:1; fill:none\" points=\"203.964,1423.18 203.964,123.472 \"/>\n",
       "<polyline clip-path=\"url(#clip850)\" style=\"stroke:#000000; stroke-linecap:round; stroke-linejoin:round; stroke-width:4; stroke-opacity:1; fill:none\" points=\"203.964,1423.18 222.861,1423.18 \"/>\n",
       "<polyline clip-path=\"url(#clip850)\" style=\"stroke:#000000; stroke-linecap:round; stroke-linejoin:round; stroke-width:4; stroke-opacity:1; fill:none\" points=\"203.964,1163.24 222.861,1163.24 \"/>\n",
       "<polyline clip-path=\"url(#clip850)\" style=\"stroke:#000000; stroke-linecap:round; stroke-linejoin:round; stroke-width:4; stroke-opacity:1; fill:none\" points=\"203.964,903.297 222.861,903.297 \"/>\n",
       "<polyline clip-path=\"url(#clip850)\" style=\"stroke:#000000; stroke-linecap:round; stroke-linejoin:round; stroke-width:4; stroke-opacity:1; fill:none\" points=\"203.964,643.355 222.861,643.355 \"/>\n",
       "<polyline clip-path=\"url(#clip850)\" style=\"stroke:#000000; stroke-linecap:round; stroke-linejoin:round; stroke-width:4; stroke-opacity:1; fill:none\" points=\"203.964,383.414 222.861,383.414 \"/>\n",
       "<polyline clip-path=\"url(#clip850)\" style=\"stroke:#000000; stroke-linecap:round; stroke-linejoin:round; stroke-width:4; stroke-opacity:1; fill:none\" points=\"203.964,123.472 222.861,123.472 \"/>\n",
       "<path clip-path=\"url(#clip850)\" d=\"M156.019 1408.98 Q152.408 1408.98 150.579 1412.54 Q148.774 1416.08 148.774 1423.21 Q148.774 1430.32 150.579 1433.89 Q152.408 1437.43 156.019 1437.43 Q159.653 1437.43 161.459 1433.89 Q163.288 1430.32 163.288 1423.21 Q163.288 1416.08 161.459 1412.54 Q159.653 1408.98 156.019 1408.98 M156.019 1405.27 Q161.829 1405.27 164.885 1409.88 Q167.964 1414.46 167.964 1423.21 Q167.964 1431.94 164.885 1436.55 Q161.829 1441.13 156.019 1441.13 Q150.209 1441.13 147.13 1436.55 Q144.075 1431.94 144.075 1423.21 Q144.075 1414.46 147.13 1409.88 Q150.209 1405.27 156.019 1405.27 Z\" fill=\"#000000\" fill-rule=\"nonzero\" fill-opacity=\"1\" /><path clip-path=\"url(#clip850)\" d=\"M147.061 1145.96 L165.417 1145.96 L165.417 1149.89 L151.343 1149.89 L151.343 1158.37 Q152.362 1158.02 153.38 1157.86 Q154.399 1157.67 155.417 1157.67 Q161.204 1157.67 164.584 1160.84 Q167.964 1164.01 167.964 1169.43 Q167.964 1175.01 164.491 1178.11 Q161.019 1181.19 154.7 1181.19 Q152.524 1181.19 150.255 1180.82 Q148.01 1180.45 145.603 1179.71 L145.603 1175.01 Q147.686 1176.14 149.908 1176.7 Q152.13 1177.25 154.607 1177.25 Q158.612 1177.25 160.95 1175.15 Q163.288 1173.04 163.288 1169.43 Q163.288 1165.82 160.95 1163.71 Q158.612 1161.61 154.607 1161.61 Q152.732 1161.61 150.857 1162.02 Q149.005 1162.44 147.061 1163.32 L147.061 1145.96 Z\" fill=\"#000000\" fill-rule=\"nonzero\" fill-opacity=\"1\" /><path clip-path=\"url(#clip850)\" d=\"M116.668 916.642 L124.306 916.642 L124.306 890.276 L115.996 891.943 L115.996 887.683 L124.26 886.017 L128.936 886.017 L128.936 916.642 L136.575 916.642 L136.575 920.577 L116.668 920.577 L116.668 916.642 Z\" fill=\"#000000\" fill-rule=\"nonzero\" fill-opacity=\"1\" /><path clip-path=\"url(#clip850)\" d=\"M156.019 889.095 Q152.408 889.095 150.579 892.66 Q148.774 896.202 148.774 903.331 Q148.774 910.438 150.579 914.003 Q152.408 917.544 156.019 917.544 Q159.653 917.544 161.459 914.003 Q163.288 910.438 163.288 903.331 Q163.288 896.202 161.459 892.66 Q159.653 889.095 156.019 889.095 M156.019 885.392 Q161.829 885.392 164.885 889.998 Q167.964 894.582 167.964 903.331 Q167.964 912.058 164.885 916.665 Q161.829 921.248 156.019 921.248 Q150.209 921.248 147.13 916.665 Q144.075 912.058 144.075 903.331 Q144.075 894.582 147.13 889.998 Q150.209 885.392 156.019 885.392 Z\" fill=\"#000000\" fill-rule=\"nonzero\" fill-opacity=\"1\" /><path clip-path=\"url(#clip850)\" d=\"M117.663 656.7 L125.302 656.7 L125.302 630.334 L116.992 632.001 L116.992 627.742 L125.255 626.075 L129.931 626.075 L129.931 656.7 L137.57 656.7 L137.57 660.635 L117.663 660.635 L117.663 656.7 Z\" fill=\"#000000\" fill-rule=\"nonzero\" fill-opacity=\"1\" /><path clip-path=\"url(#clip850)\" d=\"M147.061 626.075 L165.417 626.075 L165.417 630.01 L151.343 630.01 L151.343 638.483 Q152.362 638.135 153.38 637.973 Q154.399 637.788 155.417 637.788 Q161.204 637.788 164.584 640.959 Q167.964 644.131 167.964 649.547 Q167.964 655.126 164.491 658.228 Q161.019 661.307 154.7 661.307 Q152.524 661.307 150.255 660.936 Q148.01 660.566 145.603 659.825 L145.603 655.126 Q147.686 656.26 149.908 656.816 Q152.13 657.371 154.607 657.371 Q158.612 657.371 160.95 655.265 Q163.288 653.158 163.288 649.547 Q163.288 645.936 160.95 643.83 Q158.612 641.723 154.607 641.723 Q152.732 641.723 150.857 642.14 Q149.005 642.557 147.061 643.436 L147.061 626.075 Z\" fill=\"#000000\" fill-rule=\"nonzero\" fill-opacity=\"1\" /><path clip-path=\"url(#clip850)\" d=\"M119.885 396.759 L136.204 396.759 L136.204 400.694 L114.26 400.694 L114.26 396.759 Q116.922 394.004 121.505 389.374 Q126.112 384.722 127.292 383.379 Q129.538 380.856 130.417 379.12 Q131.32 377.36 131.32 375.671 Q131.32 372.916 129.376 371.18 Q127.455 369.444 124.353 369.444 Q122.154 369.444 119.7 370.208 Q117.269 370.972 114.492 372.523 L114.492 367.8 Q117.316 366.666 119.769 366.087 Q122.223 365.509 124.26 365.509 Q129.63 365.509 132.825 368.194 Q136.019 370.879 136.019 375.37 Q136.019 377.499 135.209 379.421 Q134.422 381.319 132.316 383.911 Q131.737 384.583 128.635 387.8 Q125.533 390.995 119.885 396.759 Z\" fill=\"#000000\" fill-rule=\"nonzero\" fill-opacity=\"1\" /><path clip-path=\"url(#clip850)\" d=\"M156.019 369.212 Q152.408 369.212 150.579 372.777 Q148.774 376.319 148.774 383.448 Q148.774 390.555 150.579 394.12 Q152.408 397.661 156.019 397.661 Q159.653 397.661 161.459 394.12 Q163.288 390.555 163.288 383.448 Q163.288 376.319 161.459 372.777 Q159.653 369.212 156.019 369.212 M156.019 365.509 Q161.829 365.509 164.885 370.115 Q167.964 374.698 167.964 383.448 Q167.964 392.175 164.885 396.782 Q161.829 401.365 156.019 401.365 Q150.209 401.365 147.13 396.782 Q144.075 392.175 144.075 383.448 Q144.075 374.698 147.13 370.115 Q150.209 365.509 156.019 365.509 Z\" fill=\"#000000\" fill-rule=\"nonzero\" fill-opacity=\"1\" /><path clip-path=\"url(#clip850)\" d=\"M120.88 136.817 L137.2 136.817 L137.2 140.752 L115.256 140.752 L115.256 136.817 Q117.918 134.062 122.501 129.433 Q127.107 124.78 128.288 123.437 Q130.533 120.914 131.413 119.178 Q132.316 117.419 132.316 115.729 Q132.316 112.974 130.371 111.238 Q128.45 109.502 125.348 109.502 Q123.149 109.502 120.695 110.266 Q118.265 111.03 115.487 112.581 L115.487 107.859 Q118.311 106.725 120.765 106.146 Q123.218 105.567 125.255 105.567 Q130.626 105.567 133.82 108.252 Q137.015 110.937 137.015 115.428 Q137.015 117.558 136.204 119.479 Q135.417 121.377 133.311 123.97 Q132.732 124.641 129.63 127.859 Q126.529 131.053 120.88 136.817 Z\" fill=\"#000000\" fill-rule=\"nonzero\" fill-opacity=\"1\" /><path clip-path=\"url(#clip850)\" d=\"M147.061 106.192 L165.417 106.192 L165.417 110.127 L151.343 110.127 L151.343 118.599 Q152.362 118.252 153.38 118.09 Q154.399 117.905 155.417 117.905 Q161.204 117.905 164.584 121.076 Q167.964 124.248 167.964 129.664 Q167.964 135.243 164.491 138.345 Q161.019 141.423 154.7 141.423 Q152.524 141.423 150.255 141.053 Q148.01 140.683 145.603 139.942 L145.603 135.243 Q147.686 136.377 149.908 136.933 Q152.13 137.488 154.607 137.488 Q158.612 137.488 160.95 135.382 Q163.288 133.275 163.288 129.664 Q163.288 126.053 160.95 123.947 Q158.612 121.84 154.607 121.84 Q152.732 121.84 150.857 122.257 Q149.005 122.674 147.061 123.553 L147.061 106.192 Z\" fill=\"#000000\" fill-rule=\"nonzero\" fill-opacity=\"1\" /><path clip-path=\"url(#clip850)\" d=\"M16.4842 937.529 L16.4842 910.221 L21.895 910.221 L21.895 931.1 L35.8996 931.1 L35.8996 912.258 L41.3104 912.258 L41.3104 931.1 L64.0042 931.1 L64.0042 937.529 L16.4842 937.529 Z\" fill=\"#000000\" fill-rule=\"nonzero\" fill-opacity=\"1\" /><path clip-path=\"url(#clip850)\" d=\"M33.8307 884.376 Q33.2578 885.362 33.0032 886.54 Q32.7167 887.686 32.7167 889.086 Q32.7167 894.052 35.9632 896.725 Q39.1779 899.367 45.2253 899.367 L64.0042 899.367 L64.0042 905.255 L28.3562 905.255 L28.3562 899.367 L33.8944 899.367 Q30.6479 897.521 29.0883 894.561 Q27.4968 891.601 27.4968 887.368 Q27.4968 886.763 27.5923 886.031 Q27.656 885.299 27.8151 884.408 L33.8307 884.376 Z\" fill=\"#000000\" fill-rule=\"nonzero\" fill-opacity=\"1\" /><path clip-path=\"url(#clip850)\" d=\"M44.7161 849.173 L47.5806 849.173 L47.5806 876.1 Q53.6281 875.718 56.8109 872.472 Q59.9619 869.194 59.9619 863.369 Q59.9619 859.995 59.1344 856.844 Q58.3069 853.661 56.6518 850.542 L62.1899 850.542 Q63.5267 853.693 64.227 857.003 Q64.9272 860.313 64.9272 863.719 Q64.9272 872.249 59.9619 877.246 Q54.9967 882.211 46.5303 882.211 Q37.7774 882.211 32.6531 877.501 Q27.4968 872.758 27.4968 864.738 Q27.4968 857.544 32.1438 853.375 Q36.7589 849.173 44.7161 849.173 M42.9973 855.03 Q38.1912 855.093 35.3266 857.735 Q32.4621 860.345 32.4621 864.674 Q32.4621 869.575 35.2312 872.536 Q38.0002 875.464 43.0292 875.909 L42.9973 855.03 Z\" fill=\"#000000\" fill-rule=\"nonzero\" fill-opacity=\"1\" /><path clip-path=\"url(#clip850)\" d=\"M46.212 836.06 Q52.6732 836.06 56.3653 833.418 Q60.0256 830.745 60.0256 826.098 Q60.0256 821.451 56.3653 818.777 Q52.6732 816.104 46.212 816.104 Q39.7508 816.104 36.0905 818.777 Q32.3984 821.451 32.3984 826.098 Q32.3984 830.745 36.0905 833.418 Q39.7508 836.06 46.212 836.06 M58.657 816.104 Q61.8398 817.95 63.3994 820.782 Q64.9272 823.583 64.9272 827.53 Q64.9272 833.991 59.771 838.065 Q54.6147 842.107 46.212 842.107 Q37.8093 842.107 32.6531 838.065 Q27.4968 833.991 27.4968 827.53 Q27.4968 823.583 29.0564 820.782 Q30.5842 817.95 33.7671 816.104 L28.3562 816.104 L28.3562 810.247 L77.5631 810.247 L77.5631 816.104 L58.657 816.104 Z\" fill=\"#000000\" fill-rule=\"nonzero\" fill-opacity=\"1\" /><path clip-path=\"url(#clip850)\" d=\"M49.9359 798.789 L28.3562 798.789 L28.3562 792.932 L49.7131 792.932 Q54.7739 792.932 57.3202 790.959 Q59.8346 788.986 59.8346 785.039 Q59.8346 780.296 56.8109 777.559 Q53.7872 774.79 48.5673 774.79 L28.3562 774.79 L28.3562 768.934 L64.0042 768.934 L64.0042 774.79 L58.5296 774.79 Q61.7762 776.923 63.3676 779.755 Q64.9272 782.556 64.9272 786.28 Q64.9272 792.423 61.1078 795.606 Q57.2883 798.789 49.9359 798.789 M27.4968 784.052 L27.4968 784.052 Z\" fill=\"#000000\" fill-rule=\"nonzero\" fill-opacity=\"1\" /><path clip-path=\"url(#clip850)\" d=\"M44.7161 726.379 L47.5806 726.379 L47.5806 753.306 Q53.6281 752.924 56.8109 749.677 Q59.9619 746.399 59.9619 740.574 Q59.9619 737.201 59.1344 734.05 Q58.3069 730.867 56.6518 727.748 L62.1899 727.748 Q63.5267 730.899 64.227 734.209 Q64.9272 737.519 64.9272 740.925 Q64.9272 749.455 59.9619 754.452 Q54.9967 759.417 46.5303 759.417 Q37.7774 759.417 32.6531 754.706 Q27.4968 749.964 27.4968 741.943 Q27.4968 734.75 32.1438 730.58 Q36.7589 726.379 44.7161 726.379 M42.9973 732.235 Q38.1912 732.299 35.3266 734.941 Q32.4621 737.551 32.4621 741.879 Q32.4621 746.781 35.2312 749.741 Q38.0002 752.669 43.0292 753.115 L42.9973 732.235 Z\" fill=\"#000000\" fill-rule=\"nonzero\" fill-opacity=\"1\" /><path clip-path=\"url(#clip850)\" d=\"M42.4881 687.134 L64.0042 687.134 L64.0042 692.991 L42.679 692.991 Q37.6183 692.991 35.1038 694.964 Q32.5894 696.938 32.5894 700.884 Q32.5894 705.627 35.6131 708.364 Q38.6368 711.101 43.8567 711.101 L64.0042 711.101 L64.0042 716.989 L28.3562 716.989 L28.3562 711.101 L33.8944 711.101 Q30.6797 709.001 29.0883 706.168 Q27.4968 703.303 27.4968 699.579 Q27.4968 693.436 31.3163 690.285 Q35.1038 687.134 42.4881 687.134 Z\" fill=\"#000000\" fill-rule=\"nonzero\" fill-opacity=\"1\" /><path clip-path=\"url(#clip850)\" d=\"M29.7248 649.799 L35.1993 649.799 Q33.8307 652.282 33.1623 654.797 Q32.4621 657.279 32.4621 659.825 Q32.4621 665.523 36.0905 668.674 Q39.6872 671.825 46.212 671.825 Q52.7369 671.825 56.3653 668.674 Q59.9619 665.523 59.9619 659.825 Q59.9619 657.279 59.2935 654.797 Q58.5933 652.282 57.2247 649.799 L62.6355 649.799 Q63.7814 652.25 64.3543 654.892 Q64.9272 657.502 64.9272 660.462 Q64.9272 668.515 59.8664 673.257 Q54.8057 678 46.212 678 Q37.491 678 32.4939 673.225 Q27.4968 668.419 27.4968 660.08 Q27.4968 657.375 28.0697 654.797 Q28.6108 652.218 29.7248 649.799 Z\" fill=\"#000000\" fill-rule=\"nonzero\" fill-opacity=\"1\" /><path clip-path=\"url(#clip850)\" d=\"M67.3143 624.782 Q73.68 627.265 75.6216 629.62 Q77.5631 631.975 77.5631 635.922 L77.5631 640.601 L72.6615 640.601 L72.6615 637.164 Q72.6615 634.745 71.5157 633.408 Q70.3699 632.071 66.1048 630.448 L63.4312 629.397 L28.3562 643.816 L28.3562 637.609 L56.238 626.469 L28.3562 615.329 L28.3562 609.123 L67.3143 624.782 Z\" fill=\"#000000\" fill-rule=\"nonzero\" fill-opacity=\"1\" /><path clip-path=\"url(#clip850)\" d=\"M816.941 12.096 L825.124 12.096 L825.124 36.8875 L854.858 36.8875 L854.858 12.096 L863.041 12.096 L863.041 72.576 L854.858 72.576 L854.858 43.7741 L825.124 43.7741 L825.124 72.576 L816.941 72.576 L816.941 12.096 Z\" fill=\"#000000\" fill-rule=\"nonzero\" fill-opacity=\"1\" /><path clip-path=\"url(#clip850)\" d=\"M879.001 27.2059 L886.455 27.2059 L886.455 72.576 L879.001 72.576 L879.001 27.2059 M879.001 9.54393 L886.455 9.54393 L886.455 18.9825 L879.001 18.9825 L879.001 9.54393 Z\" fill=\"#000000\" fill-rule=\"nonzero\" fill-opacity=\"1\" /><path clip-path=\"url(#clip850)\" d=\"M930.974 28.5427 L930.974 35.5912 Q927.815 33.9709 924.412 33.1607 Q921.009 32.3505 917.363 32.3505 Q911.814 32.3505 909.019 34.0519 Q906.264 35.7533 906.264 39.156 Q906.264 41.7486 908.249 43.2475 Q910.234 44.7058 916.229 46.0426 L918.781 46.6097 Q926.721 48.3111 930.043 51.4303 Q933.405 54.509 933.405 60.0587 Q933.405 66.3781 928.382 70.0644 Q923.399 73.7508 914.649 73.7508 Q911.003 73.7508 907.034 73.0216 Q903.104 72.3329 898.729 70.9151 L898.729 63.2184 Q902.861 65.3654 906.872 66.4591 Q910.882 67.5124 914.811 67.5124 Q920.078 67.5124 922.913 65.73 Q925.749 63.9071 925.749 60.6258 Q925.749 57.5877 923.683 55.9673 Q921.657 54.3469 914.73 52.8481 L912.138 52.2405 Q905.211 50.7821 902.132 47.7845 Q899.053 44.7463 899.053 39.4801 Q899.053 33.0797 903.59 29.5959 Q908.127 26.1121 916.472 26.1121 Q920.604 26.1121 924.25 26.7198 Q927.896 27.3274 930.974 28.5427 Z\" fill=\"#000000\" fill-rule=\"nonzero\" fill-opacity=\"1\" /><path clip-path=\"url(#clip850)\" d=\"M952.647 14.324 L952.647 27.2059 L968 27.2059 L968 32.9987 L952.647 32.9987 L952.647 57.6282 Q952.647 63.1779 954.146 64.7578 Q955.685 66.3376 960.344 66.3376 L968 66.3376 L968 72.576 L960.344 72.576 Q951.715 72.576 948.434 69.3758 Q945.153 66.1351 945.153 57.6282 L945.153 32.9987 L939.684 32.9987 L939.684 27.2059 L945.153 27.2059 L945.153 14.324 L952.647 14.324 Z\" fill=\"#000000\" fill-rule=\"nonzero\" fill-opacity=\"1\" /><path clip-path=\"url(#clip850)\" d=\"M995.384 32.4315 Q989.388 32.4315 985.905 37.1306 Q982.421 41.7891 982.421 49.9314 Q982.421 58.0738 985.864 62.7728 Q989.348 67.4314 995.384 67.4314 Q1001.34 67.4314 1004.82 62.7323 Q1008.31 58.0333 1008.31 49.9314 Q1008.31 41.8701 1004.82 37.1711 Q1001.34 32.4315 995.384 32.4315 M995.384 26.1121 Q1005.11 26.1121 1010.66 32.4315 Q1016.21 38.7509 1016.21 49.9314 Q1016.21 61.0714 1010.66 67.4314 Q1005.11 73.7508 995.384 73.7508 Q985.621 73.7508 980.071 67.4314 Q974.562 61.0714 974.562 49.9314 Q974.562 38.7509 980.071 32.4315 Q985.621 26.1121 995.384 26.1121 Z\" fill=\"#000000\" fill-rule=\"nonzero\" fill-opacity=\"1\" /><path clip-path=\"url(#clip850)\" d=\"M1058.42 49.3643 Q1058.42 41.2625 1055.05 36.8065 Q1051.73 32.3505 1045.7 32.3505 Q1039.7 32.3505 1036.34 36.8065 Q1033.02 41.2625 1033.02 49.3643 Q1033.02 57.4256 1036.34 61.8816 Q1039.7 66.3376 1045.7 66.3376 Q1051.73 66.3376 1055.05 61.8816 Q1058.42 57.4256 1058.42 49.3643 M1065.87 66.9452 Q1065.87 78.5308 1060.72 84.1616 Q1055.58 89.8329 1044.97 89.8329 Q1041.04 89.8329 1037.55 89.2252 Q1034.07 88.6581 1030.79 87.4428 L1030.79 80.1917 Q1034.07 81.9741 1037.27 82.8248 Q1040.47 83.6755 1043.79 83.6755 Q1051.12 83.6755 1054.77 79.8271 Q1058.42 76.0193 1058.42 68.282 L1058.42 64.5957 Q1056.11 68.6061 1052.5 70.5911 Q1048.9 72.576 1043.87 72.576 Q1035.53 72.576 1030.42 66.2161 Q1025.32 59.8562 1025.32 49.3643 Q1025.32 38.832 1030.42 32.472 Q1035.53 26.1121 1043.87 26.1121 Q1048.9 26.1121 1052.5 28.0971 Q1056.11 30.082 1058.42 34.0924 L1058.42 27.2059 L1065.87 27.2059 L1065.87 66.9452 Z\" fill=\"#000000\" fill-rule=\"nonzero\" fill-opacity=\"1\" /><path clip-path=\"url(#clip850)\" d=\"M1107.51 34.1734 Q1106.26 33.4443 1104.76 33.1202 Q1103.3 32.7556 1101.52 32.7556 Q1095.2 32.7556 1091.8 36.8875 Q1088.43 40.9789 1088.43 48.6757 L1088.43 72.576 L1080.94 72.576 L1080.94 27.2059 L1088.43 27.2059 L1088.43 34.2544 Q1090.78 30.1225 1094.55 28.1376 Q1098.32 26.1121 1103.71 26.1121 Q1104.47 26.1121 1105.41 26.2337 Q1106.34 26.3147 1107.47 26.5172 L1107.51 34.1734 Z\" fill=\"#000000\" fill-rule=\"nonzero\" fill-opacity=\"1\" /><path clip-path=\"url(#clip850)\" d=\"M1135.95 49.7694 Q1126.92 49.7694 1123.43 51.8354 Q1119.95 53.9013 1119.95 58.8839 Q1119.95 62.8538 1122.54 65.2034 Q1125.17 67.5124 1129.67 67.5124 Q1135.87 67.5124 1139.6 63.1374 Q1143.36 58.7219 1143.36 51.4303 L1143.36 49.7694 L1135.95 49.7694 M1150.82 46.6907 L1150.82 72.576 L1143.36 72.576 L1143.36 65.6895 Q1140.81 69.8214 1137 71.8063 Q1133.2 73.7508 1127.69 73.7508 Q1120.72 73.7508 1116.59 69.8619 Q1112.5 65.9325 1112.5 59.3701 Q1112.5 51.7138 1117.6 47.825 Q1122.74 43.9361 1132.91 43.9361 L1143.36 43.9361 L1143.36 43.2069 Q1143.36 38.0623 1139.96 35.2672 Q1136.6 32.4315 1130.48 32.4315 Q1126.59 32.4315 1122.91 33.3632 Q1119.22 34.295 1115.82 36.1584 L1115.82 29.2718 Q1119.91 27.692 1123.76 26.9223 Q1127.61 26.1121 1131.25 26.1121 Q1141.09 26.1121 1145.96 31.2163 Q1150.82 36.3204 1150.82 46.6907 Z\" fill=\"#000000\" fill-rule=\"nonzero\" fill-opacity=\"1\" /><path clip-path=\"url(#clip850)\" d=\"M1201.49 35.9153 Q1204.29 30.8922 1208.18 28.5022 Q1212.07 26.1121 1217.33 26.1121 Q1224.42 26.1121 1228.27 31.0947 Q1232.12 36.0368 1232.12 45.1919 L1232.12 72.576 L1224.62 72.576 L1224.62 45.4349 Q1224.62 38.913 1222.32 35.7533 Q1220.01 32.5936 1215.27 32.5936 Q1209.47 32.5936 1206.11 36.4419 Q1202.75 40.2903 1202.75 46.9338 L1202.75 72.576 L1195.26 72.576 L1195.26 45.4349 Q1195.26 38.8725 1192.95 35.7533 Q1190.64 32.5936 1185.82 32.5936 Q1180.11 32.5936 1176.74 36.4824 Q1173.38 40.3308 1173.38 46.9338 L1173.38 72.576 L1165.89 72.576 L1165.89 27.2059 L1173.38 27.2059 L1173.38 34.2544 Q1175.93 30.082 1179.5 28.0971 Q1183.06 26.1121 1187.96 26.1121 Q1192.91 26.1121 1196.35 28.6237 Q1199.83 31.1352 1201.49 35.9153 Z\" fill=\"#000000\" fill-rule=\"nonzero\" fill-opacity=\"1\" /><path clip-path=\"url(#clip850)\" d=\"M1290.94 32.4315 Q1284.94 32.4315 1281.46 37.1306 Q1277.97 41.7891 1277.97 49.9314 Q1277.97 58.0738 1281.42 62.7728 Q1284.9 67.4314 1290.94 67.4314 Q1296.89 67.4314 1300.38 62.7323 Q1303.86 58.0333 1303.86 49.9314 Q1303.86 41.8701 1300.38 37.1711 Q1296.89 32.4315 1290.94 32.4315 M1290.94 26.1121 Q1300.66 26.1121 1306.21 32.4315 Q1311.76 38.7509 1311.76 49.9314 Q1311.76 61.0714 1306.21 67.4314 Q1300.66 73.7508 1290.94 73.7508 Q1281.18 73.7508 1275.63 67.4314 Q1270.12 61.0714 1270.12 49.9314 Q1270.12 38.7509 1275.63 32.4315 Q1281.18 26.1121 1290.94 26.1121 Z\" fill=\"#000000\" fill-rule=\"nonzero\" fill-opacity=\"1\" /><path clip-path=\"url(#clip850)\" d=\"M1347.08 9.54393 L1347.08 15.7418 L1339.95 15.7418 Q1335.94 15.7418 1334.36 17.3622 Q1332.82 18.9825 1332.82 23.1955 L1332.82 27.2059 L1345.1 27.2059 L1345.1 32.9987 L1332.82 32.9987 L1332.82 72.576 L1325.33 72.576 L1325.33 32.9987 L1318.2 32.9987 L1318.2 27.2059 L1325.33 27.2059 L1325.33 24.0462 Q1325.33 16.471 1328.85 13.0277 Q1332.38 9.54393 1340.03 9.54393 L1347.08 9.54393 Z\" fill=\"#000000\" fill-rule=\"nonzero\" fill-opacity=\"1\" /><path clip-path=\"url(#clip850)\" d=\"M1405.98 34.1734 Q1404.73 33.4443 1403.23 33.1202 Q1401.77 32.7556 1399.99 32.7556 Q1393.67 32.7556 1390.27 36.8875 Q1386.9 40.9789 1386.9 48.6757 L1386.9 72.576 L1379.41 72.576 L1379.41 27.2059 L1386.9 27.2059 L1386.9 34.2544 Q1389.25 30.1225 1393.02 28.1376 Q1396.79 26.1121 1402.18 26.1121 Q1402.95 26.1121 1403.88 26.2337 Q1404.81 26.3147 1405.94 26.5172 L1405.98 34.1734 Z\" fill=\"#000000\" fill-rule=\"nonzero\" fill-opacity=\"1\" /><path clip-path=\"url(#clip850)\" d=\"M1450.79 48.0275 L1450.79 51.6733 L1416.52 51.6733 Q1417 59.3701 1421.13 63.421 Q1425.31 67.4314 1432.72 67.4314 Q1437.01 67.4314 1441.02 66.3781 Q1445.07 65.3249 1449.04 63.2184 L1449.04 70.267 Q1445.03 71.9684 1440.82 72.8596 Q1436.61 73.7508 1432.27 73.7508 Q1421.42 73.7508 1415.06 67.4314 Q1408.74 61.1119 1408.74 50.3365 Q1408.74 39.1965 1414.73 32.6746 Q1420.77 26.1121 1430.98 26.1121 Q1440.13 26.1121 1445.44 32.0264 Q1450.79 37.9003 1450.79 48.0275 M1443.33 45.84 Q1443.25 39.7232 1439.89 36.0774 Q1436.57 32.4315 1431.06 32.4315 Q1424.82 32.4315 1421.05 35.9558 Q1417.33 39.4801 1416.76 45.8805 L1443.33 45.84 Z\" fill=\"#000000\" fill-rule=\"nonzero\" fill-opacity=\"1\" /><path clip-path=\"url(#clip850)\" d=\"M1491.94 28.5427 L1491.94 35.5912 Q1488.78 33.9709 1485.38 33.1607 Q1481.98 32.3505 1478.33 32.3505 Q1472.78 32.3505 1469.99 34.0519 Q1467.23 35.7533 1467.23 39.156 Q1467.23 41.7486 1469.22 43.2475 Q1471.2 44.7058 1477.2 46.0426 L1479.75 46.6097 Q1487.69 48.3111 1491.01 51.4303 Q1494.37 54.509 1494.37 60.0587 Q1494.37 66.3781 1489.35 70.0644 Q1484.37 73.7508 1475.62 73.7508 Q1471.97 73.7508 1468 73.0216 Q1464.07 72.3329 1459.7 70.9151 L1459.7 63.2184 Q1463.83 65.3654 1467.84 66.4591 Q1471.85 67.5124 1475.78 67.5124 Q1481.05 67.5124 1483.88 65.73 Q1486.72 63.9071 1486.72 60.6258 Q1486.72 57.5877 1484.65 55.9673 Q1482.63 54.3469 1475.7 52.8481 L1473.11 52.2405 Q1466.18 50.7821 1463.1 47.7845 Q1460.02 44.7463 1460.02 39.4801 Q1460.02 33.0797 1464.56 29.5959 Q1469.1 26.1121 1477.44 26.1121 Q1481.57 26.1121 1485.22 26.7198 Q1488.86 27.3274 1491.94 28.5427 Z\" fill=\"#000000\" fill-rule=\"nonzero\" fill-opacity=\"1\" /><path clip-path=\"url(#clip850)\" d=\"M1506.24 27.2059 L1513.7 27.2059 L1513.7 72.576 L1506.24 72.576 L1506.24 27.2059 M1506.24 9.54393 L1513.7 9.54393 L1513.7 18.9825 L1506.24 18.9825 L1506.24 9.54393 Z\" fill=\"#000000\" fill-rule=\"nonzero\" fill-opacity=\"1\" /><path clip-path=\"url(#clip850)\" d=\"M1559.15 34.0924 L1559.15 9.54393 L1566.6 9.54393 L1566.6 72.576 L1559.15 72.576 L1559.15 65.7705 Q1556.8 69.8214 1553.19 71.8063 Q1549.63 73.7508 1544.61 73.7508 Q1536.38 73.7508 1531.2 67.1883 Q1526.05 60.6258 1526.05 49.9314 Q1526.05 39.2371 1531.2 32.6746 Q1536.38 26.1121 1544.61 26.1121 Q1549.63 26.1121 1553.19 28.0971 Q1556.8 30.0415 1559.15 34.0924 M1533.75 49.9314 Q1533.75 58.1548 1537.11 62.8538 Q1540.51 67.5124 1546.43 67.5124 Q1552.34 67.5124 1555.75 62.8538 Q1559.15 58.1548 1559.15 49.9314 Q1559.15 41.7081 1555.75 37.0496 Q1552.34 32.3505 1546.43 32.3505 Q1540.51 32.3505 1537.11 37.0496 Q1533.75 41.7081 1533.75 49.9314 Z\" fill=\"#000000\" fill-rule=\"nonzero\" fill-opacity=\"1\" /><path clip-path=\"url(#clip850)\" d=\"M1581.19 54.671 L1581.19 27.2059 L1588.64 27.2059 L1588.64 54.3874 Q1588.64 60.8284 1591.15 64.0691 Q1593.66 67.2693 1598.68 67.2693 Q1604.72 67.2693 1608.2 63.421 Q1611.73 59.5726 1611.73 52.9291 L1611.73 27.2059 L1619.18 27.2059 L1619.18 72.576 L1611.73 72.576 L1611.73 65.6084 Q1609.01 69.7404 1605.41 71.7658 Q1601.84 73.7508 1597.11 73.7508 Q1589.29 73.7508 1585.24 68.8897 Q1581.19 64.0286 1581.19 54.671 M1599.94 26.1121 L1599.94 26.1121 Z\" fill=\"#000000\" fill-rule=\"nonzero\" fill-opacity=\"1\" /><path clip-path=\"url(#clip850)\" d=\"M1655.15 49.7694 Q1646.12 49.7694 1642.64 51.8354 Q1639.15 53.9013 1639.15 58.8839 Q1639.15 62.8538 1641.75 65.2034 Q1644.38 67.5124 1648.88 67.5124 Q1655.07 67.5124 1658.8 63.1374 Q1662.57 58.7219 1662.57 51.4303 L1662.57 49.7694 L1655.15 49.7694 M1670.02 46.6907 L1670.02 72.576 L1662.57 72.576 L1662.57 65.6895 Q1660.02 69.8214 1656.21 71.8063 Q1652.4 73.7508 1646.89 73.7508 Q1639.92 73.7508 1635.79 69.8619 Q1631.7 65.9325 1631.7 59.3701 Q1631.7 51.7138 1636.8 47.825 Q1641.95 43.9361 1652.12 43.9361 L1662.57 43.9361 L1662.57 43.2069 Q1662.57 38.0623 1659.16 35.2672 Q1655.8 32.4315 1649.69 32.4315 Q1645.8 32.4315 1642.11 33.3632 Q1638.42 34.295 1635.02 36.1584 L1635.02 29.2718 Q1639.11 27.692 1642.96 26.9223 Q1646.81 26.1121 1650.46 26.1121 Q1660.3 26.1121 1665.16 31.2163 Q1670.02 36.3204 1670.02 46.6907 Z\" fill=\"#000000\" fill-rule=\"nonzero\" fill-opacity=\"1\" /><path clip-path=\"url(#clip850)\" d=\"M1685.37 9.54393 L1692.83 9.54393 L1692.83 72.576 L1685.37 72.576 L1685.37 9.54393 Z\" fill=\"#000000\" fill-rule=\"nonzero\" fill-opacity=\"1\" /><path clip-path=\"url(#clip850)\" d=\"M1737.35 28.5427 L1737.35 35.5912 Q1734.19 33.9709 1730.78 33.1607 Q1727.38 32.3505 1723.74 32.3505 Q1718.19 32.3505 1715.39 34.0519 Q1712.64 35.7533 1712.64 39.156 Q1712.64 41.7486 1714.62 43.2475 Q1716.61 44.7058 1722.6 46.0426 L1725.15 46.6097 Q1733.09 48.3111 1736.42 51.4303 Q1739.78 54.509 1739.78 60.0587 Q1739.78 66.3781 1734.75 70.0644 Q1729.77 73.7508 1721.02 73.7508 Q1717.38 73.7508 1713.41 73.0216 Q1709.48 72.3329 1705.1 70.9151 L1705.1 63.2184 Q1709.23 65.3654 1713.24 66.4591 Q1717.25 67.5124 1721.18 67.5124 Q1726.45 67.5124 1729.29 65.73 Q1732.12 63.9071 1732.12 60.6258 Q1732.12 57.5877 1730.06 55.9673 Q1728.03 54.3469 1721.1 52.8481 L1718.51 52.2405 Q1711.58 50.7821 1708.51 47.7845 Q1705.43 44.7463 1705.43 39.4801 Q1705.43 33.0797 1709.96 29.5959 Q1714.5 26.1121 1722.85 26.1121 Q1726.98 26.1121 1730.62 26.7198 Q1734.27 27.3274 1737.35 28.5427 Z\" fill=\"#000000\" fill-rule=\"nonzero\" fill-opacity=\"1\" /><path clip-path=\"url(#clip852)\" d=\"M322.151 1371.19 L322.151 1423.18 L513.393 1423.18 L513.393 1371.19 L322.151 1371.19 L322.151 1371.19  Z\" fill=\"#009af9\" fill-rule=\"evenodd\" fill-opacity=\"1\"/>\n",
       "<polyline clip-path=\"url(#clip852)\" style=\"stroke:#000000; stroke-linecap:round; stroke-linejoin:round; stroke-width:4; stroke-opacity:1; fill:none\" points=\"322.151,1371.19 322.151,1423.18 513.393,1423.18 513.393,1371.19 322.151,1371.19 \"/>\n",
       "<path clip-path=\"url(#clip852)\" d=\"M513.393 1319.2 L513.393 1423.18 L704.634 1423.18 L704.634 1319.2 L513.393 1319.2 L513.393 1319.2  Z\" fill=\"#009af9\" fill-rule=\"evenodd\" fill-opacity=\"1\"/>\n",
       "<polyline clip-path=\"url(#clip852)\" style=\"stroke:#000000; stroke-linecap:round; stroke-linejoin:round; stroke-width:4; stroke-opacity:1; fill:none\" points=\"513.393,1319.2 513.393,1423.18 704.634,1423.18 704.634,1319.2 513.393,1319.2 \"/>\n",
       "<path clip-path=\"url(#clip852)\" d=\"M704.634 1371.19 L704.634 1423.18 L895.876 1423.18 L895.876 1371.19 L704.634 1371.19 L704.634 1371.19  Z\" fill=\"#009af9\" fill-rule=\"evenodd\" fill-opacity=\"1\"/>\n",
       "<polyline clip-path=\"url(#clip852)\" style=\"stroke:#000000; stroke-linecap:round; stroke-linejoin:round; stroke-width:4; stroke-opacity:1; fill:none\" points=\"704.634,1371.19 704.634,1423.18 895.876,1423.18 895.876,1371.19 704.634,1371.19 \"/>\n",
       "<path clip-path=\"url(#clip852)\" d=\"M895.876 1267.21 L895.876 1423.18 L1087.12 1423.18 L1087.12 1267.21 L895.876 1267.21 L895.876 1267.21  Z\" fill=\"#009af9\" fill-rule=\"evenodd\" fill-opacity=\"1\"/>\n",
       "<polyline clip-path=\"url(#clip852)\" style=\"stroke:#000000; stroke-linecap:round; stroke-linejoin:round; stroke-width:4; stroke-opacity:1; fill:none\" points=\"895.876,1267.21 895.876,1423.18 1087.12,1423.18 1087.12,1267.21 895.876,1267.21 \"/>\n",
       "<path clip-path=\"url(#clip852)\" d=\"M1087.12 955.285 L1087.12 1423.18 L1278.36 1423.18 L1278.36 955.285 L1087.12 955.285 L1087.12 955.285  Z\" fill=\"#009af9\" fill-rule=\"evenodd\" fill-opacity=\"1\"/>\n",
       "<polyline clip-path=\"url(#clip852)\" style=\"stroke:#000000; stroke-linecap:round; stroke-linejoin:round; stroke-width:4; stroke-opacity:1; fill:none\" points=\"1087.12,955.285 1087.12,1423.18 1278.36,1423.18 1278.36,955.285 1087.12,955.285 \"/>\n",
       "<path clip-path=\"url(#clip852)\" d=\"M1278.36 591.367 L1278.36 1423.18 L1469.6 1423.18 L1469.6 591.367 L1278.36 591.367 L1278.36 591.367  Z\" fill=\"#009af9\" fill-rule=\"evenodd\" fill-opacity=\"1\"/>\n",
       "<polyline clip-path=\"url(#clip852)\" style=\"stroke:#000000; stroke-linecap:round; stroke-linejoin:round; stroke-width:4; stroke-opacity:1; fill:none\" points=\"1278.36,591.367 1278.36,1423.18 1469.6,1423.18 1469.6,591.367 1278.36,591.367 \"/>\n",
       "<path clip-path=\"url(#clip852)\" d=\"M1469.6 123.472 L1469.6 1423.18 L1660.84 1423.18 L1660.84 123.472 L1469.6 123.472 L1469.6 123.472  Z\" fill=\"#009af9\" fill-rule=\"evenodd\" fill-opacity=\"1\"/>\n",
       "<polyline clip-path=\"url(#clip852)\" style=\"stroke:#000000; stroke-linecap:round; stroke-linejoin:round; stroke-width:4; stroke-opacity:1; fill:none\" points=\"1469.6,123.472 1469.6,1423.18 1660.84,1423.18 1660.84,123.472 1469.6,123.472 \"/>\n",
       "<path clip-path=\"url(#clip852)\" d=\"M1660.84 1007.27 L1660.84 1423.18 L1852.08 1423.18 L1852.08 1007.27 L1660.84 1007.27 L1660.84 1007.27  Z\" fill=\"#009af9\" fill-rule=\"evenodd\" fill-opacity=\"1\"/>\n",
       "<polyline clip-path=\"url(#clip852)\" style=\"stroke:#000000; stroke-linecap:round; stroke-linejoin:round; stroke-width:4; stroke-opacity:1; fill:none\" points=\"1660.84,1007.27 1660.84,1423.18 1852.08,1423.18 1852.08,1007.27 1660.84,1007.27 \"/>\n",
       "<path clip-path=\"url(#clip852)\" d=\"M1852.08 1163.24 L1852.08 1423.18 L2043.33 1423.18 L2043.33 1163.24 L1852.08 1163.24 L1852.08 1163.24  Z\" fill=\"#009af9\" fill-rule=\"evenodd\" fill-opacity=\"1\"/>\n",
       "<polyline clip-path=\"url(#clip852)\" style=\"stroke:#000000; stroke-linecap:round; stroke-linejoin:round; stroke-width:4; stroke-opacity:1; fill:none\" points=\"1852.08,1163.24 1852.08,1423.18 2043.33,1423.18 2043.33,1163.24 1852.08,1163.24 \"/>\n",
       "<path clip-path=\"url(#clip852)\" d=\"M2043.33 1319.2 L2043.33 1423.18 L2234.57 1423.18 L2234.57 1319.2 L2043.33 1319.2 L2043.33 1319.2  Z\" fill=\"#009af9\" fill-rule=\"evenodd\" fill-opacity=\"1\"/>\n",
       "<polyline clip-path=\"url(#clip852)\" style=\"stroke:#000000; stroke-linecap:round; stroke-linejoin:round; stroke-width:4; stroke-opacity:1; fill:none\" points=\"2043.33,1319.2 2043.33,1423.18 2234.57,1423.18 2234.57,1319.2 2043.33,1319.2 \"/>\n",
       "<circle clip-path=\"url(#clip852)\" style=\"fill:#009af9; stroke:none; fill-opacity:0\" cx=\"417.772\" cy=\"1371.19\" r=\"2\"/>\n",
       "<circle clip-path=\"url(#clip852)\" style=\"fill:#009af9; stroke:none; fill-opacity:0\" cx=\"609.014\" cy=\"1319.2\" r=\"2\"/>\n",
       "<circle clip-path=\"url(#clip852)\" style=\"fill:#009af9; stroke:none; fill-opacity:0\" cx=\"800.255\" cy=\"1371.19\" r=\"2\"/>\n",
       "<circle clip-path=\"url(#clip852)\" style=\"fill:#009af9; stroke:none; fill-opacity:0\" cx=\"991.497\" cy=\"1267.21\" r=\"2\"/>\n",
       "<circle clip-path=\"url(#clip852)\" style=\"fill:#009af9; stroke:none; fill-opacity:0\" cx=\"1182.74\" cy=\"955.285\" r=\"2\"/>\n",
       "<circle clip-path=\"url(#clip852)\" style=\"fill:#009af9; stroke:none; fill-opacity:0\" cx=\"1373.98\" cy=\"591.367\" r=\"2\"/>\n",
       "<circle clip-path=\"url(#clip852)\" style=\"fill:#009af9; stroke:none; fill-opacity:0\" cx=\"1565.22\" cy=\"123.472\" r=\"2\"/>\n",
       "<circle clip-path=\"url(#clip852)\" style=\"fill:#009af9; stroke:none; fill-opacity:0\" cx=\"1756.46\" cy=\"1007.27\" r=\"2\"/>\n",
       "<circle clip-path=\"url(#clip852)\" style=\"fill:#009af9; stroke:none; fill-opacity:0\" cx=\"1947.71\" cy=\"1163.24\" r=\"2\"/>\n",
       "<circle clip-path=\"url(#clip852)\" style=\"fill:#009af9; stroke:none; fill-opacity:0\" cx=\"2138.95\" cy=\"1319.2\" r=\"2\"/>\n",
       "<path clip-path=\"url(#clip850)\" d=\"M2013.82 270.476 L2281.13 270.476 L2281.13 166.796 L2013.82 166.796  Z\" fill=\"#ffffff\" fill-rule=\"evenodd\" fill-opacity=\"1\"/>\n",
       "<polyline clip-path=\"url(#clip850)\" style=\"stroke:#000000; stroke-linecap:round; stroke-linejoin:round; stroke-width:4; stroke-opacity:1; fill:none\" points=\"2013.82,270.476 2281.13,270.476 2281.13,166.796 2013.82,166.796 2013.82,270.476 \"/>\n",
       "<path clip-path=\"url(#clip850)\" d=\"M2037.7 239.372 L2180.95 239.372 L2180.95 197.9 L2037.7 197.9 L2037.7 239.372  Z\" fill=\"#009af9\" fill-rule=\"evenodd\" fill-opacity=\"1\"/>\n",
       "<polyline clip-path=\"url(#clip850)\" style=\"stroke:#000000; stroke-linecap:round; stroke-linejoin:round; stroke-width:4; stroke-opacity:1; fill:none\" points=\"2037.7,239.372 2180.95,239.372 2180.95,197.9 2037.7,197.9 2037.7,239.372 \"/>\n",
       "<path clip-path=\"url(#clip850)\" d=\"M2218.67 238.323 Q2216.86 242.953 2215.15 244.365 Q2213.43 245.777 2210.56 245.777 L2207.16 245.777 L2207.16 242.212 L2209.66 242.212 Q2211.42 242.212 2212.39 241.379 Q2213.37 240.545 2214.55 237.443 L2215.31 235.499 L2204.82 209.99 L2209.34 209.99 L2217.44 230.268 L2225.54 209.99 L2230.06 209.99 L2218.67 238.323 Z\" fill=\"#000000\" fill-rule=\"nonzero\" fill-opacity=\"1\" /><path clip-path=\"url(#clip850)\" d=\"M2237.35 231.981 L2244.99 231.981 L2244.99 205.615 L2236.68 207.282 L2236.68 203.022 L2244.94 201.356 L2249.62 201.356 L2249.62 231.981 L2257.25 231.981 L2257.25 235.916 L2237.35 235.916 L2237.35 231.981 Z\" fill=\"#000000\" fill-rule=\"nonzero\" fill-opacity=\"1\" /></svg>\n"
      ],
      "text/html": [
       "<?xml version=\"1.0\" encoding=\"utf-8\"?>\n",
       "<svg xmlns=\"http://www.w3.org/2000/svg\" xmlns:xlink=\"http://www.w3.org/1999/xlink\" width=\"600\" height=\"400\" viewBox=\"0 0 2400 1600\">\n",
       "<defs>\n",
       "  <clipPath id=\"clip900\">\n",
       "    <rect x=\"0\" y=\"0\" width=\"2400\" height=\"1600\"/>\n",
       "  </clipPath>\n",
       "</defs>\n",
       "<path clip-path=\"url(#clip900)\" d=\"M0 1600 L2400 1600 L2400 0 L0 0  Z\" fill=\"#ffffff\" fill-rule=\"evenodd\" fill-opacity=\"1\"/>\n",
       "<defs>\n",
       "  <clipPath id=\"clip901\">\n",
       "    <rect x=\"480\" y=\"0\" width=\"1681\" height=\"1600\"/>\n",
       "  </clipPath>\n",
       "</defs>\n",
       "<path clip-path=\"url(#clip900)\" d=\"M203.964 1423.18 L2352.76 1423.18 L2352.76 123.472 L203.964 123.472  Z\" fill=\"#ffffff\" fill-rule=\"evenodd\" fill-opacity=\"1\"/>\n",
       "<defs>\n",
       "  <clipPath id=\"clip902\">\n",
       "    <rect x=\"203\" y=\"123\" width=\"2150\" height=\"1301\"/>\n",
       "  </clipPath>\n",
       "</defs>\n",
       "<polyline clip-path=\"url(#clip902)\" style=\"stroke:#000000; stroke-linecap:round; stroke-linejoin:round; stroke-width:2; stroke-opacity:0.1; fill:none\" points=\"322.151,1423.18 322.151,123.472 \"/>\n",
       "<polyline clip-path=\"url(#clip902)\" style=\"stroke:#000000; stroke-linecap:round; stroke-linejoin:round; stroke-width:2; stroke-opacity:0.1; fill:none\" points=\"704.634,1423.18 704.634,123.472 \"/>\n",
       "<polyline clip-path=\"url(#clip902)\" style=\"stroke:#000000; stroke-linecap:round; stroke-linejoin:round; stroke-width:2; stroke-opacity:0.1; fill:none\" points=\"1087.12,1423.18 1087.12,123.472 \"/>\n",
       "<polyline clip-path=\"url(#clip902)\" style=\"stroke:#000000; stroke-linecap:round; stroke-linejoin:round; stroke-width:2; stroke-opacity:0.1; fill:none\" points=\"1469.6,1423.18 1469.6,123.472 \"/>\n",
       "<polyline clip-path=\"url(#clip902)\" style=\"stroke:#000000; stroke-linecap:round; stroke-linejoin:round; stroke-width:2; stroke-opacity:0.1; fill:none\" points=\"1852.08,1423.18 1852.08,123.472 \"/>\n",
       "<polyline clip-path=\"url(#clip902)\" style=\"stroke:#000000; stroke-linecap:round; stroke-linejoin:round; stroke-width:2; stroke-opacity:0.1; fill:none\" points=\"2234.57,1423.18 2234.57,123.472 \"/>\n",
       "<polyline clip-path=\"url(#clip902)\" style=\"stroke:#000000; stroke-linecap:round; stroke-linejoin:round; stroke-width:2; stroke-opacity:0.1; fill:none\" points=\"203.964,1423.18 2352.76,1423.18 \"/>\n",
       "<polyline clip-path=\"url(#clip902)\" style=\"stroke:#000000; stroke-linecap:round; stroke-linejoin:round; stroke-width:2; stroke-opacity:0.1; fill:none\" points=\"203.964,1163.24 2352.76,1163.24 \"/>\n",
       "<polyline clip-path=\"url(#clip902)\" style=\"stroke:#000000; stroke-linecap:round; stroke-linejoin:round; stroke-width:2; stroke-opacity:0.1; fill:none\" points=\"203.964,903.297 2352.76,903.297 \"/>\n",
       "<polyline clip-path=\"url(#clip902)\" style=\"stroke:#000000; stroke-linecap:round; stroke-linejoin:round; stroke-width:2; stroke-opacity:0.1; fill:none\" points=\"203.964,643.355 2352.76,643.355 \"/>\n",
       "<polyline clip-path=\"url(#clip902)\" style=\"stroke:#000000; stroke-linecap:round; stroke-linejoin:round; stroke-width:2; stroke-opacity:0.1; fill:none\" points=\"203.964,383.414 2352.76,383.414 \"/>\n",
       "<polyline clip-path=\"url(#clip902)\" style=\"stroke:#000000; stroke-linecap:round; stroke-linejoin:round; stroke-width:2; stroke-opacity:0.1; fill:none\" points=\"203.964,123.472 2352.76,123.472 \"/>\n",
       "<polyline clip-path=\"url(#clip900)\" style=\"stroke:#000000; stroke-linecap:round; stroke-linejoin:round; stroke-width:4; stroke-opacity:1; fill:none\" points=\"203.964,1423.18 2352.76,1423.18 \"/>\n",
       "<polyline clip-path=\"url(#clip900)\" style=\"stroke:#000000; stroke-linecap:round; stroke-linejoin:round; stroke-width:4; stroke-opacity:1; fill:none\" points=\"322.151,1423.18 322.151,1404.28 \"/>\n",
       "<polyline clip-path=\"url(#clip900)\" style=\"stroke:#000000; stroke-linecap:round; stroke-linejoin:round; stroke-width:4; stroke-opacity:1; fill:none\" points=\"704.634,1423.18 704.634,1404.28 \"/>\n",
       "<polyline clip-path=\"url(#clip900)\" style=\"stroke:#000000; stroke-linecap:round; stroke-linejoin:round; stroke-width:4; stroke-opacity:1; fill:none\" points=\"1087.12,1423.18 1087.12,1404.28 \"/>\n",
       "<polyline clip-path=\"url(#clip900)\" style=\"stroke:#000000; stroke-linecap:round; stroke-linejoin:round; stroke-width:4; stroke-opacity:1; fill:none\" points=\"1469.6,1423.18 1469.6,1404.28 \"/>\n",
       "<polyline clip-path=\"url(#clip900)\" style=\"stroke:#000000; stroke-linecap:round; stroke-linejoin:round; stroke-width:4; stroke-opacity:1; fill:none\" points=\"1852.08,1423.18 1852.08,1404.28 \"/>\n",
       "<polyline clip-path=\"url(#clip900)\" style=\"stroke:#000000; stroke-linecap:round; stroke-linejoin:round; stroke-width:4; stroke-opacity:1; fill:none\" points=\"2234.57,1423.18 2234.57,1404.28 \"/>\n",
       "<path clip-path=\"url(#clip900)\" d=\"M291.619 1468.75 L321.294 1468.75 L321.294 1472.69 L291.619 1472.69 L291.619 1468.75 Z\" fill=\"#000000\" fill-rule=\"nonzero\" fill-opacity=\"1\" /><path clip-path=\"url(#clip900)\" d=\"M345.554 1466.95 Q348.91 1467.66 350.785 1469.93 Q352.683 1472.2 352.683 1475.53 Q352.683 1480.65 349.165 1483.45 Q345.646 1486.25 339.165 1486.25 Q336.989 1486.25 334.674 1485.81 Q332.382 1485.39 329.929 1484.54 L329.929 1480.02 Q331.873 1481.16 334.188 1481.74 Q336.503 1482.32 339.026 1482.32 Q343.424 1482.32 345.716 1480.58 Q348.03 1478.84 348.03 1475.53 Q348.03 1472.48 345.878 1470.77 Q343.748 1469.03 339.929 1469.03 L335.901 1469.03 L335.901 1465.19 L340.114 1465.19 Q343.563 1465.19 345.392 1463.82 Q347.22 1462.43 347.22 1459.84 Q347.22 1457.18 345.322 1455.77 Q343.447 1454.33 339.929 1454.33 Q338.007 1454.33 335.808 1454.75 Q333.609 1455.16 330.97 1456.04 L330.97 1451.88 Q333.632 1451.14 335.947 1450.77 Q338.285 1450.39 340.345 1450.39 Q345.669 1450.39 348.771 1452.83 Q351.873 1455.23 351.873 1459.35 Q351.873 1462.22 350.23 1464.21 Q348.586 1466.18 345.554 1466.95 Z\" fill=\"#000000\" fill-rule=\"nonzero\" fill-opacity=\"1\" /><path clip-path=\"url(#clip900)\" d=\"M674.577 1468.75 L704.253 1468.75 L704.253 1472.69 L674.577 1472.69 L674.577 1468.75 Z\" fill=\"#000000\" fill-rule=\"nonzero\" fill-opacity=\"1\" /><path clip-path=\"url(#clip900)\" d=\"M718.373 1481.64 L734.692 1481.64 L734.692 1485.58 L712.748 1485.58 L712.748 1481.64 Q715.41 1478.89 719.993 1474.26 Q724.6 1469.61 725.78 1468.27 Q728.026 1465.74 728.905 1464.01 Q729.808 1462.25 729.808 1460.56 Q729.808 1457.8 727.864 1456.07 Q725.942 1454.33 722.84 1454.33 Q720.641 1454.33 718.188 1455.09 Q715.757 1455.86 712.979 1457.41 L712.979 1452.69 Q715.803 1451.55 718.257 1450.97 Q720.711 1450.39 722.748 1450.39 Q728.118 1450.39 731.313 1453.08 Q734.507 1455.77 734.507 1460.26 Q734.507 1462.39 733.697 1464.31 Q732.91 1466.2 730.803 1468.8 Q730.225 1469.47 727.123 1472.69 Q724.021 1475.88 718.373 1481.64 Z\" fill=\"#000000\" fill-rule=\"nonzero\" fill-opacity=\"1\" /><path clip-path=\"url(#clip900)\" d=\"M1056.88 1468.75 L1086.55 1468.75 L1086.55 1472.69 L1056.88 1472.69 L1056.88 1468.75 Z\" fill=\"#000000\" fill-rule=\"nonzero\" fill-opacity=\"1\" /><path clip-path=\"url(#clip900)\" d=\"M1097.45 1481.64 L1105.09 1481.64 L1105.09 1455.28 L1096.78 1456.95 L1096.78 1452.69 L1105.05 1451.02 L1109.72 1451.02 L1109.72 1481.64 L1117.36 1481.64 L1117.36 1485.58 L1097.45 1485.58 L1097.45 1481.64 Z\" fill=\"#000000\" fill-rule=\"nonzero\" fill-opacity=\"1\" /><path clip-path=\"url(#clip900)\" d=\"M1469.6 1454.1 Q1465.99 1454.1 1464.16 1457.66 Q1462.36 1461.2 1462.36 1468.33 Q1462.36 1475.44 1464.16 1479.01 Q1465.99 1482.55 1469.6 1482.55 Q1473.24 1482.55 1475.04 1479.01 Q1476.87 1475.44 1476.87 1468.33 Q1476.87 1461.2 1475.04 1457.66 Q1473.24 1454.1 1469.6 1454.1 M1469.6 1450.39 Q1475.41 1450.39 1478.47 1455 Q1481.55 1459.58 1481.55 1468.33 Q1481.55 1477.06 1478.47 1481.67 Q1475.41 1486.25 1469.6 1486.25 Q1463.79 1486.25 1460.71 1481.67 Q1457.66 1477.06 1457.66 1468.33 Q1457.66 1459.58 1460.71 1455 Q1463.79 1450.39 1469.6 1450.39 Z\" fill=\"#000000\" fill-rule=\"nonzero\" fill-opacity=\"1\" /><path clip-path=\"url(#clip900)\" d=\"M1842.47 1481.64 L1850.11 1481.64 L1850.11 1455.28 L1841.8 1456.95 L1841.8 1452.69 L1850.06 1451.02 L1854.74 1451.02 L1854.74 1481.64 L1862.37 1481.64 L1862.37 1485.58 L1842.47 1485.58 L1842.47 1481.64 Z\" fill=\"#000000\" fill-rule=\"nonzero\" fill-opacity=\"1\" /><path clip-path=\"url(#clip900)\" d=\"M2229.22 1481.64 L2245.54 1481.64 L2245.54 1485.58 L2223.6 1485.58 L2223.6 1481.64 Q2226.26 1478.89 2230.84 1474.26 Q2235.45 1469.61 2236.63 1468.27 Q2238.87 1465.74 2239.75 1464.01 Q2240.66 1462.25 2240.66 1460.56 Q2240.66 1457.8 2238.71 1456.07 Q2236.79 1454.33 2233.69 1454.33 Q2231.49 1454.33 2229.04 1455.09 Q2226.61 1455.86 2223.83 1457.41 L2223.83 1452.69 Q2226.65 1451.55 2229.11 1450.97 Q2231.56 1450.39 2233.6 1450.39 Q2238.97 1450.39 2242.16 1453.08 Q2245.36 1455.77 2245.36 1460.26 Q2245.36 1462.39 2244.55 1464.31 Q2243.76 1466.2 2241.65 1468.8 Q2241.07 1469.47 2237.97 1472.69 Q2234.87 1475.88 2229.22 1481.64 Z\" fill=\"#000000\" fill-rule=\"nonzero\" fill-opacity=\"1\" /><path clip-path=\"url(#clip900)\" d=\"M1151.06 1545.76 Q1153.13 1546.46 1155.07 1548.76 Q1157.05 1551.05 1159.02 1555.06 L1165.54 1568.04 L1158.64 1568.04 L1152.56 1555.85 Q1150.2 1551.08 1147.97 1549.52 Q1145.78 1547.96 1141.96 1547.96 L1134.96 1547.96 L1134.96 1568.04 L1128.53 1568.04 L1128.53 1520.52 L1143.04 1520.52 Q1151.19 1520.52 1155.2 1523.93 Q1159.21 1527.34 1159.21 1534.21 Q1159.21 1538.7 1157.11 1541.66 Q1155.04 1544.62 1151.06 1545.76 M1134.96 1525.81 L1134.96 1542.68 L1143.04 1542.68 Q1147.69 1542.68 1150.04 1540.54 Q1152.43 1538.38 1152.43 1534.21 Q1152.43 1530.04 1150.04 1527.94 Q1147.69 1525.81 1143.04 1525.81 L1134.96 1525.81 Z\" fill=\"#000000\" fill-rule=\"nonzero\" fill-opacity=\"1\" /><path clip-path=\"url(#clip900)\" d=\"M1201.13 1548.76 L1201.13 1551.62 L1174.2 1551.62 Q1174.58 1557.67 1177.83 1560.85 Q1181.11 1564 1186.93 1564 Q1190.31 1564 1193.46 1563.17 Q1196.64 1562.35 1199.76 1560.69 L1199.76 1566.23 Q1196.61 1567.57 1193.3 1568.27 Q1189.99 1568.97 1186.58 1568.97 Q1178.05 1568.97 1173.06 1564 Q1168.09 1559.04 1168.09 1550.57 Q1168.09 1541.82 1172.8 1536.69 Q1177.54 1531.54 1185.56 1531.54 Q1192.76 1531.54 1196.93 1536.18 Q1201.13 1540.8 1201.13 1548.76 M1195.27 1547.04 Q1195.21 1542.23 1192.57 1539.37 Q1189.96 1536.5 1185.63 1536.5 Q1180.73 1536.5 1177.77 1539.27 Q1174.84 1542.04 1174.39 1547.07 L1195.27 1547.04 Z\" fill=\"#000000\" fill-rule=\"nonzero\" fill-opacity=\"1\" /><path clip-path=\"url(#clip900)\" d=\"M1233.47 1533.45 L1233.47 1538.98 Q1230.98 1537.71 1228.31 1537.07 Q1225.64 1536.44 1222.77 1536.44 Q1218.41 1536.44 1216.21 1537.77 Q1214.05 1539.11 1214.05 1541.79 Q1214.05 1543.82 1215.61 1545 Q1217.17 1546.15 1221.88 1547.2 L1223.89 1547.64 Q1230.12 1548.98 1232.73 1551.43 Q1235.38 1553.85 1235.38 1558.21 Q1235.38 1563.17 1231.43 1566.07 Q1227.51 1568.97 1220.64 1568.97 Q1217.77 1568.97 1214.65 1568.39 Q1211.57 1567.85 1208.13 1566.74 L1208.13 1560.69 Q1211.38 1562.38 1214.53 1563.24 Q1217.68 1564.07 1220.77 1564.07 Q1224.9 1564.07 1227.13 1562.66 Q1229.36 1561.23 1229.36 1558.65 Q1229.36 1556.27 1227.74 1554.99 Q1226.15 1553.72 1220.7 1552.54 L1218.67 1552.07 Q1213.22 1550.92 1210.8 1548.56 Q1208.38 1546.18 1208.38 1542.04 Q1208.38 1537.01 1211.95 1534.27 Q1215.51 1531.54 1222.07 1531.54 Q1225.32 1531.54 1228.18 1532.01 Q1231.05 1532.49 1233.47 1533.45 Z\" fill=\"#000000\" fill-rule=\"nonzero\" fill-opacity=\"1\" /><path clip-path=\"url(#clip900)\" d=\"M1244.7 1532.4 L1250.56 1532.4 L1250.56 1568.04 L1244.7 1568.04 L1244.7 1532.4 M1244.7 1518.52 L1250.56 1518.52 L1250.56 1525.93 L1244.7 1525.93 L1244.7 1518.52 Z\" fill=\"#000000\" fill-rule=\"nonzero\" fill-opacity=\"1\" /><path clip-path=\"url(#clip900)\" d=\"M1286.27 1537.81 L1286.27 1518.52 L1292.13 1518.52 L1292.13 1568.04 L1286.27 1568.04 L1286.27 1562.7 Q1284.42 1565.88 1281.59 1567.44 Q1278.79 1568.97 1274.84 1568.97 Q1268.38 1568.97 1264.31 1563.81 Q1260.27 1558.65 1260.27 1550.25 Q1260.27 1541.85 1264.31 1536.69 Q1268.38 1531.54 1274.84 1531.54 Q1278.79 1531.54 1281.59 1533.1 Q1284.42 1534.62 1286.27 1537.81 M1266.31 1550.25 Q1266.31 1556.71 1268.95 1560.4 Q1271.63 1564.07 1276.27 1564.07 Q1280.92 1564.07 1283.6 1560.4 Q1286.27 1556.71 1286.27 1550.25 Q1286.27 1543.79 1283.6 1540.13 Q1280.92 1536.44 1276.27 1536.44 Q1271.63 1536.44 1268.95 1540.13 Q1266.31 1543.79 1266.31 1550.25 Z\" fill=\"#000000\" fill-rule=\"nonzero\" fill-opacity=\"1\" /><path clip-path=\"url(#clip900)\" d=\"M1303.58 1553.98 L1303.58 1532.4 L1309.44 1532.4 L1309.44 1553.75 Q1309.44 1558.81 1311.41 1561.36 Q1313.39 1563.87 1317.33 1563.87 Q1322.08 1563.87 1324.81 1560.85 Q1327.58 1557.83 1327.58 1552.61 L1327.58 1532.4 L1333.44 1532.4 L1333.44 1568.04 L1327.58 1568.04 L1327.58 1562.57 Q1325.45 1565.82 1322.62 1567.41 Q1319.82 1568.97 1316.09 1568.97 Q1309.95 1568.97 1306.77 1565.15 Q1303.58 1561.33 1303.58 1553.98 M1318.32 1531.54 L1318.32 1531.54 Z\" fill=\"#000000\" fill-rule=\"nonzero\" fill-opacity=\"1\" /><path clip-path=\"url(#clip900)\" d=\"M1361.7 1550.12 Q1354.6 1550.12 1351.87 1551.75 Q1349.13 1553.37 1349.13 1557.29 Q1349.13 1560.4 1351.17 1562.25 Q1353.24 1564.07 1356.77 1564.07 Q1361.64 1564.07 1364.57 1560.63 Q1367.53 1557.16 1367.53 1551.43 L1367.53 1550.12 L1361.7 1550.12 M1373.38 1547.71 L1373.38 1568.04 L1367.53 1568.04 L1367.53 1562.63 Q1365.52 1565.88 1362.53 1567.44 Q1359.54 1568.97 1355.21 1568.97 Q1349.74 1568.97 1346.49 1565.91 Q1343.27 1562.82 1343.27 1557.67 Q1343.27 1551.65 1347.28 1548.6 Q1351.33 1545.54 1359.32 1545.54 L1367.53 1545.54 L1367.53 1544.97 Q1367.53 1540.93 1364.85 1538.73 Q1362.21 1536.5 1357.41 1536.5 Q1354.35 1536.5 1351.45 1537.23 Q1348.56 1537.97 1345.88 1539.43 L1345.88 1534.02 Q1349.1 1532.78 1352.12 1532.17 Q1355.15 1531.54 1358.01 1531.54 Q1365.74 1531.54 1369.56 1535.55 Q1373.38 1539.56 1373.38 1547.71 Z\" fill=\"#000000\" fill-rule=\"nonzero\" fill-opacity=\"1\" /><path clip-path=\"url(#clip900)\" d=\"M1385.45 1518.52 L1391.3 1518.52 L1391.3 1568.04 L1385.45 1568.04 L1385.45 1518.52 Z\" fill=\"#000000\" fill-rule=\"nonzero\" fill-opacity=\"1\" /><path clip-path=\"url(#clip900)\" d=\"M1426.28 1533.45 L1426.28 1538.98 Q1423.8 1537.71 1421.13 1537.07 Q1418.45 1536.44 1415.59 1536.44 Q1411.23 1536.44 1409.03 1537.77 Q1406.87 1539.11 1406.87 1541.79 Q1406.87 1543.82 1408.43 1545 Q1409.99 1546.15 1414.7 1547.2 L1416.7 1547.64 Q1422.94 1548.98 1425.55 1551.43 Q1428.19 1553.85 1428.19 1558.21 Q1428.19 1563.17 1424.25 1566.07 Q1420.33 1568.97 1413.46 1568.97 Q1410.59 1568.97 1407.47 1568.39 Q1404.38 1567.85 1400.95 1566.74 L1400.95 1560.69 Q1404.19 1562.38 1407.34 1563.24 Q1410.5 1564.07 1413.58 1564.07 Q1417.72 1564.07 1419.95 1562.66 Q1422.18 1561.23 1422.18 1558.65 Q1422.18 1556.27 1420.55 1554.99 Q1418.96 1553.72 1413.52 1552.54 L1411.48 1552.07 Q1406.04 1550.92 1403.62 1548.56 Q1401.2 1546.18 1401.2 1542.04 Q1401.2 1537.01 1404.77 1534.27 Q1408.33 1531.54 1414.89 1531.54 Q1418.13 1531.54 1421 1532.01 Q1423.86 1532.49 1426.28 1533.45 Z\" fill=\"#000000\" fill-rule=\"nonzero\" fill-opacity=\"1\" /><polyline clip-path=\"url(#clip900)\" style=\"stroke:#000000; stroke-linecap:round; stroke-linejoin:round; stroke-width:4; stroke-opacity:1; fill:none\" points=\"203.964,1423.18 203.964,123.472 \"/>\n",
       "<polyline clip-path=\"url(#clip900)\" style=\"stroke:#000000; stroke-linecap:round; stroke-linejoin:round; stroke-width:4; stroke-opacity:1; fill:none\" points=\"203.964,1423.18 222.861,1423.18 \"/>\n",
       "<polyline clip-path=\"url(#clip900)\" style=\"stroke:#000000; stroke-linecap:round; stroke-linejoin:round; stroke-width:4; stroke-opacity:1; fill:none\" points=\"203.964,1163.24 222.861,1163.24 \"/>\n",
       "<polyline clip-path=\"url(#clip900)\" style=\"stroke:#000000; stroke-linecap:round; stroke-linejoin:round; stroke-width:4; stroke-opacity:1; fill:none\" points=\"203.964,903.297 222.861,903.297 \"/>\n",
       "<polyline clip-path=\"url(#clip900)\" style=\"stroke:#000000; stroke-linecap:round; stroke-linejoin:round; stroke-width:4; stroke-opacity:1; fill:none\" points=\"203.964,643.355 222.861,643.355 \"/>\n",
       "<polyline clip-path=\"url(#clip900)\" style=\"stroke:#000000; stroke-linecap:round; stroke-linejoin:round; stroke-width:4; stroke-opacity:1; fill:none\" points=\"203.964,383.414 222.861,383.414 \"/>\n",
       "<polyline clip-path=\"url(#clip900)\" style=\"stroke:#000000; stroke-linecap:round; stroke-linejoin:round; stroke-width:4; stroke-opacity:1; fill:none\" points=\"203.964,123.472 222.861,123.472 \"/>\n",
       "<path clip-path=\"url(#clip900)\" d=\"M156.019 1408.98 Q152.408 1408.98 150.579 1412.54 Q148.774 1416.08 148.774 1423.21 Q148.774 1430.32 150.579 1433.89 Q152.408 1437.43 156.019 1437.43 Q159.653 1437.43 161.459 1433.89 Q163.288 1430.32 163.288 1423.21 Q163.288 1416.08 161.459 1412.54 Q159.653 1408.98 156.019 1408.98 M156.019 1405.27 Q161.829 1405.27 164.885 1409.88 Q167.964 1414.46 167.964 1423.21 Q167.964 1431.94 164.885 1436.55 Q161.829 1441.13 156.019 1441.13 Q150.209 1441.13 147.13 1436.55 Q144.075 1431.94 144.075 1423.21 Q144.075 1414.46 147.13 1409.88 Q150.209 1405.27 156.019 1405.27 Z\" fill=\"#000000\" fill-rule=\"nonzero\" fill-opacity=\"1\" /><path clip-path=\"url(#clip900)\" d=\"M147.061 1145.96 L165.417 1145.96 L165.417 1149.89 L151.343 1149.89 L151.343 1158.37 Q152.362 1158.02 153.38 1157.86 Q154.399 1157.67 155.417 1157.67 Q161.204 1157.67 164.584 1160.84 Q167.964 1164.01 167.964 1169.43 Q167.964 1175.01 164.491 1178.11 Q161.019 1181.19 154.7 1181.19 Q152.524 1181.19 150.255 1180.82 Q148.01 1180.45 145.603 1179.71 L145.603 1175.01 Q147.686 1176.14 149.908 1176.7 Q152.13 1177.25 154.607 1177.25 Q158.612 1177.25 160.95 1175.15 Q163.288 1173.04 163.288 1169.43 Q163.288 1165.82 160.95 1163.71 Q158.612 1161.61 154.607 1161.61 Q152.732 1161.61 150.857 1162.02 Q149.005 1162.44 147.061 1163.32 L147.061 1145.96 Z\" fill=\"#000000\" fill-rule=\"nonzero\" fill-opacity=\"1\" /><path clip-path=\"url(#clip900)\" d=\"M116.668 916.642 L124.306 916.642 L124.306 890.276 L115.996 891.943 L115.996 887.683 L124.26 886.017 L128.936 886.017 L128.936 916.642 L136.575 916.642 L136.575 920.577 L116.668 920.577 L116.668 916.642 Z\" fill=\"#000000\" fill-rule=\"nonzero\" fill-opacity=\"1\" /><path clip-path=\"url(#clip900)\" d=\"M156.019 889.095 Q152.408 889.095 150.579 892.66 Q148.774 896.202 148.774 903.331 Q148.774 910.438 150.579 914.003 Q152.408 917.544 156.019 917.544 Q159.653 917.544 161.459 914.003 Q163.288 910.438 163.288 903.331 Q163.288 896.202 161.459 892.66 Q159.653 889.095 156.019 889.095 M156.019 885.392 Q161.829 885.392 164.885 889.998 Q167.964 894.582 167.964 903.331 Q167.964 912.058 164.885 916.665 Q161.829 921.248 156.019 921.248 Q150.209 921.248 147.13 916.665 Q144.075 912.058 144.075 903.331 Q144.075 894.582 147.13 889.998 Q150.209 885.392 156.019 885.392 Z\" fill=\"#000000\" fill-rule=\"nonzero\" fill-opacity=\"1\" /><path clip-path=\"url(#clip900)\" d=\"M117.663 656.7 L125.302 656.7 L125.302 630.334 L116.992 632.001 L116.992 627.742 L125.255 626.075 L129.931 626.075 L129.931 656.7 L137.57 656.7 L137.57 660.635 L117.663 660.635 L117.663 656.7 Z\" fill=\"#000000\" fill-rule=\"nonzero\" fill-opacity=\"1\" /><path clip-path=\"url(#clip900)\" d=\"M147.061 626.075 L165.417 626.075 L165.417 630.01 L151.343 630.01 L151.343 638.483 Q152.362 638.135 153.38 637.973 Q154.399 637.788 155.417 637.788 Q161.204 637.788 164.584 640.959 Q167.964 644.131 167.964 649.547 Q167.964 655.126 164.491 658.228 Q161.019 661.307 154.7 661.307 Q152.524 661.307 150.255 660.936 Q148.01 660.566 145.603 659.825 L145.603 655.126 Q147.686 656.26 149.908 656.816 Q152.13 657.371 154.607 657.371 Q158.612 657.371 160.95 655.265 Q163.288 653.158 163.288 649.547 Q163.288 645.936 160.95 643.83 Q158.612 641.723 154.607 641.723 Q152.732 641.723 150.857 642.14 Q149.005 642.557 147.061 643.436 L147.061 626.075 Z\" fill=\"#000000\" fill-rule=\"nonzero\" fill-opacity=\"1\" /><path clip-path=\"url(#clip900)\" d=\"M119.885 396.759 L136.204 396.759 L136.204 400.694 L114.26 400.694 L114.26 396.759 Q116.922 394.004 121.505 389.374 Q126.112 384.722 127.292 383.379 Q129.538 380.856 130.417 379.12 Q131.32 377.36 131.32 375.671 Q131.32 372.916 129.376 371.18 Q127.455 369.444 124.353 369.444 Q122.154 369.444 119.7 370.208 Q117.269 370.972 114.492 372.523 L114.492 367.8 Q117.316 366.666 119.769 366.087 Q122.223 365.509 124.26 365.509 Q129.63 365.509 132.825 368.194 Q136.019 370.879 136.019 375.37 Q136.019 377.499 135.209 379.421 Q134.422 381.319 132.316 383.911 Q131.737 384.583 128.635 387.8 Q125.533 390.995 119.885 396.759 Z\" fill=\"#000000\" fill-rule=\"nonzero\" fill-opacity=\"1\" /><path clip-path=\"url(#clip900)\" d=\"M156.019 369.212 Q152.408 369.212 150.579 372.777 Q148.774 376.319 148.774 383.448 Q148.774 390.555 150.579 394.12 Q152.408 397.661 156.019 397.661 Q159.653 397.661 161.459 394.12 Q163.288 390.555 163.288 383.448 Q163.288 376.319 161.459 372.777 Q159.653 369.212 156.019 369.212 M156.019 365.509 Q161.829 365.509 164.885 370.115 Q167.964 374.698 167.964 383.448 Q167.964 392.175 164.885 396.782 Q161.829 401.365 156.019 401.365 Q150.209 401.365 147.13 396.782 Q144.075 392.175 144.075 383.448 Q144.075 374.698 147.13 370.115 Q150.209 365.509 156.019 365.509 Z\" fill=\"#000000\" fill-rule=\"nonzero\" fill-opacity=\"1\" /><path clip-path=\"url(#clip900)\" d=\"M120.88 136.817 L137.2 136.817 L137.2 140.752 L115.256 140.752 L115.256 136.817 Q117.918 134.062 122.501 129.433 Q127.107 124.78 128.288 123.437 Q130.533 120.914 131.413 119.178 Q132.316 117.419 132.316 115.729 Q132.316 112.974 130.371 111.238 Q128.45 109.502 125.348 109.502 Q123.149 109.502 120.695 110.266 Q118.265 111.03 115.487 112.581 L115.487 107.859 Q118.311 106.725 120.765 106.146 Q123.218 105.567 125.255 105.567 Q130.626 105.567 133.82 108.252 Q137.015 110.937 137.015 115.428 Q137.015 117.558 136.204 119.479 Q135.417 121.377 133.311 123.97 Q132.732 124.641 129.63 127.859 Q126.529 131.053 120.88 136.817 Z\" fill=\"#000000\" fill-rule=\"nonzero\" fill-opacity=\"1\" /><path clip-path=\"url(#clip900)\" d=\"M147.061 106.192 L165.417 106.192 L165.417 110.127 L151.343 110.127 L151.343 118.599 Q152.362 118.252 153.38 118.09 Q154.399 117.905 155.417 117.905 Q161.204 117.905 164.584 121.076 Q167.964 124.248 167.964 129.664 Q167.964 135.243 164.491 138.345 Q161.019 141.423 154.7 141.423 Q152.524 141.423 150.255 141.053 Q148.01 140.683 145.603 139.942 L145.603 135.243 Q147.686 136.377 149.908 136.933 Q152.13 137.488 154.607 137.488 Q158.612 137.488 160.95 135.382 Q163.288 133.275 163.288 129.664 Q163.288 126.053 160.95 123.947 Q158.612 121.84 154.607 121.84 Q152.732 121.84 150.857 122.257 Q149.005 122.674 147.061 123.553 L147.061 106.192 Z\" fill=\"#000000\" fill-rule=\"nonzero\" fill-opacity=\"1\" /><path clip-path=\"url(#clip900)\" d=\"M16.4842 937.529 L16.4842 910.221 L21.895 910.221 L21.895 931.1 L35.8996 931.1 L35.8996 912.258 L41.3104 912.258 L41.3104 931.1 L64.0042 931.1 L64.0042 937.529 L16.4842 937.529 Z\" fill=\"#000000\" fill-rule=\"nonzero\" fill-opacity=\"1\" /><path clip-path=\"url(#clip900)\" d=\"M33.8307 884.376 Q33.2578 885.362 33.0032 886.54 Q32.7167 887.686 32.7167 889.086 Q32.7167 894.052 35.9632 896.725 Q39.1779 899.367 45.2253 899.367 L64.0042 899.367 L64.0042 905.255 L28.3562 905.255 L28.3562 899.367 L33.8944 899.367 Q30.6479 897.521 29.0883 894.561 Q27.4968 891.601 27.4968 887.368 Q27.4968 886.763 27.5923 886.031 Q27.656 885.299 27.8151 884.408 L33.8307 884.376 Z\" fill=\"#000000\" fill-rule=\"nonzero\" fill-opacity=\"1\" /><path clip-path=\"url(#clip900)\" d=\"M44.7161 849.173 L47.5806 849.173 L47.5806 876.1 Q53.6281 875.718 56.8109 872.472 Q59.9619 869.194 59.9619 863.369 Q59.9619 859.995 59.1344 856.844 Q58.3069 853.661 56.6518 850.542 L62.1899 850.542 Q63.5267 853.693 64.227 857.003 Q64.9272 860.313 64.9272 863.719 Q64.9272 872.249 59.9619 877.246 Q54.9967 882.211 46.5303 882.211 Q37.7774 882.211 32.6531 877.501 Q27.4968 872.758 27.4968 864.738 Q27.4968 857.544 32.1438 853.375 Q36.7589 849.173 44.7161 849.173 M42.9973 855.03 Q38.1912 855.093 35.3266 857.735 Q32.4621 860.345 32.4621 864.674 Q32.4621 869.575 35.2312 872.536 Q38.0002 875.464 43.0292 875.909 L42.9973 855.03 Z\" fill=\"#000000\" fill-rule=\"nonzero\" fill-opacity=\"1\" /><path clip-path=\"url(#clip900)\" d=\"M46.212 836.06 Q52.6732 836.06 56.3653 833.418 Q60.0256 830.745 60.0256 826.098 Q60.0256 821.451 56.3653 818.777 Q52.6732 816.104 46.212 816.104 Q39.7508 816.104 36.0905 818.777 Q32.3984 821.451 32.3984 826.098 Q32.3984 830.745 36.0905 833.418 Q39.7508 836.06 46.212 836.06 M58.657 816.104 Q61.8398 817.95 63.3994 820.782 Q64.9272 823.583 64.9272 827.53 Q64.9272 833.991 59.771 838.065 Q54.6147 842.107 46.212 842.107 Q37.8093 842.107 32.6531 838.065 Q27.4968 833.991 27.4968 827.53 Q27.4968 823.583 29.0564 820.782 Q30.5842 817.95 33.7671 816.104 L28.3562 816.104 L28.3562 810.247 L77.5631 810.247 L77.5631 816.104 L58.657 816.104 Z\" fill=\"#000000\" fill-rule=\"nonzero\" fill-opacity=\"1\" /><path clip-path=\"url(#clip900)\" d=\"M49.9359 798.789 L28.3562 798.789 L28.3562 792.932 L49.7131 792.932 Q54.7739 792.932 57.3202 790.959 Q59.8346 788.986 59.8346 785.039 Q59.8346 780.296 56.8109 777.559 Q53.7872 774.79 48.5673 774.79 L28.3562 774.79 L28.3562 768.934 L64.0042 768.934 L64.0042 774.79 L58.5296 774.79 Q61.7762 776.923 63.3676 779.755 Q64.9272 782.556 64.9272 786.28 Q64.9272 792.423 61.1078 795.606 Q57.2883 798.789 49.9359 798.789 M27.4968 784.052 L27.4968 784.052 Z\" fill=\"#000000\" fill-rule=\"nonzero\" fill-opacity=\"1\" /><path clip-path=\"url(#clip900)\" d=\"M44.7161 726.379 L47.5806 726.379 L47.5806 753.306 Q53.6281 752.924 56.8109 749.677 Q59.9619 746.399 59.9619 740.574 Q59.9619 737.201 59.1344 734.05 Q58.3069 730.867 56.6518 727.748 L62.1899 727.748 Q63.5267 730.899 64.227 734.209 Q64.9272 737.519 64.9272 740.925 Q64.9272 749.455 59.9619 754.452 Q54.9967 759.417 46.5303 759.417 Q37.7774 759.417 32.6531 754.706 Q27.4968 749.964 27.4968 741.943 Q27.4968 734.75 32.1438 730.58 Q36.7589 726.379 44.7161 726.379 M42.9973 732.235 Q38.1912 732.299 35.3266 734.941 Q32.4621 737.551 32.4621 741.879 Q32.4621 746.781 35.2312 749.741 Q38.0002 752.669 43.0292 753.115 L42.9973 732.235 Z\" fill=\"#000000\" fill-rule=\"nonzero\" fill-opacity=\"1\" /><path clip-path=\"url(#clip900)\" d=\"M42.4881 687.134 L64.0042 687.134 L64.0042 692.991 L42.679 692.991 Q37.6183 692.991 35.1038 694.964 Q32.5894 696.938 32.5894 700.884 Q32.5894 705.627 35.6131 708.364 Q38.6368 711.101 43.8567 711.101 L64.0042 711.101 L64.0042 716.989 L28.3562 716.989 L28.3562 711.101 L33.8944 711.101 Q30.6797 709.001 29.0883 706.168 Q27.4968 703.303 27.4968 699.579 Q27.4968 693.436 31.3163 690.285 Q35.1038 687.134 42.4881 687.134 Z\" fill=\"#000000\" fill-rule=\"nonzero\" fill-opacity=\"1\" /><path clip-path=\"url(#clip900)\" d=\"M29.7248 649.799 L35.1993 649.799 Q33.8307 652.282 33.1623 654.797 Q32.4621 657.279 32.4621 659.825 Q32.4621 665.523 36.0905 668.674 Q39.6872 671.825 46.212 671.825 Q52.7369 671.825 56.3653 668.674 Q59.9619 665.523 59.9619 659.825 Q59.9619 657.279 59.2935 654.797 Q58.5933 652.282 57.2247 649.799 L62.6355 649.799 Q63.7814 652.25 64.3543 654.892 Q64.9272 657.502 64.9272 660.462 Q64.9272 668.515 59.8664 673.257 Q54.8057 678 46.212 678 Q37.491 678 32.4939 673.225 Q27.4968 668.419 27.4968 660.08 Q27.4968 657.375 28.0697 654.797 Q28.6108 652.218 29.7248 649.799 Z\" fill=\"#000000\" fill-rule=\"nonzero\" fill-opacity=\"1\" /><path clip-path=\"url(#clip900)\" d=\"M67.3143 624.782 Q73.68 627.265 75.6216 629.62 Q77.5631 631.975 77.5631 635.922 L77.5631 640.601 L72.6615 640.601 L72.6615 637.164 Q72.6615 634.745 71.5157 633.408 Q70.3699 632.071 66.1048 630.448 L63.4312 629.397 L28.3562 643.816 L28.3562 637.609 L56.238 626.469 L28.3562 615.329 L28.3562 609.123 L67.3143 624.782 Z\" fill=\"#000000\" fill-rule=\"nonzero\" fill-opacity=\"1\" /><path clip-path=\"url(#clip900)\" d=\"M816.941 12.096 L825.124 12.096 L825.124 36.8875 L854.858 36.8875 L854.858 12.096 L863.041 12.096 L863.041 72.576 L854.858 72.576 L854.858 43.7741 L825.124 43.7741 L825.124 72.576 L816.941 72.576 L816.941 12.096 Z\" fill=\"#000000\" fill-rule=\"nonzero\" fill-opacity=\"1\" /><path clip-path=\"url(#clip900)\" d=\"M879.001 27.2059 L886.455 27.2059 L886.455 72.576 L879.001 72.576 L879.001 27.2059 M879.001 9.54393 L886.455 9.54393 L886.455 18.9825 L879.001 18.9825 L879.001 9.54393 Z\" fill=\"#000000\" fill-rule=\"nonzero\" fill-opacity=\"1\" /><path clip-path=\"url(#clip900)\" d=\"M930.974 28.5427 L930.974 35.5912 Q927.815 33.9709 924.412 33.1607 Q921.009 32.3505 917.363 32.3505 Q911.814 32.3505 909.019 34.0519 Q906.264 35.7533 906.264 39.156 Q906.264 41.7486 908.249 43.2475 Q910.234 44.7058 916.229 46.0426 L918.781 46.6097 Q926.721 48.3111 930.043 51.4303 Q933.405 54.509 933.405 60.0587 Q933.405 66.3781 928.382 70.0644 Q923.399 73.7508 914.649 73.7508 Q911.003 73.7508 907.034 73.0216 Q903.104 72.3329 898.729 70.9151 L898.729 63.2184 Q902.861 65.3654 906.872 66.4591 Q910.882 67.5124 914.811 67.5124 Q920.078 67.5124 922.913 65.73 Q925.749 63.9071 925.749 60.6258 Q925.749 57.5877 923.683 55.9673 Q921.657 54.3469 914.73 52.8481 L912.138 52.2405 Q905.211 50.7821 902.132 47.7845 Q899.053 44.7463 899.053 39.4801 Q899.053 33.0797 903.59 29.5959 Q908.127 26.1121 916.472 26.1121 Q920.604 26.1121 924.25 26.7198 Q927.896 27.3274 930.974 28.5427 Z\" fill=\"#000000\" fill-rule=\"nonzero\" fill-opacity=\"1\" /><path clip-path=\"url(#clip900)\" d=\"M952.647 14.324 L952.647 27.2059 L968 27.2059 L968 32.9987 L952.647 32.9987 L952.647 57.6282 Q952.647 63.1779 954.146 64.7578 Q955.685 66.3376 960.344 66.3376 L968 66.3376 L968 72.576 L960.344 72.576 Q951.715 72.576 948.434 69.3758 Q945.153 66.1351 945.153 57.6282 L945.153 32.9987 L939.684 32.9987 L939.684 27.2059 L945.153 27.2059 L945.153 14.324 L952.647 14.324 Z\" fill=\"#000000\" fill-rule=\"nonzero\" fill-opacity=\"1\" /><path clip-path=\"url(#clip900)\" d=\"M995.384 32.4315 Q989.388 32.4315 985.905 37.1306 Q982.421 41.7891 982.421 49.9314 Q982.421 58.0738 985.864 62.7728 Q989.348 67.4314 995.384 67.4314 Q1001.34 67.4314 1004.82 62.7323 Q1008.31 58.0333 1008.31 49.9314 Q1008.31 41.8701 1004.82 37.1711 Q1001.34 32.4315 995.384 32.4315 M995.384 26.1121 Q1005.11 26.1121 1010.66 32.4315 Q1016.21 38.7509 1016.21 49.9314 Q1016.21 61.0714 1010.66 67.4314 Q1005.11 73.7508 995.384 73.7508 Q985.621 73.7508 980.071 67.4314 Q974.562 61.0714 974.562 49.9314 Q974.562 38.7509 980.071 32.4315 Q985.621 26.1121 995.384 26.1121 Z\" fill=\"#000000\" fill-rule=\"nonzero\" fill-opacity=\"1\" /><path clip-path=\"url(#clip900)\" d=\"M1058.42 49.3643 Q1058.42 41.2625 1055.05 36.8065 Q1051.73 32.3505 1045.7 32.3505 Q1039.7 32.3505 1036.34 36.8065 Q1033.02 41.2625 1033.02 49.3643 Q1033.02 57.4256 1036.34 61.8816 Q1039.7 66.3376 1045.7 66.3376 Q1051.73 66.3376 1055.05 61.8816 Q1058.42 57.4256 1058.42 49.3643 M1065.87 66.9452 Q1065.87 78.5308 1060.72 84.1616 Q1055.58 89.8329 1044.97 89.8329 Q1041.04 89.8329 1037.55 89.2252 Q1034.07 88.6581 1030.79 87.4428 L1030.79 80.1917 Q1034.07 81.9741 1037.27 82.8248 Q1040.47 83.6755 1043.79 83.6755 Q1051.12 83.6755 1054.77 79.8271 Q1058.42 76.0193 1058.42 68.282 L1058.42 64.5957 Q1056.11 68.6061 1052.5 70.5911 Q1048.9 72.576 1043.87 72.576 Q1035.53 72.576 1030.42 66.2161 Q1025.32 59.8562 1025.32 49.3643 Q1025.32 38.832 1030.42 32.472 Q1035.53 26.1121 1043.87 26.1121 Q1048.9 26.1121 1052.5 28.0971 Q1056.11 30.082 1058.42 34.0924 L1058.42 27.2059 L1065.87 27.2059 L1065.87 66.9452 Z\" fill=\"#000000\" fill-rule=\"nonzero\" fill-opacity=\"1\" /><path clip-path=\"url(#clip900)\" d=\"M1107.51 34.1734 Q1106.26 33.4443 1104.76 33.1202 Q1103.3 32.7556 1101.52 32.7556 Q1095.2 32.7556 1091.8 36.8875 Q1088.43 40.9789 1088.43 48.6757 L1088.43 72.576 L1080.94 72.576 L1080.94 27.2059 L1088.43 27.2059 L1088.43 34.2544 Q1090.78 30.1225 1094.55 28.1376 Q1098.32 26.1121 1103.71 26.1121 Q1104.47 26.1121 1105.41 26.2337 Q1106.34 26.3147 1107.47 26.5172 L1107.51 34.1734 Z\" fill=\"#000000\" fill-rule=\"nonzero\" fill-opacity=\"1\" /><path clip-path=\"url(#clip900)\" d=\"M1135.95 49.7694 Q1126.92 49.7694 1123.43 51.8354 Q1119.95 53.9013 1119.95 58.8839 Q1119.95 62.8538 1122.54 65.2034 Q1125.17 67.5124 1129.67 67.5124 Q1135.87 67.5124 1139.6 63.1374 Q1143.36 58.7219 1143.36 51.4303 L1143.36 49.7694 L1135.95 49.7694 M1150.82 46.6907 L1150.82 72.576 L1143.36 72.576 L1143.36 65.6895 Q1140.81 69.8214 1137 71.8063 Q1133.2 73.7508 1127.69 73.7508 Q1120.72 73.7508 1116.59 69.8619 Q1112.5 65.9325 1112.5 59.3701 Q1112.5 51.7138 1117.6 47.825 Q1122.74 43.9361 1132.91 43.9361 L1143.36 43.9361 L1143.36 43.2069 Q1143.36 38.0623 1139.96 35.2672 Q1136.6 32.4315 1130.48 32.4315 Q1126.59 32.4315 1122.91 33.3632 Q1119.22 34.295 1115.82 36.1584 L1115.82 29.2718 Q1119.91 27.692 1123.76 26.9223 Q1127.61 26.1121 1131.25 26.1121 Q1141.09 26.1121 1145.96 31.2163 Q1150.82 36.3204 1150.82 46.6907 Z\" fill=\"#000000\" fill-rule=\"nonzero\" fill-opacity=\"1\" /><path clip-path=\"url(#clip900)\" d=\"M1201.49 35.9153 Q1204.29 30.8922 1208.18 28.5022 Q1212.07 26.1121 1217.33 26.1121 Q1224.42 26.1121 1228.27 31.0947 Q1232.12 36.0368 1232.12 45.1919 L1232.12 72.576 L1224.62 72.576 L1224.62 45.4349 Q1224.62 38.913 1222.32 35.7533 Q1220.01 32.5936 1215.27 32.5936 Q1209.47 32.5936 1206.11 36.4419 Q1202.75 40.2903 1202.75 46.9338 L1202.75 72.576 L1195.26 72.576 L1195.26 45.4349 Q1195.26 38.8725 1192.95 35.7533 Q1190.64 32.5936 1185.82 32.5936 Q1180.11 32.5936 1176.74 36.4824 Q1173.38 40.3308 1173.38 46.9338 L1173.38 72.576 L1165.89 72.576 L1165.89 27.2059 L1173.38 27.2059 L1173.38 34.2544 Q1175.93 30.082 1179.5 28.0971 Q1183.06 26.1121 1187.96 26.1121 Q1192.91 26.1121 1196.35 28.6237 Q1199.83 31.1352 1201.49 35.9153 Z\" fill=\"#000000\" fill-rule=\"nonzero\" fill-opacity=\"1\" /><path clip-path=\"url(#clip900)\" d=\"M1290.94 32.4315 Q1284.94 32.4315 1281.46 37.1306 Q1277.97 41.7891 1277.97 49.9314 Q1277.97 58.0738 1281.42 62.7728 Q1284.9 67.4314 1290.94 67.4314 Q1296.89 67.4314 1300.38 62.7323 Q1303.86 58.0333 1303.86 49.9314 Q1303.86 41.8701 1300.38 37.1711 Q1296.89 32.4315 1290.94 32.4315 M1290.94 26.1121 Q1300.66 26.1121 1306.21 32.4315 Q1311.76 38.7509 1311.76 49.9314 Q1311.76 61.0714 1306.21 67.4314 Q1300.66 73.7508 1290.94 73.7508 Q1281.18 73.7508 1275.63 67.4314 Q1270.12 61.0714 1270.12 49.9314 Q1270.12 38.7509 1275.63 32.4315 Q1281.18 26.1121 1290.94 26.1121 Z\" fill=\"#000000\" fill-rule=\"nonzero\" fill-opacity=\"1\" /><path clip-path=\"url(#clip900)\" d=\"M1347.08 9.54393 L1347.08 15.7418 L1339.95 15.7418 Q1335.94 15.7418 1334.36 17.3622 Q1332.82 18.9825 1332.82 23.1955 L1332.82 27.2059 L1345.1 27.2059 L1345.1 32.9987 L1332.82 32.9987 L1332.82 72.576 L1325.33 72.576 L1325.33 32.9987 L1318.2 32.9987 L1318.2 27.2059 L1325.33 27.2059 L1325.33 24.0462 Q1325.33 16.471 1328.85 13.0277 Q1332.38 9.54393 1340.03 9.54393 L1347.08 9.54393 Z\" fill=\"#000000\" fill-rule=\"nonzero\" fill-opacity=\"1\" /><path clip-path=\"url(#clip900)\" d=\"M1405.98 34.1734 Q1404.73 33.4443 1403.23 33.1202 Q1401.77 32.7556 1399.99 32.7556 Q1393.67 32.7556 1390.27 36.8875 Q1386.9 40.9789 1386.9 48.6757 L1386.9 72.576 L1379.41 72.576 L1379.41 27.2059 L1386.9 27.2059 L1386.9 34.2544 Q1389.25 30.1225 1393.02 28.1376 Q1396.79 26.1121 1402.18 26.1121 Q1402.95 26.1121 1403.88 26.2337 Q1404.81 26.3147 1405.94 26.5172 L1405.98 34.1734 Z\" fill=\"#000000\" fill-rule=\"nonzero\" fill-opacity=\"1\" /><path clip-path=\"url(#clip900)\" d=\"M1450.79 48.0275 L1450.79 51.6733 L1416.52 51.6733 Q1417 59.3701 1421.13 63.421 Q1425.31 67.4314 1432.72 67.4314 Q1437.01 67.4314 1441.02 66.3781 Q1445.07 65.3249 1449.04 63.2184 L1449.04 70.267 Q1445.03 71.9684 1440.82 72.8596 Q1436.61 73.7508 1432.27 73.7508 Q1421.42 73.7508 1415.06 67.4314 Q1408.74 61.1119 1408.74 50.3365 Q1408.74 39.1965 1414.73 32.6746 Q1420.77 26.1121 1430.98 26.1121 Q1440.13 26.1121 1445.44 32.0264 Q1450.79 37.9003 1450.79 48.0275 M1443.33 45.84 Q1443.25 39.7232 1439.89 36.0774 Q1436.57 32.4315 1431.06 32.4315 Q1424.82 32.4315 1421.05 35.9558 Q1417.33 39.4801 1416.76 45.8805 L1443.33 45.84 Z\" fill=\"#000000\" fill-rule=\"nonzero\" fill-opacity=\"1\" /><path clip-path=\"url(#clip900)\" d=\"M1491.94 28.5427 L1491.94 35.5912 Q1488.78 33.9709 1485.38 33.1607 Q1481.98 32.3505 1478.33 32.3505 Q1472.78 32.3505 1469.99 34.0519 Q1467.23 35.7533 1467.23 39.156 Q1467.23 41.7486 1469.22 43.2475 Q1471.2 44.7058 1477.2 46.0426 L1479.75 46.6097 Q1487.69 48.3111 1491.01 51.4303 Q1494.37 54.509 1494.37 60.0587 Q1494.37 66.3781 1489.35 70.0644 Q1484.37 73.7508 1475.62 73.7508 Q1471.97 73.7508 1468 73.0216 Q1464.07 72.3329 1459.7 70.9151 L1459.7 63.2184 Q1463.83 65.3654 1467.84 66.4591 Q1471.85 67.5124 1475.78 67.5124 Q1481.05 67.5124 1483.88 65.73 Q1486.72 63.9071 1486.72 60.6258 Q1486.72 57.5877 1484.65 55.9673 Q1482.63 54.3469 1475.7 52.8481 L1473.11 52.2405 Q1466.18 50.7821 1463.1 47.7845 Q1460.02 44.7463 1460.02 39.4801 Q1460.02 33.0797 1464.56 29.5959 Q1469.1 26.1121 1477.44 26.1121 Q1481.57 26.1121 1485.22 26.7198 Q1488.86 27.3274 1491.94 28.5427 Z\" fill=\"#000000\" fill-rule=\"nonzero\" fill-opacity=\"1\" /><path clip-path=\"url(#clip900)\" d=\"M1506.24 27.2059 L1513.7 27.2059 L1513.7 72.576 L1506.24 72.576 L1506.24 27.2059 M1506.24 9.54393 L1513.7 9.54393 L1513.7 18.9825 L1506.24 18.9825 L1506.24 9.54393 Z\" fill=\"#000000\" fill-rule=\"nonzero\" fill-opacity=\"1\" /><path clip-path=\"url(#clip900)\" d=\"M1559.15 34.0924 L1559.15 9.54393 L1566.6 9.54393 L1566.6 72.576 L1559.15 72.576 L1559.15 65.7705 Q1556.8 69.8214 1553.19 71.8063 Q1549.63 73.7508 1544.61 73.7508 Q1536.38 73.7508 1531.2 67.1883 Q1526.05 60.6258 1526.05 49.9314 Q1526.05 39.2371 1531.2 32.6746 Q1536.38 26.1121 1544.61 26.1121 Q1549.63 26.1121 1553.19 28.0971 Q1556.8 30.0415 1559.15 34.0924 M1533.75 49.9314 Q1533.75 58.1548 1537.11 62.8538 Q1540.51 67.5124 1546.43 67.5124 Q1552.34 67.5124 1555.75 62.8538 Q1559.15 58.1548 1559.15 49.9314 Q1559.15 41.7081 1555.75 37.0496 Q1552.34 32.3505 1546.43 32.3505 Q1540.51 32.3505 1537.11 37.0496 Q1533.75 41.7081 1533.75 49.9314 Z\" fill=\"#000000\" fill-rule=\"nonzero\" fill-opacity=\"1\" /><path clip-path=\"url(#clip900)\" d=\"M1581.19 54.671 L1581.19 27.2059 L1588.64 27.2059 L1588.64 54.3874 Q1588.64 60.8284 1591.15 64.0691 Q1593.66 67.2693 1598.68 67.2693 Q1604.72 67.2693 1608.2 63.421 Q1611.73 59.5726 1611.73 52.9291 L1611.73 27.2059 L1619.18 27.2059 L1619.18 72.576 L1611.73 72.576 L1611.73 65.6084 Q1609.01 69.7404 1605.41 71.7658 Q1601.84 73.7508 1597.11 73.7508 Q1589.29 73.7508 1585.24 68.8897 Q1581.19 64.0286 1581.19 54.671 M1599.94 26.1121 L1599.94 26.1121 Z\" fill=\"#000000\" fill-rule=\"nonzero\" fill-opacity=\"1\" /><path clip-path=\"url(#clip900)\" d=\"M1655.15 49.7694 Q1646.12 49.7694 1642.64 51.8354 Q1639.15 53.9013 1639.15 58.8839 Q1639.15 62.8538 1641.75 65.2034 Q1644.38 67.5124 1648.88 67.5124 Q1655.07 67.5124 1658.8 63.1374 Q1662.57 58.7219 1662.57 51.4303 L1662.57 49.7694 L1655.15 49.7694 M1670.02 46.6907 L1670.02 72.576 L1662.57 72.576 L1662.57 65.6895 Q1660.02 69.8214 1656.21 71.8063 Q1652.4 73.7508 1646.89 73.7508 Q1639.92 73.7508 1635.79 69.8619 Q1631.7 65.9325 1631.7 59.3701 Q1631.7 51.7138 1636.8 47.825 Q1641.95 43.9361 1652.12 43.9361 L1662.57 43.9361 L1662.57 43.2069 Q1662.57 38.0623 1659.16 35.2672 Q1655.8 32.4315 1649.69 32.4315 Q1645.8 32.4315 1642.11 33.3632 Q1638.42 34.295 1635.02 36.1584 L1635.02 29.2718 Q1639.11 27.692 1642.96 26.9223 Q1646.81 26.1121 1650.46 26.1121 Q1660.3 26.1121 1665.16 31.2163 Q1670.02 36.3204 1670.02 46.6907 Z\" fill=\"#000000\" fill-rule=\"nonzero\" fill-opacity=\"1\" /><path clip-path=\"url(#clip900)\" d=\"M1685.37 9.54393 L1692.83 9.54393 L1692.83 72.576 L1685.37 72.576 L1685.37 9.54393 Z\" fill=\"#000000\" fill-rule=\"nonzero\" fill-opacity=\"1\" /><path clip-path=\"url(#clip900)\" d=\"M1737.35 28.5427 L1737.35 35.5912 Q1734.19 33.9709 1730.78 33.1607 Q1727.38 32.3505 1723.74 32.3505 Q1718.19 32.3505 1715.39 34.0519 Q1712.64 35.7533 1712.64 39.156 Q1712.64 41.7486 1714.62 43.2475 Q1716.61 44.7058 1722.6 46.0426 L1725.15 46.6097 Q1733.09 48.3111 1736.42 51.4303 Q1739.78 54.509 1739.78 60.0587 Q1739.78 66.3781 1734.75 70.0644 Q1729.77 73.7508 1721.02 73.7508 Q1717.38 73.7508 1713.41 73.0216 Q1709.48 72.3329 1705.1 70.9151 L1705.1 63.2184 Q1709.23 65.3654 1713.24 66.4591 Q1717.25 67.5124 1721.18 67.5124 Q1726.45 67.5124 1729.29 65.73 Q1732.12 63.9071 1732.12 60.6258 Q1732.12 57.5877 1730.06 55.9673 Q1728.03 54.3469 1721.1 52.8481 L1718.51 52.2405 Q1711.58 50.7821 1708.51 47.7845 Q1705.43 44.7463 1705.43 39.4801 Q1705.43 33.0797 1709.96 29.5959 Q1714.5 26.1121 1722.85 26.1121 Q1726.98 26.1121 1730.62 26.7198 Q1734.27 27.3274 1737.35 28.5427 Z\" fill=\"#000000\" fill-rule=\"nonzero\" fill-opacity=\"1\" /><path clip-path=\"url(#clip902)\" d=\"M322.151 1371.19 L322.151 1423.18 L513.393 1423.18 L513.393 1371.19 L322.151 1371.19 L322.151 1371.19  Z\" fill=\"#009af9\" fill-rule=\"evenodd\" fill-opacity=\"1\"/>\n",
       "<polyline clip-path=\"url(#clip902)\" style=\"stroke:#000000; stroke-linecap:round; stroke-linejoin:round; stroke-width:4; stroke-opacity:1; fill:none\" points=\"322.151,1371.19 322.151,1423.18 513.393,1423.18 513.393,1371.19 322.151,1371.19 \"/>\n",
       "<path clip-path=\"url(#clip902)\" d=\"M513.393 1319.2 L513.393 1423.18 L704.634 1423.18 L704.634 1319.2 L513.393 1319.2 L513.393 1319.2  Z\" fill=\"#009af9\" fill-rule=\"evenodd\" fill-opacity=\"1\"/>\n",
       "<polyline clip-path=\"url(#clip902)\" style=\"stroke:#000000; stroke-linecap:round; stroke-linejoin:round; stroke-width:4; stroke-opacity:1; fill:none\" points=\"513.393,1319.2 513.393,1423.18 704.634,1423.18 704.634,1319.2 513.393,1319.2 \"/>\n",
       "<path clip-path=\"url(#clip902)\" d=\"M704.634 1371.19 L704.634 1423.18 L895.876 1423.18 L895.876 1371.19 L704.634 1371.19 L704.634 1371.19  Z\" fill=\"#009af9\" fill-rule=\"evenodd\" fill-opacity=\"1\"/>\n",
       "<polyline clip-path=\"url(#clip902)\" style=\"stroke:#000000; stroke-linecap:round; stroke-linejoin:round; stroke-width:4; stroke-opacity:1; fill:none\" points=\"704.634,1371.19 704.634,1423.18 895.876,1423.18 895.876,1371.19 704.634,1371.19 \"/>\n",
       "<path clip-path=\"url(#clip902)\" d=\"M895.876 1267.21 L895.876 1423.18 L1087.12 1423.18 L1087.12 1267.21 L895.876 1267.21 L895.876 1267.21  Z\" fill=\"#009af9\" fill-rule=\"evenodd\" fill-opacity=\"1\"/>\n",
       "<polyline clip-path=\"url(#clip902)\" style=\"stroke:#000000; stroke-linecap:round; stroke-linejoin:round; stroke-width:4; stroke-opacity:1; fill:none\" points=\"895.876,1267.21 895.876,1423.18 1087.12,1423.18 1087.12,1267.21 895.876,1267.21 \"/>\n",
       "<path clip-path=\"url(#clip902)\" d=\"M1087.12 955.285 L1087.12 1423.18 L1278.36 1423.18 L1278.36 955.285 L1087.12 955.285 L1087.12 955.285  Z\" fill=\"#009af9\" fill-rule=\"evenodd\" fill-opacity=\"1\"/>\n",
       "<polyline clip-path=\"url(#clip902)\" style=\"stroke:#000000; stroke-linecap:round; stroke-linejoin:round; stroke-width:4; stroke-opacity:1; fill:none\" points=\"1087.12,955.285 1087.12,1423.18 1278.36,1423.18 1278.36,955.285 1087.12,955.285 \"/>\n",
       "<path clip-path=\"url(#clip902)\" d=\"M1278.36 591.367 L1278.36 1423.18 L1469.6 1423.18 L1469.6 591.367 L1278.36 591.367 L1278.36 591.367  Z\" fill=\"#009af9\" fill-rule=\"evenodd\" fill-opacity=\"1\"/>\n",
       "<polyline clip-path=\"url(#clip902)\" style=\"stroke:#000000; stroke-linecap:round; stroke-linejoin:round; stroke-width:4; stroke-opacity:1; fill:none\" points=\"1278.36,591.367 1278.36,1423.18 1469.6,1423.18 1469.6,591.367 1278.36,591.367 \"/>\n",
       "<path clip-path=\"url(#clip902)\" d=\"M1469.6 123.472 L1469.6 1423.18 L1660.84 1423.18 L1660.84 123.472 L1469.6 123.472 L1469.6 123.472  Z\" fill=\"#009af9\" fill-rule=\"evenodd\" fill-opacity=\"1\"/>\n",
       "<polyline clip-path=\"url(#clip902)\" style=\"stroke:#000000; stroke-linecap:round; stroke-linejoin:round; stroke-width:4; stroke-opacity:1; fill:none\" points=\"1469.6,123.472 1469.6,1423.18 1660.84,1423.18 1660.84,123.472 1469.6,123.472 \"/>\n",
       "<path clip-path=\"url(#clip902)\" d=\"M1660.84 1007.27 L1660.84 1423.18 L1852.08 1423.18 L1852.08 1007.27 L1660.84 1007.27 L1660.84 1007.27  Z\" fill=\"#009af9\" fill-rule=\"evenodd\" fill-opacity=\"1\"/>\n",
       "<polyline clip-path=\"url(#clip902)\" style=\"stroke:#000000; stroke-linecap:round; stroke-linejoin:round; stroke-width:4; stroke-opacity:1; fill:none\" points=\"1660.84,1007.27 1660.84,1423.18 1852.08,1423.18 1852.08,1007.27 1660.84,1007.27 \"/>\n",
       "<path clip-path=\"url(#clip902)\" d=\"M1852.08 1163.24 L1852.08 1423.18 L2043.33 1423.18 L2043.33 1163.24 L1852.08 1163.24 L1852.08 1163.24  Z\" fill=\"#009af9\" fill-rule=\"evenodd\" fill-opacity=\"1\"/>\n",
       "<polyline clip-path=\"url(#clip902)\" style=\"stroke:#000000; stroke-linecap:round; stroke-linejoin:round; stroke-width:4; stroke-opacity:1; fill:none\" points=\"1852.08,1163.24 1852.08,1423.18 2043.33,1423.18 2043.33,1163.24 1852.08,1163.24 \"/>\n",
       "<path clip-path=\"url(#clip902)\" d=\"M2043.33 1319.2 L2043.33 1423.18 L2234.57 1423.18 L2234.57 1319.2 L2043.33 1319.2 L2043.33 1319.2  Z\" fill=\"#009af9\" fill-rule=\"evenodd\" fill-opacity=\"1\"/>\n",
       "<polyline clip-path=\"url(#clip902)\" style=\"stroke:#000000; stroke-linecap:round; stroke-linejoin:round; stroke-width:4; stroke-opacity:1; fill:none\" points=\"2043.33,1319.2 2043.33,1423.18 2234.57,1423.18 2234.57,1319.2 2043.33,1319.2 \"/>\n",
       "<circle clip-path=\"url(#clip902)\" style=\"fill:#009af9; stroke:none; fill-opacity:0\" cx=\"417.772\" cy=\"1371.19\" r=\"2\"/>\n",
       "<circle clip-path=\"url(#clip902)\" style=\"fill:#009af9; stroke:none; fill-opacity:0\" cx=\"609.014\" cy=\"1319.2\" r=\"2\"/>\n",
       "<circle clip-path=\"url(#clip902)\" style=\"fill:#009af9; stroke:none; fill-opacity:0\" cx=\"800.255\" cy=\"1371.19\" r=\"2\"/>\n",
       "<circle clip-path=\"url(#clip902)\" style=\"fill:#009af9; stroke:none; fill-opacity:0\" cx=\"991.497\" cy=\"1267.21\" r=\"2\"/>\n",
       "<circle clip-path=\"url(#clip902)\" style=\"fill:#009af9; stroke:none; fill-opacity:0\" cx=\"1182.74\" cy=\"955.285\" r=\"2\"/>\n",
       "<circle clip-path=\"url(#clip902)\" style=\"fill:#009af9; stroke:none; fill-opacity:0\" cx=\"1373.98\" cy=\"591.367\" r=\"2\"/>\n",
       "<circle clip-path=\"url(#clip902)\" style=\"fill:#009af9; stroke:none; fill-opacity:0\" cx=\"1565.22\" cy=\"123.472\" r=\"2\"/>\n",
       "<circle clip-path=\"url(#clip902)\" style=\"fill:#009af9; stroke:none; fill-opacity:0\" cx=\"1756.46\" cy=\"1007.27\" r=\"2\"/>\n",
       "<circle clip-path=\"url(#clip902)\" style=\"fill:#009af9; stroke:none; fill-opacity:0\" cx=\"1947.71\" cy=\"1163.24\" r=\"2\"/>\n",
       "<circle clip-path=\"url(#clip902)\" style=\"fill:#009af9; stroke:none; fill-opacity:0\" cx=\"2138.95\" cy=\"1319.2\" r=\"2\"/>\n",
       "<path clip-path=\"url(#clip900)\" d=\"M2013.82 270.476 L2281.13 270.476 L2281.13 166.796 L2013.82 166.796  Z\" fill=\"#ffffff\" fill-rule=\"evenodd\" fill-opacity=\"1\"/>\n",
       "<polyline clip-path=\"url(#clip900)\" style=\"stroke:#000000; stroke-linecap:round; stroke-linejoin:round; stroke-width:4; stroke-opacity:1; fill:none\" points=\"2013.82,270.476 2281.13,270.476 2281.13,166.796 2013.82,166.796 2013.82,270.476 \"/>\n",
       "<path clip-path=\"url(#clip900)\" d=\"M2037.7 239.372 L2180.95 239.372 L2180.95 197.9 L2037.7 197.9 L2037.7 239.372  Z\" fill=\"#009af9\" fill-rule=\"evenodd\" fill-opacity=\"1\"/>\n",
       "<polyline clip-path=\"url(#clip900)\" style=\"stroke:#000000; stroke-linecap:round; stroke-linejoin:round; stroke-width:4; stroke-opacity:1; fill:none\" points=\"2037.7,239.372 2180.95,239.372 2180.95,197.9 2037.7,197.9 2037.7,239.372 \"/>\n",
       "<path clip-path=\"url(#clip900)\" d=\"M2218.67 238.323 Q2216.86 242.953 2215.15 244.365 Q2213.43 245.777 2210.56 245.777 L2207.16 245.777 L2207.16 242.212 L2209.66 242.212 Q2211.42 242.212 2212.39 241.379 Q2213.37 240.545 2214.55 237.443 L2215.31 235.499 L2204.82 209.99 L2209.34 209.99 L2217.44 230.268 L2225.54 209.99 L2230.06 209.99 L2218.67 238.323 Z\" fill=\"#000000\" fill-rule=\"nonzero\" fill-opacity=\"1\" /><path clip-path=\"url(#clip900)\" d=\"M2237.35 231.981 L2244.99 231.981 L2244.99 205.615 L2236.68 207.282 L2236.68 203.022 L2244.94 201.356 L2249.62 201.356 L2249.62 231.981 L2257.25 231.981 L2257.25 235.916 L2237.35 235.916 L2237.35 231.981 Z\" fill=\"#000000\" fill-rule=\"nonzero\" fill-opacity=\"1\" /></svg>\n"
      ]
     },
     "metadata": {},
     "output_type": "display_data"
    },
    {
     "data": {
      "image/png": "[encoded data removed]",
      "image/svg+xml": [
       "<?xml version=\"1.0\" encoding=\"utf-8\"?>\n",
       "<svg xmlns=\"http://www.w3.org/2000/svg\" xmlns:xlink=\"http://www.w3.org/1999/xlink\" width=\"600\" height=\"400\" viewBox=\"0 0 2400 1600\">\n",
       "<defs>\n",
       "  <clipPath id=\"clip940\">\n",
       "    <rect x=\"0\" y=\"0\" width=\"2400\" height=\"1600\"/>\n",
       "  </clipPath>\n",
       "</defs>\n",
       "<path clip-path=\"url(#clip940)\" d=\"M0 1600 L2400 1600 L2400 0 L0 0  Z\" fill=\"#ffffff\" fill-rule=\"evenodd\" fill-opacity=\"1\"/>\n",
       "<defs>\n",
       "  <clipPath id=\"clip941\">\n",
       "    <rect x=\"480\" y=\"0\" width=\"1681\" height=\"1600\"/>\n",
       "  </clipPath>\n",
       "</defs>\n",
       "<path clip-path=\"url(#clip940)\" d=\"M147.478 1486.45 L2352.76 1486.45 L2352.76 123.472 L147.478 123.472  Z\" fill=\"#ffffff\" fill-rule=\"evenodd\" fill-opacity=\"1\"/>\n",
       "<defs>\n",
       "  <clipPath id=\"clip942\">\n",
       "    <rect x=\"147\" y=\"123\" width=\"2206\" height=\"1364\"/>\n",
       "  </clipPath>\n",
       "</defs>\n",
       "<polyline clip-path=\"url(#clip942)\" style=\"stroke:#000000; stroke-linecap:round; stroke-linejoin:round; stroke-width:2; stroke-opacity:0.1; fill:none\" points=\"242.735,1486.45 242.735,123.472 \"/>\n",
       "<polyline clip-path=\"url(#clip942)\" style=\"stroke:#000000; stroke-linecap:round; stroke-linejoin:round; stroke-width:2; stroke-opacity:0.1; fill:none\" points=\"756.626,1486.45 756.626,123.472 \"/>\n",
       "<polyline clip-path=\"url(#clip942)\" style=\"stroke:#000000; stroke-linecap:round; stroke-linejoin:round; stroke-width:2; stroke-opacity:0.1; fill:none\" points=\"1270.52,1486.45 1270.52,123.472 \"/>\n",
       "<polyline clip-path=\"url(#clip942)\" style=\"stroke:#000000; stroke-linecap:round; stroke-linejoin:round; stroke-width:2; stroke-opacity:0.1; fill:none\" points=\"1784.41,1486.45 1784.41,123.472 \"/>\n",
       "<polyline clip-path=\"url(#clip942)\" style=\"stroke:#000000; stroke-linecap:round; stroke-linejoin:round; stroke-width:2; stroke-opacity:0.1; fill:none\" points=\"2298.3,1486.45 2298.3,123.472 \"/>\n",
       "<polyline clip-path=\"url(#clip942)\" style=\"stroke:#000000; stroke-linecap:round; stroke-linejoin:round; stroke-width:2; stroke-opacity:0.1; fill:none\" points=\"147.478,1287.92 2352.76,1287.92 \"/>\n",
       "<polyline clip-path=\"url(#clip942)\" style=\"stroke:#000000; stroke-linecap:round; stroke-linejoin:round; stroke-width:2; stroke-opacity:0.1; fill:none\" points=\"147.478,1005.36 2352.76,1005.36 \"/>\n",
       "<polyline clip-path=\"url(#clip942)\" style=\"stroke:#000000; stroke-linecap:round; stroke-linejoin:round; stroke-width:2; stroke-opacity:0.1; fill:none\" points=\"147.478,722.796 2352.76,722.796 \"/>\n",
       "<polyline clip-path=\"url(#clip942)\" style=\"stroke:#000000; stroke-linecap:round; stroke-linejoin:round; stroke-width:2; stroke-opacity:0.1; fill:none\" points=\"147.478,440.234 2352.76,440.234 \"/>\n",
       "<polyline clip-path=\"url(#clip942)\" style=\"stroke:#000000; stroke-linecap:round; stroke-linejoin:round; stroke-width:2; stroke-opacity:0.1; fill:none\" points=\"147.478,157.672 2352.76,157.672 \"/>\n",
       "<polyline clip-path=\"url(#clip940)\" style=\"stroke:#000000; stroke-linecap:round; stroke-linejoin:round; stroke-width:4; stroke-opacity:1; fill:none\" points=\"147.478,1486.45 2352.76,1486.45 \"/>\n",
       "<polyline clip-path=\"url(#clip940)\" style=\"stroke:#000000; stroke-linecap:round; stroke-linejoin:round; stroke-width:4; stroke-opacity:1; fill:none\" points=\"242.735,1486.45 242.735,1467.55 \"/>\n",
       "<polyline clip-path=\"url(#clip940)\" style=\"stroke:#000000; stroke-linecap:round; stroke-linejoin:round; stroke-width:4; stroke-opacity:1; fill:none\" points=\"756.626,1486.45 756.626,1467.55 \"/>\n",
       "<polyline clip-path=\"url(#clip940)\" style=\"stroke:#000000; stroke-linecap:round; stroke-linejoin:round; stroke-width:4; stroke-opacity:1; fill:none\" points=\"1270.52,1486.45 1270.52,1467.55 \"/>\n",
       "<polyline clip-path=\"url(#clip940)\" style=\"stroke:#000000; stroke-linecap:round; stroke-linejoin:round; stroke-width:4; stroke-opacity:1; fill:none\" points=\"1784.41,1486.45 1784.41,1467.55 \"/>\n",
       "<polyline clip-path=\"url(#clip940)\" style=\"stroke:#000000; stroke-linecap:round; stroke-linejoin:round; stroke-width:4; stroke-opacity:1; fill:none\" points=\"2298.3,1486.45 2298.3,1467.55 \"/>\n",
       "<path clip-path=\"url(#clip940)\" d=\"M212.677 1532.02 L242.353 1532.02 L242.353 1535.95 L212.677 1535.95 L212.677 1532.02 Z\" fill=\"#000000\" fill-rule=\"nonzero\" fill-opacity=\"1\" /><path clip-path=\"url(#clip940)\" d=\"M256.473 1544.91 L272.792 1544.91 L272.792 1548.85 L250.848 1548.85 L250.848 1544.91 Q253.51 1542.16 258.093 1537.53 Q262.7 1532.88 263.88 1531.53 Q266.126 1529.01 267.005 1527.27 Q267.908 1525.51 267.908 1523.82 Q267.908 1521.07 265.964 1519.33 Q264.043 1517.6 260.941 1517.6 Q258.742 1517.6 256.288 1518.36 Q253.857 1519.13 251.08 1520.68 L251.08 1515.95 Q253.904 1514.82 256.357 1514.24 Q258.811 1513.66 260.848 1513.66 Q266.218 1513.66 269.413 1516.35 Q272.607 1519.03 272.607 1523.52 Q272.607 1525.65 271.797 1527.57 Q271.01 1529.47 268.904 1532.07 Q268.325 1532.74 265.223 1535.95 Q262.121 1539.15 256.473 1544.91 Z\" fill=\"#000000\" fill-rule=\"nonzero\" fill-opacity=\"1\" /><path clip-path=\"url(#clip940)\" d=\"M726.383 1532.02 L756.059 1532.02 L756.059 1535.95 L726.383 1535.95 L726.383 1532.02 Z\" fill=\"#000000\" fill-rule=\"nonzero\" fill-opacity=\"1\" /><path clip-path=\"url(#clip940)\" d=\"M766.961 1544.91 L774.6 1544.91 L774.6 1518.55 L766.29 1520.21 L766.29 1515.95 L774.554 1514.29 L779.23 1514.29 L779.23 1544.91 L786.869 1544.91 L786.869 1548.85 L766.961 1548.85 L766.961 1544.91 Z\" fill=\"#000000\" fill-rule=\"nonzero\" fill-opacity=\"1\" /><path clip-path=\"url(#clip940)\" d=\"M1270.52 1517.37 Q1266.91 1517.37 1265.08 1520.93 Q1263.27 1524.47 1263.27 1531.6 Q1263.27 1538.71 1265.08 1542.27 Q1266.91 1545.82 1270.52 1545.82 Q1274.15 1545.82 1275.96 1542.27 Q1277.79 1538.71 1277.79 1531.6 Q1277.79 1524.47 1275.96 1520.93 Q1274.15 1517.37 1270.52 1517.37 M1270.52 1513.66 Q1276.33 1513.66 1279.38 1518.27 Q1282.46 1522.85 1282.46 1531.6 Q1282.46 1540.33 1279.38 1544.94 Q1276.33 1549.52 1270.52 1549.52 Q1264.71 1549.52 1261.63 1544.94 Q1258.57 1540.33 1258.57 1531.6 Q1258.57 1522.85 1261.63 1518.27 Q1264.71 1513.66 1270.52 1513.66 Z\" fill=\"#000000\" fill-rule=\"nonzero\" fill-opacity=\"1\" /><path clip-path=\"url(#clip940)\" d=\"M1774.79 1544.91 L1782.43 1544.91 L1782.43 1518.55 L1774.12 1520.21 L1774.12 1515.95 L1782.38 1514.29 L1787.06 1514.29 L1787.06 1544.91 L1794.7 1544.91 L1794.7 1548.85 L1774.79 1548.85 L1774.79 1544.91 Z\" fill=\"#000000\" fill-rule=\"nonzero\" fill-opacity=\"1\" /><path clip-path=\"url(#clip940)\" d=\"M2292.95 1544.91 L2309.27 1544.91 L2309.27 1548.85 L2287.33 1548.85 L2287.33 1544.91 Q2289.99 1542.16 2294.57 1537.53 Q2299.18 1532.88 2300.36 1531.53 Q2302.6 1529.01 2303.48 1527.27 Q2304.39 1525.51 2304.39 1523.82 Q2304.39 1521.07 2302.44 1519.33 Q2300.52 1517.6 2297.42 1517.6 Q2295.22 1517.6 2292.77 1518.36 Q2290.34 1519.13 2287.56 1520.68 L2287.56 1515.95 Q2290.38 1514.82 2292.84 1514.24 Q2295.29 1513.66 2297.33 1513.66 Q2302.7 1513.66 2305.89 1516.35 Q2309.09 1519.03 2309.09 1523.52 Q2309.09 1525.65 2308.28 1527.57 Q2307.49 1529.47 2305.38 1532.07 Q2304.8 1532.74 2301.7 1535.95 Q2298.6 1539.15 2292.95 1544.91 Z\" fill=\"#000000\" fill-rule=\"nonzero\" fill-opacity=\"1\" /><polyline clip-path=\"url(#clip940)\" style=\"stroke:#000000; stroke-linecap:round; stroke-linejoin:round; stroke-width:4; stroke-opacity:1; fill:none\" points=\"147.478,1486.45 147.478,123.472 \"/>\n",
       "<polyline clip-path=\"url(#clip940)\" style=\"stroke:#000000; stroke-linecap:round; stroke-linejoin:round; stroke-width:4; stroke-opacity:1; fill:none\" points=\"147.478,1287.92 166.376,1287.92 \"/>\n",
       "<polyline clip-path=\"url(#clip940)\" style=\"stroke:#000000; stroke-linecap:round; stroke-linejoin:round; stroke-width:4; stroke-opacity:1; fill:none\" points=\"147.478,1005.36 166.376,1005.36 \"/>\n",
       "<polyline clip-path=\"url(#clip940)\" style=\"stroke:#000000; stroke-linecap:round; stroke-linejoin:round; stroke-width:4; stroke-opacity:1; fill:none\" points=\"147.478,722.796 166.376,722.796 \"/>\n",
       "<polyline clip-path=\"url(#clip940)\" style=\"stroke:#000000; stroke-linecap:round; stroke-linejoin:round; stroke-width:4; stroke-opacity:1; fill:none\" points=\"147.478,440.234 166.376,440.234 \"/>\n",
       "<polyline clip-path=\"url(#clip940)\" style=\"stroke:#000000; stroke-linecap:round; stroke-linejoin:round; stroke-width:4; stroke-opacity:1; fill:none\" points=\"147.478,157.672 166.376,157.672 \"/>\n",
       "<path clip-path=\"url(#clip940)\" d=\"M51.3625 1288.37 L81.0383 1288.37 L81.0383 1292.31 L51.3625 1292.31 L51.3625 1288.37 Z\" fill=\"#000000\" fill-rule=\"nonzero\" fill-opacity=\"1\" /><path clip-path=\"url(#clip940)\" d=\"M95.1586 1301.27 L111.478 1301.27 L111.478 1305.2 L89.5336 1305.2 L89.5336 1301.27 Q92.1956 1298.51 96.7789 1293.88 Q101.385 1289.23 102.566 1287.89 Q104.811 1285.36 105.691 1283.63 Q106.594 1281.87 106.594 1280.18 Q106.594 1277.42 104.649 1275.69 Q102.728 1273.95 99.6261 1273.95 Q97.4271 1273.95 94.9734 1274.71 Q92.5428 1275.48 89.7651 1277.03 L89.7651 1272.31 Q92.5891 1271.17 95.0428 1270.59 Q97.4965 1270.02 99.5335 1270.02 Q104.904 1270.02 108.098 1272.7 Q111.293 1275.39 111.293 1279.88 Q111.293 1282.01 110.483 1283.93 Q109.696 1285.83 107.589 1288.42 Q107.01 1289.09 103.909 1292.31 Q100.807 1295.5 95.1586 1301.27 Z\" fill=\"#000000\" fill-rule=\"nonzero\" fill-opacity=\"1\" /><path clip-path=\"url(#clip940)\" d=\"M50.9921 1005.81 L80.6679 1005.81 L80.6679 1009.74 L50.9921 1009.74 L50.9921 1005.81 Z\" fill=\"#000000\" fill-rule=\"nonzero\" fill-opacity=\"1\" /><path clip-path=\"url(#clip940)\" d=\"M91.5706 1018.7 L99.2095 1018.7 L99.2095 992.337 L90.8993 994.004 L90.8993 989.745 L99.1632 988.078 L103.839 988.078 L103.839 1018.7 L111.478 1018.7 L111.478 1022.64 L91.5706 1022.64 L91.5706 1018.7 Z\" fill=\"#000000\" fill-rule=\"nonzero\" fill-opacity=\"1\" /><path clip-path=\"url(#clip940)\" d=\"M99.5335 708.595 Q95.9224 708.595 94.0937 712.16 Q92.2882 715.701 92.2882 722.831 Q92.2882 729.937 94.0937 733.502 Q95.9224 737.044 99.5335 737.044 Q103.168 737.044 104.973 733.502 Q106.802 729.937 106.802 722.831 Q106.802 715.701 104.973 712.16 Q103.168 708.595 99.5335 708.595 M99.5335 704.891 Q105.344 704.891 108.399 709.498 Q111.478 714.081 111.478 722.831 Q111.478 731.558 108.399 736.164 Q105.344 740.747 99.5335 740.747 Q93.7234 740.747 90.6447 736.164 Q87.5892 731.558 87.5892 722.831 Q87.5892 714.081 90.6447 709.498 Q93.7234 704.891 99.5335 704.891 Z\" fill=\"#000000\" fill-rule=\"nonzero\" fill-opacity=\"1\" /><path clip-path=\"url(#clip940)\" d=\"M91.5706 453.579 L99.2095 453.579 L99.2095 427.213 L90.8993 428.88 L90.8993 424.621 L99.1632 422.954 L103.839 422.954 L103.839 453.579 L111.478 453.579 L111.478 457.514 L91.5706 457.514 L91.5706 453.579 Z\" fill=\"#000000\" fill-rule=\"nonzero\" fill-opacity=\"1\" /><path clip-path=\"url(#clip940)\" d=\"M95.1586 171.017 L111.478 171.017 L111.478 174.952 L89.5336 174.952 L89.5336 171.017 Q92.1956 168.262 96.7789 163.633 Q101.385 158.98 102.566 157.637 Q104.811 155.114 105.691 153.378 Q106.594 151.619 106.594 149.929 Q106.594 147.175 104.649 145.438 Q102.728 143.702 99.6261 143.702 Q97.4271 143.702 94.9734 144.466 Q92.5428 145.23 89.7651 146.781 L89.7651 142.059 Q92.5891 140.925 95.0428 140.346 Q97.4965 139.767 99.5335 139.767 Q104.904 139.767 108.098 142.452 Q111.293 145.137 111.293 149.628 Q111.293 151.758 110.483 153.679 Q109.696 155.577 107.589 158.17 Q107.01 158.841 103.909 162.059 Q100.807 165.253 95.1586 171.017 Z\" fill=\"#000000\" fill-rule=\"nonzero\" fill-opacity=\"1\" /><path clip-path=\"url(#clip940)\" d=\"M872.188 17.6457 Q863.276 17.6457 858.01 24.2892 Q852.784 30.9327 852.784 42.3968 Q852.784 53.8203 858.01 60.4638 Q863.276 67.1073 872.188 67.1073 Q881.1 67.1073 886.285 60.4638 Q891.511 53.8203 891.511 42.3968 Q891.511 30.9327 886.285 24.2892 Q881.1 17.6457 872.188 17.6457 M883.652 71.4823 L894.427 83.2704 L884.543 83.2704 L875.591 73.5887 Q874.254 73.6697 873.525 73.7103 Q872.836 73.7508 872.188 73.7508 Q859.427 73.7508 851.771 65.2439 Q844.156 56.6965 844.156 42.3968 Q844.156 28.0566 851.771 19.5497 Q859.427 11.0023 872.188 11.0023 Q884.908 11.0023 892.523 19.5497 Q900.139 28.0566 900.139 42.3968 Q900.139 52.9291 895.886 60.4233 Q891.673 67.9175 883.652 71.4823 Z\" fill=\"#000000\" fill-rule=\"nonzero\" fill-opacity=\"1\" /><path clip-path=\"url(#clip940)\" d=\"M937.488 17.6457 Q928.576 17.6457 923.31 24.2892 Q918.085 30.9327 918.085 42.3968 Q918.085 53.8203 923.31 60.4638 Q928.576 67.1073 937.488 67.1073 Q946.4 67.1073 951.586 60.4638 Q956.811 53.8203 956.811 42.3968 Q956.811 30.9327 951.586 24.2892 Q946.4 17.6457 937.488 17.6457 M948.952 71.4823 L959.728 83.2704 L949.844 83.2704 L940.891 73.5887 Q939.554 73.6697 938.825 73.7103 Q938.137 73.7508 937.488 73.7508 Q924.728 73.7508 917.072 65.2439 Q909.456 56.6965 909.456 42.3968 Q909.456 28.0566 917.072 19.5497 Q924.728 11.0023 937.488 11.0023 Q950.208 11.0023 957.824 19.5497 Q965.44 28.0566 965.44 42.3968 Q965.44 52.9291 961.186 60.4233 Q956.973 67.9175 948.952 71.4823 Z\" fill=\"#000000\" fill-rule=\"nonzero\" fill-opacity=\"1\" /><path clip-path=\"url(#clip940)\" d=\"M1011.5 65.7705 L1011.5 89.8329 L1004 89.8329 L1004 27.2059 L1011.5 27.2059 L1011.5 34.0924 Q1013.85 30.0415 1017.41 28.0971 Q1021.02 26.1121 1026 26.1121 Q1034.26 26.1121 1039.41 32.6746 Q1044.59 39.2371 1044.59 49.9314 Q1044.59 60.6258 1039.41 67.1883 Q1034.26 73.7508 1026 73.7508 Q1021.02 73.7508 1017.41 71.8063 Q1013.85 69.8214 1011.5 65.7705 M1036.86 49.9314 Q1036.86 41.7081 1033.45 37.0496 Q1030.09 32.3505 1024.18 32.3505 Q1018.26 32.3505 1014.86 37.0496 Q1011.5 41.7081 1011.5 49.9314 Q1011.5 58.1548 1014.86 62.8538 Q1018.26 67.5124 1024.18 67.5124 Q1030.09 67.5124 1033.45 62.8538 Q1036.86 58.1548 1036.86 49.9314 Z\" fill=\"#000000\" fill-rule=\"nonzero\" fill-opacity=\"1\" /><path clip-path=\"url(#clip940)\" d=\"M1056.95 9.54393 L1064.4 9.54393 L1064.4 72.576 L1056.95 72.576 L1056.95 9.54393 Z\" fill=\"#000000\" fill-rule=\"nonzero\" fill-opacity=\"1\" /><path clip-path=\"url(#clip940)\" d=\"M1097.58 32.4315 Q1091.58 32.4315 1088.1 37.1306 Q1084.62 41.7891 1084.62 49.9314 Q1084.62 58.0738 1088.06 62.7728 Q1091.54 67.4314 1097.58 67.4314 Q1103.53 67.4314 1107.02 62.7323 Q1110.5 58.0333 1110.5 49.9314 Q1110.5 41.8701 1107.02 37.1711 Q1103.53 32.4315 1097.58 32.4315 M1097.58 26.1121 Q1107.3 26.1121 1112.85 32.4315 Q1118.4 38.7509 1118.4 49.9314 Q1118.4 61.0714 1112.85 67.4314 Q1107.3 73.7508 1097.58 73.7508 Q1087.82 73.7508 1082.27 67.4314 Q1076.76 61.0714 1076.76 49.9314 Q1076.76 38.7509 1082.27 32.4315 Q1087.82 26.1121 1097.58 26.1121 Z\" fill=\"#000000\" fill-rule=\"nonzero\" fill-opacity=\"1\" /><path clip-path=\"url(#clip940)\" d=\"M1138.13 14.324 L1138.13 27.2059 L1153.48 27.2059 L1153.48 32.9987 L1138.13 32.9987 L1138.13 57.6282 Q1138.13 63.1779 1139.63 64.7578 Q1141.17 66.3376 1145.83 66.3376 L1153.48 66.3376 L1153.48 72.576 L1145.83 72.576 Q1137.2 72.576 1133.92 69.3758 Q1130.64 66.1351 1130.64 57.6282 L1130.64 32.9987 L1125.17 32.9987 L1125.17 27.2059 L1130.64 27.2059 L1130.64 14.324 L1138.13 14.324 Z\" fill=\"#000000\" fill-rule=\"nonzero\" fill-opacity=\"1\" /><path clip-path=\"url(#clip940)\" d=\"M1207.24 32.4315 Q1201.24 32.4315 1197.76 37.1306 Q1194.28 41.7891 1194.28 49.9314 Q1194.28 58.0738 1197.72 62.7728 Q1201.2 67.4314 1207.24 67.4314 Q1213.19 67.4314 1216.68 62.7323 Q1220.16 58.0333 1220.16 49.9314 Q1220.16 41.8701 1216.68 37.1711 Q1213.19 32.4315 1207.24 32.4315 M1207.24 26.1121 Q1216.96 26.1121 1222.51 32.4315 Q1228.06 38.7509 1228.06 49.9314 Q1228.06 61.0714 1222.51 67.4314 Q1216.96 73.7508 1207.24 73.7508 Q1197.48 73.7508 1191.93 67.4314 Q1186.42 61.0714 1186.42 49.9314 Q1186.42 38.7509 1191.93 32.4315 Q1197.48 26.1121 1207.24 26.1121 Z\" fill=\"#000000\" fill-rule=\"nonzero\" fill-opacity=\"1\" /><path clip-path=\"url(#clip940)\" d=\"M1263.38 9.54393 L1263.38 15.7418 L1256.25 15.7418 Q1252.24 15.7418 1250.66 17.3622 Q1249.12 18.9825 1249.12 23.1955 L1249.12 27.2059 L1261.4 27.2059 L1261.4 32.9987 L1249.12 32.9987 L1249.12 72.576 L1241.63 72.576 L1241.63 32.9987 L1234.5 32.9987 L1234.5 27.2059 L1241.63 27.2059 L1241.63 24.0462 Q1241.63 16.471 1245.15 13.0277 Q1248.68 9.54393 1256.34 9.54393 L1263.38 9.54393 Z\" fill=\"#000000\" fill-rule=\"nonzero\" fill-opacity=\"1\" /><path clip-path=\"url(#clip940)\" d=\"M1322.28 34.1734 Q1321.03 33.4443 1319.53 33.1202 Q1318.07 32.7556 1316.29 32.7556 Q1309.97 32.7556 1306.57 36.8875 Q1303.2 40.9789 1303.2 48.6757 L1303.2 72.576 L1295.71 72.576 L1295.71 27.2059 L1303.2 27.2059 L1303.2 34.2544 Q1305.55 30.1225 1309.32 28.1376 Q1313.09 26.1121 1318.48 26.1121 Q1319.25 26.1121 1320.18 26.2337 Q1321.11 26.3147 1322.24 26.5172 L1322.28 34.1734 Z\" fill=\"#000000\" fill-rule=\"nonzero\" fill-opacity=\"1\" /><path clip-path=\"url(#clip940)\" d=\"M1367.09 48.0275 L1367.09 51.6733 L1332.82 51.6733 Q1333.3 59.3701 1337.43 63.421 Q1341.61 67.4314 1349.02 67.4314 Q1353.31 67.4314 1357.32 66.3781 Q1361.37 65.3249 1365.34 63.2184 L1365.34 70.267 Q1361.33 71.9684 1357.12 72.8596 Q1352.91 73.7508 1348.57 73.7508 Q1337.72 73.7508 1331.36 67.4314 Q1325.04 61.1119 1325.04 50.3365 Q1325.04 39.1965 1331.03 32.6746 Q1337.07 26.1121 1347.28 26.1121 Q1356.43 26.1121 1361.74 32.0264 Q1367.09 37.9003 1367.09 48.0275 M1359.63 45.84 Q1359.55 39.7232 1356.19 36.0774 Q1352.87 32.4315 1347.36 32.4315 Q1341.12 32.4315 1337.35 35.9558 Q1333.63 39.4801 1333.06 45.8805 L1359.63 45.84 Z\" fill=\"#000000\" fill-rule=\"nonzero\" fill-opacity=\"1\" /><path clip-path=\"url(#clip940)\" d=\"M1408.24 28.5427 L1408.24 35.5912 Q1405.08 33.9709 1401.68 33.1607 Q1398.28 32.3505 1394.63 32.3505 Q1389.08 32.3505 1386.29 34.0519 Q1383.53 35.7533 1383.53 39.156 Q1383.53 41.7486 1385.52 43.2475 Q1387.5 44.7058 1393.5 46.0426 L1396.05 46.6097 Q1403.99 48.3111 1407.31 51.4303 Q1410.67 54.509 1410.67 60.0587 Q1410.67 66.3781 1405.65 70.0644 Q1400.67 73.7508 1391.92 73.7508 Q1388.27 73.7508 1384.3 73.0216 Q1380.37 72.3329 1376 70.9151 L1376 63.2184 Q1380.13 65.3654 1384.14 66.4591 Q1388.15 67.5124 1392.08 67.5124 Q1397.35 67.5124 1400.18 65.73 Q1403.02 63.9071 1403.02 60.6258 Q1403.02 57.5877 1400.95 55.9673 Q1398.93 54.3469 1392 52.8481 L1389.41 52.2405 Q1382.48 50.7821 1379.4 47.7845 Q1376.32 44.7463 1376.32 39.4801 Q1376.32 33.0797 1380.86 29.5959 Q1385.4 26.1121 1393.74 26.1121 Q1397.87 26.1121 1401.52 26.7198 Q1405.17 27.3274 1408.24 28.5427 Z\" fill=\"#000000\" fill-rule=\"nonzero\" fill-opacity=\"1\" /><path clip-path=\"url(#clip940)\" d=\"M1422.54 27.2059 L1430 27.2059 L1430 72.576 L1422.54 72.576 L1422.54 27.2059 M1422.54 9.54393 L1430 9.54393 L1430 18.9825 L1422.54 18.9825 L1422.54 9.54393 Z\" fill=\"#000000\" fill-rule=\"nonzero\" fill-opacity=\"1\" /><path clip-path=\"url(#clip940)\" d=\"M1475.45 34.0924 L1475.45 9.54393 L1482.9 9.54393 L1482.9 72.576 L1475.45 72.576 L1475.45 65.7705 Q1473.1 69.8214 1469.49 71.8063 Q1465.93 73.7508 1460.91 73.7508 Q1452.68 73.7508 1447.5 67.1883 Q1442.35 60.6258 1442.35 49.9314 Q1442.35 39.2371 1447.5 32.6746 Q1452.68 26.1121 1460.91 26.1121 Q1465.93 26.1121 1469.49 28.0971 Q1473.1 30.0415 1475.45 34.0924 M1450.05 49.9314 Q1450.05 58.1548 1453.41 62.8538 Q1456.81 67.5124 1462.73 67.5124 Q1468.64 67.5124 1472.05 62.8538 Q1475.45 58.1548 1475.45 49.9314 Q1475.45 41.7081 1472.05 37.0496 Q1468.64 32.3505 1462.73 32.3505 Q1456.81 32.3505 1453.41 37.0496 Q1450.05 41.7081 1450.05 49.9314 Z\" fill=\"#000000\" fill-rule=\"nonzero\" fill-opacity=\"1\" /><path clip-path=\"url(#clip940)\" d=\"M1497.49 54.671 L1497.49 27.2059 L1504.94 27.2059 L1504.94 54.3874 Q1504.94 60.8284 1507.45 64.0691 Q1509.96 67.2693 1514.99 67.2693 Q1521.02 67.2693 1524.5 63.421 Q1528.03 59.5726 1528.03 52.9291 L1528.03 27.2059 L1535.48 27.2059 L1535.48 72.576 L1528.03 72.576 L1528.03 65.6084 Q1525.32 69.7404 1521.71 71.7658 Q1518.14 73.7508 1513.41 73.7508 Q1505.59 73.7508 1501.54 68.8897 Q1497.49 64.0286 1497.49 54.671 M1516.24 26.1121 L1516.24 26.1121 Z\" fill=\"#000000\" fill-rule=\"nonzero\" fill-opacity=\"1\" /><path clip-path=\"url(#clip940)\" d=\"M1571.45 49.7694 Q1562.42 49.7694 1558.94 51.8354 Q1555.45 53.9013 1555.45 58.8839 Q1555.45 62.8538 1558.05 65.2034 Q1560.68 67.5124 1565.18 67.5124 Q1571.37 67.5124 1575.1 63.1374 Q1578.87 58.7219 1578.87 51.4303 L1578.87 49.7694 L1571.45 49.7694 M1586.32 46.6907 L1586.32 72.576 L1578.87 72.576 L1578.87 65.6895 Q1576.32 69.8214 1572.51 71.8063 Q1568.7 73.7508 1563.19 73.7508 Q1556.22 73.7508 1552.09 69.8619 Q1548 65.9325 1548 59.3701 Q1548 51.7138 1553.1 47.825 Q1558.25 43.9361 1568.42 43.9361 L1578.87 43.9361 L1578.87 43.2069 Q1578.87 38.0623 1575.47 35.2672 Q1572.1 32.4315 1565.99 32.4315 Q1562.1 32.4315 1558.41 33.3632 Q1554.72 34.295 1551.32 36.1584 L1551.32 29.2718 Q1555.41 27.692 1559.26 26.9223 Q1563.11 26.1121 1566.76 26.1121 Q1576.6 26.1121 1581.46 31.2163 Q1586.32 36.3204 1586.32 46.6907 Z\" fill=\"#000000\" fill-rule=\"nonzero\" fill-opacity=\"1\" /><path clip-path=\"url(#clip940)\" d=\"M1601.67 9.54393 L1609.13 9.54393 L1609.13 72.576 L1601.67 72.576 L1601.67 9.54393 Z\" fill=\"#000000\" fill-rule=\"nonzero\" fill-opacity=\"1\" /><path clip-path=\"url(#clip940)\" d=\"M1653.65 28.5427 L1653.65 35.5912 Q1650.49 33.9709 1647.09 33.1607 Q1643.68 32.3505 1640.04 32.3505 Q1634.49 32.3505 1631.69 34.0519 Q1628.94 35.7533 1628.94 39.156 Q1628.94 41.7486 1630.92 43.2475 Q1632.91 44.7058 1638.9 46.0426 L1641.45 46.6097 Q1649.39 48.3111 1652.72 51.4303 Q1656.08 54.509 1656.08 60.0587 Q1656.08 66.3781 1651.06 70.0644 Q1646.07 73.7508 1637.32 73.7508 Q1633.68 73.7508 1629.71 73.0216 Q1625.78 72.3329 1621.4 70.9151 L1621.4 63.2184 Q1625.53 65.3654 1629.54 66.4591 Q1633.56 67.5124 1637.48 67.5124 Q1642.75 67.5124 1645.59 65.73 Q1648.42 63.9071 1648.42 60.6258 Q1648.42 57.5877 1646.36 55.9673 Q1644.33 54.3469 1637.4 52.8481 L1634.81 52.2405 Q1627.88 50.7821 1624.81 47.7845 Q1621.73 44.7463 1621.73 39.4801 Q1621.73 33.0797 1626.26 29.5959 Q1630.8 26.1121 1639.15 26.1121 Q1643.28 26.1121 1646.92 26.7198 Q1650.57 27.3274 1653.65 28.5427 Z\" fill=\"#000000\" fill-rule=\"nonzero\" fill-opacity=\"1\" /><polyline clip-path=\"url(#clip942)\" style=\"stroke:#6b9e32; stroke-linecap:round; stroke-linejoin:round; stroke-width:4; stroke-opacity:1; fill:none\" points=\"209.891,1305.98 2290.34,162.047 \"/>\n",
       "<circle clip-path=\"url(#clip942)\" cx=\"209.891\" cy=\"1447.87\" r=\"14.4\" fill=\"#009af9\" fill-rule=\"evenodd\" fill-opacity=\"1\" stroke=\"#000000\" stroke-opacity=\"1\" stroke-width=\"3.2\"/>\n",
       "<circle clip-path=\"url(#clip942)\" cx=\"388.873\" cy=\"1367.96\" r=\"14.4\" fill=\"#009af9\" fill-rule=\"evenodd\" fill-opacity=\"1\" stroke=\"#000000\" stroke-opacity=\"1\" stroke-width=\"3.2\"/>\n",
       "<circle clip-path=\"url(#clip942)\" cx=\"482.454\" cy=\"1266.84\" r=\"14.4\" fill=\"#009af9\" fill-rule=\"evenodd\" fill-opacity=\"1\" stroke=\"#000000\" stroke-opacity=\"1\" stroke-width=\"3.2\"/>\n",
       "<circle clip-path=\"url(#clip942)\" cx=\"548.858\" cy=\"1179.53\" r=\"14.4\" fill=\"#009af9\" fill-rule=\"evenodd\" fill-opacity=\"1\" stroke=\"#000000\" stroke-opacity=\"1\" stroke-width=\"3.2\"/>\n",
       "<circle clip-path=\"url(#clip942)\" cx=\"601.438\" cy=\"1098.69\" r=\"14.4\" fill=\"#009af9\" fill-rule=\"evenodd\" fill-opacity=\"1\" stroke=\"#000000\" stroke-opacity=\"1\" stroke-width=\"3.2\"/>\n",
       "<circle clip-path=\"url(#clip942)\" cx=\"645.553\" cy=\"1043.8\" r=\"14.4\" fill=\"#009af9\" fill-rule=\"evenodd\" fill-opacity=\"1\" stroke=\"#000000\" stroke-opacity=\"1\" stroke-width=\"3.2\"/>\n",
       "<circle clip-path=\"url(#clip942)\" cx=\"683.922\" cy=\"1007.03\" r=\"14.4\" fill=\"#009af9\" fill-rule=\"evenodd\" fill-opacity=\"1\" stroke=\"#000000\" stroke-opacity=\"1\" stroke-width=\"3.2\"/>\n",
       "<circle clip-path=\"url(#clip942)\" cx=\"718.123\" cy=\"974.404\" r=\"14.4\" fill=\"#009af9\" fill-rule=\"evenodd\" fill-opacity=\"1\" stroke=\"#000000\" stroke-opacity=\"1\" stroke-width=\"3.2\"/>\n",
       "<circle clip-path=\"url(#clip942)\" cx=\"749.158\" cy=\"948.005\" r=\"14.4\" fill=\"#009af9\" fill-rule=\"evenodd\" fill-opacity=\"1\" stroke=\"#000000\" stroke-opacity=\"1\" stroke-width=\"3.2\"/>\n",
       "<circle clip-path=\"url(#clip942)\" cx=\"777.706\" cy=\"944.649\" r=\"14.4\" fill=\"#009af9\" fill-rule=\"evenodd\" fill-opacity=\"1\" stroke=\"#000000\" stroke-opacity=\"1\" stroke-width=\"3.2\"/>\n",
       "<circle clip-path=\"url(#clip942)\" cx=\"804.25\" cy=\"933.746\" r=\"14.4\" fill=\"#009af9\" fill-rule=\"evenodd\" fill-opacity=\"1\" stroke=\"#000000\" stroke-opacity=\"1\" stroke-width=\"3.2\"/>\n",
       "<circle clip-path=\"url(#clip942)\" cx=\"829.143\" cy=\"914.068\" r=\"14.4\" fill=\"#009af9\" fill-rule=\"evenodd\" fill-opacity=\"1\" stroke=\"#000000\" stroke-opacity=\"1\" stroke-width=\"3.2\"/>\n",
       "<circle clip-path=\"url(#clip942)\" cx=\"852.656\" cy=\"894.089\" r=\"14.4\" fill=\"#009af9\" fill-rule=\"evenodd\" fill-opacity=\"1\" stroke=\"#000000\" stroke-opacity=\"1\" stroke-width=\"3.2\"/>\n",
       "<circle clip-path=\"url(#clip942)\" cx=\"875.001\" cy=\"893.966\" r=\"14.4\" fill=\"#009af9\" fill-rule=\"evenodd\" fill-opacity=\"1\" stroke=\"#000000\" stroke-opacity=\"1\" stroke-width=\"3.2\"/>\n",
       "<circle clip-path=\"url(#clip942)\" cx=\"896.344\" cy=\"887.761\" r=\"14.4\" fill=\"#009af9\" fill-rule=\"evenodd\" fill-opacity=\"1\" stroke=\"#000000\" stroke-opacity=\"1\" stroke-width=\"3.2\"/>\n",
       "<circle clip-path=\"url(#clip942)\" cx=\"916.821\" cy=\"869.944\" r=\"14.4\" fill=\"#009af9\" fill-rule=\"evenodd\" fill-opacity=\"1\" stroke=\"#000000\" stroke-opacity=\"1\" stroke-width=\"3.2\"/>\n",
       "<circle clip-path=\"url(#clip942)\" cx=\"936.545\" cy=\"859.462\" r=\"14.4\" fill=\"#009af9\" fill-rule=\"evenodd\" fill-opacity=\"1\" stroke=\"#000000\" stroke-opacity=\"1\" stroke-width=\"3.2\"/>\n",
       "<circle clip-path=\"url(#clip942)\" cx=\"955.61\" cy=\"857.474\" r=\"14.4\" fill=\"#009af9\" fill-rule=\"evenodd\" fill-opacity=\"1\" stroke=\"#000000\" stroke-opacity=\"1\" stroke-width=\"3.2\"/>\n",
       "<circle clip-path=\"url(#clip942)\" cx=\"974.093\" cy=\"855.543\" r=\"14.4\" fill=\"#009af9\" fill-rule=\"evenodd\" fill-opacity=\"1\" stroke=\"#000000\" stroke-opacity=\"1\" stroke-width=\"3.2\"/>\n",
       "<circle clip-path=\"url(#clip942)\" cx=\"992.063\" cy=\"842.058\" r=\"14.4\" fill=\"#009af9\" fill-rule=\"evenodd\" fill-opacity=\"1\" stroke=\"#000000\" stroke-opacity=\"1\" stroke-width=\"3.2\"/>\n",
       "<circle clip-path=\"url(#clip942)\" cx=\"1009.58\" cy=\"816.931\" r=\"14.4\" fill=\"#009af9\" fill-rule=\"evenodd\" fill-opacity=\"1\" stroke=\"#000000\" stroke-opacity=\"1\" stroke-width=\"3.2\"/>\n",
       "<circle clip-path=\"url(#clip942)\" cx=\"1026.69\" cy=\"813.225\" r=\"14.4\" fill=\"#009af9\" fill-rule=\"evenodd\" fill-opacity=\"1\" stroke=\"#000000\" stroke-opacity=\"1\" stroke-width=\"3.2\"/>\n",
       "<circle clip-path=\"url(#clip942)\" cx=\"1043.45\" cy=\"797.752\" r=\"14.4\" fill=\"#009af9\" fill-rule=\"evenodd\" fill-opacity=\"1\" stroke=\"#000000\" stroke-opacity=\"1\" stroke-width=\"3.2\"/>\n",
       "<circle clip-path=\"url(#clip942)\" cx=\"1059.88\" cy=\"788.766\" r=\"14.4\" fill=\"#009af9\" fill-rule=\"evenodd\" fill-opacity=\"1\" stroke=\"#000000\" stroke-opacity=\"1\" stroke-width=\"3.2\"/>\n",
       "<circle clip-path=\"url(#clip942)\" cx=\"1076.03\" cy=\"761.788\" r=\"14.4\" fill=\"#009af9\" fill-rule=\"evenodd\" fill-opacity=\"1\" stroke=\"#000000\" stroke-opacity=\"1\" stroke-width=\"3.2\"/>\n",
       "<circle clip-path=\"url(#clip942)\" cx=\"1091.94\" cy=\"759.918\" r=\"14.4\" fill=\"#009af9\" fill-rule=\"evenodd\" fill-opacity=\"1\" stroke=\"#000000\" stroke-opacity=\"1\" stroke-width=\"3.2\"/>\n",
       "<circle clip-path=\"url(#clip942)\" cx=\"1107.62\" cy=\"754.176\" r=\"14.4\" fill=\"#009af9\" fill-rule=\"evenodd\" fill-opacity=\"1\" stroke=\"#000000\" stroke-opacity=\"1\" stroke-width=\"3.2\"/>\n",
       "<circle clip-path=\"url(#clip942)\" cx=\"1123.11\" cy=\"746.206\" r=\"14.4\" fill=\"#009af9\" fill-rule=\"evenodd\" fill-opacity=\"1\" stroke=\"#000000\" stroke-opacity=\"1\" stroke-width=\"3.2\"/>\n",
       "<circle clip-path=\"url(#clip942)\" cx=\"1138.43\" cy=\"742.476\" r=\"14.4\" fill=\"#009af9\" fill-rule=\"evenodd\" fill-opacity=\"1\" stroke=\"#000000\" stroke-opacity=\"1\" stroke-width=\"3.2\"/>\n",
       "<circle clip-path=\"url(#clip942)\" cx=\"1153.6\" cy=\"741.319\" r=\"14.4\" fill=\"#009af9\" fill-rule=\"evenodd\" fill-opacity=\"1\" stroke=\"#000000\" stroke-opacity=\"1\" stroke-width=\"3.2\"/>\n",
       "<circle clip-path=\"url(#clip942)\" cx=\"1168.65\" cy=\"729.485\" r=\"14.4\" fill=\"#009af9\" fill-rule=\"evenodd\" fill-opacity=\"1\" stroke=\"#000000\" stroke-opacity=\"1\" stroke-width=\"3.2\"/>\n",
       "<circle clip-path=\"url(#clip942)\" cx=\"1183.6\" cy=\"726.733\" r=\"14.4\" fill=\"#009af9\" fill-rule=\"evenodd\" fill-opacity=\"1\" stroke=\"#000000\" stroke-opacity=\"1\" stroke-width=\"3.2\"/>\n",
       "<circle clip-path=\"url(#clip942)\" cx=\"1198.47\" cy=\"716.809\" r=\"14.4\" fill=\"#009af9\" fill-rule=\"evenodd\" fill-opacity=\"1\" stroke=\"#000000\" stroke-opacity=\"1\" stroke-width=\"3.2\"/>\n",
       "<circle clip-path=\"url(#clip942)\" cx=\"1213.27\" cy=\"716.299\" r=\"14.4\" fill=\"#009af9\" fill-rule=\"evenodd\" fill-opacity=\"1\" stroke=\"#000000\" stroke-opacity=\"1\" stroke-width=\"3.2\"/>\n",
       "<circle clip-path=\"url(#clip942)\" cx=\"1228.03\" cy=\"715.958\" r=\"14.4\" fill=\"#009af9\" fill-rule=\"evenodd\" fill-opacity=\"1\" stroke=\"#000000\" stroke-opacity=\"1\" stroke-width=\"3.2\"/>\n",
       "<circle clip-path=\"url(#clip942)\" cx=\"1242.76\" cy=\"699.925\" r=\"14.4\" fill=\"#009af9\" fill-rule=\"evenodd\" fill-opacity=\"1\" stroke=\"#000000\" stroke-opacity=\"1\" stroke-width=\"3.2\"/>\n",
       "<circle clip-path=\"url(#clip942)\" cx=\"1257.48\" cy=\"699.925\" r=\"14.4\" fill=\"#009af9\" fill-rule=\"evenodd\" fill-opacity=\"1\" stroke=\"#000000\" stroke-opacity=\"1\" stroke-width=\"3.2\"/>\n",
       "<circle clip-path=\"url(#clip942)\" cx=\"1272.21\" cy=\"696.53\" r=\"14.4\" fill=\"#009af9\" fill-rule=\"evenodd\" fill-opacity=\"1\" stroke=\"#000000\" stroke-opacity=\"1\" stroke-width=\"3.2\"/>\n",
       "<circle clip-path=\"url(#clip942)\" cx=\"1286.97\" cy=\"693.485\" r=\"14.4\" fill=\"#009af9\" fill-rule=\"evenodd\" fill-opacity=\"1\" stroke=\"#000000\" stroke-opacity=\"1\" stroke-width=\"3.2\"/>\n",
       "<circle clip-path=\"url(#clip942)\" cx=\"1301.77\" cy=\"689.442\" r=\"14.4\" fill=\"#009af9\" fill-rule=\"evenodd\" fill-opacity=\"1\" stroke=\"#000000\" stroke-opacity=\"1\" stroke-width=\"3.2\"/>\n",
       "<circle clip-path=\"url(#clip942)\" cx=\"1316.63\" cy=\"679.507\" r=\"14.4\" fill=\"#009af9\" fill-rule=\"evenodd\" fill-opacity=\"1\" stroke=\"#000000\" stroke-opacity=\"1\" stroke-width=\"3.2\"/>\n",
       "<circle clip-path=\"url(#clip942)\" cx=\"1331.58\" cy=\"668.394\" r=\"14.4\" fill=\"#009af9\" fill-rule=\"evenodd\" fill-opacity=\"1\" stroke=\"#000000\" stroke-opacity=\"1\" stroke-width=\"3.2\"/>\n",
       "<circle clip-path=\"url(#clip942)\" cx=\"1346.63\" cy=\"667.411\" r=\"14.4\" fill=\"#009af9\" fill-rule=\"evenodd\" fill-opacity=\"1\" stroke=\"#000000\" stroke-opacity=\"1\" stroke-width=\"3.2\"/>\n",
       "<circle clip-path=\"url(#clip942)\" cx=\"1361.81\" cy=\"667.399\" r=\"14.4\" fill=\"#009af9\" fill-rule=\"evenodd\" fill-opacity=\"1\" stroke=\"#000000\" stroke-opacity=\"1\" stroke-width=\"3.2\"/>\n",
       "<circle clip-path=\"url(#clip942)\" cx=\"1377.13\" cy=\"659.718\" r=\"14.4\" fill=\"#009af9\" fill-rule=\"evenodd\" fill-opacity=\"1\" stroke=\"#000000\" stroke-opacity=\"1\" stroke-width=\"3.2\"/>\n",
       "<circle clip-path=\"url(#clip942)\" cx=\"1392.62\" cy=\"655.202\" r=\"14.4\" fill=\"#009af9\" fill-rule=\"evenodd\" fill-opacity=\"1\" stroke=\"#000000\" stroke-opacity=\"1\" stroke-width=\"3.2\"/>\n",
       "<circle clip-path=\"url(#clip942)\" cx=\"1408.3\" cy=\"652.514\" r=\"14.4\" fill=\"#009af9\" fill-rule=\"evenodd\" fill-opacity=\"1\" stroke=\"#000000\" stroke-opacity=\"1\" stroke-width=\"3.2\"/>\n",
       "<circle clip-path=\"url(#clip942)\" cx=\"1424.2\" cy=\"650.847\" r=\"14.4\" fill=\"#009af9\" fill-rule=\"evenodd\" fill-opacity=\"1\" stroke=\"#000000\" stroke-opacity=\"1\" stroke-width=\"3.2\"/>\n",
       "<circle clip-path=\"url(#clip942)\" cx=\"1440.35\" cy=\"645.523\" r=\"14.4\" fill=\"#009af9\" fill-rule=\"evenodd\" fill-opacity=\"1\" stroke=\"#000000\" stroke-opacity=\"1\" stroke-width=\"3.2\"/>\n",
       "<circle clip-path=\"url(#clip942)\" cx=\"1456.79\" cy=\"633.103\" r=\"14.4\" fill=\"#009af9\" fill-rule=\"evenodd\" fill-opacity=\"1\" stroke=\"#000000\" stroke-opacity=\"1\" stroke-width=\"3.2\"/>\n",
       "<circle clip-path=\"url(#clip942)\" cx=\"1473.54\" cy=\"630.482\" r=\"14.4\" fill=\"#009af9\" fill-rule=\"evenodd\" fill-opacity=\"1\" stroke=\"#000000\" stroke-opacity=\"1\" stroke-width=\"3.2\"/>\n",
       "<circle clip-path=\"url(#clip942)\" cx=\"1490.65\" cy=\"630.482\" r=\"14.4\" fill=\"#009af9\" fill-rule=\"evenodd\" fill-opacity=\"1\" stroke=\"#000000\" stroke-opacity=\"1\" stroke-width=\"3.2\"/>\n",
       "<circle clip-path=\"url(#clip942)\" cx=\"1508.17\" cy=\"630.482\" r=\"14.4\" fill=\"#009af9\" fill-rule=\"evenodd\" fill-opacity=\"1\" stroke=\"#000000\" stroke-opacity=\"1\" stroke-width=\"3.2\"/>\n",
       "<circle clip-path=\"url(#clip942)\" cx=\"1526.14\" cy=\"630.482\" r=\"14.4\" fill=\"#009af9\" fill-rule=\"evenodd\" fill-opacity=\"1\" stroke=\"#000000\" stroke-opacity=\"1\" stroke-width=\"3.2\"/>\n",
       "<circle clip-path=\"url(#clip942)\" cx=\"1544.62\" cy=\"630.482\" r=\"14.4\" fill=\"#009af9\" fill-rule=\"evenodd\" fill-opacity=\"1\" stroke=\"#000000\" stroke-opacity=\"1\" stroke-width=\"3.2\"/>\n",
       "<circle clip-path=\"url(#clip942)\" cx=\"1563.69\" cy=\"624.475\" r=\"14.4\" fill=\"#009af9\" fill-rule=\"evenodd\" fill-opacity=\"1\" stroke=\"#000000\" stroke-opacity=\"1\" stroke-width=\"3.2\"/>\n",
       "<circle clip-path=\"url(#clip942)\" cx=\"1583.41\" cy=\"616.766\" r=\"14.4\" fill=\"#009af9\" fill-rule=\"evenodd\" fill-opacity=\"1\" stroke=\"#000000\" stroke-opacity=\"1\" stroke-width=\"3.2\"/>\n",
       "<circle clip-path=\"url(#clip942)\" cx=\"1603.89\" cy=\"579.664\" r=\"14.4\" fill=\"#009af9\" fill-rule=\"evenodd\" fill-opacity=\"1\" stroke=\"#000000\" stroke-opacity=\"1\" stroke-width=\"3.2\"/>\n",
       "<circle clip-path=\"url(#clip942)\" cx=\"1625.23\" cy=\"556.211\" r=\"14.4\" fill=\"#009af9\" fill-rule=\"evenodd\" fill-opacity=\"1\" stroke=\"#000000\" stroke-opacity=\"1\" stroke-width=\"3.2\"/>\n",
       "<circle clip-path=\"url(#clip942)\" cx=\"1647.58\" cy=\"550.431\" r=\"14.4\" fill=\"#009af9\" fill-rule=\"evenodd\" fill-opacity=\"1\" stroke=\"#000000\" stroke-opacity=\"1\" stroke-width=\"3.2\"/>\n",
       "<circle clip-path=\"url(#clip942)\" cx=\"1671.09\" cy=\"539.943\" r=\"14.4\" fill=\"#009af9\" fill-rule=\"evenodd\" fill-opacity=\"1\" stroke=\"#000000\" stroke-opacity=\"1\" stroke-width=\"3.2\"/>\n",
       "<circle clip-path=\"url(#clip942)\" cx=\"1695.98\" cy=\"535.003\" r=\"14.4\" fill=\"#009af9\" fill-rule=\"evenodd\" fill-opacity=\"1\" stroke=\"#000000\" stroke-opacity=\"1\" stroke-width=\"3.2\"/>\n",
       "<circle clip-path=\"url(#clip942)\" cx=\"1722.53\" cy=\"530.144\" r=\"14.4\" fill=\"#009af9\" fill-rule=\"evenodd\" fill-opacity=\"1\" stroke=\"#000000\" stroke-opacity=\"1\" stroke-width=\"3.2\"/>\n",
       "<circle clip-path=\"url(#clip942)\" cx=\"1751.08\" cy=\"517.42\" r=\"14.4\" fill=\"#009af9\" fill-rule=\"evenodd\" fill-opacity=\"1\" stroke=\"#000000\" stroke-opacity=\"1\" stroke-width=\"3.2\"/>\n",
       "<circle clip-path=\"url(#clip942)\" cx=\"1782.11\" cy=\"506.749\" r=\"14.4\" fill=\"#009af9\" fill-rule=\"evenodd\" fill-opacity=\"1\" stroke=\"#000000\" stroke-opacity=\"1\" stroke-width=\"3.2\"/>\n",
       "<circle clip-path=\"url(#clip942)\" cx=\"1816.31\" cy=\"464.764\" r=\"14.4\" fill=\"#009af9\" fill-rule=\"evenodd\" fill-opacity=\"1\" stroke=\"#000000\" stroke-opacity=\"1\" stroke-width=\"3.2\"/>\n",
       "<circle clip-path=\"url(#clip942)\" cx=\"1854.68\" cy=\"417.653\" r=\"14.4\" fill=\"#009af9\" fill-rule=\"evenodd\" fill-opacity=\"1\" stroke=\"#000000\" stroke-opacity=\"1\" stroke-width=\"3.2\"/>\n",
       "<circle clip-path=\"url(#clip942)\" cx=\"1898.8\" cy=\"384.701\" r=\"14.4\" fill=\"#009af9\" fill-rule=\"evenodd\" fill-opacity=\"1\" stroke=\"#000000\" stroke-opacity=\"1\" stroke-width=\"3.2\"/>\n",
       "<circle clip-path=\"url(#clip942)\" cx=\"1951.38\" cy=\"370.528\" r=\"14.4\" fill=\"#009af9\" fill-rule=\"evenodd\" fill-opacity=\"1\" stroke=\"#000000\" stroke-opacity=\"1\" stroke-width=\"3.2\"/>\n",
       "<circle clip-path=\"url(#clip942)\" cx=\"2017.78\" cy=\"341.989\" r=\"14.4\" fill=\"#009af9\" fill-rule=\"evenodd\" fill-opacity=\"1\" stroke=\"#000000\" stroke-opacity=\"1\" stroke-width=\"3.2\"/>\n",
       "<circle clip-path=\"url(#clip942)\" cx=\"2111.36\" cy=\"291.827\" r=\"14.4\" fill=\"#009af9\" fill-rule=\"evenodd\" fill-opacity=\"1\" stroke=\"#000000\" stroke-opacity=\"1\" stroke-width=\"3.2\"/>\n",
       "<circle clip-path=\"url(#clip942)\" cx=\"2290.34\" cy=\"262.992\" r=\"14.4\" fill=\"#009af9\" fill-rule=\"evenodd\" fill-opacity=\"1\" stroke=\"#000000\" stroke-opacity=\"1\" stroke-width=\"3.2\"/>\n",
       "</svg>\n"
      ],
      "text/html": [
       "<?xml version=\"1.0\" encoding=\"utf-8\"?>\n",
       "<svg xmlns=\"http://www.w3.org/2000/svg\" xmlns:xlink=\"http://www.w3.org/1999/xlink\" width=\"600\" height=\"400\" viewBox=\"0 0 2400 1600\">\n",
       "<defs>\n",
       "  <clipPath id=\"clip990\">\n",
       "    <rect x=\"0\" y=\"0\" width=\"2400\" height=\"1600\"/>\n",
       "  </clipPath>\n",
       "</defs>\n",
       "<path clip-path=\"url(#clip990)\" d=\"M0 1600 L2400 1600 L2400 0 L0 0  Z\" fill=\"#ffffff\" fill-rule=\"evenodd\" fill-opacity=\"1\"/>\n",
       "<defs>\n",
       "  <clipPath id=\"clip991\">\n",
       "    <rect x=\"480\" y=\"0\" width=\"1681\" height=\"1600\"/>\n",
       "  </clipPath>\n",
       "</defs>\n",
       "<path clip-path=\"url(#clip990)\" d=\"M147.478 1486.45 L2352.76 1486.45 L2352.76 123.472 L147.478 123.472  Z\" fill=\"#ffffff\" fill-rule=\"evenodd\" fill-opacity=\"1\"/>\n",
       "<defs>\n",
       "  <clipPath id=\"clip992\">\n",
       "    <rect x=\"147\" y=\"123\" width=\"2206\" height=\"1364\"/>\n",
       "  </clipPath>\n",
       "</defs>\n",
       "<polyline clip-path=\"url(#clip992)\" style=\"stroke:#000000; stroke-linecap:round; stroke-linejoin:round; stroke-width:2; stroke-opacity:0.1; fill:none\" points=\"242.735,1486.45 242.735,123.472 \"/>\n",
       "<polyline clip-path=\"url(#clip992)\" style=\"stroke:#000000; stroke-linecap:round; stroke-linejoin:round; stroke-width:2; stroke-opacity:0.1; fill:none\" points=\"756.626,1486.45 756.626,123.472 \"/>\n",
       "<polyline clip-path=\"url(#clip992)\" style=\"stroke:#000000; stroke-linecap:round; stroke-linejoin:round; stroke-width:2; stroke-opacity:0.1; fill:none\" points=\"1270.52,1486.45 1270.52,123.472 \"/>\n",
       "<polyline clip-path=\"url(#clip992)\" style=\"stroke:#000000; stroke-linecap:round; stroke-linejoin:round; stroke-width:2; stroke-opacity:0.1; fill:none\" points=\"1784.41,1486.45 1784.41,123.472 \"/>\n",
       "<polyline clip-path=\"url(#clip992)\" style=\"stroke:#000000; stroke-linecap:round; stroke-linejoin:round; stroke-width:2; stroke-opacity:0.1; fill:none\" points=\"2298.3,1486.45 2298.3,123.472 \"/>\n",
       "<polyline clip-path=\"url(#clip992)\" style=\"stroke:#000000; stroke-linecap:round; stroke-linejoin:round; stroke-width:2; stroke-opacity:0.1; fill:none\" points=\"147.478,1287.92 2352.76,1287.92 \"/>\n",
       "<polyline clip-path=\"url(#clip992)\" style=\"stroke:#000000; stroke-linecap:round; stroke-linejoin:round; stroke-width:2; stroke-opacity:0.1; fill:none\" points=\"147.478,1005.36 2352.76,1005.36 \"/>\n",
       "<polyline clip-path=\"url(#clip992)\" style=\"stroke:#000000; stroke-linecap:round; stroke-linejoin:round; stroke-width:2; stroke-opacity:0.1; fill:none\" points=\"147.478,722.796 2352.76,722.796 \"/>\n",
       "<polyline clip-path=\"url(#clip992)\" style=\"stroke:#000000; stroke-linecap:round; stroke-linejoin:round; stroke-width:2; stroke-opacity:0.1; fill:none\" points=\"147.478,440.234 2352.76,440.234 \"/>\n",
       "<polyline clip-path=\"url(#clip992)\" style=\"stroke:#000000; stroke-linecap:round; stroke-linejoin:round; stroke-width:2; stroke-opacity:0.1; fill:none\" points=\"147.478,157.672 2352.76,157.672 \"/>\n",
       "<polyline clip-path=\"url(#clip990)\" style=\"stroke:#000000; stroke-linecap:round; stroke-linejoin:round; stroke-width:4; stroke-opacity:1; fill:none\" points=\"147.478,1486.45 2352.76,1486.45 \"/>\n",
       "<polyline clip-path=\"url(#clip990)\" style=\"stroke:#000000; stroke-linecap:round; stroke-linejoin:round; stroke-width:4; stroke-opacity:1; fill:none\" points=\"242.735,1486.45 242.735,1467.55 \"/>\n",
       "<polyline clip-path=\"url(#clip990)\" style=\"stroke:#000000; stroke-linecap:round; stroke-linejoin:round; stroke-width:4; stroke-opacity:1; fill:none\" points=\"756.626,1486.45 756.626,1467.55 \"/>\n",
       "<polyline clip-path=\"url(#clip990)\" style=\"stroke:#000000; stroke-linecap:round; stroke-linejoin:round; stroke-width:4; stroke-opacity:1; fill:none\" points=\"1270.52,1486.45 1270.52,1467.55 \"/>\n",
       "<polyline clip-path=\"url(#clip990)\" style=\"stroke:#000000; stroke-linecap:round; stroke-linejoin:round; stroke-width:4; stroke-opacity:1; fill:none\" points=\"1784.41,1486.45 1784.41,1467.55 \"/>\n",
       "<polyline clip-path=\"url(#clip990)\" style=\"stroke:#000000; stroke-linecap:round; stroke-linejoin:round; stroke-width:4; stroke-opacity:1; fill:none\" points=\"2298.3,1486.45 2298.3,1467.55 \"/>\n",
       "<path clip-path=\"url(#clip990)\" d=\"M212.677 1532.02 L242.353 1532.02 L242.353 1535.95 L212.677 1535.95 L212.677 1532.02 Z\" fill=\"#000000\" fill-rule=\"nonzero\" fill-opacity=\"1\" /><path clip-path=\"url(#clip990)\" d=\"M256.473 1544.91 L272.792 1544.91 L272.792 1548.85 L250.848 1548.85 L250.848 1544.91 Q253.51 1542.16 258.093 1537.53 Q262.7 1532.88 263.88 1531.53 Q266.126 1529.01 267.005 1527.27 Q267.908 1525.51 267.908 1523.82 Q267.908 1521.07 265.964 1519.33 Q264.043 1517.6 260.941 1517.6 Q258.742 1517.6 256.288 1518.36 Q253.857 1519.13 251.08 1520.68 L251.08 1515.95 Q253.904 1514.82 256.357 1514.24 Q258.811 1513.66 260.848 1513.66 Q266.218 1513.66 269.413 1516.35 Q272.607 1519.03 272.607 1523.52 Q272.607 1525.65 271.797 1527.57 Q271.01 1529.47 268.904 1532.07 Q268.325 1532.74 265.223 1535.95 Q262.121 1539.15 256.473 1544.91 Z\" fill=\"#000000\" fill-rule=\"nonzero\" fill-opacity=\"1\" /><path clip-path=\"url(#clip990)\" d=\"M726.383 1532.02 L756.059 1532.02 L756.059 1535.95 L726.383 1535.95 L726.383 1532.02 Z\" fill=\"#000000\" fill-rule=\"nonzero\" fill-opacity=\"1\" /><path clip-path=\"url(#clip990)\" d=\"M766.961 1544.91 L774.6 1544.91 L774.6 1518.55 L766.29 1520.21 L766.29 1515.95 L774.554 1514.29 L779.23 1514.29 L779.23 1544.91 L786.869 1544.91 L786.869 1548.85 L766.961 1548.85 L766.961 1544.91 Z\" fill=\"#000000\" fill-rule=\"nonzero\" fill-opacity=\"1\" /><path clip-path=\"url(#clip990)\" d=\"M1270.52 1517.37 Q1266.91 1517.37 1265.08 1520.93 Q1263.27 1524.47 1263.27 1531.6 Q1263.27 1538.71 1265.08 1542.27 Q1266.91 1545.82 1270.52 1545.82 Q1274.15 1545.82 1275.96 1542.27 Q1277.79 1538.71 1277.79 1531.6 Q1277.79 1524.47 1275.96 1520.93 Q1274.15 1517.37 1270.52 1517.37 M1270.52 1513.66 Q1276.33 1513.66 1279.38 1518.27 Q1282.46 1522.85 1282.46 1531.6 Q1282.46 1540.33 1279.38 1544.94 Q1276.33 1549.52 1270.52 1549.52 Q1264.71 1549.52 1261.63 1544.94 Q1258.57 1540.33 1258.57 1531.6 Q1258.57 1522.85 1261.63 1518.27 Q1264.71 1513.66 1270.52 1513.66 Z\" fill=\"#000000\" fill-rule=\"nonzero\" fill-opacity=\"1\" /><path clip-path=\"url(#clip990)\" d=\"M1774.79 1544.91 L1782.43 1544.91 L1782.43 1518.55 L1774.12 1520.21 L1774.12 1515.95 L1782.38 1514.29 L1787.06 1514.29 L1787.06 1544.91 L1794.7 1544.91 L1794.7 1548.85 L1774.79 1548.85 L1774.79 1544.91 Z\" fill=\"#000000\" fill-rule=\"nonzero\" fill-opacity=\"1\" /><path clip-path=\"url(#clip990)\" d=\"M2292.95 1544.91 L2309.27 1544.91 L2309.27 1548.85 L2287.33 1548.85 L2287.33 1544.91 Q2289.99 1542.16 2294.57 1537.53 Q2299.18 1532.88 2300.36 1531.53 Q2302.6 1529.01 2303.48 1527.27 Q2304.39 1525.51 2304.39 1523.82 Q2304.39 1521.07 2302.44 1519.33 Q2300.52 1517.6 2297.42 1517.6 Q2295.22 1517.6 2292.77 1518.36 Q2290.34 1519.13 2287.56 1520.68 L2287.56 1515.95 Q2290.38 1514.82 2292.84 1514.24 Q2295.29 1513.66 2297.33 1513.66 Q2302.7 1513.66 2305.89 1516.35 Q2309.09 1519.03 2309.09 1523.52 Q2309.09 1525.65 2308.28 1527.57 Q2307.49 1529.47 2305.38 1532.07 Q2304.8 1532.74 2301.7 1535.95 Q2298.6 1539.15 2292.95 1544.91 Z\" fill=\"#000000\" fill-rule=\"nonzero\" fill-opacity=\"1\" /><polyline clip-path=\"url(#clip990)\" style=\"stroke:#000000; stroke-linecap:round; stroke-linejoin:round; stroke-width:4; stroke-opacity:1; fill:none\" points=\"147.478,1486.45 147.478,123.472 \"/>\n",
       "<polyline clip-path=\"url(#clip990)\" style=\"stroke:#000000; stroke-linecap:round; stroke-linejoin:round; stroke-width:4; stroke-opacity:1; fill:none\" points=\"147.478,1287.92 166.376,1287.92 \"/>\n",
       "<polyline clip-path=\"url(#clip990)\" style=\"stroke:#000000; stroke-linecap:round; stroke-linejoin:round; stroke-width:4; stroke-opacity:1; fill:none\" points=\"147.478,1005.36 166.376,1005.36 \"/>\n",
       "<polyline clip-path=\"url(#clip990)\" style=\"stroke:#000000; stroke-linecap:round; stroke-linejoin:round; stroke-width:4; stroke-opacity:1; fill:none\" points=\"147.478,722.796 166.376,722.796 \"/>\n",
       "<polyline clip-path=\"url(#clip990)\" style=\"stroke:#000000; stroke-linecap:round; stroke-linejoin:round; stroke-width:4; stroke-opacity:1; fill:none\" points=\"147.478,440.234 166.376,440.234 \"/>\n",
       "<polyline clip-path=\"url(#clip990)\" style=\"stroke:#000000; stroke-linecap:round; stroke-linejoin:round; stroke-width:4; stroke-opacity:1; fill:none\" points=\"147.478,157.672 166.376,157.672 \"/>\n",
       "<path clip-path=\"url(#clip990)\" d=\"M51.3625 1288.37 L81.0383 1288.37 L81.0383 1292.31 L51.3625 1292.31 L51.3625 1288.37 Z\" fill=\"#000000\" fill-rule=\"nonzero\" fill-opacity=\"1\" /><path clip-path=\"url(#clip990)\" d=\"M95.1586 1301.27 L111.478 1301.27 L111.478 1305.2 L89.5336 1305.2 L89.5336 1301.27 Q92.1956 1298.51 96.7789 1293.88 Q101.385 1289.23 102.566 1287.89 Q104.811 1285.36 105.691 1283.63 Q106.594 1281.87 106.594 1280.18 Q106.594 1277.42 104.649 1275.69 Q102.728 1273.95 99.6261 1273.95 Q97.4271 1273.95 94.9734 1274.71 Q92.5428 1275.48 89.7651 1277.03 L89.7651 1272.31 Q92.5891 1271.17 95.0428 1270.59 Q97.4965 1270.02 99.5335 1270.02 Q104.904 1270.02 108.098 1272.7 Q111.293 1275.39 111.293 1279.88 Q111.293 1282.01 110.483 1283.93 Q109.696 1285.83 107.589 1288.42 Q107.01 1289.09 103.909 1292.31 Q100.807 1295.5 95.1586 1301.27 Z\" fill=\"#000000\" fill-rule=\"nonzero\" fill-opacity=\"1\" /><path clip-path=\"url(#clip990)\" d=\"M50.9921 1005.81 L80.6679 1005.81 L80.6679 1009.74 L50.9921 1009.74 L50.9921 1005.81 Z\" fill=\"#000000\" fill-rule=\"nonzero\" fill-opacity=\"1\" /><path clip-path=\"url(#clip990)\" d=\"M91.5706 1018.7 L99.2095 1018.7 L99.2095 992.337 L90.8993 994.004 L90.8993 989.745 L99.1632 988.078 L103.839 988.078 L103.839 1018.7 L111.478 1018.7 L111.478 1022.64 L91.5706 1022.64 L91.5706 1018.7 Z\" fill=\"#000000\" fill-rule=\"nonzero\" fill-opacity=\"1\" /><path clip-path=\"url(#clip990)\" d=\"M99.5335 708.595 Q95.9224 708.595 94.0937 712.16 Q92.2882 715.701 92.2882 722.831 Q92.2882 729.937 94.0937 733.502 Q95.9224 737.044 99.5335 737.044 Q103.168 737.044 104.973 733.502 Q106.802 729.937 106.802 722.831 Q106.802 715.701 104.973 712.16 Q103.168 708.595 99.5335 708.595 M99.5335 704.891 Q105.344 704.891 108.399 709.498 Q111.478 714.081 111.478 722.831 Q111.478 731.558 108.399 736.164 Q105.344 740.747 99.5335 740.747 Q93.7234 740.747 90.6447 736.164 Q87.5892 731.558 87.5892 722.831 Q87.5892 714.081 90.6447 709.498 Q93.7234 704.891 99.5335 704.891 Z\" fill=\"#000000\" fill-rule=\"nonzero\" fill-opacity=\"1\" /><path clip-path=\"url(#clip990)\" d=\"M91.5706 453.579 L99.2095 453.579 L99.2095 427.213 L90.8993 428.88 L90.8993 424.621 L99.1632 422.954 L103.839 422.954 L103.839 453.579 L111.478 453.579 L111.478 457.514 L91.5706 457.514 L91.5706 453.579 Z\" fill=\"#000000\" fill-rule=\"nonzero\" fill-opacity=\"1\" /><path clip-path=\"url(#clip990)\" d=\"M95.1586 171.017 L111.478 171.017 L111.478 174.952 L89.5336 174.952 L89.5336 171.017 Q92.1956 168.262 96.7789 163.633 Q101.385 158.98 102.566 157.637 Q104.811 155.114 105.691 153.378 Q106.594 151.619 106.594 149.929 Q106.594 147.175 104.649 145.438 Q102.728 143.702 99.6261 143.702 Q97.4271 143.702 94.9734 144.466 Q92.5428 145.23 89.7651 146.781 L89.7651 142.059 Q92.5891 140.925 95.0428 140.346 Q97.4965 139.767 99.5335 139.767 Q104.904 139.767 108.098 142.452 Q111.293 145.137 111.293 149.628 Q111.293 151.758 110.483 153.679 Q109.696 155.577 107.589 158.17 Q107.01 158.841 103.909 162.059 Q100.807 165.253 95.1586 171.017 Z\" fill=\"#000000\" fill-rule=\"nonzero\" fill-opacity=\"1\" /><path clip-path=\"url(#clip990)\" d=\"M872.188 17.6457 Q863.276 17.6457 858.01 24.2892 Q852.784 30.9327 852.784 42.3968 Q852.784 53.8203 858.01 60.4638 Q863.276 67.1073 872.188 67.1073 Q881.1 67.1073 886.285 60.4638 Q891.511 53.8203 891.511 42.3968 Q891.511 30.9327 886.285 24.2892 Q881.1 17.6457 872.188 17.6457 M883.652 71.4823 L894.427 83.2704 L884.543 83.2704 L875.591 73.5887 Q874.254 73.6697 873.525 73.7103 Q872.836 73.7508 872.188 73.7508 Q859.427 73.7508 851.771 65.2439 Q844.156 56.6965 844.156 42.3968 Q844.156 28.0566 851.771 19.5497 Q859.427 11.0023 872.188 11.0023 Q884.908 11.0023 892.523 19.5497 Q900.139 28.0566 900.139 42.3968 Q900.139 52.9291 895.886 60.4233 Q891.673 67.9175 883.652 71.4823 Z\" fill=\"#000000\" fill-rule=\"nonzero\" fill-opacity=\"1\" /><path clip-path=\"url(#clip990)\" d=\"M937.488 17.6457 Q928.576 17.6457 923.31 24.2892 Q918.085 30.9327 918.085 42.3968 Q918.085 53.8203 923.31 60.4638 Q928.576 67.1073 937.488 67.1073 Q946.4 67.1073 951.586 60.4638 Q956.811 53.8203 956.811 42.3968 Q956.811 30.9327 951.586 24.2892 Q946.4 17.6457 937.488 17.6457 M948.952 71.4823 L959.728 83.2704 L949.844 83.2704 L940.891 73.5887 Q939.554 73.6697 938.825 73.7103 Q938.137 73.7508 937.488 73.7508 Q924.728 73.7508 917.072 65.2439 Q909.456 56.6965 909.456 42.3968 Q909.456 28.0566 917.072 19.5497 Q924.728 11.0023 937.488 11.0023 Q950.208 11.0023 957.824 19.5497 Q965.44 28.0566 965.44 42.3968 Q965.44 52.9291 961.186 60.4233 Q956.973 67.9175 948.952 71.4823 Z\" fill=\"#000000\" fill-rule=\"nonzero\" fill-opacity=\"1\" /><path clip-path=\"url(#clip990)\" d=\"M1011.5 65.7705 L1011.5 89.8329 L1004 89.8329 L1004 27.2059 L1011.5 27.2059 L1011.5 34.0924 Q1013.85 30.0415 1017.41 28.0971 Q1021.02 26.1121 1026 26.1121 Q1034.26 26.1121 1039.41 32.6746 Q1044.59 39.2371 1044.59 49.9314 Q1044.59 60.6258 1039.41 67.1883 Q1034.26 73.7508 1026 73.7508 Q1021.02 73.7508 1017.41 71.8063 Q1013.85 69.8214 1011.5 65.7705 M1036.86 49.9314 Q1036.86 41.7081 1033.45 37.0496 Q1030.09 32.3505 1024.18 32.3505 Q1018.26 32.3505 1014.86 37.0496 Q1011.5 41.7081 1011.5 49.9314 Q1011.5 58.1548 1014.86 62.8538 Q1018.26 67.5124 1024.18 67.5124 Q1030.09 67.5124 1033.45 62.8538 Q1036.86 58.1548 1036.86 49.9314 Z\" fill=\"#000000\" fill-rule=\"nonzero\" fill-opacity=\"1\" /><path clip-path=\"url(#clip990)\" d=\"M1056.95 9.54393 L1064.4 9.54393 L1064.4 72.576 L1056.95 72.576 L1056.95 9.54393 Z\" fill=\"#000000\" fill-rule=\"nonzero\" fill-opacity=\"1\" /><path clip-path=\"url(#clip990)\" d=\"M1097.58 32.4315 Q1091.58 32.4315 1088.1 37.1306 Q1084.62 41.7891 1084.62 49.9314 Q1084.62 58.0738 1088.06 62.7728 Q1091.54 67.4314 1097.58 67.4314 Q1103.53 67.4314 1107.02 62.7323 Q1110.5 58.0333 1110.5 49.9314 Q1110.5 41.8701 1107.02 37.1711 Q1103.53 32.4315 1097.58 32.4315 M1097.58 26.1121 Q1107.3 26.1121 1112.85 32.4315 Q1118.4 38.7509 1118.4 49.9314 Q1118.4 61.0714 1112.85 67.4314 Q1107.3 73.7508 1097.58 73.7508 Q1087.82 73.7508 1082.27 67.4314 Q1076.76 61.0714 1076.76 49.9314 Q1076.76 38.7509 1082.27 32.4315 Q1087.82 26.1121 1097.58 26.1121 Z\" fill=\"#000000\" fill-rule=\"nonzero\" fill-opacity=\"1\" /><path clip-path=\"url(#clip990)\" d=\"M1138.13 14.324 L1138.13 27.2059 L1153.48 27.2059 L1153.48 32.9987 L1138.13 32.9987 L1138.13 57.6282 Q1138.13 63.1779 1139.63 64.7578 Q1141.17 66.3376 1145.83 66.3376 L1153.48 66.3376 L1153.48 72.576 L1145.83 72.576 Q1137.2 72.576 1133.92 69.3758 Q1130.64 66.1351 1130.64 57.6282 L1130.64 32.9987 L1125.17 32.9987 L1125.17 27.2059 L1130.64 27.2059 L1130.64 14.324 L1138.13 14.324 Z\" fill=\"#000000\" fill-rule=\"nonzero\" fill-opacity=\"1\" /><path clip-path=\"url(#clip990)\" d=\"M1207.24 32.4315 Q1201.24 32.4315 1197.76 37.1306 Q1194.28 41.7891 1194.28 49.9314 Q1194.28 58.0738 1197.72 62.7728 Q1201.2 67.4314 1207.24 67.4314 Q1213.19 67.4314 1216.68 62.7323 Q1220.16 58.0333 1220.16 49.9314 Q1220.16 41.8701 1216.68 37.1711 Q1213.19 32.4315 1207.24 32.4315 M1207.24 26.1121 Q1216.96 26.1121 1222.51 32.4315 Q1228.06 38.7509 1228.06 49.9314 Q1228.06 61.0714 1222.51 67.4314 Q1216.96 73.7508 1207.24 73.7508 Q1197.48 73.7508 1191.93 67.4314 Q1186.42 61.0714 1186.42 49.9314 Q1186.42 38.7509 1191.93 32.4315 Q1197.48 26.1121 1207.24 26.1121 Z\" fill=\"#000000\" fill-rule=\"nonzero\" fill-opacity=\"1\" /><path clip-path=\"url(#clip990)\" d=\"M1263.38 9.54393 L1263.38 15.7418 L1256.25 15.7418 Q1252.24 15.7418 1250.66 17.3622 Q1249.12 18.9825 1249.12 23.1955 L1249.12 27.2059 L1261.4 27.2059 L1261.4 32.9987 L1249.12 32.9987 L1249.12 72.576 L1241.63 72.576 L1241.63 32.9987 L1234.5 32.9987 L1234.5 27.2059 L1241.63 27.2059 L1241.63 24.0462 Q1241.63 16.471 1245.15 13.0277 Q1248.68 9.54393 1256.34 9.54393 L1263.38 9.54393 Z\" fill=\"#000000\" fill-rule=\"nonzero\" fill-opacity=\"1\" /><path clip-path=\"url(#clip990)\" d=\"M1322.28 34.1734 Q1321.03 33.4443 1319.53 33.1202 Q1318.07 32.7556 1316.29 32.7556 Q1309.97 32.7556 1306.57 36.8875 Q1303.2 40.9789 1303.2 48.6757 L1303.2 72.576 L1295.71 72.576 L1295.71 27.2059 L1303.2 27.2059 L1303.2 34.2544 Q1305.55 30.1225 1309.32 28.1376 Q1313.09 26.1121 1318.48 26.1121 Q1319.25 26.1121 1320.18 26.2337 Q1321.11 26.3147 1322.24 26.5172 L1322.28 34.1734 Z\" fill=\"#000000\" fill-rule=\"nonzero\" fill-opacity=\"1\" /><path clip-path=\"url(#clip990)\" d=\"M1367.09 48.0275 L1367.09 51.6733 L1332.82 51.6733 Q1333.3 59.3701 1337.43 63.421 Q1341.61 67.4314 1349.02 67.4314 Q1353.31 67.4314 1357.32 66.3781 Q1361.37 65.3249 1365.34 63.2184 L1365.34 70.267 Q1361.33 71.9684 1357.12 72.8596 Q1352.91 73.7508 1348.57 73.7508 Q1337.72 73.7508 1331.36 67.4314 Q1325.04 61.1119 1325.04 50.3365 Q1325.04 39.1965 1331.03 32.6746 Q1337.07 26.1121 1347.28 26.1121 Q1356.43 26.1121 1361.74 32.0264 Q1367.09 37.9003 1367.09 48.0275 M1359.63 45.84 Q1359.55 39.7232 1356.19 36.0774 Q1352.87 32.4315 1347.36 32.4315 Q1341.12 32.4315 1337.35 35.9558 Q1333.63 39.4801 1333.06 45.8805 L1359.63 45.84 Z\" fill=\"#000000\" fill-rule=\"nonzero\" fill-opacity=\"1\" /><path clip-path=\"url(#clip990)\" d=\"M1408.24 28.5427 L1408.24 35.5912 Q1405.08 33.9709 1401.68 33.1607 Q1398.28 32.3505 1394.63 32.3505 Q1389.08 32.3505 1386.29 34.0519 Q1383.53 35.7533 1383.53 39.156 Q1383.53 41.7486 1385.52 43.2475 Q1387.5 44.7058 1393.5 46.0426 L1396.05 46.6097 Q1403.99 48.3111 1407.31 51.4303 Q1410.67 54.509 1410.67 60.0587 Q1410.67 66.3781 1405.65 70.0644 Q1400.67 73.7508 1391.92 73.7508 Q1388.27 73.7508 1384.3 73.0216 Q1380.37 72.3329 1376 70.9151 L1376 63.2184 Q1380.13 65.3654 1384.14 66.4591 Q1388.15 67.5124 1392.08 67.5124 Q1397.35 67.5124 1400.18 65.73 Q1403.02 63.9071 1403.02 60.6258 Q1403.02 57.5877 1400.95 55.9673 Q1398.93 54.3469 1392 52.8481 L1389.41 52.2405 Q1382.48 50.7821 1379.4 47.7845 Q1376.32 44.7463 1376.32 39.4801 Q1376.32 33.0797 1380.86 29.5959 Q1385.4 26.1121 1393.74 26.1121 Q1397.87 26.1121 1401.52 26.7198 Q1405.17 27.3274 1408.24 28.5427 Z\" fill=\"#000000\" fill-rule=\"nonzero\" fill-opacity=\"1\" /><path clip-path=\"url(#clip990)\" d=\"M1422.54 27.2059 L1430 27.2059 L1430 72.576 L1422.54 72.576 L1422.54 27.2059 M1422.54 9.54393 L1430 9.54393 L1430 18.9825 L1422.54 18.9825 L1422.54 9.54393 Z\" fill=\"#000000\" fill-rule=\"nonzero\" fill-opacity=\"1\" /><path clip-path=\"url(#clip990)\" d=\"M1475.45 34.0924 L1475.45 9.54393 L1482.9 9.54393 L1482.9 72.576 L1475.45 72.576 L1475.45 65.7705 Q1473.1 69.8214 1469.49 71.8063 Q1465.93 73.7508 1460.91 73.7508 Q1452.68 73.7508 1447.5 67.1883 Q1442.35 60.6258 1442.35 49.9314 Q1442.35 39.2371 1447.5 32.6746 Q1452.68 26.1121 1460.91 26.1121 Q1465.93 26.1121 1469.49 28.0971 Q1473.1 30.0415 1475.45 34.0924 M1450.05 49.9314 Q1450.05 58.1548 1453.41 62.8538 Q1456.81 67.5124 1462.73 67.5124 Q1468.64 67.5124 1472.05 62.8538 Q1475.45 58.1548 1475.45 49.9314 Q1475.45 41.7081 1472.05 37.0496 Q1468.64 32.3505 1462.73 32.3505 Q1456.81 32.3505 1453.41 37.0496 Q1450.05 41.7081 1450.05 49.9314 Z\" fill=\"#000000\" fill-rule=\"nonzero\" fill-opacity=\"1\" /><path clip-path=\"url(#clip990)\" d=\"M1497.49 54.671 L1497.49 27.2059 L1504.94 27.2059 L1504.94 54.3874 Q1504.94 60.8284 1507.45 64.0691 Q1509.96 67.2693 1514.99 67.2693 Q1521.02 67.2693 1524.5 63.421 Q1528.03 59.5726 1528.03 52.9291 L1528.03 27.2059 L1535.48 27.2059 L1535.48 72.576 L1528.03 72.576 L1528.03 65.6084 Q1525.32 69.7404 1521.71 71.7658 Q1518.14 73.7508 1513.41 73.7508 Q1505.59 73.7508 1501.54 68.8897 Q1497.49 64.0286 1497.49 54.671 M1516.24 26.1121 L1516.24 26.1121 Z\" fill=\"#000000\" fill-rule=\"nonzero\" fill-opacity=\"1\" /><path clip-path=\"url(#clip990)\" d=\"M1571.45 49.7694 Q1562.42 49.7694 1558.94 51.8354 Q1555.45 53.9013 1555.45 58.8839 Q1555.45 62.8538 1558.05 65.2034 Q1560.68 67.5124 1565.18 67.5124 Q1571.37 67.5124 1575.1 63.1374 Q1578.87 58.7219 1578.87 51.4303 L1578.87 49.7694 L1571.45 49.7694 M1586.32 46.6907 L1586.32 72.576 L1578.87 72.576 L1578.87 65.6895 Q1576.32 69.8214 1572.51 71.8063 Q1568.7 73.7508 1563.19 73.7508 Q1556.22 73.7508 1552.09 69.8619 Q1548 65.9325 1548 59.3701 Q1548 51.7138 1553.1 47.825 Q1558.25 43.9361 1568.42 43.9361 L1578.87 43.9361 L1578.87 43.2069 Q1578.87 38.0623 1575.47 35.2672 Q1572.1 32.4315 1565.99 32.4315 Q1562.1 32.4315 1558.41 33.3632 Q1554.72 34.295 1551.32 36.1584 L1551.32 29.2718 Q1555.41 27.692 1559.26 26.9223 Q1563.11 26.1121 1566.76 26.1121 Q1576.6 26.1121 1581.46 31.2163 Q1586.32 36.3204 1586.32 46.6907 Z\" fill=\"#000000\" fill-rule=\"nonzero\" fill-opacity=\"1\" /><path clip-path=\"url(#clip990)\" d=\"M1601.67 9.54393 L1609.13 9.54393 L1609.13 72.576 L1601.67 72.576 L1601.67 9.54393 Z\" fill=\"#000000\" fill-rule=\"nonzero\" fill-opacity=\"1\" /><path clip-path=\"url(#clip990)\" d=\"M1653.65 28.5427 L1653.65 35.5912 Q1650.49 33.9709 1647.09 33.1607 Q1643.68 32.3505 1640.04 32.3505 Q1634.49 32.3505 1631.69 34.0519 Q1628.94 35.7533 1628.94 39.156 Q1628.94 41.7486 1630.92 43.2475 Q1632.91 44.7058 1638.9 46.0426 L1641.45 46.6097 Q1649.39 48.3111 1652.72 51.4303 Q1656.08 54.509 1656.08 60.0587 Q1656.08 66.3781 1651.06 70.0644 Q1646.07 73.7508 1637.32 73.7508 Q1633.68 73.7508 1629.71 73.0216 Q1625.78 72.3329 1621.4 70.9151 L1621.4 63.2184 Q1625.53 65.3654 1629.54 66.4591 Q1633.56 67.5124 1637.48 67.5124 Q1642.75 67.5124 1645.59 65.73 Q1648.42 63.9071 1648.42 60.6258 Q1648.42 57.5877 1646.36 55.9673 Q1644.33 54.3469 1637.4 52.8481 L1634.81 52.2405 Q1627.88 50.7821 1624.81 47.7845 Q1621.73 44.7463 1621.73 39.4801 Q1621.73 33.0797 1626.26 29.5959 Q1630.8 26.1121 1639.15 26.1121 Q1643.28 26.1121 1646.92 26.7198 Q1650.57 27.3274 1653.65 28.5427 Z\" fill=\"#000000\" fill-rule=\"nonzero\" fill-opacity=\"1\" /><polyline clip-path=\"url(#clip992)\" style=\"stroke:#6b9e32; stroke-linecap:round; stroke-linejoin:round; stroke-width:4; stroke-opacity:1; fill:none\" points=\"209.891,1305.98 2290.34,162.047 \"/>\n",
       "<circle clip-path=\"url(#clip992)\" cx=\"209.891\" cy=\"1447.87\" r=\"14.4\" fill=\"#009af9\" fill-rule=\"evenodd\" fill-opacity=\"1\" stroke=\"#000000\" stroke-opacity=\"1\" stroke-width=\"3.2\"/>\n",
       "<circle clip-path=\"url(#clip992)\" cx=\"388.873\" cy=\"1367.96\" r=\"14.4\" fill=\"#009af9\" fill-rule=\"evenodd\" fill-opacity=\"1\" stroke=\"#000000\" stroke-opacity=\"1\" stroke-width=\"3.2\"/>\n",
       "<circle clip-path=\"url(#clip992)\" cx=\"482.454\" cy=\"1266.84\" r=\"14.4\" fill=\"#009af9\" fill-rule=\"evenodd\" fill-opacity=\"1\" stroke=\"#000000\" stroke-opacity=\"1\" stroke-width=\"3.2\"/>\n",
       "<circle clip-path=\"url(#clip992)\" cx=\"548.858\" cy=\"1179.53\" r=\"14.4\" fill=\"#009af9\" fill-rule=\"evenodd\" fill-opacity=\"1\" stroke=\"#000000\" stroke-opacity=\"1\" stroke-width=\"3.2\"/>\n",
       "<circle clip-path=\"url(#clip992)\" cx=\"601.438\" cy=\"1098.69\" r=\"14.4\" fill=\"#009af9\" fill-rule=\"evenodd\" fill-opacity=\"1\" stroke=\"#000000\" stroke-opacity=\"1\" stroke-width=\"3.2\"/>\n",
       "<circle clip-path=\"url(#clip992)\" cx=\"645.553\" cy=\"1043.8\" r=\"14.4\" fill=\"#009af9\" fill-rule=\"evenodd\" fill-opacity=\"1\" stroke=\"#000000\" stroke-opacity=\"1\" stroke-width=\"3.2\"/>\n",
       "<circle clip-path=\"url(#clip992)\" cx=\"683.922\" cy=\"1007.03\" r=\"14.4\" fill=\"#009af9\" fill-rule=\"evenodd\" fill-opacity=\"1\" stroke=\"#000000\" stroke-opacity=\"1\" stroke-width=\"3.2\"/>\n",
       "<circle clip-path=\"url(#clip992)\" cx=\"718.123\" cy=\"974.404\" r=\"14.4\" fill=\"#009af9\" fill-rule=\"evenodd\" fill-opacity=\"1\" stroke=\"#000000\" stroke-opacity=\"1\" stroke-width=\"3.2\"/>\n",
       "<circle clip-path=\"url(#clip992)\" cx=\"749.158\" cy=\"948.005\" r=\"14.4\" fill=\"#009af9\" fill-rule=\"evenodd\" fill-opacity=\"1\" stroke=\"#000000\" stroke-opacity=\"1\" stroke-width=\"3.2\"/>\n",
       "<circle clip-path=\"url(#clip992)\" cx=\"777.706\" cy=\"944.649\" r=\"14.4\" fill=\"#009af9\" fill-rule=\"evenodd\" fill-opacity=\"1\" stroke=\"#000000\" stroke-opacity=\"1\" stroke-width=\"3.2\"/>\n",
       "<circle clip-path=\"url(#clip992)\" cx=\"804.25\" cy=\"933.746\" r=\"14.4\" fill=\"#009af9\" fill-rule=\"evenodd\" fill-opacity=\"1\" stroke=\"#000000\" stroke-opacity=\"1\" stroke-width=\"3.2\"/>\n",
       "<circle clip-path=\"url(#clip992)\" cx=\"829.143\" cy=\"914.068\" r=\"14.4\" fill=\"#009af9\" fill-rule=\"evenodd\" fill-opacity=\"1\" stroke=\"#000000\" stroke-opacity=\"1\" stroke-width=\"3.2\"/>\n",
       "<circle clip-path=\"url(#clip992)\" cx=\"852.656\" cy=\"894.089\" r=\"14.4\" fill=\"#009af9\" fill-rule=\"evenodd\" fill-opacity=\"1\" stroke=\"#000000\" stroke-opacity=\"1\" stroke-width=\"3.2\"/>\n",
       "<circle clip-path=\"url(#clip992)\" cx=\"875.001\" cy=\"893.966\" r=\"14.4\" fill=\"#009af9\" fill-rule=\"evenodd\" fill-opacity=\"1\" stroke=\"#000000\" stroke-opacity=\"1\" stroke-width=\"3.2\"/>\n",
       "<circle clip-path=\"url(#clip992)\" cx=\"896.344\" cy=\"887.761\" r=\"14.4\" fill=\"#009af9\" fill-rule=\"evenodd\" fill-opacity=\"1\" stroke=\"#000000\" stroke-opacity=\"1\" stroke-width=\"3.2\"/>\n",
       "<circle clip-path=\"url(#clip992)\" cx=\"916.821\" cy=\"869.944\" r=\"14.4\" fill=\"#009af9\" fill-rule=\"evenodd\" fill-opacity=\"1\" stroke=\"#000000\" stroke-opacity=\"1\" stroke-width=\"3.2\"/>\n",
       "<circle clip-path=\"url(#clip992)\" cx=\"936.545\" cy=\"859.462\" r=\"14.4\" fill=\"#009af9\" fill-rule=\"evenodd\" fill-opacity=\"1\" stroke=\"#000000\" stroke-opacity=\"1\" stroke-width=\"3.2\"/>\n",
       "<circle clip-path=\"url(#clip992)\" cx=\"955.61\" cy=\"857.474\" r=\"14.4\" fill=\"#009af9\" fill-rule=\"evenodd\" fill-opacity=\"1\" stroke=\"#000000\" stroke-opacity=\"1\" stroke-width=\"3.2\"/>\n",
       "<circle clip-path=\"url(#clip992)\" cx=\"974.093\" cy=\"855.543\" r=\"14.4\" fill=\"#009af9\" fill-rule=\"evenodd\" fill-opacity=\"1\" stroke=\"#000000\" stroke-opacity=\"1\" stroke-width=\"3.2\"/>\n",
       "<circle clip-path=\"url(#clip992)\" cx=\"992.063\" cy=\"842.058\" r=\"14.4\" fill=\"#009af9\" fill-rule=\"evenodd\" fill-opacity=\"1\" stroke=\"#000000\" stroke-opacity=\"1\" stroke-width=\"3.2\"/>\n",
       "<circle clip-path=\"url(#clip992)\" cx=\"1009.58\" cy=\"816.931\" r=\"14.4\" fill=\"#009af9\" fill-rule=\"evenodd\" fill-opacity=\"1\" stroke=\"#000000\" stroke-opacity=\"1\" stroke-width=\"3.2\"/>\n",
       "<circle clip-path=\"url(#clip992)\" cx=\"1026.69\" cy=\"813.225\" r=\"14.4\" fill=\"#009af9\" fill-rule=\"evenodd\" fill-opacity=\"1\" stroke=\"#000000\" stroke-opacity=\"1\" stroke-width=\"3.2\"/>\n",
       "<circle clip-path=\"url(#clip992)\" cx=\"1043.45\" cy=\"797.752\" r=\"14.4\" fill=\"#009af9\" fill-rule=\"evenodd\" fill-opacity=\"1\" stroke=\"#000000\" stroke-opacity=\"1\" stroke-width=\"3.2\"/>\n",
       "<circle clip-path=\"url(#clip992)\" cx=\"1059.88\" cy=\"788.766\" r=\"14.4\" fill=\"#009af9\" fill-rule=\"evenodd\" fill-opacity=\"1\" stroke=\"#000000\" stroke-opacity=\"1\" stroke-width=\"3.2\"/>\n",
       "<circle clip-path=\"url(#clip992)\" cx=\"1076.03\" cy=\"761.788\" r=\"14.4\" fill=\"#009af9\" fill-rule=\"evenodd\" fill-opacity=\"1\" stroke=\"#000000\" stroke-opacity=\"1\" stroke-width=\"3.2\"/>\n",
       "<circle clip-path=\"url(#clip992)\" cx=\"1091.94\" cy=\"759.918\" r=\"14.4\" fill=\"#009af9\" fill-rule=\"evenodd\" fill-opacity=\"1\" stroke=\"#000000\" stroke-opacity=\"1\" stroke-width=\"3.2\"/>\n",
       "<circle clip-path=\"url(#clip992)\" cx=\"1107.62\" cy=\"754.176\" r=\"14.4\" fill=\"#009af9\" fill-rule=\"evenodd\" fill-opacity=\"1\" stroke=\"#000000\" stroke-opacity=\"1\" stroke-width=\"3.2\"/>\n",
       "<circle clip-path=\"url(#clip992)\" cx=\"1123.11\" cy=\"746.206\" r=\"14.4\" fill=\"#009af9\" fill-rule=\"evenodd\" fill-opacity=\"1\" stroke=\"#000000\" stroke-opacity=\"1\" stroke-width=\"3.2\"/>\n",
       "<circle clip-path=\"url(#clip992)\" cx=\"1138.43\" cy=\"742.476\" r=\"14.4\" fill=\"#009af9\" fill-rule=\"evenodd\" fill-opacity=\"1\" stroke=\"#000000\" stroke-opacity=\"1\" stroke-width=\"3.2\"/>\n",
       "<circle clip-path=\"url(#clip992)\" cx=\"1153.6\" cy=\"741.319\" r=\"14.4\" fill=\"#009af9\" fill-rule=\"evenodd\" fill-opacity=\"1\" stroke=\"#000000\" stroke-opacity=\"1\" stroke-width=\"3.2\"/>\n",
       "<circle clip-path=\"url(#clip992)\" cx=\"1168.65\" cy=\"729.485\" r=\"14.4\" fill=\"#009af9\" fill-rule=\"evenodd\" fill-opacity=\"1\" stroke=\"#000000\" stroke-opacity=\"1\" stroke-width=\"3.2\"/>\n",
       "<circle clip-path=\"url(#clip992)\" cx=\"1183.6\" cy=\"726.733\" r=\"14.4\" fill=\"#009af9\" fill-rule=\"evenodd\" fill-opacity=\"1\" stroke=\"#000000\" stroke-opacity=\"1\" stroke-width=\"3.2\"/>\n",
       "<circle clip-path=\"url(#clip992)\" cx=\"1198.47\" cy=\"716.809\" r=\"14.4\" fill=\"#009af9\" fill-rule=\"evenodd\" fill-opacity=\"1\" stroke=\"#000000\" stroke-opacity=\"1\" stroke-width=\"3.2\"/>\n",
       "<circle clip-path=\"url(#clip992)\" cx=\"1213.27\" cy=\"716.299\" r=\"14.4\" fill=\"#009af9\" fill-rule=\"evenodd\" fill-opacity=\"1\" stroke=\"#000000\" stroke-opacity=\"1\" stroke-width=\"3.2\"/>\n",
       "<circle clip-path=\"url(#clip992)\" cx=\"1228.03\" cy=\"715.958\" r=\"14.4\" fill=\"#009af9\" fill-rule=\"evenodd\" fill-opacity=\"1\" stroke=\"#000000\" stroke-opacity=\"1\" stroke-width=\"3.2\"/>\n",
       "<circle clip-path=\"url(#clip992)\" cx=\"1242.76\" cy=\"699.925\" r=\"14.4\" fill=\"#009af9\" fill-rule=\"evenodd\" fill-opacity=\"1\" stroke=\"#000000\" stroke-opacity=\"1\" stroke-width=\"3.2\"/>\n",
       "<circle clip-path=\"url(#clip992)\" cx=\"1257.48\" cy=\"699.925\" r=\"14.4\" fill=\"#009af9\" fill-rule=\"evenodd\" fill-opacity=\"1\" stroke=\"#000000\" stroke-opacity=\"1\" stroke-width=\"3.2\"/>\n",
       "<circle clip-path=\"url(#clip992)\" cx=\"1272.21\" cy=\"696.53\" r=\"14.4\" fill=\"#009af9\" fill-rule=\"evenodd\" fill-opacity=\"1\" stroke=\"#000000\" stroke-opacity=\"1\" stroke-width=\"3.2\"/>\n",
       "<circle clip-path=\"url(#clip992)\" cx=\"1286.97\" cy=\"693.485\" r=\"14.4\" fill=\"#009af9\" fill-rule=\"evenodd\" fill-opacity=\"1\" stroke=\"#000000\" stroke-opacity=\"1\" stroke-width=\"3.2\"/>\n",
       "<circle clip-path=\"url(#clip992)\" cx=\"1301.77\" cy=\"689.442\" r=\"14.4\" fill=\"#009af9\" fill-rule=\"evenodd\" fill-opacity=\"1\" stroke=\"#000000\" stroke-opacity=\"1\" stroke-width=\"3.2\"/>\n",
       "<circle clip-path=\"url(#clip992)\" cx=\"1316.63\" cy=\"679.507\" r=\"14.4\" fill=\"#009af9\" fill-rule=\"evenodd\" fill-opacity=\"1\" stroke=\"#000000\" stroke-opacity=\"1\" stroke-width=\"3.2\"/>\n",
       "<circle clip-path=\"url(#clip992)\" cx=\"1331.58\" cy=\"668.394\" r=\"14.4\" fill=\"#009af9\" fill-rule=\"evenodd\" fill-opacity=\"1\" stroke=\"#000000\" stroke-opacity=\"1\" stroke-width=\"3.2\"/>\n",
       "<circle clip-path=\"url(#clip992)\" cx=\"1346.63\" cy=\"667.411\" r=\"14.4\" fill=\"#009af9\" fill-rule=\"evenodd\" fill-opacity=\"1\" stroke=\"#000000\" stroke-opacity=\"1\" stroke-width=\"3.2\"/>\n",
       "<circle clip-path=\"url(#clip992)\" cx=\"1361.81\" cy=\"667.399\" r=\"14.4\" fill=\"#009af9\" fill-rule=\"evenodd\" fill-opacity=\"1\" stroke=\"#000000\" stroke-opacity=\"1\" stroke-width=\"3.2\"/>\n",
       "<circle clip-path=\"url(#clip992)\" cx=\"1377.13\" cy=\"659.718\" r=\"14.4\" fill=\"#009af9\" fill-rule=\"evenodd\" fill-opacity=\"1\" stroke=\"#000000\" stroke-opacity=\"1\" stroke-width=\"3.2\"/>\n",
       "<circle clip-path=\"url(#clip992)\" cx=\"1392.62\" cy=\"655.202\" r=\"14.4\" fill=\"#009af9\" fill-rule=\"evenodd\" fill-opacity=\"1\" stroke=\"#000000\" stroke-opacity=\"1\" stroke-width=\"3.2\"/>\n",
       "<circle clip-path=\"url(#clip992)\" cx=\"1408.3\" cy=\"652.514\" r=\"14.4\" fill=\"#009af9\" fill-rule=\"evenodd\" fill-opacity=\"1\" stroke=\"#000000\" stroke-opacity=\"1\" stroke-width=\"3.2\"/>\n",
       "<circle clip-path=\"url(#clip992)\" cx=\"1424.2\" cy=\"650.847\" r=\"14.4\" fill=\"#009af9\" fill-rule=\"evenodd\" fill-opacity=\"1\" stroke=\"#000000\" stroke-opacity=\"1\" stroke-width=\"3.2\"/>\n",
       "<circle clip-path=\"url(#clip992)\" cx=\"1440.35\" cy=\"645.523\" r=\"14.4\" fill=\"#009af9\" fill-rule=\"evenodd\" fill-opacity=\"1\" stroke=\"#000000\" stroke-opacity=\"1\" stroke-width=\"3.2\"/>\n",
       "<circle clip-path=\"url(#clip992)\" cx=\"1456.79\" cy=\"633.103\" r=\"14.4\" fill=\"#009af9\" fill-rule=\"evenodd\" fill-opacity=\"1\" stroke=\"#000000\" stroke-opacity=\"1\" stroke-width=\"3.2\"/>\n",
       "<circle clip-path=\"url(#clip992)\" cx=\"1473.54\" cy=\"630.482\" r=\"14.4\" fill=\"#009af9\" fill-rule=\"evenodd\" fill-opacity=\"1\" stroke=\"#000000\" stroke-opacity=\"1\" stroke-width=\"3.2\"/>\n",
       "<circle clip-path=\"url(#clip992)\" cx=\"1490.65\" cy=\"630.482\" r=\"14.4\" fill=\"#009af9\" fill-rule=\"evenodd\" fill-opacity=\"1\" stroke=\"#000000\" stroke-opacity=\"1\" stroke-width=\"3.2\"/>\n",
       "<circle clip-path=\"url(#clip992)\" cx=\"1508.17\" cy=\"630.482\" r=\"14.4\" fill=\"#009af9\" fill-rule=\"evenodd\" fill-opacity=\"1\" stroke=\"#000000\" stroke-opacity=\"1\" stroke-width=\"3.2\"/>\n",
       "<circle clip-path=\"url(#clip992)\" cx=\"1526.14\" cy=\"630.482\" r=\"14.4\" fill=\"#009af9\" fill-rule=\"evenodd\" fill-opacity=\"1\" stroke=\"#000000\" stroke-opacity=\"1\" stroke-width=\"3.2\"/>\n",
       "<circle clip-path=\"url(#clip992)\" cx=\"1544.62\" cy=\"630.482\" r=\"14.4\" fill=\"#009af9\" fill-rule=\"evenodd\" fill-opacity=\"1\" stroke=\"#000000\" stroke-opacity=\"1\" stroke-width=\"3.2\"/>\n",
       "<circle clip-path=\"url(#clip992)\" cx=\"1563.69\" cy=\"624.475\" r=\"14.4\" fill=\"#009af9\" fill-rule=\"evenodd\" fill-opacity=\"1\" stroke=\"#000000\" stroke-opacity=\"1\" stroke-width=\"3.2\"/>\n",
       "<circle clip-path=\"url(#clip992)\" cx=\"1583.41\" cy=\"616.766\" r=\"14.4\" fill=\"#009af9\" fill-rule=\"evenodd\" fill-opacity=\"1\" stroke=\"#000000\" stroke-opacity=\"1\" stroke-width=\"3.2\"/>\n",
       "<circle clip-path=\"url(#clip992)\" cx=\"1603.89\" cy=\"579.664\" r=\"14.4\" fill=\"#009af9\" fill-rule=\"evenodd\" fill-opacity=\"1\" stroke=\"#000000\" stroke-opacity=\"1\" stroke-width=\"3.2\"/>\n",
       "<circle clip-path=\"url(#clip992)\" cx=\"1625.23\" cy=\"556.211\" r=\"14.4\" fill=\"#009af9\" fill-rule=\"evenodd\" fill-opacity=\"1\" stroke=\"#000000\" stroke-opacity=\"1\" stroke-width=\"3.2\"/>\n",
       "<circle clip-path=\"url(#clip992)\" cx=\"1647.58\" cy=\"550.431\" r=\"14.4\" fill=\"#009af9\" fill-rule=\"evenodd\" fill-opacity=\"1\" stroke=\"#000000\" stroke-opacity=\"1\" stroke-width=\"3.2\"/>\n",
       "<circle clip-path=\"url(#clip992)\" cx=\"1671.09\" cy=\"539.943\" r=\"14.4\" fill=\"#009af9\" fill-rule=\"evenodd\" fill-opacity=\"1\" stroke=\"#000000\" stroke-opacity=\"1\" stroke-width=\"3.2\"/>\n",
       "<circle clip-path=\"url(#clip992)\" cx=\"1695.98\" cy=\"535.003\" r=\"14.4\" fill=\"#009af9\" fill-rule=\"evenodd\" fill-opacity=\"1\" stroke=\"#000000\" stroke-opacity=\"1\" stroke-width=\"3.2\"/>\n",
       "<circle clip-path=\"url(#clip992)\" cx=\"1722.53\" cy=\"530.144\" r=\"14.4\" fill=\"#009af9\" fill-rule=\"evenodd\" fill-opacity=\"1\" stroke=\"#000000\" stroke-opacity=\"1\" stroke-width=\"3.2\"/>\n",
       "<circle clip-path=\"url(#clip992)\" cx=\"1751.08\" cy=\"517.42\" r=\"14.4\" fill=\"#009af9\" fill-rule=\"evenodd\" fill-opacity=\"1\" stroke=\"#000000\" stroke-opacity=\"1\" stroke-width=\"3.2\"/>\n",
       "<circle clip-path=\"url(#clip992)\" cx=\"1782.11\" cy=\"506.749\" r=\"14.4\" fill=\"#009af9\" fill-rule=\"evenodd\" fill-opacity=\"1\" stroke=\"#000000\" stroke-opacity=\"1\" stroke-width=\"3.2\"/>\n",
       "<circle clip-path=\"url(#clip992)\" cx=\"1816.31\" cy=\"464.764\" r=\"14.4\" fill=\"#009af9\" fill-rule=\"evenodd\" fill-opacity=\"1\" stroke=\"#000000\" stroke-opacity=\"1\" stroke-width=\"3.2\"/>\n",
       "<circle clip-path=\"url(#clip992)\" cx=\"1854.68\" cy=\"417.653\" r=\"14.4\" fill=\"#009af9\" fill-rule=\"evenodd\" fill-opacity=\"1\" stroke=\"#000000\" stroke-opacity=\"1\" stroke-width=\"3.2\"/>\n",
       "<circle clip-path=\"url(#clip992)\" cx=\"1898.8\" cy=\"384.701\" r=\"14.4\" fill=\"#009af9\" fill-rule=\"evenodd\" fill-opacity=\"1\" stroke=\"#000000\" stroke-opacity=\"1\" stroke-width=\"3.2\"/>\n",
       "<circle clip-path=\"url(#clip992)\" cx=\"1951.38\" cy=\"370.528\" r=\"14.4\" fill=\"#009af9\" fill-rule=\"evenodd\" fill-opacity=\"1\" stroke=\"#000000\" stroke-opacity=\"1\" stroke-width=\"3.2\"/>\n",
       "<circle clip-path=\"url(#clip992)\" cx=\"2017.78\" cy=\"341.989\" r=\"14.4\" fill=\"#009af9\" fill-rule=\"evenodd\" fill-opacity=\"1\" stroke=\"#000000\" stroke-opacity=\"1\" stroke-width=\"3.2\"/>\n",
       "<circle clip-path=\"url(#clip992)\" cx=\"2111.36\" cy=\"291.827\" r=\"14.4\" fill=\"#009af9\" fill-rule=\"evenodd\" fill-opacity=\"1\" stroke=\"#000000\" stroke-opacity=\"1\" stroke-width=\"3.2\"/>\n",
       "<circle clip-path=\"url(#clip992)\" cx=\"2290.34\" cy=\"262.992\" r=\"14.4\" fill=\"#009af9\" fill-rule=\"evenodd\" fill-opacity=\"1\" stroke=\"#000000\" stroke-opacity=\"1\" stroke-width=\"3.2\"/>\n",
       "</svg>\n"
      ]
     },
     "metadata": {},
     "output_type": "display_data"
    }
   ],
   "source": [
    "qq = qqnorm(residuals, title=\"QQ plot of residuals\")\n",
    "\n",
    "h = histogram(residuals, title=\"Histogram of residuals\", xlabel=\"Residuals\", ylabel=\"Frequency\")\n",
    "\n",
    "display(h)\n",
    "display(qq)"
   ]
  },
  {
   "cell_type": "markdown",
   "metadata": {},
   "source": [
    "Avant d'explorer d'autres techniques de régression, nous avons décidé de tester différents modèles pour voir si la sélection sur la base du coefficient de détermination $R^2_{ajusté}$  et du RMSE était cohérente. Pour ce faire, nous avons commencé par créer une matrice de structure ainsi qu'une matrice de réponse pour les données d'entraînement et de validation. "
   ]
  },
  {
   "cell_type": "code",
   "execution_count": 94,
   "metadata": {},
   "outputs": [
    {
     "data": {
      "text/plain": [
       "150×22 Matrix{Float64}:\n",
       " 2014.0  1.38629  0.916291  1.0  0.0  …  0.0  0.0  0.0  0.0  0.0  0.0  1.0\n",
       " 2014.0  1.38629  0.916291  1.0  0.0     0.0  0.0  0.0  0.0  0.0  1.0  0.0\n",
       " 2014.0  1.38629  0.916291  1.0  0.0     0.0  0.0  0.0  0.0  0.0  1.0  0.0\n",
       " 2014.0  1.38629  0.693147  1.0  0.0     0.0  0.0  0.0  0.0  0.0  1.0  0.0\n",
       " 2014.0  2.07944  1.75786   0.0  1.0     0.0  0.0  0.0  0.0  0.0  0.0  1.0\n",
       " 2014.0  2.07944  1.60944   0.0  1.0  …  0.0  0.0  0.0  0.0  0.0  1.0  0.0\n",
       " 2014.0  2.07944  1.60944   0.0  1.0     0.0  0.0  0.0  0.0  0.0  0.0  1.0\n",
       " 2014.0  1.38629  0.875469  1.0  0.0     0.0  0.0  0.0  0.0  0.0  1.0  0.0\n",
       " 2014.0  1.79176  1.25276   1.0  0.0     0.0  0.0  0.0  0.0  0.0  1.0  0.0\n",
       " 2014.0  2.30259  1.64866   0.0  0.0     1.0  0.0  0.0  0.0  0.0  0.0  1.0\n",
       "    ⋮                                 ⋱  ⋮                        ⋮    \n",
       " 2024.0  1.38629  0.693147  1.0  0.0     0.0  0.0  0.0  0.0  0.0  1.0  0.0\n",
       " 2024.0  1.38629  0.693147  1.0  0.0     0.0  0.0  0.0  0.0  0.0  1.0  0.0\n",
       " 2024.0  1.38629  0.470004  1.0  0.0     0.0  0.0  0.0  0.0  0.0  1.0  0.0\n",
       " 2024.0  1.38629  0.693147  0.0  1.0     0.0  0.0  0.0  0.0  0.0  1.0  0.0\n",
       " 2024.0  1.38629  0.693147  0.0  1.0  …  0.0  0.0  0.0  0.0  0.0  1.0  0.0\n",
       " 2024.0  1.79176  1.09861   0.0  1.0     0.0  0.0  0.0  0.0  0.0  0.0  1.0\n",
       " 2024.0  1.79176  1.09861   0.0  1.0     0.0  0.0  0.0  0.0  0.0  1.0  0.0\n",
       " 2024.0  1.09861  0.405465  0.0  1.0     0.0  0.0  0.0  0.0  0.0  0.0  1.0\n",
       " 2024.0  1.38629  0.693147  0.0  1.0     0.0  0.0  0.0  0.0  0.0  1.0  0.0"
      ]
     },
     "metadata": {},
     "output_type": "display_data"
    }
   ],
   "source": [
    "# Define the feature matrix and target vector\n",
    "X_train = Matrix(train[:, Not([:consommation])])\n",
    "y_train = Vector(train.consommation)\n",
    "X_valid = Matrix(valid[:, Not([:consommation])])\n",
    "y_valid = Vector(valid.consommation)\n",
    "X_test = Matrix(test)"
   ]
  },
  {
   "cell_type": "markdown",
   "metadata": {},
   "source": [
    "Dans cette cellule, nous énumérons les différentes formules allant de très simple à très complexe en terme de nombre de variable explicative et de relation pour prédire la consommation. Ceci est le résultat de différentes analyses et tests que nous avons effectués pour déterminer la meilleure formule pour prédire la consommation d'essence. Bien que cette liste ne soit pas exhaustive, elle nous permet de comparer les performances des différents modèles et de choisir celui qui est le plus performant."
   ]
  },
  {
   "cell_type": "code",
   "execution_count": 97,
   "metadata": {},
   "outputs": [
    {
     "data": {
      "text/plain": [
       "38-element Vector{FormulaTerm{Term}}:\n",
       " consommation ~ nombre_cylindres\n",
       " consommation ~ cylindree\n",
       " consommation ~ cylindree + nombre_cylindres\n",
       " consommation ~ cylindree + boite_automatique\n",
       " consommation ~ cylindree + boite_manuelle\n",
       " consommation ~ cylindree + transmission_integrale\n",
       " consommation ~ transmission_integrale + transmission_traction\n",
       " consommation ~ transmission_integrale + nombre_cylindres\n",
       " consommation ~ transmission_integrale + transmission_traction + cylindree\n",
       " consommation ~ transmission_integrale + cylindree\n",
       " ⋮\n",
       " consommation ~ transmission_traction + cylindree + boite_manuelle\n",
       " consommation ~ transmission_integrale + cylindree + boite_manuelle\n",
       " consommation ~ transmission_traction + cylindree + boite_automatique\n",
       " consommation ~ transmission_traction + cylindree + type_voiture_moyenne + type_VUS_petit + type_voiture_compacte + type_voiture_deux_places + type_voiture_minicompacte + type_VUS_standard + type_voiture_sous_compacte + type_break_petit + type_voiture_grande + type_camionnette_standard + transmission_integrale + boite_manuelle\n",
       " consommation ~ transmission_traction + cylindree + type_voiture_moyenne + type_VUS_petit + type_voiture_compacte + type_voiture_deux_places + type_voiture_minicompacte + type_VUS_standard + type_voiture_sous_compacte + type_break_petit + type_voiture_grande + type_camionnette_standard + transmission_integrale + boite_automatique\n",
       " consommation ~ cylindree + type_voiture_moyenne + type_VUS_petit + type_voiture_compacte + type_voiture_deux_places + type_voiture_minicompacte + type_VUS_standard + type_voiture_sous_compacte + type_break_petit + type_voiture_grande + type_camionnette_standard + transmission_integrale + transmission_traction + boite_manuelle\n",
       " consommation ~ cylindree + type_voiture_moyenne + type_VUS_petit + type_voiture_compacte + type_voiture_deux_places + type_voiture_minicompacte + type_VUS_standard + type_voiture_sous_compacte + type_break_petit + type_voiture_grande + type_camionnette_standard + transmission_integrale + transmission_traction + boite_automatique\n",
       " consommation ~ transmission_integrale + transmission_traction + cylindree + type_voiture_moyenne + type_VUS_petit + type_voiture_compacte + type_voiture_deux_places + type_voiture_minicompacte + type_VUS_standard + type_voiture_sous_compacte + type_break_petit + type_voiture_grande + type_camionnette_standard\n",
       " consommation ~ cylindree + type_voiture_moyenne + type_VUS_petit + type_voiture_compacte + type_voiture_deux_places + type_voiture_minicompacte + type_VUS_standard + type_voiture_sous_compacte + type_break_petit + type_voiture_grande + type_camionnette_standard"
      ]
     },
     "metadata": {},
     "output_type": "display_data"
    }
   ],
   "source": [
    "models_formulas = [\n",
    "    @formula(consommation ~ nombre_cylindres),\n",
    "    @formula(consommation ~ cylindree),\n",
    "    @formula(consommation ~ cylindree + nombre_cylindres),\n",
    "    @formula(consommation ~ cylindree + boite_automatique),\n",
    "    @formula(consommation ~ cylindree + boite_manuelle),\n",
    "    @formula(consommation ~ cylindree + transmission_integrale),\n",
    "    @formula(consommation ~ transmission_integrale + transmission_traction),\n",
    "    @formula(consommation ~ transmission_integrale + nombre_cylindres),\n",
    "    @formula(consommation ~ transmission_integrale + transmission_traction + cylindree),\n",
    "    @formula(consommation ~ transmission_integrale + cylindree),\n",
    "    @formula(consommation ~ transmission_integrale + cylindree),\n",
    "    @formula(consommation ~ transmission_integrale + cylindree + nombre_cylindres),\n",
    "    @formula(consommation ~ transmission_traction + cylindree + nombre_cylindres),\n",
    "    @formula(consommation ~ transmission_integrale + cylindree + nombre_cylindres + boite_automatique),\n",
    "    @formula(consommation ~ transmission_traction + cylindree + nombre_cylindres + boite_manuelle),\n",
    "    @formula(consommation ~ transmission_integrale + transmission_traction + cylindree + nombre_cylindres + boite_automatique),\n",
    "    @formula(consommation ~ transmission_traction + transmission_integrale + cylindree + nombre_cylindres + boite_manuelle),\n",
    "    @formula(consommation ~ transmission_traction + categorie_vehicule_petits_véhicules + categorie_vehicule_véhicules_moyens + cylindree),\n",
    "    @formula(consommation ~ transmission_integrale + categorie_vehicule_petits_véhicules + categorie_vehicule_grands_véhicules + categorie_vehicule_véhicules_moyens + boite_automatique + cylindree),\n",
    "    @formula(consommation ~ transmission_integrale + categorie_vehicule_petits_véhicules + categorie_vehicule_grands_véhicules + categorie_vehicule_véhicules_moyens + boite_manuelle + cylindree),\n",
    "    @formula(consommation ~ transmission_integrale + transmission_traction + categorie_vehicule_petits_véhicules + categorie_vehicule_grands_véhicules + categorie_vehicule_véhicules_moyens + cylindree),\n",
    "    @formula(consommation ~ transmission_integrale + transmission_traction + categorie_vehicule_petits_véhicules + categorie_vehicule_grands_véhicules + categorie_vehicule_véhicules_moyens + cylindree + boite_automatique + boite_manuelle),\n",
    "    @formula(consommation ~ transmission_integrale + transmission_traction + categorie_vehicule_petits_véhicules + categorie_vehicule_grands_véhicules + categorie_vehicule_véhicules_moyens + cylindree + boite_automatique),\n",
    "    @formula(consommation ~ transmission_integrale + transmission_traction + categorie_vehicule_petits_véhicules + categorie_vehicule_grands_véhicules + categorie_vehicule_véhicules_moyens + cylindree + boite_manuelle),\n",
    "    @formula(consommation ~ categorie_vehicule_petits_véhicules + categorie_vehicule_véhicules_moyens + categorie_vehicule_grands_véhicules + transmission_traction + cylindree + boite_automatique),   \n",
    "    @formula(consommation ~ categorie_vehicule_petits_véhicules + categorie_vehicule_véhicules_moyens + categorie_vehicule_grands_véhicules + transmission_traction + cylindree + boite_manuelle + boite_automatique),\n",
    "    @formula(consommation ~ categorie_vehicule_petits_véhicules + categorie_vehicule_véhicules_moyens + categorie_vehicule_grands_véhicules + transmission_traction + cylindree + boite_manuelle ),\n",
    "    @formula(consommation ~ transmission_traction + categorie_vehicule_petits_véhicules + categorie_vehicule_véhicules_moyens + cylindree),\n",
    "    @formula(consommation ~ transmission_traction  + cylindree + boite_automatique),\n",
    "    @formula(consommation ~ transmission_traction  + cylindree + boite_manuelle),\n",
    "    @formula(consommation ~ transmission_integrale + cylindree + boite_manuelle),\n",
    "    @formula(consommation ~ transmission_traction + cylindree + boite_automatique),\n",
    "    @formula(consommation ~ transmission_traction + cylindree + type_voiture_moyenne + type_VUS_petit + type_voiture_compacte + type_voiture_deux_places + type_voiture_minicompacte + type_VUS_standard + type_voiture_sous_compacte + type_break_petit + type_voiture_grande + type_camionnette_standard + transmission_integrale + boite_manuelle),\n",
    "    @formula(consommation ~ transmission_traction + cylindree + type_voiture_moyenne + type_VUS_petit + type_voiture_compacte + type_voiture_deux_places + type_voiture_minicompacte + type_VUS_standard + type_voiture_sous_compacte + type_break_petit + type_voiture_grande + type_camionnette_standard + transmission_integrale + boite_automatique),\n",
    "    @formula(consommation ~ cylindree +  type_voiture_moyenne + type_VUS_petit + type_voiture_compacte + type_voiture_deux_places + type_voiture_minicompacte + type_VUS_standard + type_voiture_sous_compacte + type_break_petit + type_voiture_grande + type_camionnette_standard + transmission_integrale + transmission_traction + boite_manuelle),\n",
    "    @formula(consommation ~ cylindree +  type_voiture_moyenne + type_VUS_petit + type_voiture_compacte + type_voiture_deux_places + type_voiture_minicompacte + type_VUS_standard + type_voiture_sous_compacte + type_break_petit + type_voiture_grande + type_camionnette_standard + transmission_integrale + transmission_traction + boite_automatique),\n",
    "    @formula(consommation ~ transmission_integrale + transmission_traction + cylindree + type_voiture_moyenne + type_VUS_petit + type_voiture_compacte + type_voiture_deux_places + type_voiture_minicompacte + type_VUS_standard + type_voiture_sous_compacte + type_break_petit + type_voiture_grande + type_camionnette_standard),\n",
    "    @formula(consommation ~ cylindree + type_voiture_moyenne + type_VUS_petit + type_voiture_compacte + type_voiture_deux_places + type_voiture_minicompacte + type_VUS_standard + type_voiture_sous_compacte + type_break_petit + type_voiture_grande + type_camionnette_standard)\n",
    "    ]"
   ]
  },
  {
   "cell_type": "markdown",
   "metadata": {},
   "source": [
    "C'est alors ici, que nous comparons les modèles avec les critères $R^2_{ajusté}$, RMSE et BIC. L'idée était d'étudier si les différents critères étaient cohérents entre eux et de choisir le modèle qui performait le mieux selon ces critères. Dans ce cas, nous voulions maximiser le $R^2_{ajusté}$ et le BIC et minimiser le RMSE. Selon nos le $R^2_{ajusté}$ et le RMSE, le modèle regroupant transmission_integrale, transmission_traction, categorie_vehicule_petits_véhicules, categorie_vehicule_grands_véhicules, categorie_vehicule_véhicules_moyens et cylindree performe le mieux. Par contre, selon le BIC le modèle regroupant transmission_integrale, cylindree, nombre_cylindres et boite_automatique est le plus performant, mais le RMSE associé est plus élevé. Évidemment, avec le BIC, on pénalise sévèrement les modèles avec trop de paramètres pour éviter le sur-ajustement, et on privilégie les variables explicatives les plus importantes. En revanche, le critère de rmse ne pénalise pas la quantité de variables explicatives, et le $R^2_{ajusté}$ serait un compromis. Le fait que le choix de modèle selon le $R^2_{ajusté}$ soit le même que selon le RMSE nous pousse à choisir le modèle regroupant transmission_integrale, transmission_traction, categorie_vehicule_petits_véhicules, categorie_vehicule_grands_véhicules, categorie_vehicule_véhicules_moyens et cylindree."
   ]
  },
  {
   "cell_type": "code",
   "execution_count": 98,
   "metadata": {},
   "outputs": [
    {
     "name": "stdout",
     "output_type": "stream",
     "text": [
      "\n",
      "-------------------------------------\n",
      "Best model by Raj: consommation ~ transmission_integrale + transmission_traction + categorie_vehicule_petits_véhicules + categorie_vehicule_grands_véhicules + categorie_vehicule_véhicules_moyens + cylindree\n",
      "Best Raj: 0.746320430590865\n",
      "Best model by RMSE: consommation ~ transmission_integrale + transmission_traction + categorie_vehicule_petits_véhicules + categorie_vehicule_grands_véhicules + categorie_vehicule_véhicules_moyens + cylindree\n",
      "Best RMSE: 0.8287139392584507\n",
      "Best model by BIC: consommation ~ transmission_integrale + cylindree + nombre_cylindres + boite_automatique\n",
      "Best BIC: -399.4918848658553\n",
      "RMSE for the best BIC: 0.9509088378121013\n",
      "-------------------------------------\n"
     ]
    }
   ],
   "source": [
    "best_rajs= -Inf\n",
    "best_rmse = Inf\n",
    "best_bic = -Inf\n",
    "bic_rmse = Inf\n",
    "best_model_by_raj = nothing\n",
    "best_model_by_rmse = nothing\n",
    "best_model_by_bic = nothing\n",
    "\n",
    "for formula in models_formulas\n",
    "    model = lm(formula, train)\n",
    "    ŷ = GLM.predict(model, valid)\n",
    "    local raj_valid = compute_raj(X_valid, y_valid, ŷ)\n",
    "    local bic_valid = compute_bic(X_valid, model)\n",
    "    local rmse_valid = sqrt(mean((ŷ .- y_valid).^2))\n",
    "\n",
    "    global best_rmse, best_rajs, best_model_by_rmse, best_model_by_raj, best_bic, best_model_by_bic, bic_rmse\n",
    "    if rmse_valid < best_rmse\n",
    "        best_rmse = rmse_valid\n",
    "        best_model_by_rmse = formula\n",
    "    end\n",
    "\n",
    "    if bic_valid > best_bic\n",
    "        best_bic = bic_valid\n",
    "        best_model_by_bic = formula\n",
    "        bic_rmse = rmse_valid\n",
    "    end\n",
    "\n",
    "    if raj_valid > best_rajs\n",
    "        best_rajs = raj_valid\n",
    "        best_model_by_raj = formula\n",
    "    end\n",
    "end\n",
    "\n",
    "println(\"\\n-------------------------------------\")\n",
    "println(\"Best model by Raj: \", best_model_by_raj)\n",
    "println(\"Best Raj: \", best_rajs)\n",
    "\n",
    "println(\"Best model by RMSE: \", best_model_by_rmse)\n",
    "println(\"Best RMSE: \", best_rmse)\n",
    "\n",
    "println(\"Best model by BIC: \", best_model_by_bic)\n",
    "println(\"Best BIC: \", best_bic)\n",
    "println(\"RMSE for the best BIC: \", bic_rmse)\n",
    "println(\"-------------------------------------\")"
   ]
  },
  {
   "cell_type": "code",
   "execution_count": null,
   "metadata": {},
   "outputs": [],
   "source": [
    "ŷ_test = GLM.predict(lm(best_model_by_rmse, train), test)\n",
    "\n",
    "n_test = size(ŷ_test, 1)\n",
    "id = 1:n_test\n",
    "df_pred = DataFrame(id=id, consommation=ŷ_test)\n",
    "\n",
    "name = string(best_rmse) * \".csv\"\n",
    "CSV.write(\"../submissions/linear/\" * name, df_pred)\n",
    "println(\"Predictions exported successfully to \" * name * \".\")"
   ]
  },
  {
   "cell_type": "markdown",
   "metadata": {},
   "source": [
    "## 5. Régression bayesienne"
   ]
  },
  {
   "cell_type": "code",
   "execution_count": null,
   "metadata": {},
   "outputs": [],
   "source": []
  },
  {
   "cell_type": "code",
   "execution_count": null,
   "metadata": {},
   "outputs": [],
   "source": [
    "# Datasets that contain 'consommation'\n",
    "datasets_with_consommation = [train, valid]\n",
    "\n",
    "# Datasets without 'consommation'\n",
    "datasets_without_consommation = [test]\n",
    "\n",
    "# Apply replacements to 'cylindree' in all datasets\n",
    "for df in [train, valid, test]\n",
    "    df.cylindree = replace.(df.cylindree, \",\" => \".\")\n",
    "end\n",
    "\n",
    "# Apply replacements to 'consommation' only in datasets that have it\n",
    "for df in datasets_with_consommation\n",
    "    df.consommation = replace.(df.consommation, \",\" => \".\")\n",
    "end\n",
    "\n",
    "# Convert 'cylindree' to float in all datasets\n",
    "for df in [train, valid, test]\n",
    "    df.cylindree = safe_parse_float.(df.cylindree)\n",
    "end\n",
    "\n",
    "# Convert 'consommation' to float in datasets with 'consommation'\n",
    "for df in datasets_with_consommation\n",
    "    df.consommation = safe_parse_float.(df.consommation)\n",
    "end\n",
    "\n",
    "# Drop missing values in all datasets\n",
    "for df in [train, valid, test]\n",
    "    dropmissing!(df)\n",
    "end\n",
    "\n",
    "# # Encode 'boite' column in all datasets\n",
    "# for df in [train, valid, test]\n",
    "#     df.boite = ifelse.(df.boite .== \"automatique\", 1.0, 0.0)\n",
    "# end\n"
   ]
  },
  {
   "cell_type": "code",
   "execution_count": null,
   "metadata": {},
   "outputs": [],
   "source": [
    "# Define categorical columns\n",
    "categorical_cols = [:type, :transmission, :boite]\n",
    "\n",
    "# Collect unique levels from the training set\n",
    "levels_dict = Dict()\n",
    "for col in categorical_cols\n",
    "    levels_dict[col] = unique(train[!, col])\n",
    "end\n",
    "\n",
    "train = one_hot_encode(train, categorical_cols, levels_dict)\n",
    "valid = one_hot_encode(valid, categorical_cols, levels_dict)\n",
    "test = one_hot_encode(test, categorical_cols, levels_dict)"
   ]
  },
  {
   "cell_type": "code",
   "execution_count": null,
   "metadata": {},
   "outputs": [],
   "source": [
    "y_train = train.consommation\n",
    "X_train = select(train, Not(:consommation))\n",
    "y_valid = valid.consommation\n",
    "X_valid = select(valid, Not(:consommation))\n",
    "X_test = deepcopy(test)\n"
   ]
  },
  {
   "cell_type": "code",
   "execution_count": null,
   "metadata": {},
   "outputs": [],
   "source": [
    "# Identify numeric feature indices\n",
    "feature_names = names(train)\n",
    "numeric_features = [ :cylindree, :nombre_cylindres, :age]\n",
    "numeric_indices = findall(x -> x in numeric_features, feature_names)\n",
    "\n",
    "means = mean(Matrix(X_train[:, numeric_features]), dims=1)\n",
    "stds = std(Matrix(X_train[:, numeric_features]), dims=1)"
   ]
  },
  {
   "cell_type": "code",
   "execution_count": null,
   "metadata": {},
   "outputs": [],
   "source": [
    "function standardizer(X, means, stds)\n",
    "    X = deepcopy(X)\n",
    "    for j in 1:size(X, 2)\n",
    "        if j in numeric_indices\n",
    "            X[:, j] = (X[:, j] .- means[j]) ./ stds[j]\n",
    "        end\n",
    "    end\n",
    "    return X\n",
    "end"
   ]
  },
  {
   "cell_type": "code",
   "execution_count": null,
   "metadata": {},
   "outputs": [],
   "source": [
    "X_train = standardizer(Matrix(X_train), means, stds)\n",
    "X_valid = standardizer(Matrix(X_valid), means, stds)\n",
    "X_test = standardizer(Matrix(X_test), means, stds)\n",
    "\n",
    "y_train = Vector(y_train)\n",
    "y_valid = Vector(y_valid)"
   ]
  },
  {
   "cell_type": "code",
   "execution_count": null,
   "metadata": {},
   "outputs": [],
   "source": [
    "# Ridge regression with cross-validation\n",
    "XtX = X_train' * X_train\n",
    "Xty = X_train' * y_train\n",
    "n_features = size(X_train, 2)"
   ]
  },
  {
   "cell_type": "code",
   "execution_count": null,
   "metadata": {},
   "outputs": [],
   "source": [
    "describe(valid)"
   ]
  },
  {
   "cell_type": "code",
   "execution_count": null,
   "metadata": {},
   "outputs": [],
   "source": [
    "lambda_values = 10 .^ range(-5, stop=5, length=1000)\n",
    "best_rmse = Inf\n",
    "best_lambda = 0.0\n",
    "best_beta = nothing\n",
    "\n",
    "\n",
    "for λ in lambda_values\n",
    "    beta = (XtX + λ * I) \\ Xty\n",
    "    y_pred_valid = X_valid * beta\n",
    "    rmse = sqrt(mean((y_pred_valid - y_valid).^2))\n",
    "    if rmse < best_rmse\n",
    "        best_rmse = rmse\n",
    "        best_lambda = λ\n",
    "        best_beta = beta\n",
    "    end\n",
    "end\n",
    "\n",
    "println(\"Best Lambda: \", best_lambda)\n",
    "println(\"Best RMSE: \", best_rmse)"
   ]
  },
  {
   "cell_type": "code",
   "execution_count": null,
   "metadata": {},
   "outputs": [],
   "source": [
    "# # Evaluation on validation set\n",
    "y_valid_pred = X_valid * best_beta\n",
    "rmse_valid = sqrt(mean((y_valid_pred - y_valid).^2))\n",
    "println(\"Validation RMSE: \", rmse_valid)\n",
    "\n",
    "# Predictions on test set\n",
    "y_test_pred = X_test * best_beta\n",
    "\n",
    "# Prepare submission DataFrame\n",
    "n_test = size(y_test_pred, 1)\n",
    "id = 1:n_test\n",
    "df_pred = DataFrame(id=id, consommation=y_test_pred)\n",
    "\n",
    "name = \"ridge\" * string(rmse_valid) * \".csv\"\n",
    "CSV.write(\"../submissions/bayes/\" * name, df_pred)\n",
    "println(\"Predictions exported successfully to \" * name*\".\")"
   ]
  },
  {
   "cell_type": "markdown",
   "metadata": {},
   "source": [
    "## 6. Validation par k-fold cross-validation"
   ]
  },
  {
   "cell_type": "code",
   "execution_count": null,
   "metadata": {},
   "outputs": [],
   "source": [
    "data_k_folds = vcat(train, valid)\n",
    "y = data_k_folds.consommation\n",
    "X = select(data_k_folds, Not(:consommation))\n",
    "\n",
    "n = nrow(data_k_folds)\n",
    "k = 5  \n",
    "fold_size = n ÷ k\n",
    "\n",
    "indices = randperm(n)\n",
    "\n",
    "rms_scores = []\n",
    "\n",
    "for i in 0:(k-1)\n",
    "    test_indices = indices[(i*fold_size + 1):min((i+1)*fold_size, n)]\n",
    "    train_indices = setdiff(indices, test_indices)\n",
    "    \n",
    "    train_data = data_k_folds[train_indices, :]\n",
    "    test_data = data_k_folds[test_indices, :]\n",
    "    \n",
    "    model = lm(@formula(consommation ~ age  + transmission_integrale + transmission_propulsion + transmission_traction + transmission_4x4 + cylindree), data_k_folds)\n",
    " \n",
    "    \n",
    "    valid_prediction = GLM.predict(model, test_data)\n",
    "    \n",
    "    mean_prediction = mean(skipmissing(valid_prediction))\n",
    "    valid_prediction = coalesce.(valid_prediction, mean_prediction)\n",
    "    \n",
    "    if any(ismissing, valid_prediction)\n",
    "        error(\"Skip les valeur missing\")\n",
    "    end\n",
    "    \n",
    "    v = max.(valid_prediction, 0) \n",
    "    \n",
    "    score = sqrt(mean((v - test_data.consommation).^2))\n",
    "    push!(rms_scores, score)\n",
    "end\n",
    "\n",
    "moyenne_rmse = mean(rms_scores)\n",
    "println(\"Moyenne RMSE : $moyenne_rmse\")"
   ]
  },
  {
   "cell_type": "markdown",
   "metadata": {},
   "source": [
    "# Ajouter à la section type de véhicules pour justifier que les catégories sont relevant"
   ]
  },
  {
   "cell_type": "code",
   "execution_count": null,
   "metadata": {},
   "outputs": [],
   "source": [
    "using Pkg\n",
    "Pkg.add(\"HypothesisTests\")\n",
    "\n",
    "using StatsModels, GLM, HypothesisTests\n",
    "\n",
    "# Ajuster le modèle complet\n",
    "model_full = lm(@formula(consommation ~ categorie_vehicule), train)\n",
    "\n",
    "# Ajuster le modèle réduit\n",
    "model_reduced = lm(@formula(consommation ~ 1), train)\n",
    "\n",
    "# Effectuer le test F\n",
    "ftest_result = ftest(model_full.model, model_reduced.model)\n",
    "println(ftest_result)"
   ]
  },
  {
   "cell_type": "markdown",
   "metadata": {},
   "source": [
    "## 7. Régression par l'approche des composantes principales"
   ]
  },
  {
   "cell_type": "markdown",
   "metadata": {},
   "source": [
    "###### TODO CONCLUSION"
   ]
  },
  {
   "cell_type": "code",
   "execution_count": null,
   "metadata": {},
   "outputs": [],
   "source": [
    "using CSV, DataFrames, Statistics, Dates, Gadfly, Combinatorics, Plots, StatsBase, StatsPlots, Random, StatsModels, GLM, LinearAlgebra, MultivariateStats, Distributions\n",
    "\n",
    "full_train = CSV.read(\"../data/raw/train.csv\", DataFrame; delim=\";\")\n",
    "test =  CSV.read(\"../data/raw/test.csv\", DataFrame; delim=\";\")\n",
    "\n",
    "Random.seed!(1234)\n",
    "\n",
    "ntrain = round(Int, .8*nrow(full_train)) #80% des données pour l'entrainement: 80% * nb de lignes\n",
    "\n",
    "train_id = sample(1:nrow(full_train), ntrain, replace=false, ordered=true) #échantillonnage aléatoire pour l'entrainement\n",
    "valid_id = setdiff(1:nrow(full_train), train_id) #échantillon de validation. prend celles qui ne sont pas dans l'échantillon d'entrainement\n",
    "\n",
    "train = full_train[train_id, :]  \n",
    "valid = full_train[valid_id, :]\n",
    "\n",
    "train = dropmissing(train)\n",
    "valid = dropmissing(valid)\n",
    "test = dropmissing(test)"
   ]
  },
  {
   "cell_type": "code",
   "execution_count": null,
   "metadata": {},
   "outputs": [],
   "source": [
    "datasets_with_consommation = [train, valid]\n",
    "\n",
    "datasets_without_consommation = [test]\n",
    "\n",
    "for df in [train, valid, test]\n",
    "    df.cylindree = replace.(df.cylindree, \",\" => \".\")\n",
    "end\n",
    "\n",
    "for df in datasets_with_consommation\n",
    "    df.consommation = replace.(df.consommation, \",\" => \".\")\n",
    "end\n",
    "\n",
    "for df in [train, valid, test]\n",
    "    df.cylindree = safe_parse_float.(df.cylindree)\n",
    "end\n",
    "\n",
    "for df in datasets_with_consommation\n",
    "    df.consommation = safe_parse_float.(df.consommation)\n",
    "end\n",
    "\n",
    "for df in [train, valid, test]\n",
    "    df.boite = ifelse.(df.boite .== \"automatique\", 1.0, 0.0)\n",
    "end"
   ]
  },
  {
   "cell_type": "code",
   "execution_count": null,
   "metadata": {},
   "outputs": [],
   "source": [
    "train = remove_outliers_by_iqr(train, :cylindree, :consommation)\n",
    "valid = remove_outliers_by_iqr(valid, :cylindree, :consommation)"
   ]
  },
  {
   "cell_type": "code",
   "execution_count": null,
   "metadata": {},
   "outputs": [],
   "source": [
    "categorical_cols = [:type, :transmission]\n",
    "\n",
    "levels_dict = Dict()\n",
    "for col in categorical_cols\n",
    "    levels_dict[col] = unique(train[!, col])\n",
    "end\n",
    "\n",
    "\n",
    "train = one_hot_encode(train, categorical_cols, levels_dict)\n",
    "valid = one_hot_encode(valid, categorical_cols, levels_dict)\n",
    "test = one_hot_encode(test, categorical_cols, levels_dict)"
   ]
  },
  {
   "cell_type": "code",
   "execution_count": null,
   "metadata": {},
   "outputs": [],
   "source": [
    "y_train = train.consommation\n",
    "X_train = select(train, Not(:consommation))\n",
    "y_valid = valid.consommation\n",
    "X_valid = select(valid, Not(:consommation))\n",
    "X_test = deepcopy(test)\n",
    "\n",
    "X_train = Matrix(select(train, Not(:consommation)))\n",
    "X_valid = Matrix(select(valid, Not(:consommation)))\n",
    "X_test = Matrix(test)\n",
    "\n",
    "y_train = Vector(y_train)\n",
    "y_valid = Vector(y_valid)\n",
    "\n",
    "# Standardize the data (commented out)\n",
    "# X_mean = mean(X_train; dims=1)\n",
    "# X_stddev = std(X_train; dims=1, corrected=false)\n",
    "# X_train_std = (X_train .- X_mean) ./ X_stddev\n",
    "# X_valid_std = (X_valid .- X_mean) ./ X_stddev"
   ]
  },
  {
   "cell_type": "code",
   "execution_count": null,
   "metadata": {},
   "outputs": [],
   "source": [
    "pca_model = fit(PCA, X_train'; maxoutdim=5)\n",
    "Z_train = MultivariateStats.transform(pca_model, X_train')'\n",
    "Z_valid = MultivariateStats.transform(pca_model, X_valid')'\n",
    "Z_test = MultivariateStats.transform(pca_model, X_test')'\n",
    "\n",
    "# Add principal components to DataFrames (train and valid)\n",
    "for i in 1:size(Z_train, 2)\n",
    "    train[:, \"PC$(i)\"] = Z_train[:, i]\n",
    "    valid[:, \"PC$(i)\"] = Z_valid[:, i]\n",
    "    test[:, \"PC$(i)\"] = Z_test[:, i]\n",
    "end\n",
    "\n",
    "# Fit a regression model using PCA\n",
    "model_with_pca = lm(@formula(consommation ~ PC1 + PC2 + PC3 + PC4 + PC5), train)\n",
    "\n",
    "# Predict on validation data\n",
    "valid_prediction_with_pca = predict(model_with_pca, valid)\n",
    "\n",
    "# Calculate RMSE\n",
    "rmse_with_pca = sqrt(mean((valid_prediction_with_pca - valid.consommation).^2))\n",
    "println(\"RMSE with PCA: \", rmse_with_pca)"
   ]
  },
  {
   "cell_type": "code",
   "execution_count": null,
   "metadata": {},
   "outputs": [],
   "source": [
    "#k fold cross validation\n",
    "data_k_folds = vcat(train, valid)\n",
    "y = data_k_folds.consommation\n",
    "X = select(data_k_folds, Not(:consommation))\n",
    "\n",
    "n = nrow(data_k_folds)\n",
    "k = 5\n",
    "fold_size = n ÷ k\n",
    "\n",
    "indices = randperm(n)\n",
    "\n",
    "rms_scores = []\n",
    "\n",
    "for i in 0:(k-1)\n",
    "    valid_indices = (i * fold_size + 1):((i + 1) * fold_size)\n",
    "    train_indices = setdiff(1:n, valid_indices)\n",
    "    \n",
    "    X_train = X[train_indices, :]\n",
    "    y_train = y[train_indices]\n",
    "    X_valid = X[valid_indices, :]\n",
    "    y_valid = y[valid_indices]\n",
    "    \n",
    "    model = lm(@formula(consommation ~ PC1 + PC2 + PC3 + PC4 + PC5), train)\n",
    "    \n",
    "    ŷ_valid = GLM.predict(model, X_valid)\n",
    "    rms = sqrt(mean((ŷ_valid .- y_valid).^2))\n",
    "    push!(rms_scores, rms)\n",
    "end\n",
    "\n",
    "moyenne_rmse = mean(rms_scores)\n",
    "println(\"Moyenne RMSE k-fold : $moyenne_rmse\")"
   ]
  },
  {
   "cell_type": "code",
   "execution_count": null,
   "metadata": {},
   "outputs": [],
   "source": [
    "1. Impact des échelles dans les données\n",
    "Dans les données non standardisées, les variables explicatives ayant des valeurs plus grandes peuvent dominer la variance totale, ce qui oriente la PCA vers ces variables. Si ces variables sont fortement corrélées avec la variable cible (\n",
    "𝑌\n",
    "Y), alors le modèle peut accidentellement mieux capturer cette relation.\n",
    "En revanche, la standardisation neutralise les différences d'échelle, ce qui peut diluer l'effet des variables dominantes, même si elles ont une forte corrélation avec \n",
    "𝑌\n",
    "Y.\n",
    "Explication potentielle :\n",
    "Dans votre jeu de données, il est possible qu'une ou plusieurs variables avec des échelles plus grandes soient prédictives de \n",
    "𝑌\n",
    "Y, et la méthode non standardisée en profite directement."
   ]
  },
  {
   "cell_type": "code",
   "execution_count": null,
   "metadata": {},
   "outputs": [],
   "source": [
    "2. Sur-ajustement (Overfitting)\n",
    "La méthode non standardisée applique la PCA sur les données d'origine, mais utilise ensuite les données reconstruites (\n",
    "𝑋\n",
    "𝑟\n",
    "X \n",
    "r\n",
    "​\n",
    " ) pour l'entraînement. Cela peut réintroduire une grande partie des informations originales, y compris le bruit ou les corrélations spurielles, ce qui peut conduire à un modèle sur-ajusté.\n",
    "Si l'ensemble de validation est similaire à l'ensemble d'entraînement (par exemple, s'il provient de la même distribution ou a des caractéristiques similaires), un sur-ajustement peut donner des RMSE artificiellement bas.\n",
    "Explication potentielle :\n",
    "Votre validation pourrait être moins rigoureuse, et la méthode non standardisée exploite des relations non généralisables dans les données.\n",
    "\n"
   ]
  },
  {
   "cell_type": "code",
   "execution_count": null,
   "metadata": {},
   "outputs": [],
   "source": [
    "\n",
    "Le fait que la méthode non standardisée donne un meilleur RMSE peut s'expliquer par plusieurs raisons, mais cela ne signifie pas nécessairement qu'elle est meilleure ou qu'elle respecte les principes statistiques sous-jacents. Explorons pourquoi cela pourrait se produire :\n",
    "\n",
    "1. Impact des échelles dans les données\n",
    "Dans les données non standardisées, les variables explicatives ayant des valeurs plus grandes peuvent dominer la variance totale, ce qui oriente la PCA vers ces variables. Si ces variables sont fortement corrélées avec la variable cible (\n",
    "𝑌\n",
    "Y), alors le modèle peut accidentellement mieux capturer cette relation.\n",
    "En revanche, la standardisation neutralise les différences d'échelle, ce qui peut diluer l'effet des variables dominantes, même si elles ont une forte corrélation avec \n",
    "𝑌\n",
    "Y.\n",
    "Explication potentielle :\n",
    "Dans votre jeu de données, il est possible qu'une ou plusieurs variables avec des échelles plus grandes soient prédictives de \n",
    "𝑌\n",
    "Y, et la méthode non standardisée en profite directement.\n",
    "\n",
    "2. Sur-ajustement (Overfitting)\n",
    "La méthode non standardisée applique la PCA sur les données d'origine, mais utilise ensuite les données reconstruites (\n",
    "𝑋\n",
    "𝑟\n",
    "X \n",
    "r\n",
    "​\n",
    " ) pour l'entraînement. Cela peut réintroduire une grande partie des informations originales, y compris le bruit ou les corrélations spurielles, ce qui peut conduire à un modèle sur-ajusté.\n",
    "Si l'ensemble de validation est similaire à l'ensemble d'entraînement (par exemple, s'il provient de la même distribution ou a des caractéristiques similaires), un sur-ajustement peut donner des RMSE artificiellement bas.\n",
    "Explication potentielle :\n",
    "Votre validation pourrait être moins rigoureuse, et la méthode non standardisée exploite des relations non généralisables dans les données.\n",
    "\n",
    "3. Corrélation forte entre les variables\n",
    "Si les variables explicatives ont une forte corrélation intrinsèque, l'analyse en composantes principales standardisée peut répartir cette information sur plusieurs composantes. Cela réduit la capacité du modèle à se concentrer sur des variables fortement corrélées avec \n",
    "𝑌\n",
    "Y.\n",
    "La méthode non standardisée, en revanche, conserve ces corrélations et peut donc mieux modéliser la relation entre \n",
    "𝑋\n",
    "X et \n",
    "𝑌\n",
    "Y.\n",
    "Explication potentielle :\n",
    "Les corrélations fortes dans vos données favorisent la méthode non standardisée."
   ]
  },
  {
   "cell_type": "code",
   "execution_count": null,
   "metadata": {},
   "outputs": [],
   "source": [
    "4. Effet des données reconstruites\n",
    "Dans la méthode non standardisée, vous utilisez des données reconstruites (\n",
    "𝑋\n",
    "𝑟\n",
    "X \n",
    "r\n",
    "​\n",
    " ), qui incluent une grande partie de l'information originale. Cela signifie que la régression est moins influencée par la réduction de dimension et plus proche de la régression sur les données d'origine.\n",
    "En revanche, dans la méthode standardisée, seules les composantes principales sont utilisées, ce qui peut sacrifier une partie de l'information pour réduire la multicolinéarité et améliorer la généralisation.\n",
    "Explication potentielle :\n",
    "L'utilisation des données reconstruites dans la méthode non standardisée maintient plus d'information, ce qui peut donner un RMSE plus faible.\n",
    "\n"
   ]
  },
  {
   "cell_type": "code",
   "execution_count": null,
   "metadata": {},
   "outputs": [],
   "source": [
    "5. Problème avec la PCA standardisée\n",
    "Si la standardisation n'est pas appropriée (par exemple, si certaines variables explicatives sont presque constantes ou si elles sont déjà sur des échelles comparables), alors l'analyse en composantes principales standardisée peut ne pas capturer efficacement les directions principales de la variance.\n",
    "Cela peut entraîner une perte d'information utile, ce qui affecte les performances du modèle.\n",
    "Explication potentielle :\n",
    "Les variables de votre jeu de données n'ont peut-être pas besoin d'être standardisées ou la standardisation introduit un biais."
   ]
  },
  {
   "cell_type": "markdown",
   "metadata": {},
   "source": [
    "## 8. Conclusion\n",
    "\n",
    "En conclusion, nous avons montré dans ce rapport l'entièreté de notre processus de développement d'un modèle prédictif permettant d'estimer la consommation d'essence d'un véhicule à partir de ses caractéristiques, notamment son année de fabrication, son type, son nombre de cylindres, sa cylindrée, sa transmission et son type de boîte.\n",
    "\n",
    "Pour ce faire, nous avons commencé par analyser le jeu de données qui nous était fourni afin de trouver autant de pistes à explorer que possible pour préparer nos données d'entraînement de façon à optimiser les performances de notre modèle.  Nous avons traité les données catégorielles (non numériques) en utilisant du one-hot encoding, analysé les relations entre les variables explicatives, linéarisé des données suivant une courbe normale, regroupé des données par catégories, retirer des données manquantes ou trop éloignées de la moyenne (outliers) et plus encore, le tout dans le but de soutirer un maximum d'informations ayant le potentiel de rendre notre modèle meilleur.\n",
    "\n",
    "Par la suite, nous avons tout mis en oeuvre pour entraîner le modèle le mieux adapté à notre situation précise.  Nous avons testé trois méthodes principales vues dans le cours, soit la régression linéaire, la régression bayésienne, et l'analyse par composantes principales.  Nous avons testé avec toutes sortes de combinaisons de variables explicatives injectées dans ces modèles, avec différentes solutions de pré-traitement, et ces choix étaient directement informés par l'analyse mentionnée précédemment.  Nous avons également utilisé des métriques variées, notamment le RMSE, le BIC et le ${R_{aj}^2}$, afin d'évaluer les meilleurs modèles pour effectuer nos prédictions.\n",
    "\n",
    "Au final, nous avons choisi comme modèle final pour notre ultime soumission un modèle basé sur la régression linéaire qui inclut comme variables explicatives la transmission de type intégrale, la transmission de type traction, la catégorie des petits véhicules, la catégorie des grands véhicules, la catégorie des véhicules moyens, et la cylindrée.  Ce modèle nous donne un RMSE de 0.8287 dans nos tests, ce qui est notre meilleur résultat : c'est la raison pour laquelle nous avons privilégié ce modèle plutôt que la régression bayésienne ou l'analyse par composantes principales, qui donnent des RMSE plus élevés pour la même sélection de variables explicatives.\n",
    "\n",
    "Malgré nos meilleurs efforts, le fruit de notre travail s'est traduit par un piètre score de RMSE de 0.9298 dans la compétition Kaggle et une 16e place.  C'est un résultat décevant, particulièrement pour des étudiants motivés et compétitifs comme nous sommes.  Malgré tout, nous avons eu relativement peu de temps à consacrer à ce projet en raison de la fin laborieuse de notre projet intégrateur de 3e année, et nous sommes satisfaits d'avoir pu apprendre autant sur un sujet aussi intéressant dans un laps de temps assez court.\n",
    "\n",
    "Afin d'améliorer ce score, d'autres pistes que nous aurions pu explorer sont d'enrichir le prétraitement des données en analysant les interactions entre les variables explicatives de façon plus approfondie et d'utiliser des techniques plus poussées de normalisation et de standardisation des données, d'augmenter la quantité de données à notre disposition à l'aide d'un nouveau jeu de données ou d'un ensemble de données généré artificiellement par une technique d'augmentation, ou encore d'utiliser un modèle prédictif plus avancé comme un XGBoost ou une forêt aléatoire.  Les possibilités sont infinies."
   ]
  }
 ],
 "metadata": {
  "kernelspec": {
   "display_name": "Julia 1.10.5",
   "language": "julia",
   "name": "julia-1.10"
  },
  "language_info": {
   "file_extension": ".jl",
   "mimetype": "application/julia",
   "name": "julia",
   "version": "1.10.5"
  }
 },
 "nbformat": 4,
 "nbformat_minor": 2
}
